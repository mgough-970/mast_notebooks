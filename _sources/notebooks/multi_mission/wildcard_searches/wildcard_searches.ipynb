{
 "cells": [
  {
   "cell_type": "markdown",
   "id": "ba875f5a",
   "metadata": {},
   "source": [
    "# Wildcard Handling with Astroquery.mast"
   ]
  },
  {
   "cell_type": "markdown",
   "id": "82aa07ce",
   "metadata": {},
   "source": [
    "----"
   ]
  },
  {
   "cell_type": "markdown",
   "id": "f663f21e",
   "metadata": {},
   "source": [
    "## Learning Goals"
   ]
  },
  {
   "cell_type": "markdown",
   "id": "683067ea",
   "metadata": {},
   "source": [
    "By the end of this tutorial, you will:\n",
    "\n",
    "* Use the wildcards available for `astroquery.mast.Observations` criteria queries\n",
    "* Broaden and refine `astroquery.mast.Observations` criteria queries\n",
    "* Fully utilize the `instrument_name` criteria, especially for JWST queries\n",
    "* Query for moving targets using target ephemeris and time criteria such as `t_min` and `t_max`"
   ]
  },
  {
   "cell_type": "markdown",
   "id": "299dbd42",
   "metadata": {},
   "source": [
    "## Introduction"
   ]
  },
  {
   "cell_type": "markdown",
   "id": "e3f8b9c2",
   "metadata": {},
   "source": [
    "This Notebook demonstrates the use of wildcards in `astroquery.mast.Observations` criteria queries. The use of wildcards is encouraged for certain criteria types (namely, `string` object types) to ensure your query returns all results. \n",
    "\n",
    "We will demonstrate 3 use-cases for wildcards when doing criteria queries and emphasize certain criteria where wildcard usage is highly encouraged, particularly for JWST queries. We will also use the last example to demonstrate the use of value ranges when working with `float` object criteria types.\n",
    "\n",
    "The workflow for this notebook consists of:\n",
    "\n",
    "* [Wildcard overview with `astroquery.mast.Observations`](#overview)\n",
    "    1. [Wildcard Search with `instrument_name`](#case1)\n",
    "    2. [Wildcard Search with `instrument_name` and `proposal_id`](#case2)\n",
    "    3. [Wildcard Search a Time-sensitive Object with `target_name` and `t_min`](#case3)\n",
    "* Resources"
   ]
  },
  {
   "cell_type": "markdown",
   "id": "081aec44",
   "metadata": {},
   "source": [
    "## Imports"
   ]
  },
  {
   "cell_type": "code",
   "execution_count": 1,
   "id": "e3b0d9a0",
   "metadata": {
    "execution": {
     "iopub.execute_input": "2025-03-27T19:27:23.212956Z",
     "iopub.status.busy": "2025-03-27T19:27:23.212785Z",
     "iopub.status.idle": "2025-03-27T19:27:24.399349Z",
     "shell.execute_reply": "2025-03-27T19:27:24.398755Z"
    }
   },
   "outputs": [],
   "source": [
    "import astropy.units as u\n",
    "import matplotlib.pyplot as plt\n",
    "\n",
    "from astropy.coordinates import SkyCoord\n",
    "from astropy.table import Table, unique, vstack\n",
    "from astropy.time import Time\n",
    "from astroquery.mast import Observations"
   ]
  },
  {
   "cell_type": "markdown",
   "id": "6fa247ec",
   "metadata": {},
   "source": [
    "----"
   ]
  },
  {
   "cell_type": "markdown",
   "id": "9485fb4d",
   "metadata": {},
   "source": [
    "<a id=\"overview\"></a>\n",
    "## Wildcards with `astroquery.mast.Observations`"
   ]
  },
  {
   "cell_type": "markdown",
   "id": "01935242",
   "metadata": {},
   "source": [
    "The use of wildcards when making `astroquery.mast.Observations` queries can help ensure you retrieve all observations without leaving anything out. The available wildcards are `%` and `*`: `%` replaces a single character, while `*` replaces more than one character preceding, following, or in between the existing characters, depending on its placement. See the [Observation Criteria Queries](https://astroquery.readthedocs.io/en/latest/mast/mast.html#observation-criteria-queries) section in the `astroquery.mast` documentation for more information on the wildcards.\n",
    "\n",
    "Wildcards are only available for certain criteria. `string` type objects accept wildcards, but `float`, `integer`, or any other objects do not accept wildcards.\n",
    "\n",
    "Users may call the `get_metadata` method to see the list of query criteria and their data types. The criteria listed as `string` objects under the **Data Type** column are criteria that can be called with wildcards:"
   ]
  },
  {
   "cell_type": "code",
   "execution_count": 2,
   "id": "a892c185",
   "metadata": {
    "execution": {
     "iopub.execute_input": "2025-03-27T19:27:24.401537Z",
     "iopub.status.busy": "2025-03-27T19:27:24.401324Z",
     "iopub.status.idle": "2025-03-27T19:27:24.799923Z",
     "shell.execute_reply": "2025-03-27T19:27:24.799421Z"
    },
    "scrolled": true
   },
   "outputs": [
    {
     "data": {
      "text/html": [
       "<div><i>Table length=34</i>\n",
       "<table id=\"table140131304270224\" class=\"table-striped table-bordered table-condensed\">\n",
       "<thead><tr><th>Column Name</th><th>Column Label</th><th>Data Type</th><th>Units</th><th>Description</th><th>Examples/Valid Values</th></tr></thead>\n",
       "<thead><tr><th>str21</th><th>str25</th><th>str7</th><th>str10</th><th>str72</th><th>str116</th></tr></thead>\n",
       "<tr><td>intentType</td><td>Observation Type</td><td>string</td><td></td><td>Whether observation is for science or calibration.</td><td>Valid values: science, calibration</td></tr>\n",
       "<tr><td>obs_collection</td><td>Mission</td><td>string</td><td></td><td>Collection</td><td>E.g. SWIFT, PS1, HST, IUE</td></tr>\n",
       "<tr><td>provenance_name</td><td>Provenance Name</td><td>string</td><td></td><td>Provenance name, or source of data</td><td>E.g. TASOC, CALSTIS, PS1</td></tr>\n",
       "<tr><td>instrument_name</td><td>Instrument</td><td>string</td><td></td><td>Instrument Name</td><td>E.g. WFPC2/WFC, UVOT, STIS/CCD</td></tr>\n",
       "<tr><td>project</td><td>Project</td><td>string</td><td></td><td>Processing project</td><td>E.g. HST, HLA, EUVE, hlsp_legus</td></tr>\n",
       "<tr><td>filters</td><td>Filters</td><td>string</td><td></td><td>Instrument filters</td><td>F469N, NUV, FUV, LOW DISP, MIRROR</td></tr>\n",
       "<tr><td>wavelength_region</td><td>Waveband</td><td>string</td><td></td><td>Energy Band</td><td>EUV, XRAY, OPTICAL</td></tr>\n",
       "<tr><td>target_name</td><td>Target Name</td><td>string</td><td></td><td>Target Name</td><td>Ex. COMET-67P-CHURYUMOV-GER-UPDATE</td></tr>\n",
       "<tr><td>target_classification</td><td>Target Classification</td><td>string</td><td></td><td>Type of target</td><td>Ex. COMET;COMET BEING ORBITED BY THE ROSETTA SPACECRAFT;SOLAR SYSTEM</td></tr>\n",
       "<tr><td>...</td><td>...</td><td>...</td><td>...</td><td>...</td><td>...</td></tr>\n",
       "<tr><td>s_region</td><td>s_region</td><td>string</td><td>ICRS Shape</td><td>STC/S Footprint</td><td>Will be ICRS circle or polygon. E.g. CIRCLE ICRS 17.71740689 -58.40043015 0.625</td></tr>\n",
       "<tr><td>jpegURL</td><td>jpegURL</td><td>string</td><td></td><td>Preview Image URL</td><td>https://archive.stsci.edu/hst/previews/N4QF/N4QF18090.jpg</td></tr>\n",
       "<tr><td>distance</td><td>Distance (&quot;)</td><td>float</td><td>arcsec</td><td>Angular separation between searched coordinates and center of obsevation</td><td></td></tr>\n",
       "<tr><td>obsid</td><td>Product Group ID</td><td>integer</td><td></td><td>Database identifier for obs_id</td><td>Long integer, e.g. 2007590987</td></tr>\n",
       "<tr><td>dataRights</td><td>Data Rights</td><td>string</td><td></td><td>Data Rights</td><td>valid values: public,exclusive_access,restricted</td></tr>\n",
       "<tr><td>mtFlag</td><td>Moving Target</td><td>boolean</td><td></td><td>Moving Target Flag</td><td>If True, observation contains a moving target, if False or absent observation may or may not contain a moving target</td></tr>\n",
       "<tr><td>srcDen</td><td>Number of Catalog Objects</td><td>float</td><td></td><td>Number of cataloged objects found in observation</td><td></td></tr>\n",
       "<tr><td>dataURL</td><td>Data URL</td><td>string</td><td></td><td>Data URL</td><td></td></tr>\n",
       "<tr><td>proposal_type</td><td>Proposal Type</td><td>string</td><td></td><td>Type of telescope proposal</td><td>Eg. 3PI, GO, GO/DD, HLA, GII, AIS</td></tr>\n",
       "<tr><td>sequence_number</td><td>Sequence Number</td><td>integer</td><td></td><td>Sequence number, e.g. Kepler quarter or TESS sector</td><td></td></tr>\n",
       "</table></div>"
      ],
      "text/plain": [
       "<Table length=34>\n",
       "     Column Name      ...\n",
       "        str21         ...\n",
       "--------------------- ...\n",
       "           intentType ...\n",
       "       obs_collection ...\n",
       "      provenance_name ...\n",
       "      instrument_name ...\n",
       "              project ...\n",
       "              filters ...\n",
       "    wavelength_region ...\n",
       "          target_name ...\n",
       "target_classification ...\n",
       "                  ... ...\n",
       "             s_region ...\n",
       "              jpegURL ...\n",
       "             distance ...\n",
       "                obsid ...\n",
       "           dataRights ...\n",
       "               mtFlag ...\n",
       "               srcDen ...\n",
       "              dataURL ...\n",
       "        proposal_type ...\n",
       "      sequence_number ..."
      ]
     },
     "execution_count": 2,
     "metadata": {},
     "output_type": "execute_result"
    }
   ],
   "source": [
    "Observations.get_metadata(\"observations\")"
   ]
  },
  {
   "cell_type": "markdown",
   "id": "74d0a968",
   "metadata": {},
   "source": [
    "<a id=\"case1\"></a>\n",
    "### Case 1: Wildcard Search with `instrument_name`"
   ]
  },
  {
   "cell_type": "markdown",
   "id": "6b80645c",
   "metadata": {},
   "source": [
    "For our first example we will search for all NIRISS observations taken by a certain proposal/program PI. Our two query criteria are `proposal_pi` and `instrument_name`, which are both `string` object criteria. As such, both can be wildcarded for ease of use. \n",
    "\n",
    "In fact, it is sometimes necessary to use wildcards when searching on `instrument_name`. Both HST and JWST use instrument configurations in this field to allow for more precise advanced searches (e.g. NIRISS/IMAGE and STIS/FUV-MAMA). When performing a \"generic\" search, you must include a wildcard or these more detailed results will be excluded.\n",
    "\n",
    "We will demonstrate this by looking at the results for the query below:"
   ]
  },
  {
   "cell_type": "code",
   "execution_count": 3,
   "id": "c88ef2ed",
   "metadata": {
    "execution": {
     "iopub.execute_input": "2025-03-27T19:27:24.802025Z",
     "iopub.status.busy": "2025-03-27T19:27:24.801687Z",
     "iopub.status.idle": "2025-03-27T19:27:25.416206Z",
     "shell.execute_reply": "2025-03-27T19:27:25.415607Z"
    },
    "scrolled": true
   },
   "outputs": [
    {
     "data": {
      "text/html": [
       "<div><i>Table masked=True length=234</i>\n",
       "<table id=\"table140131302677136\" class=\"table-striped table-bordered table-condensed\">\n",
       "<thead><tr><th>intentType</th><th>obs_collection</th><th>provenance_name</th><th>instrument_name</th><th>project</th><th>filters</th><th>wavelength_region</th><th>target_name</th><th>target_classification</th><th>obs_id</th><th>s_ra</th><th>s_dec</th><th>dataproduct_type</th><th>proposal_pi</th><th>calib_level</th><th>t_min</th><th>t_max</th><th>t_exptime</th><th>em_min</th><th>em_max</th><th>obs_title</th><th>t_obs_release</th><th>proposal_id</th><th>proposal_type</th><th>sequence_number</th><th>s_region</th><th>jpegURL</th><th>dataURL</th><th>dataRights</th><th>mtFlag</th><th>srcDen</th><th>obsid</th><th>objID</th></tr></thead>\n",
       "<thead><tr><th>str7</th><th>str4</th><th>str7</th><th>str12</th><th>str4</th><th>str13</th><th>str8</th><th>str14</th><th>str54</th><th>str50</th><th>float64</th><th>float64</th><th>str10</th><th>str16</th><th>int64</th><th>float64</th><th>float64</th><th>float64</th><th>float64</th><th>float64</th><th>str70</th><th>float64</th><th>str4</th><th>str3</th><th>int64</th><th>str132</th><th>str80</th><th>str81</th><th>str16</th><th>bool</th><th>float64</th><th>str9</th><th>str9</th></tr></thead>\n",
       "<tr><td>science</td><td>JWST</td><td>CALJWST</td><td>NIRISS/IMAGE</td><td>JWST</td><td>CLEAR;GR700XD</td><td>INFRARED</td><td>ECLIPTIC-RA80</td><td>Calibration; External flat field</td><td>jw01541005001_0210h_00001_nis</td><td>124.10089166666668</td><td>19.23126111111111</td><td>image</td><td>Espinoza, Nestor</td><td>2</td><td>59688.661724637386</td><td>59688.665328414354</td><td>300.63</td><td>600.0</td><td>2800.0</td><td>NIRISS Sensitivity and Stability for Transiting Exoplanet Observations</td><td>59774.8541666</td><td>1541</td><td>COM</td><td>--</td><td>POLYGON 124.079361272 19.219997306 124.088204918 19.256195264 124.126749247 19.247627141 124.117926871 19.211434025</td><td>mast:JWST/product/jw01541005001_0210h_00001_nis_trapsfilled.jpg</td><td>mast:JWST/product/jw01541005001_0210h_00001_nis_rateints.fits</td><td>PUBLIC</td><td>False</td><td>nan</td><td>79661376</td><td>733199805</td></tr>\n",
       "<tr><td>science</td><td>JWST</td><td>CALJWST</td><td>NIRISS/IMAGE</td><td>JWST</td><td>CLEAR;GR700XD</td><td>INFRARED</td><td>ECLIPTIC-RA80</td><td>Calibration; External flat field</td><td>jw01541005001_0210v_00001_nis</td><td>124.10089166666668</td><td>19.23126111111111</td><td>image</td><td>Espinoza, Nestor</td><td>2</td><td>59688.69811052859</td><td>59688.70171430556</td><td>300.63</td><td>600.0</td><td>2800.0</td><td>NIRISS Sensitivity and Stability for Transiting Exoplanet Observations</td><td>59774.8541666</td><td>1541</td><td>COM</td><td>--</td><td>POLYGON 124.070680154 19.221940542 124.079522008 19.258138913 124.118067242 19.249572589 124.109246657 19.213379062</td><td>mast:JWST/product/jw01541005001_0210v_00001_nis_trapsfilled.jpg</td><td>mast:JWST/product/jw01541005001_0210v_00001_nis_rateints.fits</td><td>PUBLIC</td><td>False</td><td>nan</td><td>79661402</td><td>733199880</td></tr>\n",
       "<tr><td>science</td><td>JWST</td><td>CALJWST</td><td>NIRISS/IMAGE</td><td>JWST</td><td>CLEAR;GR700XD</td><td>INFRARED</td><td>ECLIPTIC-RA80</td><td>Calibration; External flat field</td><td>jw01541005001_0210b_00001_nis</td><td>124.10089166666668</td><td>19.23126111111111</td><td>image</td><td>Espinoza, Nestor</td><td>2</td><td>59688.646151315625</td><td>59688.64975509259</td><td>300.63</td><td>600.0</td><td>2800.0</td><td>NIRISS Sensitivity and Stability for Transiting Exoplanet Observations</td><td>59774.8541666</td><td>1541</td><td>COM</td><td>--</td><td>POLYGON 124.080801154 19.213559815 124.089644763 19.249757705 124.128187507 19.241189289 124.119365169 19.20499624</td><td>mast:JWST/product/jw01541005001_0210b_00001_nis_trapsfilled.jpg</td><td>mast:JWST/product/jw01541005001_0210b_00001_nis_rateints.fits</td><td>PUBLIC</td><td>False</td><td>nan</td><td>79661433</td><td>733199936</td></tr>\n",
       "<tr><td>science</td><td>JWST</td><td>CALJWST</td><td>NIRISS/IMAGE</td><td>JWST</td><td>CLEAR;GR700XD</td><td>INFRARED</td><td>ECLIPTIC-RA80</td><td>Calibration; External flat field</td><td>jw01541005001_0210p_00001_nis</td><td>124.10089166666668</td><td>19.23126111111111</td><td>image</td><td>Espinoza, Nestor</td><td>2</td><td>59688.682512021645</td><td>59688.68611579861</td><td>300.63</td><td>600.0</td><td>2800.0</td><td>NIRISS Sensitivity and Stability for Transiting Exoplanet Observations</td><td>59774.8541666</td><td>1541</td><td>COM</td><td>--</td><td>POLYGON 124.072120417 19.215503156 124.080962242 19.251701457 124.119505889 19.243134834 124.110685335 19.206941375</td><td>mast:JWST/product/jw01541005001_0210p_00001_nis_trapsfilled.jpg</td><td>mast:JWST/product/jw01541005001_0210p_00001_nis_rateints.fits</td><td>PUBLIC</td><td>False</td><td>nan</td><td>79661458</td><td>733199999</td></tr>\n",
       "<tr><td>science</td><td>JWST</td><td>CALJWST</td><td>NIRISS/IMAGE</td><td>JWST</td><td>CLEAR;GR700XD</td><td>INFRARED</td><td>ECLIPTIC-RA80</td><td>Calibration; External flat field</td><td>jw01541005001_0210n_00001_nis</td><td>124.10089166666668</td><td>19.23126111111111</td><td>image</td><td>Espinoza, Nestor</td><td>2</td><td>59688.677321651274</td><td>59688.68092542824</td><td>300.63</td><td>600.0</td><td>2800.0</td><td>NIRISS Sensitivity and Stability for Transiting Exoplanet Observations</td><td>59774.8541666</td><td>1541</td><td>COM</td><td>--</td><td>POLYGON 124.075014085 19.214855403 124.083856539 19.25105356 124.122399877 19.242486306 124.113578694 19.206292991</td><td>mast:JWST/product/jw01541005001_0210n_00001_nis_trapsfilled.jpg</td><td>mast:JWST/product/jw01541005001_0210n_00001_nis_rateints.fits</td><td>PUBLIC</td><td>False</td><td>nan</td><td>79661490</td><td>733200051</td></tr>\n",
       "<tr><td>science</td><td>JWST</td><td>CALJWST</td><td>NIRISS/IMAGE</td><td>JWST</td><td>CLEAR;GR700XD</td><td>INFRARED</td><td>ECLIPTIC-RA80</td><td>Calibration; External flat field</td><td>jw01541005001_0210t_00001_nis</td><td>124.10089166666668</td><td>19.23126111111111</td><td>image</td><td>Espinoza, Nestor</td><td>2</td><td>59688.69290682489</td><td>59688.696510601854</td><td>300.63</td><td>600.0</td><td>2800.0</td><td>NIRISS Sensitivity and Stability for Transiting Exoplanet Observations</td><td>59774.8541666</td><td>1541</td><td>COM</td><td>--</td><td>POLYGON 124.073573871 19.221292827 124.082416316 19.257491062 124.12096125 19.248924145 124.112140074 19.212730753</td><td>mast:JWST/product/jw01541005001_0210t_00001_nis_trapsfilled.jpg</td><td>mast:JWST/product/jw01541005001_0210t_00001_nis_rateints.fits</td><td>PUBLIC</td><td>False</td><td>nan</td><td>79661522</td><td>733200120</td></tr>\n",
       "<tr><td>science</td><td>JWST</td><td>CALJWST</td><td>NIRISS/IMAGE</td><td>JWST</td><td>CLEAR;GR700XD</td><td>INFRARED</td><td>ECLIPTIC-RA80</td><td>Calibration; External flat field</td><td>jw01541005001_0210x_00001_nis</td><td>124.10089166666668</td><td>19.23126111111111</td><td>image</td><td>Espinoza, Nestor</td><td>2</td><td>59688.70328903553</td><td>59688.7068928125</td><td>300.63</td><td>600.0</td><td>2800.0</td><td>NIRISS Sensitivity and Stability for Transiting Exoplanet Observations</td><td>59774.8541666</td><td>1541</td><td>COM</td><td>--</td><td>POLYGON 124.069953497 19.219045681 124.078795054 19.255244082 124.117339642 19.246677893 124.108519354 19.210484334</td><td>mast:JWST/product/jw01541005001_0210x_00001_nis_trapsfilled.jpg</td><td>mast:JWST/product/jw01541005001_0210x_00001_nis_rateints.fits</td><td>PUBLIC</td><td>False</td><td>nan</td><td>79661542</td><td>733200173</td></tr>\n",
       "<tr><td>science</td><td>JWST</td><td>CALJWST</td><td>NIRISS/IMAGE</td><td>JWST</td><td>CLEAR;GR700XD</td><td>INFRARED</td><td>ECLIPTIC-RA80</td><td>Calibration; External flat field</td><td>jw01541005001_02101_00001_nis</td><td>124.10089166666668</td><td>19.23126111111111</td><td>image</td><td>Espinoza, Nestor</td><td>2</td><td>59688.62006541285</td><td>59688.623669189816</td><td>300.63</td><td>600.0</td><td>2800.0</td><td>NIRISS Sensitivity and Stability for Transiting Exoplanet Observations</td><td>59774.8541666</td><td>1541</td><td>COM</td><td>--</td><td>POLYGON 124.08369426 19.212911861 124.092538264 19.249109658 124.131080754 19.240540834 124.122258022 19.204347878</td><td>mast:JWST/product/jw01541005001_02101_00001_nis_trapsfilled.jpg</td><td>mast:JWST/product/jw01541005001_02101_00001_nis_rateints.fits</td><td>PUBLIC</td><td>False</td><td>nan</td><td>79661575</td><td>733200230</td></tr>\n",
       "<tr><td>science</td><td>JWST</td><td>CALJWST</td><td>NIRISS/IMAGE</td><td>JWST</td><td>CLEAR;GR700XD</td><td>INFRARED</td><td>ECLIPTIC-RA80</td><td>Calibration; External flat field</td><td>jw01541005001_02103_00001_nis</td><td>124.10089166666668</td><td>19.23126111111111</td><td>image</td><td>Espinoza, Nestor</td><td>2</td><td>59688.62538689433</td><td>59688.6289906713</td><td>300.63</td><td>600.0</td><td>2800.0</td><td>NIRISS Sensitivity and Stability for Transiting Exoplanet Observations</td><td>59774.8541666</td><td>1541</td><td>COM</td><td>--</td><td>POLYGON 124.084421799 19.215806744 124.093266409 19.252004442 124.131809472 19.243435191 124.122986133 19.207242333</td><td>mast:JWST/product/jw01541005001_02103_00001_nis_trapsfilled.jpg</td><td>mast:JWST/product/jw01541005001_02103_00001_nis_rateints.fits</td><td>PUBLIC</td><td>False</td><td>nan</td><td>79661598</td><td>733200276</td></tr>\n",
       "<tr><td>...</td><td>...</td><td>...</td><td>...</td><td>...</td><td>...</td><td>...</td><td>...</td><td>...</td><td>...</td><td>...</td><td>...</td><td>...</td><td>...</td><td>...</td><td>...</td><td>...</td><td>...</td><td>...</td><td>...</td><td>...</td><td>...</td><td>...</td><td>...</td><td>...</td><td>...</td><td>...</td><td>...</td><td>...</td><td>...</td><td>...</td><td>...</td><td>...</td></tr>\n",
       "<tr><td>science</td><td>JWST</td><td>CALJWST</td><td>NIRISS/SOSS</td><td>JWST</td><td>F480M</td><td>INFRARED</td><td>BD+60-1753</td><td>Star; A dwarfs</td><td>jw01512003001_02101_00004_nis</td><td>261.2178777050174</td><td>60.43078853297545</td><td>image</td><td>Espinoza, Nestor</td><td>2</td><td>59996.00529503472</td><td>59996.005303460646</td><td>0.683</td><td>4600.0</td><td>5000.0</td><td>SOSS Wavelength and Trace</td><td>59996.22332179</td><td>1512</td><td>CAL</td><td>--</td><td>POLYGON 261.218583699 60.430047681 261.216374892 60.430470734 261.217218009 60.431553546 261.219427079 60.431130459</td><td>mast:JWST/product/jw01512003001_02101_00004_nis_cal.jpg</td><td>mast:JWST/product/jw01512003001_02101_00004_nis_cal.fits</td><td>PUBLIC</td><td>False</td><td>nan</td><td>117933686</td><td>737830022</td></tr>\n",
       "<tr><td>science</td><td>JWST</td><td>CALJWST</td><td>NIRISS/SOSS</td><td>JWST</td><td>F480M</td><td>INFRARED</td><td>BD+60-1753</td><td>Star; A dwarfs</td><td>jw01512003001_02101_00001_nis</td><td>261.21787770496906</td><td>60.43078853295712</td><td>image</td><td>Espinoza, Nestor</td><td>2</td><td>59995.99888540509</td><td>59995.99889383102</td><td>0.683</td><td>4600.0</td><td>5000.0</td><td>SOSS Wavelength and Trace</td><td>59996.22369211</td><td>1512</td><td>CAL</td><td>--</td><td>POLYGON 261.218608459 60.430036846 261.216399664 60.430459912 261.217242807 60.43154272 261.219451865 60.431119619</td><td>mast:JWST/product/jw01512003001_02101_00001_nis_cal.jpg</td><td>mast:JWST/product/jw01512003001_02101_00001_nis_cal.fits</td><td>PUBLIC</td><td>False</td><td>nan</td><td>117933667</td><td>737830036</td></tr>\n",
       "<tr><td>science</td><td>JWST</td><td>CALJWST</td><td>NIRISS/IMAGE</td><td>JWST</td><td>CLEAR;GR700XD</td><td>INFRARED</td><td>BD+60-1753</td><td>Star; A dwarfs</td><td>jw01512003001_03101_00001_nis</td><td>261.21787770503</td><td>60.43078853298023</td><td>image</td><td>Espinoza, Nestor</td><td>2</td><td>59996.006908877316</td><td>59996.00703605324</td><td>5.494</td><td>600.0</td><td>2800.0</td><td>SOSS Wavelength and Trace</td><td>59996.06799767</td><td>1512</td><td>CAL</td><td>--</td><td>POLYGON 261.252812005 60.462625558 261.225202062 60.427083893 261.208742612 60.430236211 261.236320034 60.465785632</td><td>mast:JWST/product/jw01512003001_03101_00001_nis_trapsfilled.jpg</td><td>mast:JWST/product/jw01512003001_03101_00001_nis_rateints.fits</td><td>PUBLIC</td><td>False</td><td>nan</td><td>117933687</td><td>737830047</td></tr>\n",
       "<tr><td>science</td><td>JWST</td><td>CALJWST</td><td>NIRISS/IMAGE</td><td>JWST</td><td>CLEAR;GR700XD</td><td>INFRARED</td><td>BD+60-1753</td><td>Star; A dwarfs</td><td>jw01512003001_03102_00001_nis</td><td>261.2178777050461</td><td>60.430788532986334</td><td>image</td><td>Espinoza, Nestor</td><td>2</td><td>59996.00783548611</td><td>59996.01037900463</td><td>164.82</td><td>600.0</td><td>2800.0</td><td>SOSS Wavelength and Trace</td><td>59996.06317129</td><td>1512</td><td>CAL</td><td>--</td><td>POLYGON 261.252812349 60.462625738 261.225202494 60.427084057 261.208743037 60.430236364 261.23632037 60.465785803</td><td>mast:JWST/product/jw01512003001_03102_00001_nis_trapsfilled.jpg</td><td>mast:JWST/product/jw01512003001_03102_00001_nis_rateints.fits</td><td>PUBLIC</td><td>False</td><td>nan</td><td>117933688</td><td>737830059</td></tr>\n",
       "<tr><td>science</td><td>JWST</td><td>CALJWST</td><td>NIRISS/SOSS</td><td>JWST</td><td>F480M</td><td>INFRARED</td><td>BD+60-1753</td><td>Star; A dwarfs</td><td>jw01512002001_02101_00001_nis</td><td>261.2178777048343</td><td>60.43078853290603</td><td>image</td><td>Espinoza, Nestor</td><td>2</td><td>59995.98101357639</td><td>59995.981022002314</td><td>0.683</td><td>4600.0</td><td>5000.0</td><td>SOSS Wavelength and Trace</td><td>59996.18175925</td><td>1512</td><td>CAL</td><td>--</td><td>POLYGON 261.218611229 60.43003597 261.216402689 60.430459359 261.217246483 60.431542043 261.219455287 60.431118619</td><td>mast:JWST/product/jw01512002001_02101_00001_nis_cal.jpg</td><td>mast:JWST/product/jw01512002001_02101_00001_nis_cal.fits</td><td>PUBLIC</td><td>False</td><td>nan</td><td>117933629</td><td>738677988</td></tr>\n",
       "<tr><td>science</td><td>JWST</td><td>CALJWST</td><td>NIRISS/SOSS</td><td>JWST</td><td>F480M</td><td>INFRARED</td><td>BD+60-1753</td><td>Star; A dwarfs</td><td>jw01512002001_02101_00004_nis</td><td>261.2178777048824</td><td>60.43078853292429</td><td>image</td><td>Espinoza, Nestor</td><td>2</td><td>59995.98740097222</td><td>59995.98740939815</td><td>0.683</td><td>4600.0</td><td>5000.0</td><td>SOSS Wavelength and Trace</td><td>59996.18133101</td><td>1512</td><td>CAL</td><td>--</td><td>POLYGON 261.218583741 60.430047673 261.216375205 60.430471068 261.217219012 60.43155375 261.219427811 60.43113032</td><td>mast:JWST/product/jw01512002001_02101_00004_nis_cal.jpg</td><td>mast:JWST/product/jw01512002001_02101_00004_nis_cal.fits</td><td>PUBLIC</td><td>False</td><td>nan</td><td>117933631</td><td>738677997</td></tr>\n",
       "<tr><td>science</td><td>JWST</td><td>CALJWST</td><td>NIRISS/SOSS</td><td>JWST</td><td>F480M</td><td>INFRARED</td><td>BD+60-1753</td><td>Star; A dwarfs</td><td>jw01512002001_02101_00003_nis</td><td>261.21787770484724</td><td>60.43078853291094</td><td>image</td><td>Espinoza, Nestor</td><td>2</td><td>59995.98273135417</td><td>59995.98273978009</td><td>0.683</td><td>4600.0</td><td>5000.0</td><td>SOSS Wavelength and Trace</td><td>59996.18243051</td><td>1512</td><td>CAL</td><td>--</td><td>POLYGON 261.218450695 60.430086083 261.216242156 60.430509478 261.217085963 60.43159216 261.219294765 60.43116873</td><td>mast:JWST/product/jw01512002001_02101_00003_nis_cal.jpg</td><td>mast:JWST/product/jw01512002001_02101_00003_nis_cal.fits</td><td>PUBLIC</td><td>False</td><td>nan</td><td>117933632</td><td>738678003</td></tr>\n",
       "<tr><td>science</td><td>JWST</td><td>CALJWST</td><td>NIRISS/IMAGE</td><td>JWST</td><td>CLEAR;GR700XD</td><td>INFRARED</td><td>BD+60-1753</td><td>Star; A dwarfs</td><td>jw01512002001_03101_00001_nis</td><td>261.21787770489516</td><td>60.4307885329291</td><td>image</td><td>Espinoza, Nestor</td><td>2</td><td>59995.98902444445</td><td>59995.98915162037</td><td>5.494</td><td>600.0</td><td>2800.0</td><td>SOSS Wavelength and Trace</td><td>59996.02287034</td><td>1512</td><td>CAL</td><td>--</td><td>POLYGON 261.25283293 60.462620181 261.22520026 60.427082814 261.208742825 60.430237693 261.236342987 60.465782822</td><td>mast:JWST/product/jw01512002001_03101_00001_nis_trapsfilled.jpg</td><td>mast:JWST/product/jw01512002001_03101_00001_nis_rateints.fits</td><td>PUBLIC</td><td>False</td><td>nan</td><td>117933633</td><td>738678016</td></tr>\n",
       "<tr><td>science</td><td>JWST</td><td>CALJWST</td><td>NIRISS/SOSS</td><td>JWST</td><td>F480M</td><td>INFRARED</td><td>BD+60-1753</td><td>Star; A dwarfs</td><td>jw01512002001_02101_00002_nis</td><td>261.2178777048407</td><td>60.430788532908466</td><td>image</td><td>Espinoza, Nestor</td><td>2</td><td>59995.98186616898</td><td>59995.98187459491</td><td>0.683</td><td>4600.0</td><td>5000.0</td><td>SOSS Wavelength and Trace</td><td>59996.18305556</td><td>1512</td><td>CAL</td><td>--</td><td>POLYGON 261.218488089 60.429982383 261.216279555 60.430405777 261.217123358 60.431488459 261.219332154 60.43106503</td><td>mast:JWST/product/jw01512002001_02101_00002_nis_cal.jpg</td><td>mast:JWST/product/jw01512002001_02101_00002_nis_cal.fits</td><td>PUBLIC</td><td>False</td><td>nan</td><td>117933634</td><td>738678023</td></tr>\n",
       "<tr><td>science</td><td>JWST</td><td>CALJWST</td><td>NIRISS/IMAGE</td><td>JWST</td><td>CLEAR;GR700XD</td><td>INFRARED</td><td>BD+60-1753</td><td>Star; A dwarfs</td><td>jw01512002001_03102_00001_nis</td><td>261.21787770491125</td><td>60.4307885329352</td><td>image</td><td>Espinoza, Nestor</td><td>2</td><td>59995.98995106482</td><td>59995.99249458333</td><td>164.82</td><td>600.0</td><td>2800.0</td><td>SOSS Wavelength and Trace</td><td>59996.02337956</td><td>1512</td><td>CAL</td><td>--</td><td>POLYGON 261.25283321 60.46262025 261.225200729 60.427082848 261.208743277 60.430237705 261.236343249 60.46578287</td><td>mast:JWST/product/jw01512002001_03102_00001_nis_trapsfilled.jpg</td><td>mast:JWST/product/jw01512002001_03102_00001_nis_rateints.fits</td><td>PUBLIC</td><td>False</td><td>nan</td><td>117933635</td><td>738678034</td></tr>\n",
       "</table></div>"
      ],
      "text/plain": [
       "<Table masked=True length=234>\n",
       "intentType obs_collection provenance_name ...  srcDen   obsid     objID  \n",
       "   str7         str4            str7      ... float64    str9      str9  \n",
       "---------- -------------- --------------- ... ------- --------- ---------\n",
       "   science           JWST         CALJWST ...     nan  79661376 733199805\n",
       "   science           JWST         CALJWST ...     nan  79661402 733199880\n",
       "   science           JWST         CALJWST ...     nan  79661433 733199936\n",
       "   science           JWST         CALJWST ...     nan  79661458 733199999\n",
       "   science           JWST         CALJWST ...     nan  79661490 733200051\n",
       "   science           JWST         CALJWST ...     nan  79661522 733200120\n",
       "   science           JWST         CALJWST ...     nan  79661542 733200173\n",
       "   science           JWST         CALJWST ...     nan  79661575 733200230\n",
       "   science           JWST         CALJWST ...     nan  79661598 733200276\n",
       "       ...            ...             ... ...     ...       ...       ...\n",
       "   science           JWST         CALJWST ...     nan 117933686 737830022\n",
       "   science           JWST         CALJWST ...     nan 117933667 737830036\n",
       "   science           JWST         CALJWST ...     nan 117933687 737830047\n",
       "   science           JWST         CALJWST ...     nan 117933688 737830059\n",
       "   science           JWST         CALJWST ...     nan 117933629 738677988\n",
       "   science           JWST         CALJWST ...     nan 117933631 738677997\n",
       "   science           JWST         CALJWST ...     nan 117933632 738678003\n",
       "   science           JWST         CALJWST ...     nan 117933633 738678016\n",
       "   science           JWST         CALJWST ...     nan 117933634 738678023\n",
       "   science           JWST         CALJWST ...     nan 117933635 738678034"
      ]
     },
     "execution_count": 3,
     "metadata": {},
     "output_type": "execute_result"
    }
   ],
   "source": [
    "observations = Observations.query_criteria(proposal_pi=\"Espinoza, Nestor\",\n",
    "                                           instrument_name=\"NIRISS*\")\n",
    "observations"
   ]
  },
  {
   "cell_type": "markdown",
   "id": "3eb7c273",
   "metadata": {},
   "source": [
    "Our query returned many NIRISS observations led by the PI Dr. Espinoza. Let's get all the unique values under the `instrument_name` column to see what our `*` wildcard picked up."
   ]
  },
  {
   "cell_type": "code",
   "execution_count": 4,
   "id": "ffc1b58f",
   "metadata": {
    "execution": {
     "iopub.execute_input": "2025-03-27T19:27:25.418162Z",
     "iopub.status.busy": "2025-03-27T19:27:25.417827Z",
     "iopub.status.idle": "2025-03-27T19:27:25.423924Z",
     "shell.execute_reply": "2025-03-27T19:27:25.423494Z"
    }
   },
   "outputs": [
    {
     "data": {
      "text/plain": [
       "{np.str_('NIRISS/IMAGE'), np.str_('NIRISS/SOSS')}"
      ]
     },
     "execution_count": 4,
     "metadata": {},
     "output_type": "execute_result"
    }
   ],
   "source": [
    "set(observations['instrument_name'])"
   ]
  },
  {
   "cell_type": "markdown",
   "id": "34c9e95f",
   "metadata": {},
   "source": [
    "Our observations have the advanced labeling; had we simply set `instrument_name = \"NIRISS\"`, we would have missed several observations. For more details on this advanced labeling, see the [JWST Instrument Names page](https://outerspace.stsci.edu/display/MASTDOCS/JWST+Instrument+Names)."
   ]
  },
  {
   "cell_type": "markdown",
   "id": "a08f607f",
   "metadata": {},
   "source": [
    "#### A note of caution: There is such a thing as too many wildcards\n",
    "\n",
    "You can be too generous with the wildcards, so be sure to exercise caution in their use. Too much ambiguity can lead to unintended results. Let's take a look at our example below."
   ]
  },
  {
   "cell_type": "code",
   "execution_count": 5,
   "id": "17d9194e",
   "metadata": {
    "execution": {
     "iopub.execute_input": "2025-03-27T19:27:25.425768Z",
     "iopub.status.busy": "2025-03-27T19:27:25.425419Z",
     "iopub.status.idle": "2025-03-27T19:27:27.486446Z",
     "shell.execute_reply": "2025-03-27T19:27:27.485877Z"
    },
    "scrolled": true
   },
   "outputs": [
    {
     "data": {
      "text/plain": [
       "{np.str_('NIRISS/IMAGE'), np.str_('NIRISS/SOSS'), np.str_('NIRSPEC/SLIT')}"
      ]
     },
     "execution_count": 5,
     "metadata": {},
     "output_type": "execute_result"
    }
   ],
   "source": [
    "observations = Observations.query_criteria(proposal_pi='Espinoza, Nestor',\n",
    "                                           instrument_name='NIR*') # Surely only one instrument begins with 'NIR'\n",
    "set(observations['instrument_name'])"
   ]
  },
  {
   "cell_type": "markdown",
   "id": "e019a8e2",
   "metadata": {},
   "source": [
    "This query returns `NIRSPEC/SLIT` observations in addition to the NIRISS ones, which is not what we intended."
   ]
  },
  {
   "cell_type": "markdown",
   "id": "fefa0c07",
   "metadata": {},
   "source": [
    "<a id=\"case2\"></a>\n",
    "### Case 2: Wildcard Search with `instrument_name` and `proposal_id`"
   ]
  },
  {
   "cell_type": "markdown",
   "id": "99af085a",
   "metadata": {},
   "source": [
    "Let's add an additional `string` criterion and wildcard into the mix. We'll do this with the `proposal_id` field which, despite its numeric content, is encoded as a string.\n",
    "\n",
    "Let's query for a four digit proposal/program IDs that begin with `15`."
   ]
  },
  {
   "cell_type": "code",
   "execution_count": 6,
   "id": "dd436c7d",
   "metadata": {
    "execution": {
     "iopub.execute_input": "2025-03-27T19:27:27.488626Z",
     "iopub.status.busy": "2025-03-27T19:27:27.488255Z",
     "iopub.status.idle": "2025-03-27T19:27:27.817588Z",
     "shell.execute_reply": "2025-03-27T19:27:27.817083Z"
    }
   },
   "outputs": [
    {
     "data": {
      "text/plain": [
       "({np.str_('1512'), np.str_('1541')},\n",
       " {np.str_('NIRISS/IMAGE'), np.str_('NIRISS/SOSS')})"
      ]
     },
     "execution_count": 6,
     "metadata": {},
     "output_type": "execute_result"
    }
   ],
   "source": [
    "observations = Observations.query_criteria(proposal_pi='Espinoza, Nestor',\n",
    "                                           instrument_name='NIRISS*',\n",
    "                                           proposal_id=['15%%']) # Only a four digit result will match this\n",
    "\n",
    "set(observations['proposal_id']), set(observations['instrument_name'])"
   ]
  },
  {
   "cell_type": "markdown",
   "id": "9fcc9102",
   "metadata": {},
   "source": [
    "<a id=\"case3\"></a>\n",
    "### Case 3: Create a Moving Target Ephemeris using MAST Observations with Wildcard Search"
   ]
  },
  {
   "cell_type": "markdown",
   "id": "c38a4cdb",
   "metadata": {},
   "source": [
    "We will be querying for image observations of Comet 67P Churyumov-Gerasimenko observed through the Hubble Space Telescope's Advanced Camera for Surveys (ACS) Wide Field Camera (WFC). This comet's name can be listed in different ways, so we will use `*` wildcards in our criteria query."
   ]
  },
  {
   "cell_type": "code",
   "execution_count": 7,
   "id": "a7cd9670",
   "metadata": {
    "execution": {
     "iopub.execute_input": "2025-03-27T19:27:27.819487Z",
     "iopub.status.busy": "2025-03-27T19:27:27.819128Z",
     "iopub.status.idle": "2025-03-27T19:27:44.468495Z",
     "shell.execute_reply": "2025-03-27T19:27:44.467954Z"
    }
   },
   "outputs": [
    {
     "name": "stdout",
     "output_type": "stream",
     "text": [
      "140 total observations\n",
      "\n",
      "Listed target names:\n",
      "{np.str_('COMET-67P-CHURYUMOV-GERASIMENK'), np.str_('COMET-67P-CHURYUMOV-GER-UPDATE')}\n"
     ]
    }
   ],
   "source": [
    "observations = Observations.query_criteria(target_name=\"*67P*\",\n",
    "                                           instrument_name=\"ACS/WFC\")\n",
    "\n",
    "print(f\"{len(observations)} total observations\" + \"\\n\")\n",
    "print(\"Listed target names:\")\n",
    "print(set(observations['target_name']))"
   ]
  },
  {
   "cell_type": "markdown",
   "id": "5ed146c3",
   "metadata": {},
   "source": [
    "Above there are two names we get for Comet-67P. You should exercise caution when searching on the `target_name` criteria, since this is often entered by the PI who proposed the observation and can vary from person to person.\n",
    "\n",
    "In the remainder of this notebook, we will construct a bare-bones ephemeris using the filtered MAST observations of this object and their metadata. We will then do some reverse engineering to query for the target based on coordinates using the ephemeris table, and hope that we get the same results back! Let's begin:\n",
    "\n",
    "For simplicity, let's work only with the `'COMET-67P-CHURYUMOV-GERASIMENK'` observations to create our ephemeris."
   ]
  },
  {
   "cell_type": "code",
   "execution_count": 8,
   "id": "a028e9e6",
   "metadata": {
    "execution": {
     "iopub.execute_input": "2025-03-27T19:27:44.470139Z",
     "iopub.status.busy": "2025-03-27T19:27:44.469979Z",
     "iopub.status.idle": "2025-03-27T19:27:44.494802Z",
     "shell.execute_reply": "2025-03-27T19:27:44.494350Z"
    },
    "scrolled": true,
    "tags": []
   },
   "outputs": [
    {
     "data": {
      "text/html": [
       "<div><i>Table masked=True length=70</i>\n",
       "<table id=\"table140131302376848\" class=\"table-striped table-bordered table-condensed\">\n",
       "<thead><tr><th>intentType</th><th>obs_collection</th><th>provenance_name</th><th>instrument_name</th><th>project</th><th>filters</th><th>wavelength_region</th><th>target_name</th><th>target_classification</th><th>obs_id</th><th>s_ra</th><th>s_dec</th><th>dataproduct_type</th><th>proposal_pi</th><th>calib_level</th><th>t_min</th><th>t_max</th><th>t_exptime</th><th>em_min</th><th>em_max</th><th>obs_title</th><th>t_obs_release</th><th>proposal_id</th><th>proposal_type</th><th>sequence_number</th><th>s_region</th><th>jpegURL</th><th>dataURL</th><th>dataRights</th><th>mtFlag</th><th>srcDen</th><th>obsid</th><th>objID</th></tr></thead>\n",
       "<thead><tr><th>str7</th><th>str3</th><th>str6</th><th>str7</th><th>str3</th><th>str12</th><th>str7</th><th>str30</th><th>str89</th><th>str36</th><th>float64</th><th>float64</th><th>str5</th><th>str14</th><th>int64</th><th>float64</th><th>float64</th><th>float64</th><th>float64</th><th>float64</th><th>str119</th><th>float64</th><th>str5</th><th>str3</th><th>int64</th><th>str2243</th><th>str86</th><th>str35</th><th>str6</th><th>bool</th><th>float64</th><th>str8</th><th>str9</th></tr></thead>\n",
       "<tr><td>science</td><td>HST</td><td>CALACS</td><td>ACS/WFC</td><td>HST</td><td>F606W</td><td>OPTICAL</td><td>COMET-67P-CHURYUMOV-GERASIMENK</td><td>COMET; COMET-67P-CHURYUMOV-GERASIMENKO WHICH IS THE PRIMARY TARGET FOR ROSETTA SPACECRAFT</td><td>jcis02010</td><td>281.1070302812</td><td>-31.0066887554</td><td>image</td><td>Hines, Dean C.</td><td>3</td><td>56888.26101200232</td><td>56888.48685717593</td><td>9600.0</td><td>470.0</td><td>720.0</td><td>Imaging Polarimetry of the 67P/Churyumov-Gerasimenko with ACS: Supporting the Rosetta Mission</td><td>57253.60605318</td><td>13863</td><td>GO</td><td>--</td><td>POLYGON -78.905924930000026 -31.02423579 -78.87427893 -31.0173634 -78.8800066 -30.98912327 -78.882365737150309 -30.989635932676503 -78.882504439999991 -30.98895186 -78.889317083503954 -30.990432181918216 -78.889530770000022 -30.98937778 -78.891752852813568 -30.989860489154527 -78.891883689999986 -30.98921489 -78.899628421871924 -30.990897116662392 -78.9001551 -30.98829685 -78.902371489060187 -30.988778129799261 -78.90250218 -30.98813288 -78.909141342406116 -30.989574421562239 -78.909719680000023 -30.98671762 -78.911930371781551 -30.987197501880228 -78.91206093 -30.98655257 -78.943699260000017 -30.99341636 -78.937989440000024 -31.02165911 -78.935778550730731 -31.021179788693974 -78.935648239999978 -31.02182416 -78.929005954826081 -31.020383985804244 -78.928427829999976 -31.02324132 -78.926211233460563 -31.02276060029919 -78.926080790000015 -31.02340529 -78.918332079103052 -31.0217246209393 -78.91780553000001 -31.02432554 -78.9155832393156 -31.023843392393292 -78.91545265000002 -31.02448843 -78.9086363989854 -31.023009444135333 -78.908422719999976 -31.02406438 -78.906063370071536 -31.023552312315246 -78.905924930000026 -31.02423579 -78.905924930000026 -31.02423579</td><td>mast:HST/product/jcis02010_drz.jpg</td><td>mast:HST/product/jcis02010_drz.fits</td><td>PUBLIC</td><td>True</td><td>nan</td><td>24839229</td><td>743573585</td></tr>\n",
       "<tr><td>science</td><td>HST</td><td>CALACS</td><td>ACS/WFC</td><td>HST</td><td>F606W</td><td>OPTICAL</td><td>COMET-67P-CHURYUMOV-GERASIMENK</td><td>COMET; COMET-67P-CHURYUMOV-GERASIMENKO WHICH IS THE PRIMARY TARGET FOR ROSETTA SPACECRAFT</td><td>jcis04020</td><td>290.2770693515</td><td>-28.02111499969</td><td>image</td><td>Hines, Dean C.</td><td>3</td><td>56977.45820188658</td><td>56977.611049039355</td><td>6280.0</td><td>470.0</td><td>720.0</td><td>Imaging Polarimetry of the 67P/Churyumov-Gerasimenko with ACS: Supporting the Rosetta Mission</td><td>57342.94112256</td><td>13863</td><td>GO</td><td>--</td><td>POLYGON -69.68999134 -28.03180292 -69.690000793261078 -28.0314964187349 -69.68653658 -28.03117872 -69.686564584120333 -28.03027073277142 -69.683764119999978 -28.03001384 -69.6838006065022 -28.028831798853574 -69.67044575 -28.02760593 -69.670481996731183 -28.026436279688706 -69.666591489999973 -28.02607881 -69.666601003399478 -28.025772506303237 -69.663133870000024 -28.02545393 -69.664023900000018 -27.99678969 -69.695551850000015 -27.99968392 -69.695542411269713 -27.999990871866526 -69.69900966 -28.0003088 -69.6989737114984 -28.001477839264155 -69.702862620000019 -28.00183422 -69.702826356326327 -28.00301616323647 -69.716178669999977 -28.00423892 -69.716150921131742 -28.005146940581007 -69.718950740000025 -28.00540317 -69.718941361850952 -28.005710310378014 -69.722405690000016 -28.00602736 -69.722395728297926 -28.006353608328851 -69.735389909999981 -28.00754168 -69.7353798073961 -28.007874214140372 -69.739126740000017 -28.00821667 -69.73825566 -28.03688132 -69.70671568 -28.03399601 -69.706725863943035 -28.033664169692418 -69.70297905000001 -28.03332102 -69.702989071877354 -28.032994456845575 -69.68999134 -28.03180292 -69.68999134 -28.03180292</td><td>mast:HST/product/jcis04020_drz.jpg</td><td>mast:HST/product/jcis04020_drz.fits</td><td>PUBLIC</td><td>True</td><td>nan</td><td>24839232</td><td>741030402</td></tr>\n",
       "<tr><td>science</td><td>HST</td><td>CALACS</td><td>ACS/WFC</td><td>HST</td><td>F775W</td><td>OPTICAL</td><td>COMET-67P-CHURYUMOV-GERASIMENK</td><td>COMET; COMET-67P-CHURYUMOV-GERASIMENKO WHICH IS THE PRIMARY TARGET FOR ROSETTA SPACECRAFT</td><td>jcis06010</td><td>290.9112348543</td><td>-27.90621726673</td><td>image</td><td>Hines, Dean C.</td><td>3</td><td>56979.505933368055</td><td>56979.51200949074</td><td>300.0</td><td>690.0</td><td>860.0</td><td>Imaging Polarimetry of the 67P/Churyumov-Gerasimenko with ACS: Supporting the Rosetta Mission</td><td>57344.94012718</td><td>13863</td><td>GO</td><td>--</td><td>POLYGON -69.07205442999998 -27.91834206 -69.072058317717648 -27.918294549551291 -69.070418239999981 -27.91807766 -69.072739870000021 -27.88970302 -69.103821919999973 -27.89381052 -69.103818044368452 -27.893858065783444 -69.105458039999974 -27.89407459 -69.103144859999986 -27.92244975 -69.07205442999998 -27.91834206 -69.07205442999998 -27.91834206</td><td>mast:HST/product/jcis06010_drz.jpg</td><td>mast:HST/product/jcis06010_drz.fits</td><td>PUBLIC</td><td>True</td><td>nan</td><td>24839235</td><td>738724710</td></tr>\n",
       "<tr><td>science</td><td>HST</td><td>CALACS</td><td>ACS/WFC</td><td>HST</td><td>F606W</td><td>OPTICAL</td><td>COMET-67P-CHURYUMOV-GERASIMENK</td><td>COMET; COMET BEING ORBITED BY THE ROSETTA SPACECRAFT</td><td>jcz302010</td><td>149.0210592664</td><td>17.79521475611</td><td>image</td><td>Hines, Dean C.</td><td>3</td><td>57306.00024725695</td><td>57306.02970309028</td><td>1868.0</td><td>470.0</td><td>720.0</td><td>Post-Perihelion Imaging Polarimetry of the 67P/Churyumov-Gerasimenko with ACS: Continued Support of the Rosetta Mission</td><td>57672.2263889</td><td>14261</td><td>GO</td><td>--</td><td>POLYGON 149.05898205 17.79748171 149.05396387760246 17.799381902109118 149.05409679 17.79964078 149.04813166312613 17.801899341627337 149.04814366 17.80192271 149.02083733 17.81225854 149.02015424058055 17.810927544842077 149.01400423 17.81325475 149.00078955 17.78750012 149.02809307 17.77716698 149.02863132569428 17.778215844015303 149.04576215 17.77173013 149.05898205 17.79748171 149.05898205 17.79748171</td><td>mast:HST/product/jcz302010_drz.jpg</td><td>mast:HST/product/jcz302010_drz.fits</td><td>PUBLIC</td><td>True</td><td>nan</td><td>25001891</td><td>738758828</td></tr>\n",
       "<tr><td>science</td><td>HST</td><td>CALACS</td><td>ACS/WFC</td><td>HST</td><td>F606W</td><td>OPTICAL</td><td>COMET-67P-CHURYUMOV-GERASIMENK</td><td>COMET; COMET-67P-CHURYUMOV-GERASIMENKO WHICH IS THE PRIMARY TARGET FOR ROSETTA SPACECRAFT</td><td>jcis05020</td><td>290.5842080034</td><td>-27.96554445143</td><td>image</td><td>Hines, Dean C.</td><td>3</td><td>56978.454278206016</td><td>56978.60601420139</td><td>6280.0</td><td>470.0</td><td>720.0</td><td>Imaging Polarimetry of the 67P/Churyumov-Gerasimenko with ACS: Supporting the Rosetta Mission</td><td>57343.75185176</td><td>13863</td><td>GO</td><td>--</td><td>POLYGON -69.38324793999999 -27.97644 -69.38325337699672 -27.976084633770142 -69.37975694 -27.975807 -69.379771610697432 -27.974848106719922 -69.376938269999982 -27.97462306 -69.376959271556942 -27.973252682572433 -69.363480320000008 -27.97218126 -69.363499179187144 -27.970960544973902 -69.35957473000002 -27.97064824 -69.35958024246527 -27.970293021520565 -69.35608091 -27.97001454 -69.356525560000023 -27.94135352 -69.388067579999984 -27.94386099 -69.388062164224209 -27.944216860866497 -69.391561589999981 -27.94449469 -69.391543021733554 -27.945714773910108 -69.39546565 -27.94602599 -69.395444888234721 -27.947396421736535 -69.408921220000025 -27.94846475 -69.408906811818213 -27.9494236609726 -69.41173950000001 -27.94964805 -69.411734159831681 -27.950004069145866 -69.415230679999979 -27.95028105 -69.415223505589069 -27.950759354159036 -69.427996080000014 -27.95177004 -69.427990357442667 -27.952155441892863 -69.431772200000012 -27.95245457 -69.431346519999977 -27.98111569 -69.399792699999978 -27.97861726 -69.399798527580231 -27.97823255633358 -69.396016780000025 -27.97793273 -69.39602403128157 -27.97745404126006 -69.38324793999999 -27.97644 -69.38324793999999 -27.97644</td><td>mast:HST/product/jcis05020_drz.jpg</td><td>mast:HST/product/jcis05020_drz.fits</td><td>PUBLIC</td><td>True</td><td>nan</td><td>24839234</td><td>747043545</td></tr>\n",
       "<tr><td>science</td><td>HST</td><td>CALACS</td><td>ACS/WFC</td><td>HST</td><td>F606W</td><td>OPTICAL</td><td>COMET-67P-CHURYUMOV-GERASIMENK</td><td>COMET; COMET-67P-CHURYUMOV-GERASIMENKO WHICH IS THE PRIMARY TARGET FOR ROSETTA SPACECRAFT</td><td>jcis01010</td><td>281.2558788729</td><td>-31.01619293249</td><td>image</td><td>Hines, Dean C.</td><td>3</td><td>56887.26573422454</td><td>56887.49156755787</td><td>7200.0</td><td>470.0</td><td>720.0</td><td>Imaging Polarimetry of the 67P/Churyumov-Gerasimenko with ACS: Supporting the Rosetta Mission</td><td>57252.60829852</td><td>13863</td><td>GO</td><td>--</td><td>POLYGON -78.756865950000019 -31.03386473 -78.72529176 -31.02670072 -78.731368569999972 -30.9985026 -78.733805750513454 -30.9990559361688 -78.733958120000011 -30.99834869 -78.740986132787157 -30.99994418656815 -78.741227330000015 -30.9988241 -78.743523208857965 -30.999345171906345 -78.743666940000026 -30.9986777 -78.751640936670128 -31.000487279621648 -78.752215089999993 -30.99781954 -78.754505385727953 -30.998339146989291 -78.75464896 -30.99767203 -78.761518775521665 -30.999230471627669 -78.762147550000009 -30.99630741 -78.764432262131379 -30.996825567137762 -78.764575690000015 -30.99615878 -78.796142359999976 -31.00331385 -78.79008367 -31.03151488 -78.787798738721818 -31.030997298944033 -78.787655570000027 -31.0316635 -78.780782261578381 -31.030106426334836 -78.780153620000021 -31.03303019 -78.777863106729612 -31.032511160972405 -78.777719789999992 -31.0331777 -78.769741953915457 -31.031369732821123 -78.76916795 -31.03403788 -78.766871853092809 -31.033517388181245 -78.766728380000018 -31.03418428 -78.759696670679176 -31.032590149820496 -78.759455460000027 -31.03371081 -78.757018048375642 -31.033158086745466 -78.756865950000019 -31.03386473 -78.756865950000019 -31.03386473</td><td>mast:HST/product/jcis01010_drz.jpg</td><td>mast:HST/product/jcis01010_drz.fits</td><td>PUBLIC</td><td>True</td><td>nan</td><td>24839228</td><td>741030366</td></tr>\n",
       "<tr><td>science</td><td>HST</td><td>CALACS</td><td>ACS/WFC</td><td>HST</td><td>F775W</td><td>OPTICAL</td><td>COMET-67P-CHURYUMOV-GERASIMENK</td><td>COMET; COMET-67P-CHURYUMOV-GERASIMENKO WHICH IS THE PRIMARY TARGET FOR ROSETTA SPACECRAFT</td><td>jcis04010</td><td>290.2735685756</td><td>-28.02183037337</td><td>image</td><td>Hines, Dean C.</td><td>3</td><td>56977.44858376157</td><td>56977.454660219904</td><td>300.0</td><td>690.0</td><td>860.0</td><td>Imaging Polarimetry of the 67P/Churyumov-Gerasimenko with ACS: Supporting the Rosetta Mission</td><td>57342.8724883</td><td>13863</td><td>GO</td><td>--</td><td>POLYGON -69.710339019999992 -28.03460849 -69.710342387468657 -28.034498772208945 -69.708739630000025 -28.03435188 -69.70961256999999 -28.00591362 -69.740906 -28.00877878 -69.740902662524562 -28.008888572547743 -69.742505129999984 -28.0090351 -69.74164077 -28.03747355 -69.710339019999992 -28.03460849 -69.710339019999992 -28.03460849</td><td>mast:HST/product/jcis04010_drz.jpg</td><td>mast:HST/product/jcis04010_drz.fits</td><td>PUBLIC</td><td>True</td><td>nan</td><td>24839231</td><td>738724725</td></tr>\n",
       "<tr><td>science</td><td>HST</td><td>CALACS</td><td>ACS/WFC</td><td>HST</td><td>F606W</td><td>OPTICAL</td><td>COMET-67P-CHURYUMOV-GERASIMENK</td><td>COMET; COMET-67P-CHURYUMOV-GERASIMENKO WHICH IS THE PRIMARY TARGET FOR ROSETTA SPACECRAFT</td><td>jcis03010</td><td>280.9542165962</td><td>-30.99542663878</td><td>image</td><td>Hines, Dean C.</td><td>3</td><td>56889.322632372685</td><td>56889.548465706015</td><td>9600.0</td><td>470.0</td><td>720.0</td><td>Imaging Polarimetry of the 67P/Churyumov-Gerasimenko with ACS: Supporting the Rosetta Mission</td><td>57254.78804398</td><td>13863</td><td>GO</td><td>--</td><td>POLYGON -79.05840738 -31.01316703 -79.026878020000026 -31.00584488 -79.033151780000026 -30.97766767 -79.035392031871083 -30.978188257438966 -79.035550100000023 -30.97747812 -79.042032257876684 -30.978984322746957 -79.04228344 -30.97785538 -79.044393200704519 -30.978345489210106 -79.044542289999981 -30.9776754 -79.0519318160874 -30.979391859188709 -79.052526699999987 -30.97671682 -79.054630711213818 -30.97720541840804 -79.054779619999977 -30.9765358 -79.0610665098948 -30.977995640936911 -79.061717779999981 -30.97506566 -79.0638160189322 -30.975552764251791 -79.063964759999976 -30.97488358 -79.09548675000002 -30.9821973 -79.089230410000027 -31.01037747 -79.087131972414525 -31.009890899345596 -79.086983480000015 -31.01055955 -79.080693324737766 -31.009100920228253 -79.08004225000002 -31.01203134 -79.077938041505035 -31.011543277238278 -79.077789380000013 -31.01221237 -79.070396015373021 -31.010497338548994 -79.06980123 -31.01317303 -79.067691267708852 -31.012683456849597 -79.06754243 -31.013353 -79.061056825969644 -31.011848027080774 -79.060805640000012 -31.0129775 -79.058565179306754 -31.012457479047875 -79.05840738 -31.01316703 -79.05840738 -31.01316703</td><td>mast:HST/product/jcis03010_drz.jpg</td><td>mast:HST/product/jcis03010_drz.fits</td><td>PUBLIC</td><td>True</td><td>nan</td><td>24839230</td><td>747064813</td></tr>\n",
       "<tr><td>science</td><td>HST</td><td>CALACS</td><td>ACS/WFC</td><td>HST</td><td>F606W</td><td>OPTICAL</td><td>COMET-67P-CHURYUMOV-GERASIMENK</td><td>COMET; COMET-67P-CHURYUMOV-GERASIMENKO WHICH IS THE PRIMARY TARGET FOR ROSETTA SPACECRAFT</td><td>jcis06020</td><td>290.9147892768</td><td>-27.90546497065</td><td>image</td><td>Hines, Dean C.</td><td>3</td><td>56979.51550486111</td><td>56979.66734533565</td><td>6280.0</td><td>470.0</td><td>720.0</td><td>Imaging Polarimetry of the 67P/Churyumov-Gerasimenko with ACS: Supporting the Rosetta Mission</td><td>57344.94447902</td><td>13863</td><td>GO</td><td>--</td><td>POLYGON -69.051552329999993 -27.91547868 -69.051566623053915 -27.915304522529482 -69.048023170000022 -27.91483611 -69.048086300262 -27.914066875478145 -69.045198070000026 -27.91368501 -69.045253211462011 -27.913013321787403 -69.031596869999987 -27.91120688 -69.031681552501226 -27.910176912272057 -69.027714189999983 -27.90965175 -69.02772849552359 -27.909477898544647 -69.024182240000016 -27.90900847 -69.02653583 -27.88039823 -69.057861839999987 -27.88454222 -69.057847539106191 -27.884716718646743 -69.06139399 -27.88518549 -69.06130963442007 -27.88621477953863 -69.065275460000009 -27.88673877 -69.0652204552501 -27.887410472053556 -69.078874509999991 -27.8892136 -69.078813220742 -27.889963190045712 -69.098235400000021 -27.89252561 -69.098220005459254 -27.892714303389873 -69.102038349999987 -27.89321784 -69.099703449999993 -27.92182943 -69.082889846828763 -27.919611642662879 -69.082889340000008 -27.91961784 -69.051552329999993 -27.91547868 -69.051552329999993 -27.91547868</td><td>mast:HST/product/jcis06020_drz.jpg</td><td>mast:HST/product/jcis06020_drz.fits</td><td>PUBLIC</td><td>True</td><td>nan</td><td>24839236</td><td>741034269</td></tr>\n",
       "<tr><td>...</td><td>...</td><td>...</td><td>...</td><td>...</td><td>...</td><td>...</td><td>...</td><td>...</td><td>...</td><td>...</td><td>...</td><td>...</td><td>...</td><td>...</td><td>...</td><td>...</td><td>...</td><td>...</td><td>...</td><td>...</td><td>...</td><td>...</td><td>...</td><td>...</td><td>...</td><td>...</td><td>...</td><td>...</td><td>...</td><td>...</td><td>...</td><td>...</td></tr>\n",
       "<tr><td>science</td><td>HLA</td><td>HLA</td><td>ACS/WFC</td><td>HLA</td><td>F606WPOL120V</td><td>--</td><td>COMET-67P-CHURYUMOV-GERASIMENK</td><td>--</td><td>hst_13863_03_acs_wfc_f606wpol120v_01</td><td>280.9542207499916</td><td>-30.995417914305882</td><td>image</td><td>Hines</td><td>2</td><td>56889.32263</td><td>56889.33654</td><td>1200.0</td><td>nan</td><td>nan</td><td>--</td><td>57254.78804398</td><td>13863</td><td>HLA</td><td>--</td><td>POLYGON J2000 280.94159040 -31.01316570 280.97311730 -31.00584330 280.96684640 -30.97766890 280.93532830 -30.98498970 280.94159040 -31.01316570</td><td>https://hla.stsci.edu/cgi-bin/preview.cgi?dataset=hst_13863_03_acs_wfc_f606wpol120v_01</td><td>--</td><td>PUBLIC</td><td>--</td><td>nan</td><td>25981100</td><td>67948367</td></tr>\n",
       "<tr><td>science</td><td>HLA</td><td>HLA</td><td>ACS/WFC</td><td>HLA</td><td>F606WPOL120V</td><td>--</td><td>COMET-67P-CHURYUMOV-GERASIMENK</td><td>--</td><td>hst_13863_03_acs_wfc_f606wpol120v_02</td><td>280.9234007501509</td><td>-30.99263091472144</td><td>image</td><td>Hines</td><td>2</td><td>56889.53457</td><td>56889.54848</td><td>1200.0</td><td>nan</td><td>nan</td><td>--</td><td>57254.78804398</td><td>13863</td><td>HLA</td><td>--</td><td>POLYGON J2000 280.91076580 -31.01037540 280.94229310 -31.00306020 280.93603100 -30.97488520 280.90451250 -30.98219890 280.91076580 -31.01037540</td><td>https://hla.stsci.edu/cgi-bin/preview.cgi?dataset=hst_13863_03_acs_wfc_f606wpol120v_02</td><td>--</td><td>PUBLIC</td><td>--</td><td>nan</td><td>25981101</td><td>67948368</td></tr>\n",
       "<tr><td>science</td><td>HLA</td><td>HLA</td><td>ACS/WFC</td><td>HLA</td><td>F606WPOL0V</td><td>--</td><td>COMET-67P-CHURYUMOV-GERASIMENK</td><td>--</td><td>hst_13863_04_acs_wfc_f606wpol0v_03</td><td>290.2938020457327</td><td>-28.01891575026861</td><td>image</td><td>Hines</td><td>2</td><td>56977.51266</td><td>56977.52176</td><td>785.0</td><td>nan</td><td>nan</td><td>--</td><td>57342.94112256</td><td>13863</td><td>HLA</td><td>--</td><td>POLYGON J2000 290.31000840 -28.03180110 290.30912780 -28.00313970 290.27759970 -28.00602840 290.27847180 -28.03469010 290.31000840 -28.03180110</td><td>https://hla.stsci.edu/cgi-bin/preview.cgi?dataset=hst_13863_04_acs_wfc_f606wpol0v_03</td><td>--</td><td>PUBLIC</td><td>--</td><td>nan</td><td>25981110</td><td>67948377</td></tr>\n",
       "<tr><td>science</td><td>HLA</td><td>HLA</td><td>ACS/WFC</td><td>HLA</td><td>F775W</td><td>OPTICAL</td><td>COMET-67P-CHURYUMOV-GERASIMENK</td><td>--</td><td>hst_13863_04_acs_wfc_f775w_01</td><td>290.27357746214466</td><td>-28.021822337884565</td><td>image</td><td>Hines</td><td>2</td><td>56977.44859</td><td>56977.45034</td><td>150.0</td><td>690000000000.0</td><td>860000000000.0</td><td>--</td><td>57342.8724883</td><td>13863</td><td>HLA</td><td>--</td><td>POLYGON J2000 290.28965860 -28.03460380 290.28879070 -28.00616920 290.25750010 -28.00903900 290.25835980 -28.03747380 290.28965860 -28.03460380</td><td>https://hla.stsci.edu/cgi-bin/preview.cgi?dataset=hst_13863_04_acs_wfc_f775w_01</td><td>--</td><td>PUBLIC</td><td>--</td><td>nan</td><td>25981116</td><td>67948383</td></tr>\n",
       "<tr><td>science</td><td>HLA</td><td>HLA</td><td>ACS/WFC</td><td>HLA</td><td>F775W</td><td>OPTICAL</td><td>COMET-67P-CHURYUMOV-GERASIMENK</td><td>--</td><td>hst_13863_04_acs_wfc_f775w_02</td><td>290.2751774620947</td><td>-28.021566337845524</td><td>image</td><td>Hines</td><td>2</td><td>56977.45293</td><td>56977.45468</td><td>150.0</td><td>690000000000.0</td><td>860000000000.0</td><td>--</td><td>57342.8724883</td><td>13863</td><td>HLA</td><td>--</td><td>POLYGON J2000 290.29039040 -28.00591310 290.25910000 -28.00878320 290.25996010 -28.03721790 290.29125870 -28.03434760 290.29039040 -28.00591310</td><td>https://hla.stsci.edu/cgi-bin/preview.cgi?dataset=hst_13863_04_acs_wfc_f775w_02</td><td>--</td><td>PUBLIC</td><td>--</td><td>nan</td><td>25981117</td><td>67948384</td></tr>\n",
       "<tr><td>science</td><td>HLA</td><td>HLA</td><td>ACS/WFC</td><td>HLA</td><td>F606WPOL60V</td><td>--</td><td>COMET-67P-CHURYUMOV-GERASIMENK</td><td>--</td><td>hst_13863_05_acs_wfc_f606wpol60v_03</td><td>290.6007621459412</td><td>-27.963361624819484</td><td>image</td><td>Hines</td><td>2</td><td>56978.50763</td><td>56978.51672</td><td>785.0</td><td>nan</td><td>nan</td><td>--</td><td>57343.75185176</td><td>13863</td><td>HLA</td><td>--</td><td>POLYGON J2000 290.61631780 -27.94778080 290.58477530 -27.95028270 290.58520200 -27.97894070 290.61675290 -27.97643870 290.61631780 -27.94778080</td><td>https://hla.stsci.edu/cgi-bin/preview.cgi?dataset=hst_13863_05_acs_wfc_f606wpol60v_03</td><td>--</td><td>PUBLIC</td><td>--</td><td>nan</td><td>25981120</td><td>67948387</td></tr>\n",
       "<tr><td>science</td><td>HLA</td><td>HLA</td><td>ACS/WFC</td><td>HLA</td><td>F775W</td><td>OPTICAL</td><td>COMET-67P-CHURYUMOV-GERASIMENK</td><td>--</td><td>hst_13863_05_acs_wfc_f775w_01</td><td>290.58067756432786</td><td>-27.966253462770922</td><td>image</td><td>Hines</td><td>2</td><td>56978.44466</td><td>56978.44641</td><td>150.0</td><td>690000000000.0</td><td>860000000000.0</td><td>--</td><td>57343.70451382</td><td>13863</td><td>HLA</td><td>--</td><td>POLYGON J2000 290.56522550 -27.98171880 290.59655000 -27.97922890 290.59612520 -27.95078640 290.56480900 -27.95327620 290.56522550 -27.98171880</td><td>https://hla.stsci.edu/cgi-bin/preview.cgi?dataset=hst_13863_05_acs_wfc_f775w_01</td><td>--</td><td>PUBLIC</td><td>--</td><td>nan</td><td>25981126</td><td>67948393</td></tr>\n",
       "<tr><td>science</td><td>HLA</td><td>HLA</td><td>ACS/WFC</td><td>HLA</td><td>F775W</td><td>OPTICAL</td><td>COMET-67P-CHURYUMOV-GERASIMENK</td><td>--</td><td>hst_13863_06_acs_wfc_f775w_01</td><td>290.9128770096229</td><td>-27.905945046863923</td><td>image</td><td>Hines</td><td>2</td><td>56979.51028</td><td>56979.51203</td><td>150.0</td><td>690000000000.0</td><td>860000000000.0</td><td>--</td><td>57344.94012718</td><td>13863</td><td>HLA</td><td>--</td><td>POLYGON J2000 290.89618110 -27.89381480 290.89848990 -27.92218630 290.92957680 -27.91807330 290.92725980 -27.88970230 290.89618110 -27.89381480</td><td>https://hla.stsci.edu/cgi-bin/preview.cgi?dataset=hst_13863_06_acs_wfc_f775w_01</td><td>--</td><td>PUBLIC</td><td>--</td><td>nan</td><td>25981136</td><td>67948403</td></tr>\n",
       "<tr><td>science</td><td>HLA</td><td>HLA</td><td>ACS/WFC</td><td>HLA</td><td>F606WPOL60V</td><td>--</td><td>COMET-67P-CHURYUMOV-GERASIMENK</td><td>--</td><td>hst_14261_02_acs_wfc_f606wpol60v_04</td><td>149.03383347531883</td><td>17.791933192580494</td><td>image</td><td>Hines</td><td>2</td><td>57306.01628</td><td>57306.0217</td><td>467.0</td><td>nan</td><td>nan</td><td>--</td><td>57672.2263889</td><td>14261</td><td>HLA</td><td>--</td><td>POLYGON J2000 149.02679120 17.80997720 149.01357040 17.78422550 149.04087430 17.77388890 149.05409830 17.79963880 149.02679120 17.80997720</td><td>https://hla.stsci.edu/cgi-bin/preview.cgi?dataset=hst_14261_02_acs_wfc_f606wpol60v_04</td><td>--</td><td>PUBLIC</td><td>--</td><td>nan</td><td>26004664</td><td>67971931</td></tr>\n",
       "<tr><td>science</td><td>HLA</td><td>HLA</td><td>ACS/WFC</td><td>HLA</td><td>F606WPOL120V</td><td>--</td><td>COMET-67P-CHURYUMOV-GERASIMENK</td><td>--</td><td>hst_14261_03_acs_wfc_f606wpol120v_03</td><td>149.38633343179924</td><td>17.696582189227897</td><td>image</td><td>Hines</td><td>2</td><td>57306.53082</td><td>57306.53624</td><td>467.0</td><td>nan</td><td>nan</td><td>--</td><td>57672.72732635</td><td>14261</td><td>HLA</td><td>--</td><td>POLYGON J2000 149.37931420 17.71464960 149.36605570 17.68889320 149.39335130 17.67851450 149.40661290 17.70426910 149.37931420 17.71464960</td><td>https://hla.stsci.edu/cgi-bin/preview.cgi?dataset=hst_14261_03_acs_wfc_f606wpol120v_03</td><td>--</td><td>PUBLIC</td><td>--</td><td>nan</td><td>26004667</td><td>67971934</td></tr>\n",
       "</table></div>"
      ],
      "text/plain": [
       "<Table masked=True length=70>\n",
       "intentType obs_collection provenance_name ...  srcDen  obsid     objID  \n",
       "   str7         str3            str6      ... float64   str8      str9  \n",
       "---------- -------------- --------------- ... ------- -------- ---------\n",
       "   science            HST          CALACS ...     nan 24839229 743573585\n",
       "   science            HST          CALACS ...     nan 24839232 741030402\n",
       "   science            HST          CALACS ...     nan 24839235 738724710\n",
       "   science            HST          CALACS ...     nan 25001891 738758828\n",
       "   science            HST          CALACS ...     nan 24839234 747043545\n",
       "   science            HST          CALACS ...     nan 24839228 741030366\n",
       "   science            HST          CALACS ...     nan 24839231 738724725\n",
       "   science            HST          CALACS ...     nan 24839230 747064813\n",
       "   science            HST          CALACS ...     nan 24839236 741034269\n",
       "       ...            ...             ... ...     ...      ...       ...\n",
       "   science            HLA             HLA ...     nan 25981100  67948367\n",
       "   science            HLA             HLA ...     nan 25981101  67948368\n",
       "   science            HLA             HLA ...     nan 25981110  67948377\n",
       "   science            HLA             HLA ...     nan 25981116  67948383\n",
       "   science            HLA             HLA ...     nan 25981117  67948384\n",
       "   science            HLA             HLA ...     nan 25981120  67948387\n",
       "   science            HLA             HLA ...     nan 25981126  67948393\n",
       "   science            HLA             HLA ...     nan 25981136  67948403\n",
       "   science            HLA             HLA ...     nan 26004664  67971931\n",
       "   science            HLA             HLA ...     nan 26004667  67971934"
      ]
     },
     "execution_count": 8,
     "metadata": {},
     "output_type": "execute_result"
    }
   ],
   "source": [
    "mask = observations[\"target_name\"] == \"COMET-67P-CHURYUMOV-GERASIMENK\"\n",
    "filtered_observations = observations[mask]\n",
    "filtered_observations"
   ]
  },
  {
   "cell_type": "markdown",
   "id": "ebdc42f6",
   "metadata": {},
   "source": [
    "Now that we have our filtered observations, let's sort the rows of this table based on the `t_min` criteria, which refers to the start time of the exposure in MJD."
   ]
  },
  {
   "cell_type": "code",
   "execution_count": 9,
   "id": "5198bf11",
   "metadata": {
    "execution": {
     "iopub.execute_input": "2025-03-27T19:27:44.496570Z",
     "iopub.status.busy": "2025-03-27T19:27:44.496237Z",
     "iopub.status.idle": "2025-03-27T19:27:44.507964Z",
     "shell.execute_reply": "2025-03-27T19:27:44.507548Z"
    }
   },
   "outputs": [],
   "source": [
    "filtered_observations.sort(\"t_min\")"
   ]
  },
  {
   "cell_type": "markdown",
   "id": "dc840a0a",
   "metadata": {},
   "source": [
    "Now that we've sorted our table, let's construct a basic ephemeris showing the path of our object over time (with `t_min`, or exposure start in MJD, as our time component):"
   ]
  },
  {
   "cell_type": "code",
   "execution_count": 10,
   "id": "cd4fca9a",
   "metadata": {
    "execution": {
     "iopub.execute_input": "2025-03-27T19:27:44.509704Z",
     "iopub.status.busy": "2025-03-27T19:27:44.509389Z",
     "iopub.status.idle": "2025-03-27T19:27:44.512998Z",
     "shell.execute_reply": "2025-03-27T19:27:44.512421Z"
    }
   },
   "outputs": [],
   "source": [
    "ephemeris = Table([filtered_observations[\"s_ra\"],\n",
    "                   filtered_observations[\"s_dec\"],\n",
    "                   filtered_observations[\"t_min\"]], names=(\"ra\", \"dec\", \"t_min\"))"
   ]
  },
  {
   "cell_type": "markdown",
   "id": "80b5f267",
   "metadata": {},
   "source": [
    "Let's display the contents of our ephemeris, and use it to generate a plot of the comet's path:"
   ]
  },
  {
   "cell_type": "code",
   "execution_count": 11,
   "id": "40a7aedb",
   "metadata": {
    "execution": {
     "iopub.execute_input": "2025-03-27T19:27:44.514664Z",
     "iopub.status.busy": "2025-03-27T19:27:44.514348Z",
     "iopub.status.idle": "2025-03-27T19:27:44.521023Z",
     "shell.execute_reply": "2025-03-27T19:27:44.520457Z"
    }
   },
   "outputs": [
    {
     "data": {
      "text/html": [
       "<div><i>Table length=70</i>\n",
       "<table id=\"table140131302429200\" class=\"table-striped table-bordered table-condensed\">\n",
       "<thead><tr><th>ra</th><th>dec</th><th>t_min</th></tr></thead>\n",
       "<thead><tr><th>float64</th><th>float64</th><th>float64</th></tr></thead>\n",
       "<tr><td>281.2558788729</td><td>-31.01619293249</td><td>56887.26573422454</td></tr>\n",
       "<tr><td>281.1070408364967</td><td>-31.006679797131913</td><td>56888.26101</td></tr>\n",
       "<tr><td>281.1070302812</td><td>-31.0066887554</td><td>56888.26101200232</td></tr>\n",
       "<tr><td>281.1045408863173</td><td>-31.00650879708346</td><td>56888.27707</td></tr>\n",
       "<tr><td>281.0975108367455</td><td>-31.006933797314236</td><td>56888.32419</td></tr>\n",
       "<tr><td>281.0951608865579</td><td>-31.006770747268593</td><td>56888.34025</td></tr>\n",
       "<tr><td>281.0868808868347</td><td>-31.005851797486205</td><td>56888.39054</td></tr>\n",
       "<tr><td>281.0845408866453</td><td>-31.005687797434355</td><td>56888.40661</td></tr>\n",
       "<tr><td>281.0773208868312</td><td>-31.004271747618215</td><td>56888.4569</td></tr>\n",
       "<tr><td>...</td><td>...</td><td>...</td></tr>\n",
       "<tr><td>149.02105347495342</td><td>17.795211192797524</td><td>57306.00024</td></tr>\n",
       "<tr><td>149.0210592664</td><td>17.79521475611</td><td>57306.00024725695</td></tr>\n",
       "<tr><td>149.02788342509825</td><td>17.794214142733026</td><td>57306.00826</td></tr>\n",
       "<tr><td>149.03383347531883</td><td>17.791933192580494</td><td>57306.01628</td></tr>\n",
       "<tr><td>149.0387234255141</td><td>17.789775192433133</td><td>57306.02429</td></tr>\n",
       "<tr><td>149.38633343179924</td><td>17.696582189227897</td><td>57306.53082</td></tr>\n",
       "<tr><td>149.386341824</td><td>17.6965860963</td><td>57306.530825775466</td></tr>\n",
       "<tr><td>149.39313343193777</td><td>17.695584189165338</td><td>57306.53884</td></tr>\n",
       "<tr><td>149.39905343216378</td><td>17.69330118900645</td><td>57306.54686</td></tr>\n",
       "<tr><td>149.40391343235848</td><td>17.69114218886538</td><td>57306.55487</td></tr>\n",
       "</table></div>"
      ],
      "text/plain": [
       "<Table length=70>\n",
       "        ra                 dec               t_min       \n",
       "     float64             float64            float64      \n",
       "------------------ ------------------- ------------------\n",
       "    281.2558788729     -31.01619293249  56887.26573422454\n",
       " 281.1070408364967 -31.006679797131913        56888.26101\n",
       "    281.1070302812      -31.0066887554  56888.26101200232\n",
       " 281.1045408863173  -31.00650879708346        56888.27707\n",
       " 281.0975108367455 -31.006933797314236        56888.32419\n",
       " 281.0951608865579 -31.006770747268593        56888.34025\n",
       " 281.0868808868347 -31.005851797486205        56888.39054\n",
       " 281.0845408866453 -31.005687797434355        56888.40661\n",
       " 281.0773208868312 -31.004271747618215         56888.4569\n",
       "               ...                 ...                ...\n",
       "149.02105347495342  17.795211192797524        57306.00024\n",
       "    149.0210592664      17.79521475611  57306.00024725695\n",
       "149.02788342509825  17.794214142733026        57306.00826\n",
       "149.03383347531883  17.791933192580494        57306.01628\n",
       " 149.0387234255141  17.789775192433133        57306.02429\n",
       "149.38633343179924  17.696582189227897        57306.53082\n",
       "     149.386341824       17.6965860963 57306.530825775466\n",
       "149.39313343193777  17.695584189165338        57306.53884\n",
       "149.39905343216378   17.69330118900645        57306.54686\n",
       "149.40391343235848   17.69114218886538        57306.55487"
      ]
     },
     "execution_count": 11,
     "metadata": {},
     "output_type": "execute_result"
    }
   ],
   "source": [
    "ephemeris.sort(\"t_min\")\n",
    "ephemeris"
   ]
  },
  {
   "cell_type": "code",
   "execution_count": 12,
   "id": "29d51f19",
   "metadata": {
    "execution": {
     "iopub.execute_input": "2025-03-27T19:27:44.522651Z",
     "iopub.status.busy": "2025-03-27T19:27:44.522492Z",
     "iopub.status.idle": "2025-03-27T19:27:44.675780Z",
     "shell.execute_reply": "2025-03-27T19:27:44.675199Z"
    }
   },
   "outputs": [
    {
     "data": {
      "image/png": "[encoded data removed]",
      "text/plain": [
       "<Figure size 1200x800 with 1 Axes>"
      ]
     },
     "metadata": {},
     "output_type": "display_data"
    }
   ],
   "source": [
    "plt.figure(figsize=(12,8))\n",
    "plt.scatter(ephemeris[0:18]['ra'], ephemeris[0:18]['dec'], color='royalblue', s=200, lw=1., edgecolor='k')\n",
    "\n",
    "plt.xlabel(\"Right Ascension (deg)\", fontsize=20)\n",
    "plt.ylabel(\"Declination (deg)\", fontsize=20)\n",
    "\n",
    "plt.title(\"Sky Coordinates\", fontsize=20)\n",
    "\n",
    "plt.xticks(fontsize=15)\n",
    "plt.yticks(fontsize=15)\n",
    "plt.grid()"
   ]
  },
  {
   "cell_type": "markdown",
   "id": "78e5b531",
   "metadata": {},
   "source": [
    "You can choose to save the ephemeris table in your current working directory by running the cell below:"
   ]
  },
  {
   "cell_type": "code",
   "execution_count": 13,
   "id": "8763a7e9",
   "metadata": {
    "execution": {
     "iopub.execute_input": "2025-03-27T19:27:44.677825Z",
     "iopub.status.busy": "2025-03-27T19:27:44.677383Z",
     "iopub.status.idle": "2025-03-27T19:27:44.682821Z",
     "shell.execute_reply": "2025-03-27T19:27:44.682365Z"
    }
   },
   "outputs": [],
   "source": [
    "# Overwriting is not necessary, but prevents this Notebook from failing STScI's automated testing\n",
    "ephemeris.write('ephemeris-comet67p-cg.csv', format='ascii', overwrite=True)"
   ]
  },
  {
   "cell_type": "markdown",
   "id": "4b6fafaf",
   "metadata": {},
   "source": [
    "## Resources"
   ]
  },
  {
   "cell_type": "markdown",
   "id": "e1ce99f9",
   "metadata": {},
   "source": [
    "The following is a list of resources that were referenced throughout the tutorial, as well as some additional references that you may find useful:\n",
    "\n",
    "* [`astroquery.mast.Observation` criteria queries](https://astroquery.readthedocs.io/en/latest/mast/mast.html#observation-criteria-queries)\n",
    "* [JWST Instrument Names](https://outerspace.stsci.edu/display/MASTDOCS/JWST+Instrument+Names)"
   ]
  },
  {
   "cell_type": "markdown",
   "id": "55a71062",
   "metadata": {},
   "source": [
    "## Citations"
   ]
  },
  {
   "cell_type": "markdown",
   "id": "268da702",
   "metadata": {},
   "source": [
    "If you use any of astroquery's tools for published research, please cite the authors. Follow this link for more information about citing astroquery:\n",
    "\n",
    "* [Citing astroquery](https://github.com/astropy/astroquery/blob/main/astroquery/CITATION)"
   ]
  },
  {
   "cell_type": "markdown",
   "id": "79ab0efc",
   "metadata": {},
   "source": [
    "## About This Notebook"
   ]
  },
  {
   "cell_type": "markdown",
   "id": "bb9ce04c",
   "metadata": {},
   "source": [
    "If you have comments or questions on this notebook, please contact us through the Archive Help Desk e-mail at archive@stsci.edu. <br>\n",
    "<br>\n",
    "Author: Jenny V. Medina <br>\n",
    "Keywords: astroquery, wildcards, moving target <br>\n",
    "Last Updated: Jun 2023"
   ]
  }
 ],
 "metadata": {
  "kernelspec": {
   "display_name": "Python 3 (ipykernel)",
   "language": "python",
   "name": "python3"
  },
  "language_info": {
   "codemirror_mode": {
    "name": "ipython",
    "version": 3
   },
   "file_extension": ".py",
   "mimetype": "text/x-python",
   "name": "python",
   "nbconvert_exporter": "python",
   "pygments_lexer": "ipython3",
   "version": "3.11.11"
  }
 },
 "nbformat": 4,
 "nbformat_minor": 5
}
