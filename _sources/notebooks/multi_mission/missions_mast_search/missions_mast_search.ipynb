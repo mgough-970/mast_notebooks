{
 "cells": [
  {
   "cell_type": "markdown",
   "metadata": {},
   "source": [
    "<a id=\"top\"></a>\n",
    "# Searching for Mission-Specific Data with Astroquery\n",
    "***\n",
    "## Learning Goals\n",
    "\n",
    "By the end of this tutorial, you will:\n",
    "\n",
    "- Understand how to use the `astroquery.mast` module to access mission dataset metadata from MAST.\n",
    "- Run metadata queries based on coordinates, an object name, or non-positional criteria.\n",
    "- Filter and download data products associated with datasets of interest.\n",
    "- Search for datasets from multiple missions and among [High Level Science Products (HLSPs)](https://outerspace.stsci.edu/display/MASTDOCS/About+HLSPs)."
   ]
  },
  {
   "cell_type": "markdown",
   "metadata": {
    "slideshow": {
     "slide_type": "slide"
    }
   },
   "source": [
    "## Table of Contents\n",
    "* [Introduction](#introduction)\n",
    "\n",
    "* [Imports](#imports)\n",
    "\n",
    "* [Querying for Datasets from Missions-MAST](#querying-for-datasets-from-missions-mast)\n",
    "\n",
    "  * [Search Parameters](#search-parameters)\n",
    "\n",
    "  * [Query by Object Name](#query-by-object-name)\n",
    "\n",
    "  * [Query by Region](#query-by-Region)\n",
    "\n",
    "  * [Query by Criteria](#query-by-criteria)\n",
    "\n",
    "* [Getting Data Products](#getting-data-products)\n",
    "\n",
    "   * [Performing a Product Query](#performing-a-product-query)\n",
    "\n",
    "   * [Filtering Data Products](#filtering-data-products)\n",
    "\n",
    "* [Downloading Products](#downloading-products)\n",
    "\n",
    "   * [Exclusive Data Access](#exclusive-data-access)\n",
    "\n",
    "* [Switching Missions](#switching-missions)\n",
    "\n",
    "* [Exercises](#exercises)\n",
    "\n",
    "* [Exercise Solutions](#exercise-solutions)\n",
    "\n",
    "* [Additional Resources](#additional-resources)\n",
    "\n",
    "## Introduction\n",
    "\n",
    "Welcome! This tutorial explores the capabilities of the `astroquery.mast.MastMissions` class, a versatile tool for accessing and working with datasets hosted by the [Mikulski Archive for Space Telescopes (MAST)](https://archive.stsci.edu/). `MastMissions` is a Python wrapper for the [MAST Search API](https://mast.stsci.edu/search/docs/), which allows you to search for mission-specific dataset metadata and data products. This data is also findable through the [MAST Search UI](https://mast.stsci.edu/search/ui/#/).\n",
    "\n",
    "The following missions/products are available for search as of January 2025:\n",
    "\n",
    "- [Hubble Space Telescope](https://www.stsci.edu/hst) (`hst`)\n",
    "- [James Webb Space Telescope](https://www.stsci.edu/jwst) (`jwst`)\n",
    "- [High Level Science Products](https://outerspace.stsci.edu/display/MASTDOCS/About+HLSPs)\n",
    "  - [COS Legacy Archive Spectroscopic SurveY](https://archive.stsci.edu/hlsp/classy) (`classy`)\n",
    "  - [Hubble UV Legacy Library of Young Stars as Essential Standards](https://archive.stsci.edu/hlsp/ullyses) (`ullyses`)\n",
    "\n",
    "In this notebook, we will walk through the basic workflow for searching datasets, retrieving data products, and downloading data products. This workflow will look very similar to the one used with the [`astroquery.mast.Observations`](https://astroquery.readthedocs.io/en/latest/mast/mast_obsquery.html) class, detailed in our [\"Searching MAST using astroquery.mast\" notebook](https://spacetelescope.github.io/mast_notebooks/notebooks/multi_mission/beginner_search/beginner_search.html). There are a few key differences to note, and you should use the class that is best suited for your unique goals:\n",
    "\n",
    "* *API*: `MastMissions` uses the [Mast Search API](https://mast.stsci.edu/search/docs/) while `Observations` uses the [MAST Portal API](https://mast.stsci.edu/api/v0/).\n",
    "* *Collection*: `MastMissions` can only perform queries on a single collection, or \"mission\", at a time. `Observations` uses the [Common Archive Observation Model (CAOM)](https://mast.stsci.edu/vo-tap/api/v0.1/caom/) and can run queries across every available observational collection at the same time.\n",
    "* *Filter Keywords*: `MastMissions` has an extensive selection of mission-specific keywords to use while writing queries. `Observations` is limited to the [fields described by the CAOM](https://mast.stsci.edu/api/v0/_c_a_o_mfields.html) and has no criteria with mission-specific meaning.\n",
    "\n",
    "In summary, `MastMissions` is well-suited for fast, mission-specific queries that might require a more extensive selection of filter keywords. `Observations` is better for more broad, multi-mission searches."
   ]
  },
  {
   "cell_type": "markdown",
   "metadata": {
    "slideshow": {
     "slide_type": "slide"
    }
   },
   "source": [
    "## Imports\n",
    "This notebook uses the following packages:\n",
    "\n",
    "- *astropy* to handle astronomical units and coordinate systems\n",
    "- *astroquery.mast* to query the MAST Archive"
   ]
  },
  {
   "cell_type": "code",
   "execution_count": 1,
   "metadata": {
    "execution": {
     "iopub.execute_input": "2025-03-27T19:27:15.420077Z",
     "iopub.status.busy": "2025-03-27T19:27:15.419896Z",
     "iopub.status.idle": "2025-03-27T19:27:15.977899Z",
     "shell.execute_reply": "2025-03-27T19:27:15.977257Z"
    },
    "slideshow": {
     "slide_type": "fragment"
    }
   },
   "outputs": [],
   "source": [
    "import astropy.units as u\n",
    "from astropy.coordinates import SkyCoord\n",
    "from astroquery.mast import MastMissions"
   ]
  },
  {
   "cell_type": "markdown",
   "metadata": {},
   "source": [
    "***"
   ]
  },
  {
   "cell_type": "markdown",
   "metadata": {},
   "source": [
    "## Querying for Datasets from Missions-MAST\n",
    "\n",
    "In order to make queries on Missions-MAST metadata, we will have to perform some setup. We will initialize an object of the `astroquery.mast.MastMissions` class and assign its `mission` attribute. The object can be used to search mission dataset metadata by object name, sky position, or other criteria.\n",
    "\n",
    "The default value for `mission` is `hst`, meaning that queries will be run on Hubble dataset metadata. The searchable metadata for Hubble encompasses all information that was previously accessible through the original HST web search form. The metadata for Hubble and all other available missions is also available through the [MAST Search UI](https://mast.stsci.edu/search/ui/#/).\n",
    "\n",
    "Later in the tutorial, we will learn how to change the `mission` attribute to make queries on other missions."
   ]
  },
  {
   "cell_type": "code",
   "execution_count": 2,
   "metadata": {
    "execution": {
     "iopub.execute_input": "2025-03-27T19:27:15.980209Z",
     "iopub.status.busy": "2025-03-27T19:27:15.979981Z",
     "iopub.status.idle": "2025-03-27T19:27:15.986120Z",
     "shell.execute_reply": "2025-03-27T19:27:15.985561Z"
    }
   },
   "outputs": [
    {
     "data": {
      "text/plain": [
       "'hst'"
      ]
     },
     "execution_count": 2,
     "metadata": {},
     "output_type": "execute_result"
    }
   ],
   "source": [
    "# Create MastMissions object to search for Hubble datasets\n",
    "missions = MastMissions(mission='hst')\n",
    "missions.mission"
   ]
  },
  {
   "cell_type": "markdown",
   "metadata": {},
   "source": [
    "### Search Parameters\n",
    "\n",
    "When writing queries, keyword arguments can be used to specify output characteristics and filter on fields like instrument, exposure type, and proposal ID. The available column names for a mission are returned by the `get_column_list` function. Below, we will print out the name, data type, and description for the first 10 columns in HST metadata."
   ]
  },
  {
   "cell_type": "code",
   "execution_count": 3,
   "metadata": {
    "execution": {
     "iopub.execute_input": "2025-03-27T19:27:16.018523Z",
     "iopub.status.busy": "2025-03-27T19:27:16.018285Z",
     "iopub.status.idle": "2025-03-27T19:27:16.539590Z",
     "shell.execute_reply": "2025-03-27T19:27:16.538984Z"
    }
   },
   "outputs": [
    {
     "data": {
      "text/html": [
       "<div><i>Table length=10</i>\n",
       "<table id=\"table140613279676752\" class=\"table-striped table-bordered table-condensed\">\n",
       "<thead><tr><th>name</th><th>data_type</th><th>description</th></tr></thead>\n",
       "<thead><tr><th>str22</th><th>str9</th><th>str226</th></tr></thead>\n",
       "<tr><td>search_pos</td><td>string</td><td>Search Position (RA and Dec)</td></tr>\n",
       "<tr><td>sci_data_set_name</td><td>string</td><td>Data set name, the first character indicates instrument; L=COS; I=WFC3; J=ACS; N=NICMOS; O=STIS; U=WFPC2; W=WFPC; X=FOC; Y=FOS; Z=GHRS; F=FGS; V=HSP; nine-character name    (e.g. J8BA7JCAQ, O4140Q020)</td></tr>\n",
       "<tr><td>sci_targname</td><td>string</td><td>Target name designated by the observer for the HST proposal; Uppercase; No blank characters; Spaces sometimes filled with - ;    (e.g. A901-FIELD-25, NGC4486-POS1, 0537-441INCA221-36, ALPHA-CEN)</td></tr>\n",
       "<tr><td>sci_hapnum</td><td>boolean</td><td>Reports if there are any Hubble Advanced Products (HAP), enter 0 for no, 1 for yes</td></tr>\n",
       "<tr><td>sci_haspnum</td><td>boolean</td><td>Reports if there are any Hubble Advanced Spectral Products (HASP), enter 0 for no, 1 for yes</td></tr>\n",
       "<tr><td>sci_instrume</td><td>string</td><td>Instrument used    (e.g. ACS, COS, FGS, FOC, FOS, HRS, HSP, NICMOS, STIS, WFC3, WFPC, WFPC2)</td></tr>\n",
       "<tr><td>sci_aper_1234</td><td>string</td><td>Aperture configuration;    WFPC2 (e.g. PC1, WF3, WFALL); ACS (e.g. WFC, HRC, SBC); STIS (e.g. 25MAMA, F25QTZ)</td></tr>\n",
       "<tr><td>sci_spec_1234</td><td>string</td><td>The filter(s) or grating(s) used    (e.g. G160L, G270M, G230LB, F300W)</td></tr>\n",
       "<tr><td>sci_actual_duration</td><td>float</td><td>Exposure time in seconds</td></tr>\n",
       "<tr><td>sci_start_time</td><td>datetime</td><td>Observation start time; The earliest in-flight data is available from Apr 24 1990</td></tr>\n",
       "</table></div>"
      ],
      "text/plain": [
       "<Table length=10>\n",
       "        name        ...\n",
       "       str22        ...\n",
       "------------------- ...\n",
       "         search_pos ...\n",
       "  sci_data_set_name ...\n",
       "       sci_targname ...\n",
       "         sci_hapnum ...\n",
       "        sci_haspnum ...\n",
       "       sci_instrume ...\n",
       "      sci_aper_1234 ...\n",
       "      sci_spec_1234 ...\n",
       "sci_actual_duration ...\n",
       "     sci_start_time ..."
      ]
     },
     "execution_count": 3,
     "metadata": {},
     "output_type": "execute_result"
    }
   ],
   "source": [
    "# Get available columns for HST mission\n",
    "columns = missions.get_column_list()\n",
    "columns[:10]"
   ]
  },
  {
   "cell_type": "markdown",
   "metadata": {},
   "source": [
    "We can refine our results even further with optional keyword arguments. The following parameters are available:\n",
    "\n",
    "- `radius`: For positional searches only. Only return results within a certain distance from an object or set of coordinates. Default is 3 arcminutes. \n",
    "\n",
    "- `limit`: The maximum number of results to return. Default is 5000.\n",
    "- `offset`: Skip the first ***n*** results. Useful for paging through results.\n",
    "- `sort_by`: A list of field names to sort by.\n",
    "- `sort_desc`: A list of booleans (one for each field specified in `sort_by`), describing if each field should be sorted in descending order (`True`) or ascending order (`False`)\n",
    "- `select_cols`: A list of columns to be returned in the response.\n",
    "\n",
    "As we walk through different types of queries, we will see these parameters in action!\n",
    "\n",
    "### Query by Object Name\n",
    "\n",
    "We've reached our first query! We can use object names to perform metadata queries using the `query_object` function.\n",
    "\n",
    "To start, let's query for the [Messier 1](https://science.nasa.gov/mission/hubble/science/explore-the-night-sky/hubble-messier-catalog/messier-1/) object, a supernova remnant in the Taurus constellation. You may know it better as the Crab Nebula!"
   ]
  },
  {
   "cell_type": "code",
   "execution_count": 4,
   "metadata": {
    "execution": {
     "iopub.execute_input": "2025-03-27T19:27:16.541667Z",
     "iopub.status.busy": "2025-03-27T19:27:16.541310Z",
     "iopub.status.idle": "2025-03-27T19:27:18.114962Z",
     "shell.execute_reply": "2025-03-27T19:27:18.114484Z"
    }
   },
   "outputs": [
    {
     "name": "stdout",
     "output_type": "stream",
     "text": [
      "Total number of results: 741\n"
     ]
    },
    {
     "data": {
      "text/html": [
       "<div><i>Table masked=True length=5</i>\n",
       "<table id=\"table140612944073616\" class=\"table-striped table-bordered table-condensed\">\n",
       "<thead><tr><th>search_pos</th><th>sci_data_set_name</th><th>sci_targname</th><th>sci_hapnum</th><th>sci_haspnum</th><th>sci_instrume</th><th>sci_aper_1234</th><th>sci_spec_1234</th><th>sci_actual_duration</th><th>sci_start_time</th><th>sci_pep_id</th><th>sci_pi_last_name</th><th>sci_ra</th><th>sci_dec</th><th>sci_refnum</th><th>sci_central_wavelength</th><th>sci_release_date</th><th>sci_stop_time</th><th>sci_preview_name</th><th>scp_scan_type</th><th>sci_hlsp</th><th>ang_sep</th></tr></thead>\n",
       "<thead><tr><th>str15</th><th>str9</th><th>str30</th><th>int64</th><th>int64</th><th>str6</th><th>str17</th><th>str26</th><th>float64</th><th>str26</th><th>int64</th><th>str12</th><th>float64</th><th>float64</th><th>int64</th><th>float64</th><th>str26</th><th>str26</th><th>str9</th><th>str18</th><th>int64</th><th>str19</th></tr></thead>\n",
       "<tr><td>83.6324 22.0174</td><td>J9FX01041</td><td>CRAB</td><td>1</td><td>0</td><td>ACS</td><td>WFC1-POL120V</td><td>F606W;POL120V</td><td>2300.0</td><td>2005-09-06T21:26:46.433000</td><td>10526</td><td>HESTER</td><td>83.63375381768</td><td>22.01859141895</td><td>5</td><td>5934.7896</td><td>2006-09-07T05:15:19.803000</td><td>2005-09-06T22:08:13.497000</td><td>J9FX01041</td><td>--</td><td>--</td><td>0.10383123118898147</td></tr>\n",
       "<tr><td>83.6324 22.0174</td><td>J9FX02041</td><td>CRAB</td><td>1</td><td>0</td><td>ACS</td><td>WFC1-POL120V</td><td>F606W;POL120V</td><td>2300.0</td><td>2005-09-15T22:52:34.470000</td><td>10526</td><td>HESTER</td><td>83.63375394433</td><td>22.01859153345</td><td>5</td><td>5934.7886</td><td>2006-09-16T09:52:13.417000</td><td>2005-09-15T23:34:01.537000</td><td>J9FX02041</td><td>--</td><td>--</td><td>0.1038410702845166</td></tr>\n",
       "<tr><td>83.6324 22.0174</td><td>J9FX03041</td><td>CRAB</td><td>1</td><td>0</td><td>ACS</td><td>WFC1-POL120V</td><td>F606W;POL120V</td><td>2300.0</td><td>2005-09-25T21:05:47.463000</td><td>10526</td><td>HESTER</td><td>83.63375408315</td><td>22.0185916581</td><td>5</td><td>5934.7871</td><td>2006-09-26T06:08:15.500000</td><td>2005-09-25T21:47:14.527000</td><td>J9FX03041</td><td>--</td><td>--</td><td>0.10385181961996841</td></tr>\n",
       "<tr><td>83.6324 22.0174</td><td>J9FX04041</td><td>CRAB</td><td>1</td><td>0</td><td>ACS</td><td>WFC1-POL120V</td><td>F606W;POL120V</td><td>2300.0</td><td>2005-10-02T22:33:28.457000</td><td>10526</td><td>HESTER</td><td>83.63375418702</td><td>22.01859175078</td><td>5</td><td>5934.7866</td><td>2006-10-03T07:13:23.787000</td><td>2005-10-02T23:14:55.550000</td><td>J9FX04041</td><td>--</td><td>--</td><td>0.10385983838178592</td></tr>\n",
       "<tr><td>83.6324 22.0174</td><td>J9FX05041</td><td>CRAB</td><td>1</td><td>0</td><td>ACS</td><td>WFC1-POL120V</td><td>F606W;POL120V</td><td>2000.0</td><td>2005-10-12T20:52:39.503000</td><td>10526</td><td>HESTER</td><td>83.63375434754</td><td>22.01859189305</td><td>5</td><td>5934.7852</td><td>2006-10-13T02:32:04.710000</td><td>2005-10-12T21:29:06.567000</td><td>J9FX05041</td><td>--</td><td>--</td><td>0.10387219098736124</td></tr>\n",
       "</table></div>"
      ],
      "text/plain": [
       "<Table masked=True length=5>\n",
       "   search_pos   sci_data_set_name sci_targname ... sci_hlsp       ang_sep      \n",
       "     str15             str9          str30     ...  int64          str19       \n",
       "--------------- ----------------- ------------ ... -------- -------------------\n",
       "83.6324 22.0174         J9FX01041         CRAB ...       -- 0.10383123118898147\n",
       "83.6324 22.0174         J9FX02041         CRAB ...       --  0.1038410702845166\n",
       "83.6324 22.0174         J9FX03041         CRAB ...       -- 0.10385181961996841\n",
       "83.6324 22.0174         J9FX04041         CRAB ...       -- 0.10385983838178592\n",
       "83.6324 22.0174         J9FX05041         CRAB ...       -- 0.10387219098736124"
      ]
     },
     "execution_count": 4,
     "metadata": {},
     "output_type": "execute_result"
    }
   ],
   "source": [
    "# Query for Messier 1 ('M1')\n",
    "results = missions.query_object('M1')\n",
    "\n",
    "# Display the first 5 results\n",
    "print(f'Total number of results: {len(results)}')\n",
    "results[:5]"
   ]
  },
  {
   "cell_type": "markdown",
   "metadata": {},
   "source": [
    "There were over 600 total results, meaning that hundreds of HST datasets were targeting the Crab Nebula. Now, let's try refining our search a bit more.\n",
    "\n",
    "- Each dataset is associated with a celestial coordinate, given by `sci_ra` (right ascension) and `sci_dec` (declination). By default, the query returns all datasets that fall within 3 arcminutes from the object's coordinates. Let's set the `radius` parameter to be 1 arcminute instead.\n",
    "- Say that we're not interested in the first 4 results. We can assign `offset` to skip a certain number of rows.\n",
    "- By default, a subset of recommended columns are returned for each query. However, we can specify exactly which columns to return using the `select_cols` keyword argument. Certain columns are included automatically, depending on the mission."
   ]
  },
  {
   "cell_type": "code",
   "execution_count": 5,
   "metadata": {
    "execution": {
     "iopub.execute_input": "2025-03-27T19:27:18.116807Z",
     "iopub.status.busy": "2025-03-27T19:27:18.116622Z",
     "iopub.status.idle": "2025-03-27T19:27:19.075090Z",
     "shell.execute_reply": "2025-03-27T19:27:19.074607Z"
    }
   },
   "outputs": [
    {
     "name": "stdout",
     "output_type": "stream",
     "text": [
      "Total number of results: 453\n"
     ]
    },
    {
     "data": {
      "text/html": [
       "<div><i>Table masked=True length=5</i>\n",
       "<table id=\"table140613397919952\" class=\"table-striped table-bordered table-condensed\">\n",
       "<thead><tr><th>search_pos</th><th>sci_data_set_name</th><th>sci_targname</th><th>sci_start_time</th><th>sci_pi_last_name</th><th>ang_sep</th></tr></thead>\n",
       "<thead><tr><th>str15</th><th>str9</th><th>str22</th><th>str26</th><th>str12</th><th>str19</th></tr></thead>\n",
       "<tr><td>83.6324 22.0174</td><td>J9FX05041</td><td>CRAB</td><td>2005-10-12T20:52:39.503000</td><td>HESTER</td><td>0.10387219098736124</td></tr>\n",
       "<tr><td>83.6324 22.0174</td><td>J9FX06041</td><td>CRAB</td><td>2005-10-22T20:40:28.510000</td><td>HESTER</td><td>0.10388689143244417</td></tr>\n",
       "<tr><td>83.6324 22.0174</td><td>J9FX07041</td><td>CRAB</td><td>2005-10-30T20:36:14.527000</td><td>HESTER</td><td>0.10390159755961832</td></tr>\n",
       "<tr><td>83.6324 22.0174</td><td>J9FX01011</td><td>CRAB</td><td>2005-09-06T16:41:38.433000</td><td>HESTER</td><td>0.10392027927762577</td></tr>\n",
       "<tr><td>83.6324 22.0174</td><td>J9FX01021</td><td>CRAB</td><td>2005-09-06T18:16:07.427000</td><td>HESTER</td><td>0.10392027927762577</td></tr>\n",
       "</table></div>"
      ],
      "text/plain": [
       "<Table masked=True length=5>\n",
       "   search_pos   sci_data_set_name ... sci_pi_last_name       ang_sep      \n",
       "     str15             str9       ...      str12              str19       \n",
       "--------------- ----------------- ... ---------------- -------------------\n",
       "83.6324 22.0174         J9FX05041 ...           HESTER 0.10387219098736124\n",
       "83.6324 22.0174         J9FX06041 ...           HESTER 0.10388689143244417\n",
       "83.6324 22.0174         J9FX07041 ...           HESTER 0.10390159755961832\n",
       "83.6324 22.0174         J9FX01011 ...           HESTER 0.10392027927762577\n",
       "83.6324 22.0174         J9FX01021 ...           HESTER 0.10392027927762577"
      ]
     },
     "execution_count": 5,
     "metadata": {},
     "output_type": "execute_result"
    }
   ],
   "source": [
    "# Refined query for Messier 1 ('M1')\n",
    "results = missions.query_object('M1',\n",
    "                                radius=1,  # Search within a 1 arcminute radius\n",
    "                                offset=4,  # Skip the first 4 results\n",
    "                                select_cols=['sci_start_time', 'sci_pi_last_name'])  # Select certain columns\n",
    "\n",
    "# Display the first 5 results\n",
    "print(f'Total number of results: {len(results)}')\n",
    "results[:5]"
   ]
  },
  {
   "cell_type": "markdown",
   "metadata": {},
   "source": [
    "### Query by Region\n",
    "\n",
    "The `missions` object also allows us to query by a region in the sky. By passing in a set of coordinates to the `query_region` function, we can return datasets that fall within a certain `radius` value of that point. This type of search is also known as a cone search."
   ]
  },
  {
   "cell_type": "code",
   "execution_count": 6,
   "metadata": {
    "execution": {
     "iopub.execute_input": "2025-03-27T19:27:19.076910Z",
     "iopub.status.busy": "2025-03-27T19:27:19.076739Z",
     "iopub.status.idle": "2025-03-27T19:27:19.251481Z",
     "shell.execute_reply": "2025-03-27T19:27:19.250939Z"
    }
   },
   "outputs": [
    {
     "name": "stdout",
     "output_type": "stream",
     "text": [
      "Total number of results: 19\n"
     ]
    },
    {
     "data": {
      "text/html": [
       "<div><i>Table masked=True length=5</i>\n",
       "<table id=\"table140612944254416\" class=\"table-striped table-bordered table-condensed\">\n",
       "<thead><tr><th>search_pos</th><th>sci_data_set_name</th><th>sci_targname</th><th>sci_hapnum</th><th>sci_haspnum</th><th>sci_instrume</th><th>sci_aper_1234</th><th>sci_spec_1234</th><th>sci_actual_duration</th><th>sci_start_time</th><th>sci_pep_id</th><th>sci_pi_last_name</th><th>sci_ra</th><th>sci_dec</th><th>sci_refnum</th><th>sci_central_wavelength</th><th>sci_release_date</th><th>sci_stop_time</th><th>sci_preview_name</th><th>scp_scan_type</th><th>sci_hlsp</th><th>ang_sep</th></tr></thead>\n",
       "<thead><tr><th>str18</th><th>str9</th><th>str16</th><th>int64</th><th>int64</th><th>str6</th><th>str4</th><th>str5</th><th>float64</th><th>str26</th><th>int64</th><th>str8</th><th>float64</th><th>float64</th><th>int64</th><th>float64</th><th>str19</th><th>str26</th><th>str9</th><th>str1</th><th>int64</th><th>str20</th></tr></thead>\n",
       "<tr><td>210.80227 54.34895</td><td>OBQU01050</td><td>NUCLEUS+HODGE602</td><td>0</td><td>0</td><td>STIS</td><td>52X2</td><td>G140L</td><td>186.0</td><td>2012-05-24T07:51:40.553000</td><td>12556</td><td>GORDON</td><td>210.8018512676</td><td>54.34879151526</td><td>1</td><td>1425.0</td><td>2013-05-24T10:09:14</td><td>2012-05-24T07:54:46.553000</td><td>OBQU01050</td><td>--</td><td>--</td><td>0.017460048037303017</td></tr>\n",
       "<tr><td>210.80227 54.34895</td><td>OBQU010H0</td><td>NUCLEUS+HODGE602</td><td>0</td><td>0</td><td>STIS</td><td>52X2</td><td>G230L</td><td>186.0</td><td>2012-05-24T09:17:38.570000</td><td>12556</td><td>GORDON</td><td>210.8018512676</td><td>54.34879151526</td><td>1</td><td>2376.0</td><td>2013-05-24T13:15:15</td><td>2012-05-24T09:20:44.570000</td><td>OBQU010H0</td><td>--</td><td>--</td><td>0.017460048037303017</td></tr>\n",
       "<tr><td>210.80227 54.34895</td><td>OBQU01030</td><td>NUCLEUS+HODGE602</td><td>0</td><td>0</td><td>STIS</td><td>52X2</td><td>G140L</td><td>186.0</td><td>2012-05-24T07:43:20.553000</td><td>12556</td><td>GORDON</td><td>210.8020002958</td><td>54.34928391272</td><td>1</td><td>1425.0</td><td>2013-05-24T10:08:32</td><td>2012-05-24T07:46:26.553000</td><td>OBQU01030</td><td>--</td><td>--</td><td>0.022143836477276503</td></tr>\n",
       "<tr><td>210.80227 54.34895</td><td>OBQU010F0</td><td>NUCLEUS+HODGE602</td><td>0</td><td>0</td><td>STIS</td><td>52X2</td><td>G230L</td><td>186.0</td><td>2012-05-24T09:09:18.570000</td><td>12556</td><td>GORDON</td><td>210.8020002958</td><td>54.34928391272</td><td>1</td><td>2376.0</td><td>2013-05-24T13:15:05</td><td>2012-05-24T09:12:24.570000</td><td>OBQU010F0</td><td>--</td><td>--</td><td>0.022143836477276503</td></tr>\n",
       "<tr><td>210.80227 54.34895</td><td>W1000501T</td><td>NGC5457-NUC</td><td>0</td><td>0</td><td>WFPC</td><td>P6</td><td>F555W</td><td>100.0</td><td>1992-07-16T06:31:16.517000</td><td>3639</td><td>WESTPHAL</td><td>210.802865</td><td>54.34933666666667</td><td>14</td><td>5479.0</td><td>1993-07-16T13:33:26</td><td>1992-07-16T06:32:56.517000</td><td>W1000501T</td><td>--</td><td>--</td><td>0.031163986021028572</td></tr>\n",
       "</table></div>"
      ],
      "text/plain": [
       "<Table masked=True length=5>\n",
       "    search_pos     sci_data_set_name ... sci_hlsp       ang_sep       \n",
       "      str18               str9       ...  int64          str20        \n",
       "------------------ ----------------- ... -------- --------------------\n",
       "210.80227 54.34895         OBQU01050 ...       -- 0.017460048037303017\n",
       "210.80227 54.34895         OBQU010H0 ...       -- 0.017460048037303017\n",
       "210.80227 54.34895         OBQU01030 ...       -- 0.022143836477276503\n",
       "210.80227 54.34895         OBQU010F0 ...       -- 0.022143836477276503\n",
       "210.80227 54.34895         W1000501T ...       -- 0.031163986021028572"
      ]
     },
     "execution_count": 6,
     "metadata": {},
     "output_type": "execute_result"
    }
   ],
   "source": [
    "# Create coordinate object\n",
    "coords = SkyCoord(210.80227, 54.34895, unit=('deg'))\n",
    "\n",
    "# Query for results within 10 arcseconds of coordinates\n",
    "results = missions.query_region(coords, \n",
    "                                radius=10 * u.arcsec)\n",
    "\n",
    "# Display results\n",
    "print(f'Total number of results: {len(results)}')\n",
    "results[:5]"
   ]
  },
  {
   "cell_type": "markdown",
   "metadata": {},
   "source": [
    "The above datasets fall within our cone search. In other words, their target coordinates are within 10 arcseconds of the coordinates that we defined."
   ]
  },
  {
   "cell_type": "markdown",
   "metadata": {},
   "source": [
    "### Query by Criteria\n",
    "\n",
    "In some cases, we may want to run queries with non-positional parameters. To accomplish this, we use the `query_criteria` function.\n",
    "\n",
    "For any of our query functions, we can filter our results by the value of columns in the dataset.\n",
    "\n",
    "Let's say that we want observations from [HST's Wide Field Camera 3 (WFC3)](https://www.stsci.edu/hst/instrumentation/wfc3) instument that use the F555W filter. We are only interested in datasets connected to [proposal number 15879](https://www.stsci.edu/hst-program-info/program/?program=15879)."
   ]
  },
  {
   "cell_type": "code",
   "execution_count": 7,
   "metadata": {
    "execution": {
     "iopub.execute_input": "2025-03-27T19:27:19.253605Z",
     "iopub.status.busy": "2025-03-27T19:27:19.253174Z",
     "iopub.status.idle": "2025-03-27T19:27:19.561848Z",
     "shell.execute_reply": "2025-03-27T19:27:19.561257Z"
    }
   },
   "outputs": [
    {
     "name": "stdout",
     "output_type": "stream",
     "text": [
      "Total number of results: 98\n"
     ]
    },
    {
     "data": {
      "text/html": [
       "<div><i>Table masked=True length=5</i>\n",
       "<table id=\"table140612942201232\" class=\"table-striped table-bordered table-condensed\">\n",
       "<thead><tr><th>sci_data_set_name</th><th>sci_instrume</th><th>sci_spec_1234</th><th>sci_pep_id</th><th>sci_pi_last_name</th></tr></thead>\n",
       "<thead><tr><th>str9</th><th>str6</th><th>str5</th><th>int64</th><th>str5</th></tr></thead>\n",
       "<tr><td>IE37NAHHQ</td><td>WFC3</td><td>F555W</td><td>15879</td><td>RIESS</td></tr>\n",
       "<tr><td>IE37NAHIQ</td><td>WFC3</td><td>F555W</td><td>15879</td><td>RIESS</td></tr>\n",
       "<tr><td>IE37NBARQ</td><td>WFC3</td><td>F555W</td><td>15879</td><td>RIESS</td></tr>\n",
       "<tr><td>IE37NBASQ</td><td>WFC3</td><td>F555W</td><td>15879</td><td>RIESS</td></tr>\n",
       "<tr><td>IE37NBATQ</td><td>WFC3</td><td>F555W</td><td>15879</td><td>RIESS</td></tr>\n",
       "</table></div>"
      ],
      "text/plain": [
       "<Table masked=True length=5>\n",
       "sci_data_set_name sci_instrume sci_spec_1234 sci_pep_id sci_pi_last_name\n",
       "       str9           str6          str5       int64          str5      \n",
       "----------------- ------------ ------------- ---------- ----------------\n",
       "        IE37NAHHQ       WFC3           F555W      15879            RIESS\n",
       "        IE37NAHIQ       WFC3           F555W      15879            RIESS\n",
       "        IE37NBARQ       WFC3           F555W      15879            RIESS\n",
       "        IE37NBASQ       WFC3           F555W      15879            RIESS\n",
       "        IE37NBATQ       WFC3           F555W      15879            RIESS"
      ]
     },
     "execution_count": 7,
     "metadata": {},
     "output_type": "execute_result"
    }
   ],
   "source": [
    "# Query with column criteria\n",
    "results = missions.query_criteria(sci_instrume='WFC3',  # From Wide Field Camera 3\n",
    "                                  sci_spec_1234='F555W',  # Uses F555W filter\n",
    "                                  sci_pep_id=15879,  # Proposal number 15879\n",
    "                                  select_cols=['sci_instrume', 'sci_spec_1234', 'sci_pep_id', 'sci_pi_last_name'])\n",
    "\n",
    "# Display the first 5 results\n",
    "print(f'Total number of results: {len(results)}')\n",
    "results[:5]"
   ]
  },
  {
   "cell_type": "markdown",
   "metadata": {},
   "source": [
    "To exclude and filter out a certain value from the results, we can prepend the value with `!`.\n",
    "\n",
    "Let's run the same query as above, but this time, we will filter out datasets that use the F555W filter."
   ]
  },
  {
   "cell_type": "code",
   "execution_count": 8,
   "metadata": {
    "execution": {
     "iopub.execute_input": "2025-03-27T19:27:19.563755Z",
     "iopub.status.busy": "2025-03-27T19:27:19.563574Z",
     "iopub.status.idle": "2025-03-27T19:27:19.944781Z",
     "shell.execute_reply": "2025-03-27T19:27:19.944350Z"
    }
   },
   "outputs": [
    {
     "name": "stdout",
     "output_type": "stream",
     "text": [
      "Total number of results: 236\n"
     ]
    },
    {
     "data": {
      "text/html": [
       "<div><i>Table masked=True length=5</i>\n",
       "<table id=\"table140613270757456\" class=\"table-striped table-bordered table-condensed\">\n",
       "<thead><tr><th>sci_data_set_name</th><th>sci_instrume</th><th>sci_spec_1234</th><th>sci_pep_id</th><th>sci_pi_last_name</th></tr></thead>\n",
       "<thead><tr><th>str9</th><th>str6</th><th>str5</th><th>int64</th><th>str5</th></tr></thead>\n",
       "<tr><td>IE37NAHAQ</td><td>WFC3</td><td>F153M</td><td>15879</td><td>RIESS</td></tr>\n",
       "<tr><td>IE37NAHEQ</td><td>WFC3</td><td>F153M</td><td>15879</td><td>RIESS</td></tr>\n",
       "<tr><td>IE37NAHFQ</td><td>WFC3</td><td>F160W</td><td>15879</td><td>RIESS</td></tr>\n",
       "<tr><td>IE37NAHGQ</td><td>WFC3</td><td>F814W</td><td>15879</td><td>RIESS</td></tr>\n",
       "<tr><td>IE37NAHJQ</td><td>WFC3</td><td>F814W</td><td>15879</td><td>RIESS</td></tr>\n",
       "</table></div>"
      ],
      "text/plain": [
       "<Table masked=True length=5>\n",
       "sci_data_set_name sci_instrume sci_spec_1234 sci_pep_id sci_pi_last_name\n",
       "       str9           str6          str5       int64          str5      \n",
       "----------------- ------------ ------------- ---------- ----------------\n",
       "        IE37NAHAQ       WFC3           F153M      15879            RIESS\n",
       "        IE37NAHEQ       WFC3           F153M      15879            RIESS\n",
       "        IE37NAHFQ       WFC3           F160W      15879            RIESS\n",
       "        IE37NAHGQ       WFC3           F814W      15879            RIESS\n",
       "        IE37NAHJQ       WFC3           F814W      15879            RIESS"
      ]
     },
     "execution_count": 8,
     "metadata": {},
     "output_type": "execute_result"
    }
   ],
   "source": [
    "# Filtered query, excluding datasets using F555W filter\n",
    "results = missions.query_criteria(sci_instrume='WFC3', \n",
    "                                  sci_spec_1234='!F555W',  # Excludes datasets that use F555W filter\n",
    "                                  sci_pep_id=15879,\n",
    "                                  select_cols=['sci_instrume', 'sci_spec_1234', 'sci_pep_id', 'sci_pi_last_name'])\n",
    "\n",
    "# Display the first 5 results\n",
    "print(f'Total number of results: {len(results)}')\n",
    "results[:5]"
   ]
  },
  {
   "cell_type": "markdown",
   "metadata": {},
   "source": [
    "We can also use wildcards on string criteria for more advanced filtering. Wildcards are special characters used in search patterns to represent one or more unknown characters, allowing for flexible matching of strings. The wildcard character is `*`: it replaces any number of characters preceding, following, or in between the existing characters, depending on its placement.\n",
    "\n",
    "Let's use the same query from above, but we will add the condition that the target name must contain the string \"GEM\"."
   ]
  },
  {
   "cell_type": "code",
   "execution_count": 9,
   "metadata": {
    "execution": {
     "iopub.execute_input": "2025-03-27T19:27:19.946755Z",
     "iopub.status.busy": "2025-03-27T19:27:19.946341Z",
     "iopub.status.idle": "2025-03-27T19:27:20.319308Z",
     "shell.execute_reply": "2025-03-27T19:27:20.318721Z"
    }
   },
   "outputs": [
    {
     "name": "stdout",
     "output_type": "stream",
     "text": [
      "Total number of results: 5\n"
     ]
    },
    {
     "data": {
      "text/html": [
       "<div><i>Table masked=True length=5</i>\n",
       "<table id=\"table140613279213840\" class=\"table-striped table-bordered table-condensed\">\n",
       "<thead><tr><th>sci_data_set_name</th><th>sci_targname</th><th>sci_instrume</th><th>sci_spec_1234</th><th>sci_pep_id</th><th>sci_pi_last_name</th></tr></thead>\n",
       "<thead><tr><th>str9</th><th>str7</th><th>str6</th><th>str5</th><th>int64</th><th>str5</th></tr></thead>\n",
       "<tr><td>IE37OBBWQ</td><td>V-W-GEM</td><td>WFC3</td><td>F153M</td><td>15879</td><td>RIESS</td></tr>\n",
       "<tr><td>IE37OBCGQ</td><td>V-W-GEM</td><td>WFC3</td><td>F153M</td><td>15879</td><td>RIESS</td></tr>\n",
       "<tr><td>IE37OBCHQ</td><td>V-W-GEM</td><td>WFC3</td><td>F160W</td><td>15879</td><td>RIESS</td></tr>\n",
       "<tr><td>IE37OBCIQ</td><td>V-W-GEM</td><td>WFC3</td><td>F814W</td><td>15879</td><td>RIESS</td></tr>\n",
       "<tr><td>IE37OBCLQ</td><td>V-W-GEM</td><td>WFC3</td><td>F814W</td><td>15879</td><td>RIESS</td></tr>\n",
       "</table></div>"
      ],
      "text/plain": [
       "<Table masked=True length=5>\n",
       "sci_data_set_name sci_targname sci_instrume ... sci_pep_id sci_pi_last_name\n",
       "       str9           str7         str6     ...   int64          str5      \n",
       "----------------- ------------ ------------ ... ---------- ----------------\n",
       "        IE37OBBWQ      V-W-GEM       WFC3   ...      15879            RIESS\n",
       "        IE37OBCGQ      V-W-GEM       WFC3   ...      15879            RIESS\n",
       "        IE37OBCHQ      V-W-GEM       WFC3   ...      15879            RIESS\n",
       "        IE37OBCIQ      V-W-GEM       WFC3   ...      15879            RIESS\n",
       "        IE37OBCLQ      V-W-GEM       WFC3   ...      15879            RIESS"
      ]
     },
     "execution_count": 9,
     "metadata": {},
     "output_type": "execute_result"
    }
   ],
   "source": [
    "# Filtered query with wildcard\n",
    "results = missions.query_criteria(sci_instrume='WFC3', \n",
    "                                  sci_spec_1234='!F555W',\n",
    "                                  sci_pep_id=15879,\n",
    "                                  sci_targname='*GEM*',  # Must contain the string 'GEM'\n",
    "                                  select_cols=['sci_instrume', 'sci_spec_1234', 'sci_pep_id', 'sci_pi_last_name'])\n",
    "\n",
    "# Display the first 5 results\n",
    "print(f'Total number of results: {len(results)}')\n",
    "results[:5]"
   ]
  },
  {
   "cell_type": "markdown",
   "metadata": {},
   "source": [
    "To filter by multiple values for a single column, we use a string of the values delimited by commas.\n",
    "\n",
    "To illustrate this, we will use a slightly different query. We query for WFC3 datasets from proposal 15879 that use either the F153M filter or the F160W filter."
   ]
  },
  {
   "cell_type": "code",
   "execution_count": 10,
   "metadata": {
    "execution": {
     "iopub.execute_input": "2025-03-27T19:27:20.321269Z",
     "iopub.status.busy": "2025-03-27T19:27:20.320835Z",
     "iopub.status.idle": "2025-03-27T19:27:20.706141Z",
     "shell.execute_reply": "2025-03-27T19:27:20.705650Z"
    }
   },
   "outputs": [
    {
     "name": "stdout",
     "output_type": "stream",
     "text": [
      "Total number of results: 138\n"
     ]
    },
    {
     "data": {
      "text/html": [
       "<div><i>Table masked=True length=5</i>\n",
       "<table id=\"table140613279216848\" class=\"table-striped table-bordered table-condensed\">\n",
       "<thead><tr><th>sci_data_set_name</th><th>sci_instrume</th><th>sci_spec_1234</th><th>sci_pep_id</th><th>sci_pi_last_name</th></tr></thead>\n",
       "<thead><tr><th>str9</th><th>str6</th><th>str5</th><th>int64</th><th>str5</th></tr></thead>\n",
       "<tr><td>IE37NAHAQ</td><td>WFC3</td><td>F153M</td><td>15879</td><td>RIESS</td></tr>\n",
       "<tr><td>IE37NAHEQ</td><td>WFC3</td><td>F153M</td><td>15879</td><td>RIESS</td></tr>\n",
       "<tr><td>IE37NAHFQ</td><td>WFC3</td><td>F160W</td><td>15879</td><td>RIESS</td></tr>\n",
       "<tr><td>IE37NBAMQ</td><td>WFC3</td><td>F160W</td><td>15879</td><td>RIESS</td></tr>\n",
       "<tr><td>IE37NBANQ</td><td>WFC3</td><td>F160W</td><td>15879</td><td>RIESS</td></tr>\n",
       "</table></div>"
      ],
      "text/plain": [
       "<Table masked=True length=5>\n",
       "sci_data_set_name sci_instrume sci_spec_1234 sci_pep_id sci_pi_last_name\n",
       "       str9           str6          str5       int64          str5      \n",
       "----------------- ------------ ------------- ---------- ----------------\n",
       "        IE37NAHAQ       WFC3           F153M      15879            RIESS\n",
       "        IE37NAHEQ       WFC3           F153M      15879            RIESS\n",
       "        IE37NAHFQ       WFC3           F160W      15879            RIESS\n",
       "        IE37NBAMQ       WFC3           F160W      15879            RIESS\n",
       "        IE37NBANQ       WFC3           F160W      15879            RIESS"
      ]
     },
     "execution_count": 10,
     "metadata": {},
     "output_type": "execute_result"
    }
   ],
   "source": [
    "# Filtered query with multiple values\n",
    "results = missions.query_criteria(sci_instrume='WFC3', \n",
    "                                  sci_spec_1234='F153M, F160W',  # Uses either F153M filter OR F160W filter\n",
    "                                  sci_pep_id=15879,\n",
    "                                  select_cols=['sci_instrume', 'sci_spec_1234', 'sci_pep_id', 'sci_pi_last_name'])\n",
    "\n",
    "# Display the first 5 results\n",
    "print(f'Total number of results: {len(results)}')\n",
    "results[:5]"
   ]
  },
  {
   "cell_type": "markdown",
   "metadata": {},
   "source": [
    "For columns with numeric or date values, we can filter using comparison values:\n",
    "\n",
    "- `<`: Return values less than or before the given number/date\n",
    "- `>`: Return values greater than or after the given number/date\n",
    "- `<=`: Return values less than or equal to the given number/date\n",
    "- `>=`: Return values greater than or equal to the given number/date\n",
    "\n",
    "As an example, let's write a query to return all datasets with an observation date before May 1, 1990. These were some of Hubble's first observations! We'll use the optional `sort_by` and `sort_desc` keywords to sort our results in reverse chronological order."
   ]
  },
  {
   "cell_type": "code",
   "execution_count": 11,
   "metadata": {
    "execution": {
     "iopub.execute_input": "2025-03-27T19:27:20.707978Z",
     "iopub.status.busy": "2025-03-27T19:27:20.707804Z",
     "iopub.status.idle": "2025-03-27T19:27:21.075563Z",
     "shell.execute_reply": "2025-03-27T19:27:21.075081Z"
    }
   },
   "outputs": [
    {
     "name": "stdout",
     "output_type": "stream",
     "text": [
      "Total number of results: 196\n"
     ]
    },
    {
     "data": {
      "text/html": [
       "<div><i>Table masked=True length=10</i>\n",
       "<table id=\"table140612943803856\" class=\"table-striped table-bordered table-condensed\">\n",
       "<thead><tr><th>sci_data_set_name</th><th>sci_start_time</th><th>sci_pep_id</th></tr></thead>\n",
       "<thead><tr><th>str9</th><th>str26</th><th>int64</th></tr></thead>\n",
       "<tr><td>W0340Y01R</td><td>1990-04-24T23:18:15.253000</td><td>1476</td></tr>\n",
       "<tr><td>X1680B01T</td><td>1990-04-24T23:17:59.053000</td><td>4107</td></tr>\n",
       "<tr><td>X1681201T</td><td>1990-04-24T23:17:59.053000</td><td>4107</td></tr>\n",
       "<tr><td>X16I1N01T</td><td>1990-04-24T23:17:59.053000</td><td>3801</td></tr>\n",
       "<tr><td>X14W0401T</td><td>1990-04-24T23:17:59.053000</td><td>3504</td></tr>\n",
       "<tr><td>X14W0402T</td><td>1990-04-24T23:17:59.053000</td><td>3504</td></tr>\n",
       "<tr><td>X14W0403T</td><td>1990-04-24T23:17:59.053000</td><td>3504</td></tr>\n",
       "<tr><td>X14W0404T</td><td>1990-04-24T23:17:59.053000</td><td>3504</td></tr>\n",
       "<tr><td>X14W0405T</td><td>1990-04-24T23:17:59.053000</td><td>3504</td></tr>\n",
       "<tr><td>X14W0406T</td><td>1990-04-24T23:17:59.053000</td><td>3504</td></tr>\n",
       "</table></div>"
      ],
      "text/plain": [
       "<Table masked=True length=10>\n",
       "sci_data_set_name       sci_start_time       sci_pep_id\n",
       "       str9                 str26              int64   \n",
       "----------------- -------------------------- ----------\n",
       "        W0340Y01R 1990-04-24T23:18:15.253000       1476\n",
       "        X1680B01T 1990-04-24T23:17:59.053000       4107\n",
       "        X1681201T 1990-04-24T23:17:59.053000       4107\n",
       "        X16I1N01T 1990-04-24T23:17:59.053000       3801\n",
       "        X14W0401T 1990-04-24T23:17:59.053000       3504\n",
       "        X14W0402T 1990-04-24T23:17:59.053000       3504\n",
       "        X14W0403T 1990-04-24T23:17:59.053000       3504\n",
       "        X14W0404T 1990-04-24T23:17:59.053000       3504\n",
       "        X14W0405T 1990-04-24T23:17:59.053000       3504\n",
       "        X14W0406T 1990-04-24T23:17:59.053000       3504"
      ]
     },
     "execution_count": 11,
     "metadata": {},
     "output_type": "execute_result"
    }
   ],
   "source": [
    "# Query using comparison operator\n",
    "results = missions.query_criteria(sci_start_time='<1990-05-01',  # Must be observed before May 1, 1990\n",
    "                                  select_cols=['sci_start_time', 'sci_pep_id'],\n",
    "                                  sort_by=['sci_start_time'],  # Sort by observation start time\n",
    "                                  sort_desc=[True])  # Sort in descending order\n",
    "\n",
    "# Display the first 10 results\n",
    "print(f'Total number of results: {len(results)}')\n",
    "results[:10]"
   ]
  },
  {
   "cell_type": "markdown",
   "metadata": {},
   "source": [
    "For numeric or date data types, we can also filter with ranges. This requires the following syntax: `'#..#'`.\n",
    "\n",
    "Let's write a query that uses range syntax to return datasets that have an exposure time between 5000 and 5005 seconds."
   ]
  },
  {
   "cell_type": "code",
   "execution_count": 12,
   "metadata": {
    "execution": {
     "iopub.execute_input": "2025-03-27T19:27:21.077282Z",
     "iopub.status.busy": "2025-03-27T19:27:21.077098Z",
     "iopub.status.idle": "2025-03-27T19:27:21.382246Z",
     "shell.execute_reply": "2025-03-27T19:27:21.381782Z"
    }
   },
   "outputs": [
    {
     "name": "stdout",
     "output_type": "stream",
     "text": [
      "Total number of results: 133\n"
     ]
    },
    {
     "data": {
      "text/html": [
       "<div><i>Table masked=True length=10</i>\n",
       "<table id=\"table140613269904336\" class=\"table-striped table-bordered table-condensed\">\n",
       "<thead><tr><th>sci_data_set_name</th><th>sci_actual_duration</th><th>sci_pep_id</th></tr></thead>\n",
       "<thead><tr><th>str9</th><th>float64</th><th>int64</th></tr></thead>\n",
       "<tr><td>LC1203020</td><td>5000.768</td><td>12936</td></tr>\n",
       "<tr><td>J95S15010</td><td>5000.0</td><td>10418</td></tr>\n",
       "<tr><td>IC2B02090</td><td>5005.0</td><td>12875</td></tr>\n",
       "<tr><td>IC3A05040</td><td>5000.0</td><td>13018</td></tr>\n",
       "<tr><td>IC3A06040</td><td>5000.0</td><td>13018</td></tr>\n",
       "<tr><td>IC3A07040</td><td>5000.0</td><td>13018</td></tr>\n",
       "<tr><td>IE9T01020</td><td>5000.0</td><td>16274</td></tr>\n",
       "<tr><td>IE9T02020</td><td>5000.0</td><td>16274</td></tr>\n",
       "<tr><td>IE9T03020</td><td>5000.0</td><td>16274</td></tr>\n",
       "<tr><td>IE9T04020</td><td>5000.0</td><td>16274</td></tr>\n",
       "</table></div>"
      ],
      "text/plain": [
       "<Table masked=True length=10>\n",
       "sci_data_set_name sci_actual_duration sci_pep_id\n",
       "       str9             float64         int64   \n",
       "----------------- ------------------- ----------\n",
       "        LC1203020            5000.768      12936\n",
       "        J95S15010              5000.0      10418\n",
       "        IC2B02090              5005.0      12875\n",
       "        IC3A05040              5000.0      13018\n",
       "        IC3A06040              5000.0      13018\n",
       "        IC3A07040              5000.0      13018\n",
       "        IE9T01020              5000.0      16274\n",
       "        IE9T02020              5000.0      16274\n",
       "        IE9T03020              5000.0      16274\n",
       "        IE9T04020              5000.0      16274"
      ]
     },
     "execution_count": 12,
     "metadata": {},
     "output_type": "execute_result"
    }
   ],
   "source": [
    "# Query using range operator\n",
    "results = missions.query_criteria(sci_actual_duration='5000..5005',  # Exposure duration is between 5000 and 5005 seconds\n",
    "                                  select_cols=['sci_pep_id', 'sci_actual_duration'])\n",
    "\n",
    "# Display results\n",
    "print(f'Total number of results: {len(results)}')\n",
    "results[:10]"
   ]
  },
  {
   "cell_type": "markdown",
   "metadata": {},
   "source": [
    "Wow, there's a lot of tips and tricks for writing queries! Here's a quick summary:\n",
    "\n",
    "* To exclude and filter out a certain value from the results, prepend the value with ``!``.\n",
    "\n",
    "* Wildcards are special characters used in search patterns to represent one or more unknown characters, \n",
    "  allowing for flexible matching of strings. The wildcard character is ``*`` and it replaces any number\n",
    "  of characters preceding, following, or in between existing characters, depending on its placement.\n",
    "\n",
    "* To filter by multiple values for a single column, use a string of values delimited by commas.\n",
    "\n",
    "* For columns with numeric or date data types, filter using comparison values (``<``, ``>``, ``<=``, ``>=``).\n",
    "\n",
    "* For columns with numeric or date data types, select a range with the syntax ``'#..#'``."
   ]
  },
  {
   "cell_type": "markdown",
   "metadata": {},
   "source": [
    "## Getting Data Products\n",
    "\n",
    "### Performing a Product Query\n",
    "\n",
    "Each observation returned from a MAST query can have one or more associated data products. For example, a JWST observation might return an [uncalibrated file](https://outerspace.stsci.edu/display/MASTDOCS/Supplemental+Products), [a guide-star file](https://jwst-docs.stsci.edu/jwst-observatory-characteristics/jwst-guide-stars), and the actual science data.\n",
    "\n",
    "For reproducibility, we'll run another criteria query for datasets that use Hubble's [Advanced Camera for Surveys (ACS)](https://www.stsci.edu/hst/instrumentation/acs) instrument. We are interested in datasets connected to [proposal number 12451](https://www.stsci.edu/hst-program-info/program/?program=12451) that are associated with at least one High Level Science Product."
   ]
  },
  {
   "cell_type": "code",
   "execution_count": 13,
   "metadata": {
    "execution": {
     "iopub.execute_input": "2025-03-27T19:27:21.384033Z",
     "iopub.status.busy": "2025-03-27T19:27:21.383869Z",
     "iopub.status.idle": "2025-03-27T19:27:21.782501Z",
     "shell.execute_reply": "2025-03-27T19:27:21.781924Z"
    }
   },
   "outputs": [
    {
     "name": "stdout",
     "output_type": "stream",
     "text": [
      "Total number of results: 29\n"
     ]
    },
    {
     "data": {
      "text/html": [
       "<div><i>Table masked=True length=5</i>\n",
       "<table id=\"table140613143428112\" class=\"table-striped table-bordered table-condensed\">\n",
       "<thead><tr><th>sci_data_set_name</th><th>sci_targname</th><th>sci_hapnum</th><th>sci_haspnum</th><th>sci_instrume</th><th>sci_aper_1234</th><th>sci_spec_1234</th><th>sci_actual_duration</th><th>sci_start_time</th><th>sci_pep_id</th><th>sci_pi_last_name</th><th>sci_ra</th><th>sci_dec</th><th>sci_refnum</th><th>sci_central_wavelength</th><th>sci_release_date</th><th>sci_stop_time</th><th>sci_preview_name</th><th>scp_scan_type</th><th>sci_hlsp</th></tr></thead>\n",
       "<thead><tr><th>str9</th><th>str18</th><th>int64</th><th>int64</th><th>str6</th><th>str7</th><th>str14</th><th>float64</th><th>str26</th><th>int64</th><th>str7</th><th>float64</th><th>float64</th><th>int64</th><th>float64</th><th>str19</th><th>str26</th><th>str9</th><th>str1</th><th>int64</th></tr></thead>\n",
       "<tr><td>JBTAA0010</td><td>ABELL209</td><td>1</td><td>0</td><td>ACS</td><td>WFC-FIX</td><td>F625W;CLEAR2L</td><td>1032.0</td><td>2012-06-28T14:11:54.653000</td><td>12451</td><td>POSTMAN</td><td>22.96891666667</td><td>-13.61122222222</td><td>36</td><td>6311.8481</td><td>2012-06-28T17:17:47</td><td>2012-06-28T14:31:45.717000</td><td>JBTAA0010</td><td>--</td><td>12</td></tr>\n",
       "<tr><td>JBTAA0020</td><td>ABELL209</td><td>1</td><td>0</td><td>ACS</td><td>WFC-FIX</td><td>F850LP;CLEAR2L</td><td>1035.0</td><td>2012-06-28T14:34:44.670000</td><td>12451</td><td>POSTMAN</td><td>22.96887414019</td><td>-13.61118826361</td><td>36</td><td>9031.459</td><td>2012-06-28T17:47:50</td><td>2012-06-28T14:55:15.703000</td><td>JBTAA0020</td><td>--</td><td>12</td></tr>\n",
       "<tr><td>JBTAA1010</td><td>ABELL209</td><td>1</td><td>0</td><td>ACS</td><td>WFC-FIX</td><td>F475W;CLEAR2L</td><td>1032.0</td><td>2012-06-28T15:47:39.677000</td><td>12451</td><td>POSTMAN</td><td>22.96891666667</td><td>-13.61122222222</td><td>36</td><td>4746.9565</td><td>2012-06-28T19:30:26</td><td>2012-06-28T16:07:30.710000</td><td>JBTAA1010</td><td>--</td><td>12</td></tr>\n",
       "<tr><td>JBTAA1020</td><td>ABELL209</td><td>1</td><td>0</td><td>ACS</td><td>WFC-FIX</td><td>F775W;CLEAR2L</td><td>1031.0</td><td>2012-06-28T16:10:33.660000</td><td>12451</td><td>POSTMAN</td><td>22.96887414019</td><td>-13.61118826361</td><td>36</td><td>7693.4688</td><td>2012-06-28T19:10:46</td><td>2012-06-28T16:31:00.693000</td><td>JBTAA1020</td><td>--</td><td>12</td></tr>\n",
       "<tr><td>JBTAA3010</td><td>ABELL209</td><td>1</td><td>0</td><td>ACS</td><td>WFC-FIX</td><td>F606W;CLEAR2L</td><td>1032.0</td><td>2012-07-15T16:19:51.680000</td><td>12451</td><td>POSTMAN</td><td>22.96891666667</td><td>-13.61122222222</td><td>36</td><td>5921.8911</td><td>2012-07-15T19:08:21</td><td>2012-07-15T16:39:42.713000</td><td>JBTAA3010</td><td>--</td><td>12</td></tr>\n",
       "</table></div>"
      ],
      "text/plain": [
       "<Table masked=True length=5>\n",
       "sci_data_set_name sci_targname sci_hapnum ... scp_scan_type sci_hlsp\n",
       "       str9          str18       int64    ...      str1      int64  \n",
       "----------------- ------------ ---------- ... ------------- --------\n",
       "        JBTAA0010     ABELL209          1 ...            --       12\n",
       "        JBTAA0020     ABELL209          1 ...            --       12\n",
       "        JBTAA1010     ABELL209          1 ...            --       12\n",
       "        JBTAA1020     ABELL209          1 ...            --       12\n",
       "        JBTAA3010     ABELL209          1 ...            --       12"
      ]
     },
     "execution_count": 13,
     "metadata": {},
     "output_type": "execute_result"
    }
   ],
   "source": [
    "# Query using range operator\n",
    "datasets = missions.query_criteria(sci_pep_id=12451,  # Proposal number 12451\n",
    "                                   sci_instrume='ACS',  # Use ACS instrument\n",
    "                                   sci_hlsp='>1')  # Associated with at least one HLSP\n",
    "\n",
    "# Display results\n",
    "print(f'Total number of results: {len(datasets)}')\n",
    "datasets[:5]"
   ]
  },
  {
   "cell_type": "markdown",
   "metadata": {},
   "source": [
    "The `get_product_list` function accepts a table of datasets or a list of dataset IDs and returns a table containing the associated data products. Let's fetch the data products for the first three datasets in the table above."
   ]
  },
  {
   "cell_type": "code",
   "execution_count": 14,
   "metadata": {
    "execution": {
     "iopub.execute_input": "2025-03-27T19:27:21.784466Z",
     "iopub.status.busy": "2025-03-27T19:27:21.784299Z",
     "iopub.status.idle": "2025-03-27T19:27:23.465398Z",
     "shell.execute_reply": "2025-03-27T19:27:23.464896Z"
    }
   },
   "outputs": [
    {
     "name": "stdout",
     "output_type": "stream",
     "text": [
      "Total number of products: 309\n"
     ]
    },
    {
     "data": {
      "text/html": [
       "<div><i>Table length=5</i>\n",
       "<table id=\"table140613279716048\" class=\"table-striped table-bordered table-condensed\">\n",
       "<thead><tr><th>product_key</th><th>access</th><th>dataset</th><th>instrument_name</th><th>filters</th><th>filename</th><th>uri</th><th>authz_primary_identifier</th><th>authz_secondary_identifier</th><th>file_suffix</th><th>category</th><th>size</th><th>type</th></tr></thead>\n",
       "<thead><tr><th>str66</th><th>str6</th><th>str9</th><th>str6</th><th>str14</th><th>str56</th><th>str66</th><th>str42</th><th>str3</th><th>str15</th><th>str14</th><th>int64</th><th>str9</th></tr></thead>\n",
       "<tr><td>JBTAA0010_jbtaa0010_asn.fits</td><td>PUBLIC</td><td>JBTAA0010</td><td>ACS</td><td>F625W;CLEAR2L</td><td>jbtaa0010_asn.fits</td><td>JBTAA0010/jbtaa0010_asn.fits</td><td>JBTAA0010</td><td>ASN</td><td>ASN</td><td>AUX</td><td>11520</td><td>science</td></tr>\n",
       "<tr><td>JBTAA0010_jbtaa0010_trl.fits</td><td>PUBLIC</td><td>JBTAA0010</td><td>ACS</td><td>F625W;CLEAR2L</td><td>jbtaa0010_trl.fits</td><td>JBTAA0010/jbtaa0010_trl.fits</td><td>JBTAA0010</td><td>CAL</td><td>TRL</td><td>AUX</td><td>682560</td><td>science</td></tr>\n",
       "<tr><td>JBTAA0010_jbtaa0010_drc.fits</td><td>PUBLIC</td><td>JBTAA0010</td><td>ACS</td><td>F625W;CLEAR2L</td><td>jbtaa0010_drc.fits</td><td>JBTAA0010/jbtaa0010_drc.fits</td><td>JBTAA0010</td><td>CAL</td><td>DRC</td><td>CALIBRATED</td><td>214660800</td><td>science</td></tr>\n",
       "<tr><td>JBTAA0010_jbtaa0010_drz.fits</td><td>PUBLIC</td><td>JBTAA0010</td><td>ACS</td><td>F625W;CLEAR2L</td><td>jbtaa0010_drz.fits</td><td>JBTAA0010/jbtaa0010_drz.fits</td><td>JBTAA0010</td><td>CAL</td><td>DRZ</td><td>CALIBRATED</td><td>214657920</td><td>science</td></tr>\n",
       "<tr><td>JBTAA0010_jbtaa0010_spt.fits</td><td>PUBLIC</td><td>JBTAA0010</td><td>ACS</td><td>F625W;CLEAR2L</td><td>jbtaa0010_spt.fits</td><td>JBTAA0010/jbtaa0010_spt.fits</td><td>JBTAA0010</td><td>CAL</td><td>SPT</td><td>UNCALIBRATED</td><td>86400</td><td>science</td></tr>\n",
       "</table></div>"
      ],
      "text/plain": [
       "<Table length=5>\n",
       "        product_key          access  dataset  ...   category      size     type \n",
       "           str66              str6     str9   ...    str14       int64     str9 \n",
       "---------------------------- ------ --------- ... ------------ --------- -------\n",
       "JBTAA0010_jbtaa0010_asn.fits PUBLIC JBTAA0010 ...          AUX     11520 science\n",
       "JBTAA0010_jbtaa0010_trl.fits PUBLIC JBTAA0010 ...          AUX    682560 science\n",
       "JBTAA0010_jbtaa0010_drc.fits PUBLIC JBTAA0010 ...   CALIBRATED 214660800 science\n",
       "JBTAA0010_jbtaa0010_drz.fits PUBLIC JBTAA0010 ...   CALIBRATED 214657920 science\n",
       "JBTAA0010_jbtaa0010_spt.fits PUBLIC JBTAA0010 ... UNCALIBRATED     86400 science"
      ]
     },
     "execution_count": 14,
     "metadata": {},
     "output_type": "execute_result"
    }
   ],
   "source": [
    "# Get a list of data products\n",
    "products = missions.get_product_list(datasets[:3])\n",
    "\n",
    "# Display results\n",
    "print(f'Total number of products: {len(products)}')\n",
    "products[:5]"
   ]
  },
  {
   "cell_type": "markdown",
   "metadata": {},
   "source": [
    "Some products can be associated with multiple datasets, and this table may contain duplicates. To return a list of products with only unique filenames, use the `get_unique_product_list` function."
   ]
  },
  {
   "cell_type": "code",
   "execution_count": 15,
   "metadata": {
    "execution": {
     "iopub.execute_input": "2025-03-27T19:27:23.467122Z",
     "iopub.status.busy": "2025-03-27T19:27:23.466947Z",
     "iopub.status.idle": "2025-03-27T19:27:24.942507Z",
     "shell.execute_reply": "2025-03-27T19:27:24.942027Z"
    }
   },
   "outputs": [
    {
     "name": "stdout",
     "output_type": "stream",
     "text": [
      "INFO: 26 of 309 products were duplicates. Only returning 283 unique product(s). [astroquery.mast.utils]\n",
      "INFO: To return all products, use `MastMissions.get_product_list` [astroquery.mast.missions]\n"
     ]
    },
    {
     "data": {
      "text/html": [
       "<div><i>Table length=5</i>\n",
       "<table id=\"table140612939309392\" class=\"table-striped table-bordered table-condensed\">\n",
       "<thead><tr><th>product_key</th><th>access</th><th>dataset</th><th>instrument_name</th><th>filters</th><th>filename</th><th>uri</th><th>authz_primary_identifier</th><th>authz_secondary_identifier</th><th>file_suffix</th><th>category</th><th>size</th><th>type</th></tr></thead>\n",
       "<thead><tr><th>str66</th><th>str6</th><th>str9</th><th>str6</th><th>str14</th><th>str56</th><th>str66</th><th>str42</th><th>str3</th><th>str15</th><th>str14</th><th>int64</th><th>str9</th></tr></thead>\n",
       "<tr><td>JBTAA0010_17717071j_osc.fits</td><td>PUBLIC</td><td>JBTAA0010</td><td>ACS</td><td>F625W;CLEAR2L</td><td>17717071j_osc.fits</td><td>JBTAA0010/17717071j_osc.fits</td><td></td><td></td><td>OSC</td><td>REFERENCE</td><td>17280</td><td>reference</td></tr>\n",
       "<tr><td>JBTAA0010_25g1256nj_bpx.fits</td><td>PUBLIC</td><td>JBTAA0010</td><td>ACS</td><td>F625W;CLEAR2L</td><td>25g1256nj_bpx.fits</td><td>JBTAA0010/25g1256nj_bpx.fits</td><td></td><td></td><td>BPX</td><td>REFERENCE</td><td>23040</td><td>reference</td></tr>\n",
       "<tr><td>JBTAA0010_37g1550cj_mdz.fits</td><td>PUBLIC</td><td>JBTAA0010</td><td>ACS</td><td>F625W;CLEAR2L</td><td>37g1550cj_mdz.fits</td><td>JBTAA0010/37g1550cj_mdz.fits</td><td></td><td></td><td>MDZ</td><td>REFERENCE</td><td>247680</td><td>reference</td></tr>\n",
       "<tr><td>JBTAA0010_4af1559ij_imp.fits</td><td>PUBLIC</td><td>JBTAA0010</td><td>ACS</td><td>F625W;CLEAR2L</td><td>4af1559ij_imp.fits</td><td>JBTAA0010/4af1559ij_imp.fits</td><td></td><td></td><td>IMP</td><td>REFERENCE</td><td>953280</td><td>reference</td></tr>\n",
       "<tr><td>JBTAA0010_4bb1536cj_idc.fits</td><td>PUBLIC</td><td>JBTAA0010</td><td>ACS</td><td>F625W;CLEAR2L</td><td>4bb1536cj_idc.fits</td><td>JBTAA0010/4bb1536cj_idc.fits</td><td></td><td></td><td>IDC</td><td>REFERENCE</td><td>285120</td><td>reference</td></tr>\n",
       "</table></div>"
      ],
      "text/plain": [
       "<Table length=5>\n",
       "        product_key          access  dataset  ...  category  size     type  \n",
       "           str66              str6     str9   ...   str14   int64     str9  \n",
       "---------------------------- ------ --------- ... --------- ------ ---------\n",
       "JBTAA0010_17717071j_osc.fits PUBLIC JBTAA0010 ... REFERENCE  17280 reference\n",
       "JBTAA0010_25g1256nj_bpx.fits PUBLIC JBTAA0010 ... REFERENCE  23040 reference\n",
       "JBTAA0010_37g1550cj_mdz.fits PUBLIC JBTAA0010 ... REFERENCE 247680 reference\n",
       "JBTAA0010_4af1559ij_imp.fits PUBLIC JBTAA0010 ... REFERENCE 953280 reference\n",
       "JBTAA0010_4bb1536cj_idc.fits PUBLIC JBTAA0010 ... REFERENCE 285120 reference"
      ]
     },
     "execution_count": 15,
     "metadata": {},
     "output_type": "execute_result"
    }
   ],
   "source": [
    "# Get products with unique filenames\n",
    "unique_products = missions.get_unique_product_list(datasets[:3])\n",
    "\n",
    "# Display results\n",
    "unique_products[:5]"
   ]
  },
  {
   "cell_type": "markdown",
   "metadata": {},
   "source": [
    "### Filtering Data Products\n",
    "\n",
    "These datasets returned quite a few products! We are not interested in all of them, and luckily, we have a handy function to filter them for us. `filter_products` allows you to filter based on file extension (`extension`) and any other of the product fields.\n",
    "\n",
    "A quick note on filtering: the **AND** operation is performed for a list of filters, and the **OR** operation is performed within a filter set. For example, the filter below will return FITS products that are \"science\" type **and** have a `file_suffix` of [\"ASN\" (association files)](https://hst-docs.stsci.edu/acsdhb/chapter-2-acs-data-structure/2-1-types-of-acs-files#id-2.1TypesofACSFiles-2.1.22.1.2AssociationTables) **or** [\"JIF\" (jitter information files)](https://www.stsci.edu/hst/instrumentation/focus-and-pointing/pointing/jitter-file-format-definition)."
   ]
  },
  {
   "cell_type": "code",
   "execution_count": 16,
   "metadata": {
    "execution": {
     "iopub.execute_input": "2025-03-27T19:27:24.944415Z",
     "iopub.status.busy": "2025-03-27T19:27:24.944012Z",
     "iopub.status.idle": "2025-03-27T19:27:24.950273Z",
     "shell.execute_reply": "2025-03-27T19:27:24.949844Z"
    }
   },
   "outputs": [
    {
     "data": {
      "text/html": [
       "<div><i>Table length=6</i>\n",
       "<table id=\"table140612937598672\" class=\"table-striped table-bordered table-condensed\">\n",
       "<thead><tr><th>product_key</th><th>access</th><th>dataset</th><th>instrument_name</th><th>filters</th><th>filename</th><th>uri</th><th>authz_primary_identifier</th><th>authz_secondary_identifier</th><th>file_suffix</th><th>category</th><th>size</th><th>type</th></tr></thead>\n",
       "<thead><tr><th>str66</th><th>str6</th><th>str9</th><th>str6</th><th>str14</th><th>str56</th><th>str66</th><th>str42</th><th>str3</th><th>str15</th><th>str14</th><th>int64</th><th>str9</th></tr></thead>\n",
       "<tr><td>JBTAA0010_jbtaa0010_asn.fits</td><td>PUBLIC</td><td>JBTAA0010</td><td>ACS</td><td>F625W;CLEAR2L</td><td>jbtaa0010_asn.fits</td><td>JBTAA0010/jbtaa0010_asn.fits</td><td>JBTAA0010</td><td>ASN</td><td>ASN</td><td>AUX</td><td>11520</td><td>science</td></tr>\n",
       "<tr><td>JBTAA0010_jbtaa0010_jif.fits</td><td>PUBLIC</td><td>JBTAA0010</td><td>ACS</td><td>F625W;CLEAR2L</td><td>jbtaa0010_jif.fits</td><td>JBTAA0010/jbtaa0010_jif.fits</td><td>JBTAA0010</td><td>OMS</td><td>JIF</td><td>JITTER/SUPPORT</td><td>60480</td><td>science</td></tr>\n",
       "<tr><td>JBTAA0020_jbtaa0020_asn.fits</td><td>PUBLIC</td><td>JBTAA0020</td><td>ACS</td><td>F850LP;CLEAR2L</td><td>jbtaa0020_asn.fits</td><td>JBTAA0020/jbtaa0020_asn.fits</td><td>JBTAA0020</td><td>ASN</td><td>ASN</td><td>AUX</td><td>11520</td><td>science</td></tr>\n",
       "<tr><td>JBTAA0020_jbtaa0020_jif.fits</td><td>PUBLIC</td><td>JBTAA0020</td><td>ACS</td><td>F850LP;CLEAR2L</td><td>jbtaa0020_jif.fits</td><td>JBTAA0020/jbtaa0020_jif.fits</td><td>JBTAA0020</td><td>OMS</td><td>JIF</td><td>JITTER/SUPPORT</td><td>60480</td><td>science</td></tr>\n",
       "<tr><td>JBTAA1010_jbtaa1010_asn.fits</td><td>PUBLIC</td><td>JBTAA1010</td><td>ACS</td><td>F475W;CLEAR2L</td><td>jbtaa1010_asn.fits</td><td>JBTAA1010/jbtaa1010_asn.fits</td><td>JBTAA1010</td><td>ASN</td><td>ASN</td><td>AUX</td><td>11520</td><td>science</td></tr>\n",
       "<tr><td>JBTAA1010_jbtaa1010_jif.fits</td><td>PUBLIC</td><td>JBTAA1010</td><td>ACS</td><td>F475W;CLEAR2L</td><td>jbtaa1010_jif.fits</td><td>JBTAA1010/jbtaa1010_jif.fits</td><td>JBTAA1010</td><td>OMS</td><td>JIF</td><td>JITTER/SUPPORT</td><td>60480</td><td>science</td></tr>\n",
       "</table></div>"
      ],
      "text/plain": [
       "<Table length=6>\n",
       "        product_key          access  dataset  ...    category     size   type \n",
       "           str66              str6     str9   ...     str14      int64   str9 \n",
       "---------------------------- ------ --------- ... -------------- ----- -------\n",
       "JBTAA0010_jbtaa0010_asn.fits PUBLIC JBTAA0010 ...            AUX 11520 science\n",
       "JBTAA0010_jbtaa0010_jif.fits PUBLIC JBTAA0010 ... JITTER/SUPPORT 60480 science\n",
       "JBTAA0020_jbtaa0020_asn.fits PUBLIC JBTAA0020 ...            AUX 11520 science\n",
       "JBTAA0020_jbtaa0020_jif.fits PUBLIC JBTAA0020 ... JITTER/SUPPORT 60480 science\n",
       "JBTAA1010_jbtaa1010_asn.fits PUBLIC JBTAA1010 ...            AUX 11520 science\n",
       "JBTAA1010_jbtaa1010_jif.fits PUBLIC JBTAA1010 ... JITTER/SUPPORT 60480 science"
      ]
     },
     "execution_count": 16,
     "metadata": {},
     "output_type": "execute_result"
    }
   ],
   "source": [
    "# Filter products \n",
    "filtered = missions.filter_products(products,\n",
    "                                    extension='fits',  # FITS file extension\n",
    "                                    type='science',  # Science data\n",
    "                                    file_suffix=['ASN', 'JIF'])  # Association files OR jitter information files\n",
    "\n",
    "# Display results\n",
    "filtered"
   ]
  },
  {
   "cell_type": "markdown",
   "metadata": {},
   "source": [
    "## Downloading Products\n",
    "\n",
    "The `download_products` function accepts a table of products like the one above and will download the products to your local machine. By default, products will be downloaded into the current working directory, in a subdirectory called `mastDownload`. The full local filepaths will have the form `mastDownload/<mission>/<Dataset ID>/file.` You can change the download directory using the `download_dir` parameter."
   ]
  },
  {
   "cell_type": "code",
   "execution_count": 17,
   "metadata": {
    "execution": {
     "iopub.execute_input": "2025-03-27T19:27:24.951853Z",
     "iopub.status.busy": "2025-03-27T19:27:24.951689Z",
     "iopub.status.idle": "2025-03-27T19:27:25.893628Z",
     "shell.execute_reply": "2025-03-27T19:27:25.893034Z"
    }
   },
   "outputs": [
    {
     "name": "stdout",
     "output_type": "stream",
     "text": [
      "Downloading URL https://mast.stsci.edu/search/hst/api/v0.1/retrieve_product?product_name=JBTAA0010%2Fjbtaa0010_asn.fits to mastDownload/hst/JBTAA0010/jbtaa0010_asn.fits ..."
     ]
    },
    {
     "name": "stdout",
     "output_type": "stream",
     "text": [
      " [Done]\n"
     ]
    },
    {
     "name": "stdout",
     "output_type": "stream",
     "text": [
      "Downloading URL https://mast.stsci.edu/search/hst/api/v0.1/retrieve_product?product_name=JBTAA0010%2Fjbtaa0010_jif.fits to mastDownload/hst/JBTAA0010/jbtaa0010_jif.fits ..."
     ]
    },
    {
     "name": "stdout",
     "output_type": "stream",
     "text": [
      " [Done]\n"
     ]
    },
    {
     "data": {
      "text/html": [
       "<div><i>Table length=2</i>\n",
       "<table id=\"table140612937614032\" class=\"table-striped table-bordered table-condensed\">\n",
       "<thead><tr><th>Local Path</th><th>Status</th><th>Message</th><th>URL</th></tr></thead>\n",
       "<thead><tr><th>object</th><th>str8</th><th>object</th><th>object</th></tr></thead>\n",
       "<tr><td>mastDownload/hst/JBTAA0010/jbtaa0010_asn.fits</td><td>COMPLETE</td><td>None</td><td>None</td></tr>\n",
       "<tr><td>mastDownload/hst/JBTAA0010/jbtaa0010_jif.fits</td><td>COMPLETE</td><td>None</td><td>None</td></tr>\n",
       "</table></div>"
      ],
      "text/plain": [
       "<Table length=2>\n",
       "                  Local Path                   Status  Message  URL  \n",
       "                    object                      str8    object object\n",
       "--------------------------------------------- -------- ------- ------\n",
       "mastDownload/hst/JBTAA0010/jbtaa0010_asn.fits COMPLETE    None   None\n",
       "mastDownload/hst/JBTAA0010/jbtaa0010_jif.fits COMPLETE    None   None"
      ]
     },
     "execution_count": 17,
     "metadata": {},
     "output_type": "execute_result"
    }
   ],
   "source": [
    "# Download products using filtered product Table\n",
    "manifest = missions.download_products(filtered[:2])\n",
    "\n",
    "# Display results\n",
    "manifest"
   ]
  },
  {
   "cell_type": "markdown",
   "metadata": {},
   "source": [
    "For a more streamlined workflow, the function also accepts dataset IDs and product filters."
   ]
  },
  {
   "cell_type": "code",
   "execution_count": 18,
   "metadata": {
    "execution": {
     "iopub.execute_input": "2025-03-27T19:27:25.895542Z",
     "iopub.status.busy": "2025-03-27T19:27:25.895156Z",
     "iopub.status.idle": "2025-03-27T19:27:30.094286Z",
     "shell.execute_reply": "2025-03-27T19:27:30.093707Z"
    }
   },
   "outputs": [
    {
     "name": "stdout",
     "output_type": "stream",
     "text": [
      "INFO: Found cached file mastDownload/hst/JBTAA0010/jbtaa0010_asn.fits with expected size 11520. [astroquery.query]\n"
     ]
    },
    {
     "name": "stdout",
     "output_type": "stream",
     "text": [
      "INFO: Found cached file mastDownload/hst/JBTAA0010/jbtaa0010_jif.fits with expected size 60480. [astroquery.query]\n"
     ]
    },
    {
     "name": "stdout",
     "output_type": "stream",
     "text": [
      "Downloading URL https://mast.stsci.edu/search/hst/api/v0.1/retrieve_product?product_name=JBTAA0020%2Fjbtaa0020_asn.fits to mastDownload/hst/JBTAA0020/jbtaa0020_asn.fits ..."
     ]
    },
    {
     "name": "stdout",
     "output_type": "stream",
     "text": [
      " [Done]\n"
     ]
    },
    {
     "name": "stdout",
     "output_type": "stream",
     "text": [
      "Downloading URL https://mast.stsci.edu/search/hst/api/v0.1/retrieve_product?product_name=JBTAA0020%2Fjbtaa0020_jif.fits to mastDownload/hst/JBTAA0020/jbtaa0020_jif.fits ..."
     ]
    },
    {
     "name": "stdout",
     "output_type": "stream",
     "text": [
      " [Done]\n"
     ]
    },
    {
     "data": {
      "text/html": [
       "<div><i>Table length=4</i>\n",
       "<table id=\"table140612937737680\" class=\"table-striped table-bordered table-condensed\">\n",
       "<thead><tr><th>Local Path</th><th>Status</th><th>Message</th><th>URL</th></tr></thead>\n",
       "<thead><tr><th>object</th><th>str8</th><th>object</th><th>object</th></tr></thead>\n",
       "<tr><td>mastDownload/hst/JBTAA0010/jbtaa0010_asn.fits</td><td>COMPLETE</td><td>None</td><td>None</td></tr>\n",
       "<tr><td>mastDownload/hst/JBTAA0010/jbtaa0010_jif.fits</td><td>COMPLETE</td><td>None</td><td>None</td></tr>\n",
       "<tr><td>mastDownload/hst/JBTAA0020/jbtaa0020_asn.fits</td><td>COMPLETE</td><td>None</td><td>None</td></tr>\n",
       "<tr><td>mastDownload/hst/JBTAA0020/jbtaa0020_jif.fits</td><td>COMPLETE</td><td>None</td><td>None</td></tr>\n",
       "</table></div>"
      ],
      "text/plain": [
       "<Table length=4>\n",
       "                  Local Path                   Status  Message  URL  \n",
       "                    object                      str8    object object\n",
       "--------------------------------------------- -------- ------- ------\n",
       "mastDownload/hst/JBTAA0010/jbtaa0010_asn.fits COMPLETE    None   None\n",
       "mastDownload/hst/JBTAA0010/jbtaa0010_jif.fits COMPLETE    None   None\n",
       "mastDownload/hst/JBTAA0020/jbtaa0020_asn.fits COMPLETE    None   None\n",
       "mastDownload/hst/JBTAA0020/jbtaa0020_jif.fits COMPLETE    None   None"
      ]
     },
     "execution_count": 18,
     "metadata": {},
     "output_type": "execute_result"
    }
   ],
   "source": [
    "# Download products using dataset IDs and product filters\n",
    "manifest = missions.download_products(['JBTAA0010', 'JBTAA0020'],\n",
    "                                      extension='fits',\n",
    "                                      type='science',\n",
    "                                      file_suffix=['ASN', 'JIF'])\n",
    "\n",
    "# Display results\n",
    "manifest"
   ]
  },
  {
   "cell_type": "markdown",
   "metadata": {},
   "source": [
    "To download a single data product file, use the `download_file` function with a MAST URI as input. \n",
    "The default is to download the file to the current working directory, but you can specify the download \n",
    "directory or filepath with the `local_path` keyword argument."
   ]
  },
  {
   "cell_type": "code",
   "execution_count": 19,
   "metadata": {
    "execution": {
     "iopub.execute_input": "2025-03-27T19:27:30.096412Z",
     "iopub.status.busy": "2025-03-27T19:27:30.095981Z",
     "iopub.status.idle": "2025-03-27T19:27:30.519502Z",
     "shell.execute_reply": "2025-03-27T19:27:30.519006Z"
    }
   },
   "outputs": [
    {
     "name": "stdout",
     "output_type": "stream",
     "text": [
      "Downloading URL https://mast.stsci.edu/search/hst/api/v0.1/retrieve_product?product_name=JBTAA0010%2Fjbtaa0010_asn.fits to jbtaa0010_asn.fits ..."
     ]
    },
    {
     "name": "stdout",
     "output_type": "stream",
     "text": [
      " [Done]\n"
     ]
    },
    {
     "data": {
      "text/plain": [
       "('COMPLETE', None, None)"
      ]
     },
     "execution_count": 19,
     "metadata": {},
     "output_type": "execute_result"
    }
   ],
   "source": [
    "# Download a single data product\n",
    "result = missions.download_file('JBTAA0010/jbtaa0010_asn.fits')\n",
    "\n",
    "# Display result\n",
    "result"
   ]
  },
  {
   "cell_type": "markdown",
   "metadata": {},
   "source": [
    "### Exclusive Data Access\n",
    "\n",
    "Some data may not be publicly available and will require [authentication and authorization](https://outerspace.stsci.edu/display/MASTDOCS/Using+MAST+APIs#UsingMASTAPIs-authAuth.MAST). To [download proprietary data with Astroquery](https://astroquery.readthedocs.io/en/latest/mast/mast.html#accessing-proprietary-data), you will need a [MyST Account](https://proper.stsci.edu/proper/authentication/auth) with proper permissions. You will also need to provide an [API token](https://auth.mast.stsci.edu/info). \n",
    "\n",
    "You can use the `login` function to authenticate yourself. After uncommenting and executing the following cell, you should be prompted to enter your token."
   ]
  },
  {
   "cell_type": "code",
   "execution_count": 20,
   "metadata": {
    "execution": {
     "iopub.execute_input": "2025-03-27T19:27:30.521267Z",
     "iopub.status.busy": "2025-03-27T19:27:30.521070Z",
     "iopub.status.idle": "2025-03-27T19:27:30.523603Z",
     "shell.execute_reply": "2025-03-27T19:27:30.523169Z"
    }
   },
   "outputs": [],
   "source": [
    "# missions.login()"
   ]
  },
  {
   "cell_type": "markdown",
   "metadata": {},
   "source": [
    "You can also provide a token to a `MastMissions` object upon initialization using the `mast_token` parameter. However, remember to be cautious with your API token. You should not share the token or check it into source control. For the best security, we recommend using the `login` method to authenticate yourself."
   ]
  },
  {
   "cell_type": "markdown",
   "metadata": {},
   "source": [
    "## Switching Missions\n",
    "\n",
    "As mentioned previously, each `MastMissions` object can only make queries and download products from a single collection at a time. This collection can be modified with the `mission` class attribute, which is case-insensitive. This allows users to query multiple collections with the same object. \n",
    "\n",
    "To demonstrate, we'll create a new `MastMissions` object and initialize the `mission` to be `'JWST'`. This will perform queries on dataset metadata from the James Webb Space Telescope."
   ]
  },
  {
   "cell_type": "code",
   "execution_count": 21,
   "metadata": {
    "execution": {
     "iopub.execute_input": "2025-03-27T19:27:30.525324Z",
     "iopub.status.busy": "2025-03-27T19:27:30.525142Z",
     "iopub.status.idle": "2025-03-27T19:27:30.529097Z",
     "shell.execute_reply": "2025-03-27T19:27:30.528663Z"
    }
   },
   "outputs": [
    {
     "data": {
      "text/plain": [
       "'jwst'"
      ]
     },
     "execution_count": 21,
     "metadata": {},
     "output_type": "execute_result"
    }
   ],
   "source": [
    "multi_mission = MastMissions(mission='JWST')\n",
    "multi_mission.mission"
   ]
  },
  {
   "cell_type": "markdown",
   "metadata": {},
   "source": [
    "Next, we'll query for JWST datasets around [NGC 346](https://science.nasa.gov/image-detail/young-stars-sculpt-gas-with-powerful-outflows/), a young star cluster in the [Small Magellanic Cloud](https://www.nasa.gov/image-article/taken-under-wing-of-small-magellanic-cloud/). We'll use a radius of 0.2 arcminutes."
   ]
  },
  {
   "cell_type": "code",
   "execution_count": 22,
   "metadata": {
    "execution": {
     "iopub.execute_input": "2025-03-27T19:27:30.530705Z",
     "iopub.status.busy": "2025-03-27T19:27:30.530539Z",
     "iopub.status.idle": "2025-03-27T19:27:34.293065Z",
     "shell.execute_reply": "2025-03-27T19:27:34.292479Z"
    }
   },
   "outputs": [
    {
     "name": "stdout",
     "output_type": "stream",
     "text": [
      "Total number of datasets: 172\n"
     ]
    },
    {
     "data": {
      "text/html": [
       "<div><i>Table masked=True length=5</i>\n",
       "<table id=\"table140612938015760\" class=\"table-striped table-bordered table-condensed\">\n",
       "<thead><tr><th>ArchiveFileID</th><th>fileSetName</th><th>productLevel</th><th>targprop</th><th>targ_ra</th><th>targ_dec</th><th>instrume</th><th>exp_type</th><th>opticalElements</th><th>date_obs</th><th>duration</th><th>program</th><th>observtn</th><th>visit</th><th>publicReleaseDate</th><th>pi_name</th><th>proposal_type</th><th>proposal_cycle</th><th>targtype</th><th>access</th><th>ang_sep</th><th>s_region</th></tr></thead>\n",
       "<thead><tr><th>int64</th><th>str31</th><th>str14</th><th>str22</th><th>float64</th><th>float64</th><th>str7</th><th>str13</th><th>str76</th><th>str27</th><th>float64</th><th>int64</th><th>int64</th><th>int64</th><th>str19</th><th>str17</th><th>str3</th><th>int64</th><th>str5</th><th>str16</th><th>float64</th><th>str121</th></tr></thead>\n",
       "<tr><td>143912893</td><td>jw01227001003_02101_00001</td><td>1b, 2a, 2b, 2c</td><td>NGC-346</td><td>14.77060458333333</td><td>-72.16920833333336</td><td>MIRI</td><td>MIR_IMAGE</td><td>F770W</td><td>2022-10-10T07:43:23.1330000</td><td>77.701</td><td>1227</td><td>1</td><td>3</td><td>2023-10-11T03:40:56</td><td>Meixner, Margaret</td><td>GTO</td><td>1</td><td>FIXED</td><td>PUBLIC</td><td>0.0</td><td>POLYGON ICRS  14.830821876 -72.200882780 14.839692331 -72.169575151 14.736559514 -72.166812636 14.727514917 -72.198115566</td></tr>\n",
       "<tr><td>143912790</td><td>jw01227001003_02101_00002</td><td>1b, 2a, 2b, 2c</td><td>NGC-346</td><td>14.77060458333333</td><td>-72.16920833333336</td><td>MIRI</td><td>MIR_IMAGE</td><td>F770W</td><td>2022-10-10T07:46:04.0930000</td><td>77.701</td><td>1227</td><td>1</td><td>3</td><td>2023-10-11T03:39:18</td><td>Meixner, Margaret</td><td>GTO</td><td>1</td><td>FIXED</td><td>PUBLIC</td><td>0.0</td><td>POLYGON ICRS  14.832078932 -72.200897194 14.840948330 -72.169589535 14.737815338 -72.166827349 14.728771797 -72.198130307</td></tr>\n",
       "<tr><td>143912742</td><td>jw01227001003_02101_00003</td><td>1b, 2a, 2b, 2c</td><td>NGC-346</td><td>14.77060458333333</td><td>-72.16920833333336</td><td>MIRI</td><td>MIR_IMAGE</td><td>F770W</td><td>2022-10-10T07:48:42.3010000</td><td>77.701</td><td>1227</td><td>1</td><td>3</td><td>2023-10-11T03:39:23</td><td>Meixner, Margaret</td><td>GTO</td><td>1</td><td>FIXED</td><td>PUBLIC</td><td>0.0</td><td>POLYGON ICRS  14.831873808 -72.200737141 14.840743470 -72.169429492 14.737611403 -72.166667201 14.728567602 -72.197970149</td></tr>\n",
       "<tr><td>143912909</td><td>jw01227001003_02101_00004</td><td>1b, 2a, 2b, 2c</td><td>NGC-346</td><td>14.77060458333333</td><td>-72.16920833333336</td><td>MIRI</td><td>MIR_IMAGE</td><td>F770W</td><td>2022-10-10T07:51:20.4450000</td><td>77.701</td><td>1227</td><td>1</td><td>3</td><td>2023-10-11T03:40:28</td><td>Meixner, Margaret</td><td>GTO</td><td>1</td><td>FIXED</td><td>PUBLIC</td><td>0.0</td><td>POLYGON ICRS  14.831263208 -72.200582600 14.840133599 -72.169274972 14.737002468 -72.166512433 14.727957942 -72.197815361</td></tr>\n",
       "<tr><td>143912806</td><td>jw01227001003_02103_00001</td><td>1b, 2a, 2b, 2c</td><td>NGC-346</td><td>14.77060458333333</td><td>-72.16920833333336</td><td>MIRI</td><td>MIR_IMAGE</td><td>F1000W</td><td>2022-10-10T07:56:20.1650000</td><td>99.901</td><td>1227</td><td>1</td><td>3</td><td>2023-10-11T03:43:08</td><td>Meixner, Margaret</td><td>GTO</td><td>1</td><td>FIXED</td><td>PUBLIC</td><td>0.0</td><td>POLYGON ICRS  14.830832238 -72.200900116 14.839703832 -72.169592516 14.736571018 -72.166829653 14.727525283 -72.198132552</td></tr>\n",
       "</table></div>"
      ],
      "text/plain": [
       "<Table masked=True length=5>\n",
       "ArchiveFileID ...\n",
       "    int64     ...\n",
       "------------- ...\n",
       "    143912893 ...\n",
       "    143912790 ...\n",
       "    143912742 ...\n",
       "    143912909 ...\n",
       "    143912806 ..."
      ]
     },
     "execution_count": 22,
     "metadata": {},
     "output_type": "execute_result"
    }
   ],
   "source": [
    "# Query JWST for NGC 346\n",
    "results = multi_mission.query_object('NGC 346',\n",
    "                                     radius=0.2)  # Search within a 0.2 arcminute radius\n",
    "\n",
    "# Display results\n",
    "print(f'Total number of datasets: {len(results)}')\n",
    "results[:5]"
   ]
  },
  {
   "cell_type": "markdown",
   "metadata": {},
   "source": [
    "This query returned over 160 JWST datasets. Now, let's try it with a different data collection. We'll reassign the `mission` attribute on the `multi_mission` object to be `'ullyses'` and run the same query."
   ]
  },
  {
   "cell_type": "code",
   "execution_count": 23,
   "metadata": {
    "execution": {
     "iopub.execute_input": "2025-03-27T19:27:34.295258Z",
     "iopub.status.busy": "2025-03-27T19:27:34.294901Z",
     "iopub.status.idle": "2025-03-27T19:27:34.298760Z",
     "shell.execute_reply": "2025-03-27T19:27:34.298323Z"
    }
   },
   "outputs": [
    {
     "data": {
      "text/plain": [
       "'ullyses'"
      ]
     },
     "execution_count": 23,
     "metadata": {},
     "output_type": "execute_result"
    }
   ],
   "source": [
    "multi_mission.mission = 'ullyses'\n",
    "multi_mission.mission"
   ]
  },
  {
   "cell_type": "code",
   "execution_count": 24,
   "metadata": {
    "execution": {
     "iopub.execute_input": "2025-03-27T19:27:34.300511Z",
     "iopub.status.busy": "2025-03-27T19:27:34.300341Z",
     "iopub.status.idle": "2025-03-27T19:27:35.566044Z",
     "shell.execute_reply": "2025-03-27T19:27:35.565581Z"
    }
   },
   "outputs": [
    {
     "name": "stdout",
     "output_type": "stream",
     "text": [
      "Total number of datasets: 2\n"
     ]
    },
    {
     "data": {
      "text/html": [
       "<div><i>Table masked=True length=2</i>\n",
       "<table id=\"table140612936457744\" class=\"table-striped table-bordered table-condensed\">\n",
       "<thead><tr><th>search_pos</th><th>target_id</th><th>names_search</th><th>target_name_hlsp</th><th>simbad_link</th><th>target_classification</th><th>targ_ra</th><th>targ_dec</th><th>host_galaxy_name</th><th>spectral_type</th><th>bmv0_mag</th><th>u_mag</th><th>b_mag</th><th>v_mag</th><th>gaia_g_mean_mag</th><th>star_mass</th><th>instrument</th><th>grating</th><th>filter</th><th>observation_id</th><th>ang_sep</th></tr></thead>\n",
       "<thead><tr><th>str17</th><th>int64</th><th>str48</th><th>str14</th><th>str66</th><th>str12</th><th>float64</th><th>float64</th><th>str3</th><th>str4</th><th>float64</th><th>float64</th><th>float64</th><th>float64</th><th>float64</th><th>float64</th><th>str4</th><th>str5</th><th>str1</th><th>str39</th><th>str19</th></tr></thead>\n",
       "<tr><td>14.76833 -72.1775</td><td>55</td><td>NGC346 MPG 396,Cl* NGC346 MPG 396,NGC346-MPG-396</td><td>NGC346-MPG-396</td><td>https://simbad.u-strasbg.fr/simbad/sim-id?Ident=Cl*+NGC346+MPG+396</td><td>Mid O Dwarf</td><td>14.762184457428036</td><td>-72.17637442586573</td><td>SMC</td><td>O7 V</td><td>-0.27</td><td>13.09</td><td>14.17</td><td>14.39</td><td>14.382007</td><td>--</td><td>COS</td><td>G160M</td><td>--</td><td>hlsp_ullyses_hst_cos_ngc346-mpg-396_uv</td><td>0.13152388757468492</td></tr>\n",
       "<tr><td>14.76833 -72.1775</td><td>57</td><td>NGC346 MPG 487,Cl* NGC346 MPG 487,NGC346-MPG-487</td><td>NGC346-MPG-487</td><td>https://simbad.u-strasbg.fr/simbad/sim-id?Ident=Cl*+NGC346+MPG+487</td><td>Late O Dwarf</td><td>14.778136436564196</td><td>-72.17813531865009</td><td>SMC</td><td>O8 V</td><td>-0.27</td><td>13.3</td><td>14.31</td><td>14.53</td><td>14.499837</td><td>25.7</td><td>STIS</td><td>E140M</td><td>--</td><td>hlsp_ullyses_hst_stis_ngc346-mpg-487_uv</td><td>0.18407398702435046</td></tr>\n",
       "</table></div>"
      ],
      "text/plain": [
       "<Table masked=True length=2>\n",
       "    search_pos    target_id ...       ang_sep      \n",
       "      str17         int64   ...        str19       \n",
       "----------------- --------- ... -------------------\n",
       "14.76833 -72.1775        55 ... 0.13152388757468492\n",
       "14.76833 -72.1775        57 ... 0.18407398702435046"
      ]
     },
     "execution_count": 24,
     "metadata": {},
     "output_type": "execute_result"
    }
   ],
   "source": [
    "# Query ULLYSES for NGC 346\n",
    "results = multi_mission.query_object('NGC 346',\n",
    "                                     radius=0.2)  # Search within a 0.2 arcminute radius\n",
    "\n",
    "# Display results\n",
    "print(f'Total number of datasets: {len(results)}')\n",
    "results[:5]"
   ]
  },
  {
   "cell_type": "markdown",
   "metadata": {},
   "source": [
    "Notice that this query returned only a few datasets. The result tables also look very different in terms of data and column keywords. This is because each query is being performed on a different data collection!"
   ]
  },
  {
   "cell_type": "markdown",
   "metadata": {},
   "source": [
    "## Exercises\n",
    "\n",
    "**Exercise 1**: It's time to apply all that you've learned and try your hand at writing a `MastMissions` query! Write a non-positional query based on the following:\n",
    "\n",
    "- Image observations\n",
    "- Instrument should NOT include the [Cosmic Origins Spectrograph (COS)](https://www.stsci.edu/hst/instrumentation/cos)\n",
    "- Filter used is F150W, F105W, or F110W\n",
    "- Declination is greater than 0 degrees\n",
    "- Exposure time is between 1000 and 2000 seconds\n",
    "- Target name contains the string \"GAL\"\n",
    "- Skip the first 5 entries\n",
    "- Sort by exposure time in descending order\n",
    "- Limit the results to 3 datasets"
   ]
  },
  {
   "cell_type": "code",
   "execution_count": 25,
   "metadata": {
    "execution": {
     "iopub.execute_input": "2025-03-27T19:27:35.568007Z",
     "iopub.status.busy": "2025-03-27T19:27:35.567675Z",
     "iopub.status.idle": "2025-03-27T19:27:35.570028Z",
     "shell.execute_reply": "2025-03-27T19:27:35.569598Z"
    }
   },
   "outputs": [],
   "source": [
    "# A non-positional query with column criteria\n",
    "# results = missions.query_criteria(...)  # Write your query here!\n",
    "\n",
    "# Display results\n",
    "# results"
   ]
  },
  {
   "cell_type": "markdown",
   "metadata": {},
   "source": [
    "**Exercise 2**: Using your results from Exercise 1, download the association table data products for the 3 datasets (HINT: `file_suffix = 'ASN'`). You can fetch, filter, and download the products as three separate steps, or use the streamlined workflow built in to `download_products`."
   ]
  },
  {
   "cell_type": "code",
   "execution_count": 26,
   "metadata": {
    "execution": {
     "iopub.execute_input": "2025-03-27T19:27:35.571782Z",
     "iopub.status.busy": "2025-03-27T19:27:35.571445Z",
     "iopub.status.idle": "2025-03-27T19:27:35.573693Z",
     "shell.execute_reply": "2025-03-27T19:27:35.573274Z"
    }
   },
   "outputs": [],
   "source": [
    "# Fetch products from 3 datasets\n",
    "# products = missions.get_product_list(...)\n",
    "\n",
    "# Filter products\n",
    "# filtered = missions.filter_products(...)\n",
    "\n",
    "# Download products\n",
    "# missions.download_products(...)"
   ]
  },
  {
   "cell_type": "markdown",
   "metadata": {},
   "source": [
    "**Exercise 3**: Use a new `MastMissions` object and the `mission` attribute to search for datasets around the coordinate \"22h57m39s -29d37m20s\" from both HST and JWST. Use a radius of 0.1 arcminutes."
   ]
  },
  {
   "cell_type": "code",
   "execution_count": 27,
   "metadata": {
    "execution": {
     "iopub.execute_input": "2025-03-27T19:27:35.575381Z",
     "iopub.status.busy": "2025-03-27T19:27:35.575067Z",
     "iopub.status.idle": "2025-03-27T19:27:35.577667Z",
     "shell.execute_reply": "2025-03-27T19:27:35.577112Z"
    }
   },
   "outputs": [],
   "source": [
    "# Create new MastMissions object\n",
    "#m = MastMissions()\n",
    "\n",
    "# Create sky coordinate object\n",
    "#coord = SkyCoord(...)\n",
    "\n",
    "# Query HST metadata for region\n",
    "#results = m.query_region(...)\n",
    "\n",
    "# Display the first 5 results\n",
    "#print(f'Total number of datasets: {len(results)}')\n",
    "#results[:5]"
   ]
  },
  {
   "cell_type": "code",
   "execution_count": 28,
   "metadata": {
    "execution": {
     "iopub.execute_input": "2025-03-27T19:27:35.579380Z",
     "iopub.status.busy": "2025-03-27T19:27:35.579075Z",
     "iopub.status.idle": "2025-03-27T19:27:35.581584Z",
     "shell.execute_reply": "2025-03-27T19:27:35.581105Z"
    }
   },
   "outputs": [],
   "source": [
    "# Switch mission to JWST\n",
    "# ...\n",
    "\n",
    "# Query JWST metadata for region\n",
    "#results = m.query_region(...)\n",
    "\n",
    "# Display the first 5 results\n",
    "#print(f'Total number of datasets: {len(results)}')\n",
    "#results[:5]"
   ]
  },
  {
   "cell_type": "markdown",
   "metadata": {},
   "source": [
    "## Exercise Solutions\n",
    "\n",
    "**Exercise 1:**"
   ]
  },
  {
   "cell_type": "code",
   "execution_count": 29,
   "metadata": {
    "execution": {
     "iopub.execute_input": "2025-03-27T19:27:35.583105Z",
     "iopub.status.busy": "2025-03-27T19:27:35.582942Z",
     "iopub.status.idle": "2025-03-27T19:27:35.959924Z",
     "shell.execute_reply": "2025-03-27T19:27:35.959370Z"
    }
   },
   "outputs": [
    {
     "name": "stderr",
     "output_type": "stream",
     "text": [
      "WARNING: MaxResultsWarning: Maximum results returned, may not include all sources within radius. [astroquery.mast.missions]\n"
     ]
    },
    {
     "data": {
      "text/html": [
       "<div><i>Table masked=True length=3</i>\n",
       "<table id=\"table140612939314512\" class=\"table-striped table-bordered table-condensed\">\n",
       "<thead><tr><th>sci_data_set_name</th><th>sci_targname</th><th>sci_hapnum</th><th>sci_haspnum</th><th>sci_instrume</th><th>sci_aper_1234</th><th>sci_spec_1234</th><th>sci_actual_duration</th><th>sci_start_time</th><th>sci_pep_id</th><th>sci_pi_last_name</th><th>sci_ra</th><th>sci_dec</th><th>sci_refnum</th><th>sci_central_wavelength</th><th>sci_release_date</th><th>sci_stop_time</th><th>sci_preview_name</th><th>scp_scan_type</th><th>sci_hlsp</th></tr></thead>\n",
       "<thead><tr><th>str9</th><th>str27</th><th>int64</th><th>int64</th><th>str6</th><th>str6</th><th>str5</th><th>float64</th><th>str26</th><th>int64</th><th>str6</th><th>float64</th><th>float64</th><th>int64</th><th>float64</th><th>str19</th><th>str26</th><th>str9</th><th>str1</th><th>int64</th></tr></thead>\n",
       "<tr><td>N4A705010</td><td>GAL-CLUS-0026+1653-ARCC</td><td>0</td><td>0</td><td>NICMOS</td><td>NIC1</td><td>F110W</td><td>1151.9038</td><td>1998-01-08T03:44:07.490000</td><td>7425</td><td>TURNER</td><td>6.657118050129</td><td>17.16004527511</td><td>0</td><td>11292.4</td><td>1999-01-08T19:47:33</td><td>1998-01-08T04:04:06.490000</td><td>N4A705010</td><td>--</td><td>--</td></tr>\n",
       "<tr><td>N4A703010</td><td>GAL-CLUS-0026+1653-ARCD</td><td>0</td><td>0</td><td>NICMOS</td><td>NIC1</td><td>F110W</td><td>1151.9038</td><td>1997-10-31T14:20:31.493000</td><td>7425</td><td>TURNER</td><td>6.64289440364</td><td>17.16556874169</td><td>0</td><td>11292.4</td><td>1998-10-31T21:30:52</td><td>1997-10-31T14:40:30.493000</td><td>N4A703010</td><td>--</td><td>--</td></tr>\n",
       "<tr><td>IF9V31030</td><td>VIRGO-INTERGALACTIC-FIELD-E</td><td>1</td><td>0</td><td>WFC3</td><td>IR-FIX</td><td>F110W</td><td>1058.805543</td><td>2023-12-14T15:40:25.307000</td><td>17510</td><td>GREGG</td><td>187.6896916667</td><td>12.99041111111</td><td>0</td><td>11534.459</td><td>2023-12-14T21:58:47</td><td>2023-12-14T16:08:42.237000</td><td>IF9V31030</td><td>--</td><td>--</td></tr>\n",
       "</table></div>"
      ],
      "text/plain": [
       "<Table masked=True length=3>\n",
       "sci_data_set_name         sci_targname        ... scp_scan_type sci_hlsp\n",
       "       str9                  str27            ...      str1      int64  \n",
       "----------------- --------------------------- ... ------------- --------\n",
       "        N4A705010     GAL-CLUS-0026+1653-ARCC ...            --       --\n",
       "        N4A703010     GAL-CLUS-0026+1653-ARCD ...            --       --\n",
       "        IF9V31030 VIRGO-INTERGALACTIC-FIELD-E ...            --       --"
      ]
     },
     "execution_count": 29,
     "metadata": {},
     "output_type": "execute_result"
    }
   ],
   "source": [
    "# A non-positional query with column criteria\n",
    "results = missions.query_criteria(sci_obs_type='IMAGE',\n",
    "                                  sci_instrume='!COS',\n",
    "                                  sci_spec_1234='F150W, F105W, F110W',\n",
    "                                  sci_dec='>0',\n",
    "                                  sci_actual_duration='1000..2000',\n",
    "                                  sci_targname='*GAL*',\n",
    "                                  offset=5,\n",
    "                                  sort_by=['sci_actual_duration'],\n",
    "                                  sort_desc=[True],\n",
    "                                  limit=3)\n",
    "\n",
    "# Display results\n",
    "results"
   ]
  },
  {
   "cell_type": "markdown",
   "metadata": {},
   "source": [
    "**Exercise 2:**"
   ]
  },
  {
   "cell_type": "code",
   "execution_count": 30,
   "metadata": {
    "execution": {
     "iopub.execute_input": "2025-03-27T19:27:35.961842Z",
     "iopub.status.busy": "2025-03-27T19:27:35.961559Z",
     "iopub.status.idle": "2025-03-27T19:27:38.091016Z",
     "shell.execute_reply": "2025-03-27T19:27:38.090540Z"
    }
   },
   "outputs": [
    {
     "name": "stdout",
     "output_type": "stream",
     "text": [
      "Downloading URL https://mast.stsci.edu/search/hst/api/v0.1/retrieve_product?product_name=IF9V31030%2Fif9v31030_asn.fits to mastDownload/hst/IF9V31030/if9v31030_asn.fits ..."
     ]
    },
    {
     "name": "stdout",
     "output_type": "stream",
     "text": [
      " [Done]\n"
     ]
    },
    {
     "name": "stdout",
     "output_type": "stream",
     "text": [
      "Downloading URL https://mast.stsci.edu/search/hst/api/v0.1/retrieve_product?product_name=N4A703010%2Fn4a703010_asn.fits to mastDownload/hst/N4A703010/n4a703010_asn.fits ..."
     ]
    },
    {
     "name": "stdout",
     "output_type": "stream",
     "text": [
      " [Done]\n"
     ]
    },
    {
     "name": "stdout",
     "output_type": "stream",
     "text": [
      "Downloading URL https://mast.stsci.edu/search/hst/api/v0.1/retrieve_product?product_name=N4A705010%2Fn4a705010_asn.fits to mastDownload/hst/N4A705010/n4a705010_asn.fits ..."
     ]
    },
    {
     "name": "stdout",
     "output_type": "stream",
     "text": [
      " [Done]\n"
     ]
    },
    {
     "data": {
      "text/html": [
       "<div><i>Table length=3</i>\n",
       "<table id=\"table140612938857232\" class=\"table-striped table-bordered table-condensed\">\n",
       "<thead><tr><th>Local Path</th><th>Status</th><th>Message</th><th>URL</th></tr></thead>\n",
       "<thead><tr><th>object</th><th>str8</th><th>object</th><th>object</th></tr></thead>\n",
       "<tr><td>mastDownload/hst/IF9V31030/if9v31030_asn.fits</td><td>COMPLETE</td><td>None</td><td>None</td></tr>\n",
       "<tr><td>mastDownload/hst/N4A703010/n4a703010_asn.fits</td><td>COMPLETE</td><td>None</td><td>None</td></tr>\n",
       "<tr><td>mastDownload/hst/N4A705010/n4a705010_asn.fits</td><td>COMPLETE</td><td>None</td><td>None</td></tr>\n",
       "</table></div>"
      ],
      "text/plain": [
       "<Table length=3>\n",
       "                  Local Path                   Status  Message  URL  \n",
       "                    object                      str8    object object\n",
       "--------------------------------------------- -------- ------- ------\n",
       "mastDownload/hst/IF9V31030/if9v31030_asn.fits COMPLETE    None   None\n",
       "mastDownload/hst/N4A703010/n4a703010_asn.fits COMPLETE    None   None\n",
       "mastDownload/hst/N4A705010/n4a705010_asn.fits COMPLETE    None   None"
      ]
     },
     "execution_count": 30,
     "metadata": {},
     "output_type": "execute_result"
    }
   ],
   "source": [
    "# As 3 separate steps\n",
    "# Fetch products from first 3 datasets\n",
    "products = missions.get_product_list(results)\n",
    "\n",
    "# Filter products\n",
    "filtered = missions.filter_products(products,\n",
    "                                    file_suffix='ASN')\n",
    "\n",
    "# Download products\n",
    "missions.download_products(filtered)"
   ]
  },
  {
   "cell_type": "code",
   "execution_count": 31,
   "metadata": {
    "execution": {
     "iopub.execute_input": "2025-03-27T19:27:38.092759Z",
     "iopub.status.busy": "2025-03-27T19:27:38.092590Z",
     "iopub.status.idle": "2025-03-27T19:27:40.705139Z",
     "shell.execute_reply": "2025-03-27T19:27:40.704707Z"
    }
   },
   "outputs": [
    {
     "name": "stdout",
     "output_type": "stream",
     "text": [
      "INFO: Found cached file mastDownload/hst/IF9V31030/if9v31030_asn.fits with expected size 11520. [astroquery.query]\n"
     ]
    },
    {
     "name": "stdout",
     "output_type": "stream",
     "text": [
      "INFO: Found cached file mastDownload/hst/N4A703010/n4a703010_asn.fits with expected size 11520. [astroquery.query]\n"
     ]
    },
    {
     "name": "stdout",
     "output_type": "stream",
     "text": [
      "INFO: Found cached file mastDownload/hst/N4A705010/n4a705010_asn.fits with expected size 11520. [astroquery.query]\n"
     ]
    },
    {
     "data": {
      "text/html": [
       "<div><i>Table length=3</i>\n",
       "<table id=\"table140612937703184\" class=\"table-striped table-bordered table-condensed\">\n",
       "<thead><tr><th>Local Path</th><th>Status</th><th>Message</th><th>URL</th></tr></thead>\n",
       "<thead><tr><th>object</th><th>str8</th><th>object</th><th>object</th></tr></thead>\n",
       "<tr><td>mastDownload/hst/IF9V31030/if9v31030_asn.fits</td><td>COMPLETE</td><td>None</td><td>None</td></tr>\n",
       "<tr><td>mastDownload/hst/N4A703010/n4a703010_asn.fits</td><td>COMPLETE</td><td>None</td><td>None</td></tr>\n",
       "<tr><td>mastDownload/hst/N4A705010/n4a705010_asn.fits</td><td>COMPLETE</td><td>None</td><td>None</td></tr>\n",
       "</table></div>"
      ],
      "text/plain": [
       "<Table length=3>\n",
       "                  Local Path                   Status  Message  URL  \n",
       "                    object                      str8    object object\n",
       "--------------------------------------------- -------- ------- ------\n",
       "mastDownload/hst/IF9V31030/if9v31030_asn.fits COMPLETE    None   None\n",
       "mastDownload/hst/N4A703010/n4a703010_asn.fits COMPLETE    None   None\n",
       "mastDownload/hst/N4A705010/n4a705010_asn.fits COMPLETE    None   None"
      ]
     },
     "execution_count": 31,
     "metadata": {},
     "output_type": "execute_result"
    }
   ],
   "source": [
    "# Streamlined\n",
    "missions.download_products(results['sci_data_set_name'].tolist(),\n",
    "                           file_suffix='ASN')"
   ]
  },
  {
   "cell_type": "markdown",
   "metadata": {},
   "source": [
    "**Exercise 3:**"
   ]
  },
  {
   "cell_type": "code",
   "execution_count": 32,
   "metadata": {
    "execution": {
     "iopub.execute_input": "2025-03-27T19:27:40.707078Z",
     "iopub.status.busy": "2025-03-27T19:27:40.706736Z",
     "iopub.status.idle": "2025-03-27T19:27:41.944196Z",
     "shell.execute_reply": "2025-03-27T19:27:41.943709Z"
    }
   },
   "outputs": [
    {
     "name": "stdout",
     "output_type": "stream",
     "text": [
      "Total number of datasets: 476\n"
     ]
    },
    {
     "data": {
      "text/html": [
       "<div><i>Table masked=True length=5</i>\n",
       "<table id=\"table140612936719440\" class=\"table-striped table-bordered table-condensed\">\n",
       "<thead><tr><th>search_pos</th><th>sci_data_set_name</th><th>sci_targname</th><th>sci_hapnum</th><th>sci_haspnum</th><th>sci_instrume</th><th>sci_aper_1234</th><th>sci_spec_1234</th><th>sci_actual_duration</th><th>sci_start_time</th><th>sci_pep_id</th><th>sci_pi_last_name</th><th>sci_ra</th><th>sci_dec</th><th>sci_refnum</th><th>sci_central_wavelength</th><th>sci_release_date</th><th>sci_stop_time</th><th>sci_preview_name</th><th>scp_scan_type</th><th>sci_hlsp</th><th>ang_sep</th></tr></thead>\n",
       "<thead><tr><th>str18</th><th>str9</th><th>str19</th><th>int64</th><th>int64</th><th>str6</th><th>str12</th><th>str13</th><th>float64</th><th>str26</th><th>int64</th><th>str9</th><th>float64</th><th>float64</th><th>int64</th><th>float64</th><th>str26</th><th>str26</th><th>str9</th><th>str1</th><th>int64</th><th>str20</th></tr></thead>\n",
       "<tr><td>344.4125 -29.62222</td><td>N4N92Q040</td><td>HD216956</td><td>0</td><td>0</td><td>NICMOS</td><td>NIC2-FIX</td><td>F222M</td><td>255.923</td><td>1998-08-06T01:24:53.733000</td><td>7894</td><td>HENRY</td><td>344.4125879875</td><td>-29.62214772201</td><td>8</td><td>22181.699</td><td>2000-07-04T20:12:32</td><td>1998-08-06T01:29:20.733000</td><td>N4N92Q040</td><td>--</td><td>--</td><td>0.006314126839181508</td></tr>\n",
       "<tr><td>344.4125 -29.62222</td><td>N4N92Q030</td><td>HD216956</td><td>0</td><td>0</td><td>NICMOS</td><td>NIC2-FIX</td><td>F207M</td><td>255.923</td><td>1998-08-06T01:19:59.733000</td><td>7894</td><td>HENRY</td><td>344.4125879884</td><td>-29.62214772055</td><td>8</td><td>20824.1</td><td>2000-07-04T20:12:32</td><td>1998-08-06T01:24:26.733000</td><td>N4N92Q030</td><td>--</td><td>--</td><td>0.00631422112268177</td></tr>\n",
       "<tr><td>344.4125 -29.62222</td><td>N4N92Q020</td><td>HD216956</td><td>0</td><td>0</td><td>NICMOS</td><td>NIC2-FIX</td><td>F180M</td><td>127.92868</td><td>1998-08-06T01:17:16.733000</td><td>7894</td><td>HENRY</td><td>344.412587989</td><td>-29.62214771973</td><td>8</td><td>17971.1</td><td>2000-07-04T20:12:32</td><td>1998-08-06T01:19:35.733000</td><td>N4N92Q020</td><td>--</td><td>--</td><td>0.006314277659432727</td></tr>\n",
       "<tr><td>344.4125 -29.62222</td><td>N4N92Q010</td><td>HD216956</td><td>0</td><td>0</td><td>NICMOS</td><td>NIC2-FIX</td><td>F110W</td><td>127.92868</td><td>1998-08-06T01:14:30.733000</td><td>7894</td><td>HENRY</td><td>344.4125879895</td><td>-29.62214771891</td><td>8</td><td>11284.7</td><td>2000-07-04T20:12:32</td><td>1998-08-06T01:16:49.733000</td><td>N4N92Q010</td><td>--</td><td>--</td><td>0.006314330409832213</td></tr>\n",
       "<tr><td>344.4125 -29.62222</td><td>Z3EJ0102T</td><td>HD216956</td><td>0</td><td>0</td><td>HRS</td><td>2.0</td><td>MIRROR-A1</td><td>0.0</td><td>1996-09-30T08:18:34.937000</td><td>6627</td><td>LALLEMENT</td><td>344.4123659004</td><td>-29.6221209983</td><td>0</td><td>--</td><td>1997-09-30T22:45:42</td><td>1996-09-30T08:22:46.937000</td><td>--</td><td>--</td><td>--</td><td>0.00917640457522127</td></tr>\n",
       "</table></div>"
      ],
      "text/plain": [
       "<Table masked=True length=5>\n",
       "    search_pos     sci_data_set_name ... sci_hlsp       ang_sep       \n",
       "      str18               str9       ...  int64          str20        \n",
       "------------------ ----------------- ... -------- --------------------\n",
       "344.4125 -29.62222         N4N92Q040 ...       -- 0.006314126839181508\n",
       "344.4125 -29.62222         N4N92Q030 ...       --  0.00631422112268177\n",
       "344.4125 -29.62222         N4N92Q020 ...       -- 0.006314277659432727\n",
       "344.4125 -29.62222         N4N92Q010 ...       -- 0.006314330409832213\n",
       "344.4125 -29.62222         Z3EJ0102T ...       --  0.00917640457522127"
      ]
     },
     "execution_count": 32,
     "metadata": {},
     "output_type": "execute_result"
    }
   ],
   "source": [
    "# Create new MastMissions object\n",
    "m = MastMissions()\n",
    "\n",
    "# Create sky coordinate object\n",
    "coord = SkyCoord('22h57m39s -29d37m20s')\n",
    "\n",
    "# Query HST metadata for region\n",
    "results = m.query_region(coord,\n",
    "                         radius=0.1)\n",
    "\n",
    "# Display the first 5 results\n",
    "print(f'Total number of datasets: {len(results)}')\n",
    "results[:5]"
   ]
  },
  {
   "cell_type": "code",
   "execution_count": 33,
   "metadata": {
    "execution": {
     "iopub.execute_input": "2025-03-27T19:27:41.946116Z",
     "iopub.status.busy": "2025-03-27T19:27:41.945791Z",
     "iopub.status.idle": "2025-03-27T19:27:43.401957Z",
     "shell.execute_reply": "2025-03-27T19:27:43.401444Z"
    }
   },
   "outputs": [
    {
     "name": "stdout",
     "output_type": "stream",
     "text": [
      "Total number of datasets: 67\n"
     ]
    },
    {
     "data": {
      "text/html": [
       "<div><i>Table masked=True length=5</i>\n",
       "<table id=\"table140612937706576\" class=\"table-striped table-bordered table-condensed\">\n",
       "<thead><tr><th>ArchiveFileID</th><th>fileSetName</th><th>productLevel</th><th>targprop</th><th>targ_ra</th><th>targ_dec</th><th>instrume</th><th>exp_type</th><th>opticalElements</th><th>date_obs</th><th>duration</th><th>program</th><th>observtn</th><th>visit</th><th>publicReleaseDate</th><th>pi_name</th><th>proposal_type</th><th>proposal_cycle</th><th>targtype</th><th>access</th><th>ang_sep</th><th>s_region</th></tr></thead>\n",
       "<thead><tr><th>int64</th><th>str25</th><th>str14</th><th>str25</th><th>float64</th><th>float64</th><th>str6</th><th>str13</th><th>str48</th><th>str27</th><th>float64</th><th>int64</th><th>int64</th><th>int64</th><th>str19</th><th>str20</th><th>str3</th><th>int64</th><th>str5</th><th>str16</th><th>float64</th><th>str125</th></tr></thead>\n",
       "<tr><td>139989292</td><td>jw01193006001_02101_00001</td><td>1b, 2a, 2b, 2c</td><td>FOMALHAUT</td><td>344.4150901092018</td><td>-29.62327928996265</td><td>MIRI</td><td>MIR_IMAGE</td><td>F2550W</td><td>2022-10-21T20:17:08.6000000</td><td>269.102</td><td>1193</td><td>6</td><td>1</td><td>2023-10-21T22:14:59</td><td>Beichman, Charles A.</td><td>GTO</td><td>1</td><td>FIXED</td><td>PUBLIC</td><td>0.0</td><td>POLYGON ICRS  344.416945941 -29.634867957 344.430963749 -29.624870548 344.419463505 -29.612685854 344.405446251 -29.622682055</td></tr>\n",
       "<tr><td>139989097</td><td>jw01193006001_02101_00002</td><td>1b, 2a, 2b, 2c</td><td>FOMALHAUT</td><td>344.4150901103719</td><td>-29.62327929047184</td><td>MIRI</td><td>MIR_IMAGE</td><td>F2550W</td><td>2022-10-21T20:22:59.8950000</td><td>269.102</td><td>1193</td><td>6</td><td>1</td><td>2023-10-21T22:12:51</td><td>Beichman, Charles A.</td><td>GTO</td><td>1</td><td>FIXED</td><td>PUBLIC</td><td>0.0</td><td>POLYGON ICRS  344.412656622 -29.637704686 344.426675121 -29.627707591 344.415174915 -29.615522640 344.401156970 -29.625518526</td></tr>\n",
       "<tr><td>139993460</td><td>jw01193006001_02101_00003</td><td>1b, 2a, 2b, 2c</td><td>FOMALHAUT</td><td>344.415090111542</td><td>-29.62327929098103</td><td>MIRI</td><td>MIR_IMAGE</td><td>F2550W</td><td>2022-10-21T20:28:51.1910000</td><td>269.102</td><td>1193</td><td>6</td><td>1</td><td>2023-10-21T22:12:48</td><td>Beichman, Charles A.</td><td>GTO</td><td>1</td><td>FIXED</td><td>PUBLIC</td><td>0.0</td><td>POLYGON ICRS  344.409957160 -29.633906844 344.423975376 -29.623910009 344.412475902 -29.611724845 344.398458241 -29.621720471</td></tr>\n",
       "<tr><td>139989372</td><td>jw01193006001_02101_00004</td><td>1b, 2a, 2b, 2c</td><td>FOMALHAUT</td><td>344.4150901127151</td><td>-29.62327929149152</td><td>MIRI</td><td>MIR_IMAGE</td><td>F2550W</td><td>2022-10-21T20:34:43.3830000</td><td>269.102</td><td>1193</td><td>6</td><td>1</td><td>2023-10-21T22:13:16</td><td>Beichman, Charles A.</td><td>GTO</td><td>1</td><td>FIXED</td><td>PUBLIC</td><td>0.0</td><td>POLYGON ICRS  344.413657972 -29.632148129 344.427675548 -29.622150875 344.416175792 -29.609966055 344.402158771 -29.619962101</td></tr>\n",
       "<tr><td>139989260</td><td>jw01193007001_02101_00001</td><td>1b, 2a, 2b</td><td>FOMALHAUT-COPY-MIRI-CORON</td><td>344.4150901161078</td><td>-29.62327929296791</td><td>MIRI</td><td>MIR_TACQ</td><td>FND</td><td>2022-10-21T20:53:55.8600000</td><td>1.296</td><td>1193</td><td>7</td><td>1</td><td>2023-10-22T07:32:01</td><td>Beichman, Charles A.</td><td>GTO</td><td>1</td><td>FIXED</td><td>PUBLIC</td><td>0.0</td><td>POLYGON ICRS  344.413408803 -29.632866313 344.421641699 -29.626915340 344.414573869 -29.619356436 344.406307477 -29.625289351</td></tr>\n",
       "</table></div>"
      ],
      "text/plain": [
       "<Table masked=True length=5>\n",
       "ArchiveFileID ...\n",
       "    int64     ...\n",
       "------------- ...\n",
       "    139989292 ...\n",
       "    139989097 ...\n",
       "    139993460 ...\n",
       "    139989372 ...\n",
       "    139989260 ..."
      ]
     },
     "execution_count": 33,
     "metadata": {},
     "output_type": "execute_result"
    }
   ],
   "source": [
    "# Switch mission to JWST\n",
    "m.mission = 'JWST'\n",
    "\n",
    "# Query JWST metadata for region\n",
    "results = m.query_region(coord,\n",
    "                         radius=0.1)\n",
    "\n",
    "# Display the first 5 results\n",
    "print(f'Total number of datasets: {len(results)}')\n",
    "results[:5]"
   ]
  },
  {
   "cell_type": "markdown",
   "metadata": {},
   "source": [
    "## Additional Resources\n",
    "\n",
    "- [MAST Search Form UI](https://mast.stsci.edu/search/ui/#/)\n",
    "- [MAST Search API](https://mast.stsci.edu/search/docs/)\n",
    "- [`astroquery.mast` Documentation for Mission Searches](https://astroquery.readthedocs.io/en/latest/mast/mast_missions.html#mission-specific-search-queries)"
   ]
  },
  {
   "cell_type": "markdown",
   "metadata": {},
   "source": [
    "## Citations\n",
    "\n",
    "If you use `astroquery` for published research, please cite the\n",
    "authors. Follow these links for more information about citing `astroquery`:\n",
    "\n",
    "* [Citing Astroquery](https://github.com/astropy/astroquery/blob/main/astroquery/CITATION)"
   ]
  },
  {
   "cell_type": "markdown",
   "metadata": {
    "slideshow": {
     "slide_type": "slide"
    }
   },
   "source": [
    "## About this Notebook\n",
    "\n",
    "**Author(s):** Sam Bianco <br>\n",
    "**Keyword(s):** Tutorial, Astroquery, MastMissions <br>\n",
    "**First published:** January 2025 <br>\n",
    "**Last updated:** January 2025 <br>\n",
    "\n",
    "***\n",
    "[Top of Page](#top)\n",
    "<img style=\"float: right;\" src=\"https://raw.githubusercontent.com/spacetelescope/style-guides/master/guides/images/stsci-logo.png\" alt=\"Space Telescope Logo\" width=\"200px\"/> "
   ]
  }
 ],
 "metadata": {
  "kernelspec": {
   "display_name": "Python 3",
   "language": "python",
   "name": "python3"
  },
  "language_info": {
   "codemirror_mode": {
    "name": "ipython",
    "version": 3
   },
   "file_extension": ".py",
   "mimetype": "text/x-python",
   "name": "python",
   "nbconvert_exporter": "python",
   "pygments_lexer": "ipython3",
   "version": "3.11.11"
  }
 },
 "nbformat": 4,
 "nbformat_minor": 4
}
