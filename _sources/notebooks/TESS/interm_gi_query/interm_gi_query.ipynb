{
 "cells": [
  {
   "cell_type": "markdown",
   "metadata": {},
   "source": [
    "<a id=\"intro_ID\"></a>\n",
    "# Intermediate:  Search and Download GI Program Light Curves\n",
    "\n",
    "## Introduction\n",
    "This notebook uses the MAST Portal's advanced search options to retrieve the light curves for a single guest investigator program.  The notbook will show how to do an advanced query on the MAST's database of holdings, determine which data files are associated with those observations and then download the files of interest.  \n",
    "\n",
    "For more information about the TESS mission and collected data, visit the [MAST's TESS homepage](http://archive.stsci.edu/tess/). To read more details about TESS Data Products, look in the [TESS Science Product Description Document](https://archive.stsci.edu/missions/tess/doc/EXP-TESS-ARC-ICD-TM-0014.pdf). A list of Guest Investigator programs can be found at the [TESS GI List of Approved Programs](https://heasarc.gsfc.nasa.gov/docs/tess/approved-programs.html).\n",
    "\n",
    "### Table of Contents \n",
    "<br> [Query MAST](#query_mast)  <br> [Retrieve Product List](#product_list) <br> [Download Data](#download) <br> [Summarize Code](#summary) <br> [About this Notebook](#about_id)"
   ]
  },
  {
   "cell_type": "markdown",
   "metadata": {},
   "source": [
    "***"
   ]
  },
  {
   "cell_type": "markdown",
   "metadata": {},
   "source": [
    "<a id=\"imports_ID\"></a>\n",
    "## Imports\n",
    "- *Observations* module from astroquery.mast is needed to make the query and download.\n",
    "- *astropy.io.fits* module is needed to view the downloaded fits file. \n",
    "<p>\n",
    "For information on how to install astroquery see their [instructions](https://astroquery.readthedocs.io/en/latest/index.html). At the time of writing this requires the latest version on pip."
   ]
  },
  {
   "cell_type": "code",
   "execution_count": 1,
   "metadata": {
    "execution": {
     "iopub.execute_input": "2024-05-02T14:49:25.388307Z",
     "iopub.status.busy": "2024-05-02T14:49:25.388139Z",
     "iopub.status.idle": "2024-05-02T14:49:25.822294Z",
     "shell.execute_reply": "2024-05-02T14:49:25.821747Z"
    }
   },
   "outputs": [],
   "source": [
    "from astroquery.mast import Observations\n",
    "from astropy.io import fits"
   ]
  },
  {
   "cell_type": "markdown",
   "metadata": {},
   "source": [
    "<a id=\"query_mast\"></a>\n",
    "## Query the MAST CAOM Database\n",
    "\n",
    "We want to retrieve TESS timeseries data (lightcurve and target pixel files) for the Guest Investigator program G011183 from Sector 1 (PI: Stephen Kane). We will need to query the MAST holdings database for the observations.  First we will simply count the number of observations and then we will request a table of those observations. \n",
    "\n",
    "All the filter names are listed on the [MAST CAOM Field Description Page](https://mast.stsci.edu/api/v0/_c_a_o_mfields.html). Or, can be found by hovering over the column names after doing a search in the MAST portal. \n",
    "\n",
    "The filters we will need to use are, \n",
    "- **obs_collection** to specify that we want TESS data\n",
    "- **dataproduct_type** to specify that we want timeseries data\n",
    "- **sequence_number** to specify that we want sector 1 \n",
    "- **propsal_id** to specify the GI program number.  \n",
    "\n",
    "Remember that more than one GI can propose for the same target so we need wild cards around the name of the program in our query."
   ]
  },
  {
   "cell_type": "code",
   "execution_count": 2,
   "metadata": {
    "execution": {
     "iopub.execute_input": "2024-05-02T14:49:25.824830Z",
     "iopub.status.busy": "2024-05-02T14:49:25.824643Z",
     "iopub.status.idle": "2024-05-02T14:49:33.868605Z",
     "shell.execute_reply": "2024-05-02T14:49:33.867977Z"
    }
   },
   "outputs": [
    {
     "name": "stdout",
     "output_type": "stream",
     "text": [
      "Number of Observations: 42\n"
     ]
    }
   ],
   "source": [
    "obsCount = Observations.query_criteria_count(obs_collection = \"TESS\",\n",
    "                                             dataproduct_type = [\"timeseries\"],\n",
    "                                             sequence_number = 1,\n",
    "                                             proposal_id = \"*G011183*\")\n",
    "print(\"Number of Observations: %i\" % obsCount)"
   ]
  },
  {
   "cell_type": "code",
   "execution_count": 3,
   "metadata": {
    "execution": {
     "iopub.execute_input": "2024-05-02T14:49:33.899263Z",
     "iopub.status.busy": "2024-05-02T14:49:33.899060Z",
     "iopub.status.idle": "2024-05-02T14:49:43.218380Z",
     "shell.execute_reply": "2024-05-02T14:49:43.217768Z"
    }
   },
   "outputs": [
    {
     "data": {
      "text/html": [
       "<div><i>Table length=5</i>\n",
       "<table id=\"table139809579886416\" class=\"table-striped table-bordered table-condensed\">\n",
       "<thead><tr><th>obsid</th><th>proposal_id</th><th>obs_id</th></tr></thead>\n",
       "<thead><tr><th>str8</th><th>str31</th><th>str47</th></tr></thead>\n",
       "<tr><td>60830931</td><td>G011183_G011025_G011241</td><td>tess2018206045859-s0001-0000000099837626-0120-s</td></tr>\n",
       "<tr><td>60837187</td><td>G011183_G011025_G011250</td><td>tess2018206045859-s0001-0000000052121796-0120-s</td></tr>\n",
       "<tr><td>60838339</td><td>G011183_G011025_G011048</td><td>tess2018206045859-s0001-0000000234501204-0120-s</td></tr>\n",
       "<tr><td>60840841</td><td>G011183_G011025_G011132_G011250</td><td>tess2018206045859-s0001-0000000053895723-0120-s</td></tr>\n",
       "<tr><td>60841518</td><td>G011183_G011025_G011048_G011250</td><td>tess2018206045859-s0001-0000000099734092-0120-s</td></tr>\n",
       "</table></div>"
      ],
      "text/plain": [
       "<Table length=5>\n",
       " obsid   ...                      obs_id                    \n",
       "  str8   ...                      str47                     \n",
       "-------- ... -----------------------------------------------\n",
       "60830931 ... tess2018206045859-s0001-0000000099837626-0120-s\n",
       "60837187 ... tess2018206045859-s0001-0000000052121796-0120-s\n",
       "60838339 ... tess2018206045859-s0001-0000000234501204-0120-s\n",
       "60840841 ... tess2018206045859-s0001-0000000053895723-0120-s\n",
       "60841518 ... tess2018206045859-s0001-0000000099734092-0120-s"
      ]
     },
     "execution_count": 3,
     "metadata": {},
     "output_type": "execute_result"
    }
   ],
   "source": [
    "obsTable = Observations.query_criteria(obs_collection = \"TESS\",\n",
    "                                       dataproduct_type = [\"timeseries\"],\n",
    "                                       sequence_number = 1,\n",
    "                                       proposal_id = \"*G011183*\")\n",
    "obsTable[0:5]['obsid','proposal_id','obs_id']"
   ]
  },
  {
   "cell_type": "markdown",
   "metadata": {},
   "source": [
    "<a id=\"product_list\"></a>\n",
    "## Retrieve the list of Data Products\n",
    "\n",
    "Next we use astroquery to retrieve the list of data products that are associated with each observation.  \n",
    "\n",
    "We will only ask for the data products associated with the first five.  The [0:6] can be removed from the code below to get all the observations."
   ]
  },
  {
   "cell_type": "code",
   "execution_count": 4,
   "metadata": {
    "execution": {
     "iopub.execute_input": "2024-05-02T14:49:43.220571Z",
     "iopub.status.busy": "2024-05-02T14:49:43.220240Z",
     "iopub.status.idle": "2024-05-02T14:49:43.342825Z",
     "shell.execute_reply": "2024-05-02T14:49:43.342269Z"
    }
   },
   "outputs": [
    {
     "data": {
      "text/plain": [
       "['obsID',\n",
       " 'obs_collection',\n",
       " 'dataproduct_type',\n",
       " 'obs_id',\n",
       " 'description',\n",
       " 'type',\n",
       " 'dataURI',\n",
       " 'productType',\n",
       " 'productGroupDescription',\n",
       " 'productSubGroupDescription',\n",
       " 'productDocumentationURL',\n",
       " 'project',\n",
       " 'prvversion',\n",
       " 'proposal_id',\n",
       " 'productFilename',\n",
       " 'size',\n",
       " 'parent_obsid',\n",
       " 'dataRights',\n",
       " 'calib_level',\n",
       " 'filters']"
      ]
     },
     "execution_count": 4,
     "metadata": {},
     "output_type": "execute_result"
    }
   ],
   "source": [
    "dataProducts = Observations.get_product_list(obsTable[0:6])\n",
    "dataProducts.colnames"
   ]
  },
  {
   "cell_type": "code",
   "execution_count": 5,
   "metadata": {
    "execution": {
     "iopub.execute_input": "2024-05-02T14:49:43.344937Z",
     "iopub.status.busy": "2024-05-02T14:49:43.344569Z",
     "iopub.status.idle": "2024-05-02T14:49:43.350511Z",
     "shell.execute_reply": "2024-05-02T14:49:43.349963Z"
    }
   },
   "outputs": [
    {
     "data": {
      "text/html": [
       "<div><i>Table length=12</i>\n",
       "<table id=\"table139809579926800\" class=\"table-striped table-bordered table-condensed\">\n",
       "<thead><tr><th>obsID</th><th>productFilename</th><th>description</th></tr></thead>\n",
       "<thead><tr><th>str8</th><th>str55</th><th>str18</th></tr></thead>\n",
       "<tr><td>60830931</td><td>tess2018206045859-s0001-0000000099837626-0120-s_lc.fits</td><td>Light curves</td></tr>\n",
       "<tr><td>60830931</td><td>tess2018206045859-s0001-0000000099837626-0120-s_tp.fits</td><td>Target pixel files</td></tr>\n",
       "<tr><td>60837187</td><td>tess2018206045859-s0001-0000000052121796-0120-s_lc.fits</td><td>Light curves</td></tr>\n",
       "<tr><td>60837187</td><td>tess2018206045859-s0001-0000000052121796-0120-s_tp.fits</td><td>Target pixel files</td></tr>\n",
       "<tr><td>60838339</td><td>tess2018206045859-s0001-0000000234501204-0120-s_lc.fits</td><td>Light curves</td></tr>\n",
       "<tr><td>60838339</td><td>tess2018206045859-s0001-0000000234501204-0120-s_tp.fits</td><td>Target pixel files</td></tr>\n",
       "<tr><td>60840841</td><td>tess2018206045859-s0001-0000000053895723-0120-s_lc.fits</td><td>Light curves</td></tr>\n",
       "<tr><td>60840841</td><td>tess2018206045859-s0001-0000000053895723-0120-s_tp.fits</td><td>Target pixel files</td></tr>\n",
       "<tr><td>60841518</td><td>tess2018206045859-s0001-0000000099734092-0120-s_lc.fits</td><td>Light curves</td></tr>\n",
       "<tr><td>60841518</td><td>tess2018206045859-s0001-0000000099734092-0120-s_tp.fits</td><td>Target pixel files</td></tr>\n",
       "<tr><td>60843812</td><td>tess2018206045859-s0001-0000000141411201-0120-s_lc.fits</td><td>Light curves</td></tr>\n",
       "<tr><td>60843812</td><td>tess2018206045859-s0001-0000000141411201-0120-s_tp.fits</td><td>Target pixel files</td></tr>\n",
       "</table></div>"
      ],
      "text/plain": [
       "<Table length=12>\n",
       " obsID   ...    description    \n",
       "  str8   ...       str18       \n",
       "-------- ... ------------------\n",
       "60830931 ...       Light curves\n",
       "60830931 ... Target pixel files\n",
       "60837187 ...       Light curves\n",
       "60837187 ... Target pixel files\n",
       "60838339 ...       Light curves\n",
       "60838339 ... Target pixel files\n",
       "60840841 ...       Light curves\n",
       "60840841 ... Target pixel files\n",
       "60841518 ...       Light curves\n",
       "60841518 ... Target pixel files\n",
       "60843812 ...       Light curves\n",
       "60843812 ... Target pixel files"
      ]
     },
     "execution_count": 5,
     "metadata": {},
     "output_type": "execute_result"
    }
   ],
   "source": [
    "dataProducts['obsID', 'productFilename', 'description']"
   ]
  },
  {
   "cell_type": "markdown",
   "metadata": {},
   "source": [
    "## Download Light curves\n",
    "<a id=\"download\"></a>\n",
    "We limit our list of data products to just those with the **description** set to \"Light curves\" because we just want this type of data file. We then download those products and print out the manifest to show the download location. Finally we use fits.info to show the structure of the fits file. "
   ]
  },
  {
   "cell_type": "code",
   "execution_count": 6,
   "metadata": {
    "execution": {
     "iopub.execute_input": "2024-05-02T14:49:43.352749Z",
     "iopub.status.busy": "2024-05-02T14:49:43.352427Z",
     "iopub.status.idle": "2024-05-02T14:49:43.359003Z",
     "shell.execute_reply": "2024-05-02T14:49:43.358476Z"
    }
   },
   "outputs": [
    {
     "name": "stdout",
     "output_type": "stream",
     "text": [
      " obsID   obs_collection dataproduct_type ... dataRights calib_level filters\n",
      "-------- -------------- ---------------- ... ---------- ----------- -------\n",
      "60830931           TESS       timeseries ...     PUBLIC           3    TESS\n",
      "60837187           TESS       timeseries ...     PUBLIC           3    TESS\n",
      "60838339           TESS       timeseries ...     PUBLIC           3    TESS\n",
      "60840841           TESS       timeseries ...     PUBLIC           3    TESS\n",
      "60841518           TESS       timeseries ...     PUBLIC           3    TESS\n",
      "60843812           TESS       timeseries ...     PUBLIC           3    TESS\n"
     ]
    }
   ],
   "source": [
    "want = dataProducts['description'] == \"Light curves\"\n",
    "print(dataProducts[want])"
   ]
  },
  {
   "cell_type": "code",
   "execution_count": 7,
   "metadata": {
    "execution": {
     "iopub.execute_input": "2024-05-02T14:49:43.361115Z",
     "iopub.status.busy": "2024-05-02T14:49:43.360803Z",
     "iopub.status.idle": "2024-05-02T14:49:46.034817Z",
     "shell.execute_reply": "2024-05-02T14:49:46.034362Z"
    }
   },
   "outputs": [
    {
     "name": "stdout",
     "output_type": "stream",
     "text": [
      "Downloading URL https://mast.stsci.edu/api/v0.1/Download/file?uri=mast:TESS/product/tess2018206045859-s0001-0000000099837626-0120-s_lc.fits to ./mastDownload/TESS/tess2018206045859-s0001-0000000099837626-0120-s/tess2018206045859-s0001-0000000099837626-0120-s_lc.fits ..."
     ]
    },
    {
     "name": "stdout",
     "output_type": "stream",
     "text": [
      " [Done]\n"
     ]
    },
    {
     "name": "stdout",
     "output_type": "stream",
     "text": [
      "Downloading URL https://mast.stsci.edu/api/v0.1/Download/file?uri=mast:TESS/product/tess2018206045859-s0001-0000000052121796-0120-s_lc.fits to ./mastDownload/TESS/tess2018206045859-s0001-0000000052121796-0120-s/tess2018206045859-s0001-0000000052121796-0120-s_lc.fits ..."
     ]
    },
    {
     "name": "stdout",
     "output_type": "stream",
     "text": [
      " [Done]\n"
     ]
    },
    {
     "name": "stdout",
     "output_type": "stream",
     "text": [
      "Downloading URL https://mast.stsci.edu/api/v0.1/Download/file?uri=mast:TESS/product/tess2018206045859-s0001-0000000234501204-0120-s_lc.fits to ./mastDownload/TESS/tess2018206045859-s0001-0000000234501204-0120-s/tess2018206045859-s0001-0000000234501204-0120-s_lc.fits ..."
     ]
    },
    {
     "name": "stdout",
     "output_type": "stream",
     "text": [
      " [Done]\n"
     ]
    },
    {
     "name": "stdout",
     "output_type": "stream",
     "text": [
      "Downloading URL https://mast.stsci.edu/api/v0.1/Download/file?uri=mast:TESS/product/tess2018206045859-s0001-0000000053895723-0120-s_lc.fits to ./mastDownload/TESS/tess2018206045859-s0001-0000000053895723-0120-s/tess2018206045859-s0001-0000000053895723-0120-s_lc.fits ..."
     ]
    },
    {
     "name": "stdout",
     "output_type": "stream",
     "text": [
      " [Done]\n"
     ]
    },
    {
     "name": "stdout",
     "output_type": "stream",
     "text": [
      "Downloading URL https://mast.stsci.edu/api/v0.1/Download/file?uri=mast:TESS/product/tess2018206045859-s0001-0000000099734092-0120-s_lc.fits to ./mastDownload/TESS/tess2018206045859-s0001-0000000099734092-0120-s/tess2018206045859-s0001-0000000099734092-0120-s_lc.fits ..."
     ]
    },
    {
     "name": "stdout",
     "output_type": "stream",
     "text": [
      " [Done]\n"
     ]
    },
    {
     "name": "stdout",
     "output_type": "stream",
     "text": [
      "Downloading URL https://mast.stsci.edu/api/v0.1/Download/file?uri=mast:TESS/product/tess2018206045859-s0001-0000000141411201-0120-s_lc.fits to ./mastDownload/TESS/tess2018206045859-s0001-0000000141411201-0120-s/tess2018206045859-s0001-0000000141411201-0120-s_lc.fits ..."
     ]
    },
    {
     "name": "stdout",
     "output_type": "stream",
     "text": [
      " [Done]\n"
     ]
    },
    {
     "name": "stdout",
     "output_type": "stream",
     "text": [
      "                                                         Local Path                                                         ...\n",
      "--------------------------------------------------------------------------------------------------------------------------- ...\n",
      "./mastDownload/TESS/tess2018206045859-s0001-0000000099837626-0120-s/tess2018206045859-s0001-0000000099837626-0120-s_lc.fits ...\n",
      "./mastDownload/TESS/tess2018206045859-s0001-0000000052121796-0120-s/tess2018206045859-s0001-0000000052121796-0120-s_lc.fits ...\n",
      "./mastDownload/TESS/tess2018206045859-s0001-0000000234501204-0120-s/tess2018206045859-s0001-0000000234501204-0120-s_lc.fits ...\n",
      "./mastDownload/TESS/tess2018206045859-s0001-0000000053895723-0120-s/tess2018206045859-s0001-0000000053895723-0120-s_lc.fits ...\n",
      "./mastDownload/TESS/tess2018206045859-s0001-0000000099734092-0120-s/tess2018206045859-s0001-0000000099734092-0120-s_lc.fits ...\n",
      "./mastDownload/TESS/tess2018206045859-s0001-0000000141411201-0120-s/tess2018206045859-s0001-0000000141411201-0120-s_lc.fits ...\n"
     ]
    }
   ],
   "source": [
    "manifest = Observations.download_products(dataProducts[want])\n",
    "print(manifest)"
   ]
  },
  {
   "cell_type": "code",
   "execution_count": 8,
   "metadata": {
    "execution": {
     "iopub.execute_input": "2024-05-02T14:49:46.036862Z",
     "iopub.status.busy": "2024-05-02T14:49:46.036588Z",
     "iopub.status.idle": "2024-05-02T14:49:46.043664Z",
     "shell.execute_reply": "2024-05-02T14:49:46.043226Z"
    }
   },
   "outputs": [
    {
     "name": "stdout",
     "output_type": "stream",
     "text": [
      "Filename: ./mastDownload/TESS/tess2018206045859-s0001-0000000099837626-0120-s/tess2018206045859-s0001-0000000099837626-0120-s_lc.fits\n",
      "No.    Name      Ver    Type      Cards   Dimensions   Format\n",
      "  0  PRIMARY       1 PrimaryHDU      44   ()      \n",
      "  1  LIGHTCURVE    1 BinTableHDU    167   20076R x 20C   [D, E, J, E, E, E, E, E, E, J, D, E, D, E, D, E, D, E, E, E]   \n",
      "  2  APERTURE      1 ImageHDU        49   (11, 13)   int32   \n"
     ]
    }
   ],
   "source": [
    "fits.info(manifest['Local Path'][0])"
   ]
  },
  {
   "cell_type": "markdown",
   "metadata": {},
   "source": [
    "## Summarize Code\n",
    "<a id=\"summary\"></a>\n",
    "Here is a summary of the code required to do the problem described above, without all the outputs and investigations getting in the way.  The query information is brought to the top so that it can easily be changed. For instance you might want to do a create a query on a different GI program number. One thing you will notice is that astroquery is smart enough to know that you have already downloaded the files and so you will get the message \"Found cached file\" instead of \"Downloading URL\""
   ]
  },
  {
   "cell_type": "code",
   "execution_count": 9,
   "metadata": {
    "execution": {
     "iopub.execute_input": "2024-05-02T14:49:46.045763Z",
     "iopub.status.busy": "2024-05-02T14:49:46.045370Z",
     "iopub.status.idle": "2024-05-02T14:49:46.594914Z",
     "shell.execute_reply": "2024-05-02T14:49:46.594389Z"
    }
   },
   "outputs": [
    {
     "name": "stdout",
     "output_type": "stream",
     "text": [
      "INFO: Found cached file ./mastDownload/TESS/tess2018206045859-s0001-0000000099837626-0120-s/tess2018206045859-s0001-0000000099837626-0120-s_lc.fits with expected size 2039040. [astroquery.query]\n",
      "INFO: Found cached file ./mastDownload/TESS/tess2018206045859-s0001-0000000052121796-0120-s/tess2018206045859-s0001-0000000052121796-0120-s_lc.fits with expected size 2039040. [astroquery.query]\n",
      "                                                         Local Path                                                         ...\n",
      "--------------------------------------------------------------------------------------------------------------------------- ...\n",
      "./mastDownload/TESS/tess2018206045859-s0001-0000000099837626-0120-s/tess2018206045859-s0001-0000000099837626-0120-s_lc.fits ...\n",
      "./mastDownload/TESS/tess2018206045859-s0001-0000000052121796-0120-s/tess2018206045859-s0001-0000000052121796-0120-s_lc.fits ...\n"
     ]
    }
   ],
   "source": [
    "# Query Information\n",
    "mission = \"TESS\"\n",
    "dataProdType = [\"timeseries\"]\n",
    "GiProgram = \"*G011183*\"\n",
    "fileType = \"Light curves\"\n",
    "sector = 1\n",
    "\n",
    "# Query Mast Holdings\n",
    "obsTable = Observations.query_criteria(obs_collection = mission,\n",
    "                                       dataproduct_type = dataProdType,\n",
    "                                       sequence_number = sector,\n",
    "                                       proposal_id = GiProgram)\n",
    "\n",
    "# Get Product List\n",
    "dataProducts = Observations.get_product_list(obsTable[0:2])\n",
    "want = dataProducts['description'] == fileType\n",
    "\n",
    "# Download Data\n",
    "manifest = Observations.download_products(dataProducts[want])\n",
    "print(manifest)"
   ]
  },
  {
   "cell_type": "markdown",
   "metadata": {},
   "source": [
    "***"
   ]
  },
  {
   "cell_type": "markdown",
   "metadata": {},
   "source": [
    "<a id=\"about_id\"></a>\n",
    "## About this Notebook\n",
    "**Author:** Susan E. Mullally, STScI Archive Scientist\n",
    "<br>**Updated On:** 2018-11-29"
   ]
  },
  {
   "cell_type": "markdown",
   "metadata": {},
   "source": [
    "***"
   ]
  },
  {
   "cell_type": "markdown",
   "metadata": {},
   "source": [
    "[Top of Page](#title_ID)\n",
    "<img style=\"float: right;\" src=\"https://raw.githubusercontent.com/spacetelescope/notebooks/master/assets/stsci_pri_combo_mark_horizonal_white_bkgd.png\" alt=\"STScI logo\" width=\"200px\"/> "
   ]
  },
  {
   "cell_type": "code",
   "execution_count": null,
   "metadata": {},
   "outputs": [],
   "source": []
  }
 ],
 "metadata": {
  "language_info": {
   "codemirror_mode": {
    "name": "ipython",
    "version": 3
   },
   "file_extension": ".py",
   "mimetype": "text/x-python",
   "name": "python",
   "nbconvert_exporter": "python",
   "pygments_lexer": "ipython3",
   "version": "3.11.9"
  }
 },
 "nbformat": 4,
 "nbformat_minor": 2
}
