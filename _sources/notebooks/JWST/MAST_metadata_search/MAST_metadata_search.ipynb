{
 "cells": [
  {
   "cell_type": "markdown",
   "metadata": {},
   "source": [
    "<a id=\"top\"></a>\n",
    "# Astroquery: Exploring Metadata from the James Webb Space Telescope\n",
    "***\n",
    "## Learning Goals\n",
    "\n",
    "By the end of this tutorial, you will:\n",
    "\n",
    "- Understand how to use the `astroquery.mast` module to access metadata from the James Webb Space Telescope (JWST).\n",
    "- Run metadata queries based on coordinates, an object name, or non-positional criteria.\n",
    "- Use optional search parameters to further refine query results."
   ]
  },
  {
   "cell_type": "markdown",
   "metadata": {
    "slideshow": {
     "slide_type": "slide"
    }
   },
   "source": [
    "## Table of Contents\n",
    "* [Introduction](#Introduction)\n",
    "* [Querying MAST for JWST Metadata](#Querying-MAST-for-JWST-Metadata)\n",
    "    * [Setup](#Setup)\n",
    "    * [Optional Search Parameters](#Optional-Search-Parameters)\n",
    "    * [Query by Object Name](#Query-by-Object-Name)\n",
    "    * [Query by Region](#Query-by-Region)\n",
    "    * [Query by Criteria](#Query-by-Criteria)\n",
    "* [Additional Resources](#Additional-Resources)\n",
    "* [Exercise Solutions](#Exercise-Solutions)\n",
    "\n",
    "## Introduction\n",
    "\n",
    "Welcome! This tutorial focuses on using the `astroquery.mast` module to search for metadata from the [James Webb Space Telescope (JWST)](https://webb.nasa.gov/). Launched in December of 2021, JWST is an advanced space observatory designed for observations in the infrared light spectrum.\n",
    "\n",
    "The [Mikulski Archive for Space Telescopes (MAST)](https://archive.stsci.edu/) hosts publicly accessible data products from space telescopes like JWST. `astroquery.mast` provides access to a broad set of JWST metadata, including header keywords, proposal information, and observational parameters. The available metadata can also be found using the [MAST JWST Search](https://mast.stsci.edu/search/ui/#/jwst) interface.\n",
    "\n",
    "***Please note that `astroquery.mast.MastMissions` and the MAST JWST Search API do not yet support data product downloads.***"
   ]
  },
  {
   "cell_type": "markdown",
   "metadata": {
    "slideshow": {
     "slide_type": "slide"
    }
   },
   "source": [
    "## Imports\n",
    "\n",
    "This notebook uses the following packages:\n",
    "- *astroquery.mast* to query the MAST Archive\n",
    "- *astropy.coordinates* to assign coordinates of interest"
   ]
  },
  {
   "cell_type": "code",
   "execution_count": 1,
   "metadata": {
    "execution": {
     "iopub.execute_input": "2024-06-28T16:18:41.108011Z",
     "iopub.status.busy": "2024-06-28T16:18:41.107778Z",
     "iopub.status.idle": "2024-06-28T16:18:41.627991Z",
     "shell.execute_reply": "2024-06-28T16:18:41.627430Z"
    },
    "slideshow": {
     "slide_type": "fragment"
    }
   },
   "outputs": [],
   "source": [
    "from astroquery.mast import MastMissions\n",
    "from astropy.coordinates import SkyCoord"
   ]
  },
  {
   "cell_type": "markdown",
   "metadata": {},
   "source": [
    "***"
   ]
  },
  {
   "cell_type": "markdown",
   "metadata": {},
   "source": [
    "## Querying MAST for JWST Metadata"
   ]
  },
  {
   "cell_type": "markdown",
   "metadata": {},
   "source": [
    "### Setup"
   ]
  },
  {
   "cell_type": "markdown",
   "metadata": {},
   "source": [
    "In order to make queries on JWST metadata, we will have to perform some setup. First, we will instantiate an object of the `MastMissions` class and assign its `mission` to be `'jwst'`. Its `service` is set to the default of `'search'`."
   ]
  },
  {
   "cell_type": "code",
   "execution_count": 2,
   "metadata": {
    "execution": {
     "iopub.execute_input": "2024-06-28T16:18:41.631327Z",
     "iopub.status.busy": "2024-06-28T16:18:41.630968Z",
     "iopub.status.idle": "2024-06-28T16:18:41.635002Z",
     "shell.execute_reply": "2024-06-28T16:18:41.634354Z"
    }
   },
   "outputs": [
    {
     "name": "stdout",
     "output_type": "stream",
     "text": [
      "Mission: jwst\n",
      "Service: search\n"
     ]
    }
   ],
   "source": [
    "# Create MastMissions object and assign mission to 'jwst'\n",
    "missions = MastMissions(mission='jwst')\n",
    "\n",
    "print(f'Mission: {missions.mission}')\n",
    "print(f'Service: {missions.service}')"
   ]
  },
  {
   "cell_type": "markdown",
   "metadata": {},
   "source": [
    "When writing queries, keyword arguments can be used to specify output characteristics (see the following section) and filter on values like instrument, exposure type, and proposal ID. The available column names for a mission are returned by the `get_column_list` function. Below, we will print out the name, data type, and description for the first 10 columns in JWST metadata."
   ]
  },
  {
   "cell_type": "code",
   "execution_count": 3,
   "metadata": {
    "execution": {
     "iopub.execute_input": "2024-06-28T16:18:41.668947Z",
     "iopub.status.busy": "2024-06-28T16:18:41.668392Z",
     "iopub.status.idle": "2024-06-28T16:18:42.009144Z",
     "shell.execute_reply": "2024-06-28T16:18:42.008524Z"
    }
   },
   "outputs": [
    {
     "data": {
      "text/html": [
       "<div><i>Table length=10</i>\n",
       "<table id=\"table140508391889744\" class=\"table-striped table-bordered table-condensed\">\n",
       "<thead><tr><th>name</th><th>data_type</th><th>description</th></tr></thead>\n",
       "<thead><tr><th>str17</th><th>str9</th><th>str1594</th></tr></thead>\n",
       "<tr><td>search_pos</td><td>string</td><td>Search Position (RA and Dec)</td></tr>\n",
       "<tr><td>ArchiveFileID</td><td>integer</td><td>ArchiveFileID</td></tr>\n",
       "<tr><td>fileSetName</td><td>string</td><td>Of the form jwpppppooovvv_ggsaa_eeeee where ppppp - Program Number, ooo - Observation Number, vvv - Visit Number, gg - Visit Group, s - Parallel Sequence id (1 prime, 2-5 parallel), aa - Activity (base 36), and eeeee - Exposure Number, all padded by zeros where necessary. Source-based data set names are expressed as jwppppp-oOOO_tTTT_instrument, where: ppppp - Program number, OOO - observation number, TTT - target number, and instrument - Instrument name</td></tr>\n",
       "<tr><td>productLevel</td><td>string</td><td>Product levels, 1b is an Uncal FITS file, 2a = Countrate exposure, 2b = calibrated exposure, 2c = cosmic-ray-flagged exposure, and 3 = combined data.</td></tr>\n",
       "<tr><td>targprop</td><td>string</td><td>Proposer prefered name for the target</td></tr>\n",
       "<tr><td>targname</td><td>string</td><td>Standard astronomical catalog name for the target</td></tr>\n",
       "<tr><td>targ_ra</td><td>ra</td><td>Right Ascension (J2000), from 0 to 360, in degrees</td></tr>\n",
       "<tr><td>targ_dec</td><td>dec</td><td>Declination (J2000), from -90 to +90, in degrees</td></tr>\n",
       "<tr><td>instrume</td><td>string</td><td>Identifies the instrument used to acquire the data.</td></tr>\n",
       "<tr><td>exp_type</td><td>string</td><td>Exposure type is used by DMS to direct Science Data Processing code (SDP) and calibration, as well as provide metadata for archive searches. For a given template the EXP_TYPE keyword value is obtained for each exposure from the EXPOSURE_TYPE exposure-level parameter in the Observatory Status File (OSF). In a few cases, additional information is required to set the value for the EXP_TYPE keyword</td></tr>\n",
       "</table></div>"
      ],
      "text/plain": [
       "<Table length=10>\n",
       "     name     ...\n",
       "    str17     ...\n",
       "------------- ...\n",
       "   search_pos ...\n",
       "ArchiveFileID ...\n",
       "  fileSetName ...\n",
       " productLevel ...\n",
       "     targprop ...\n",
       "     targname ...\n",
       "      targ_ra ...\n",
       "     targ_dec ...\n",
       "     instrume ...\n",
       "     exp_type ..."
      ]
     },
     "execution_count": 3,
     "metadata": {},
     "output_type": "execute_result"
    }
   ],
   "source": [
    "# Get available columns for JWST mission\n",
    "columns = missions.get_column_list()\n",
    "columns[:10]"
   ]
  },
  {
   "cell_type": "markdown",
   "metadata": {},
   "source": [
    "### Optional Search Parameters\n",
    "\n",
    "Before we dive in to the actual queries, it's important to know how we can refine our results with optional keyword arguments. The following parameters are available:\n",
    "\n",
    "- `radius`: For positional searches only. Only return results within a certain distance from an object or set of coordinates. Default is 3 arcminutes. \n",
    "- `limit`: The maximum number of results to return. Default is 5000.\n",
    "- `offset`: Skip the first ***n*** results. Useful for paging through results.\n",
    "- `select_cols`: A list of columns to be returned in the response.\n",
    "\n",
    "As we walk through different types of queries, we will see these parameters in action!"
   ]
  },
  {
   "cell_type": "markdown",
   "metadata": {},
   "source": [
    "### Query by Object Name\n",
    "\n",
    "We've reached our first query! We can use object names to perform metadata queries using the `query_object` function.\n",
    "\n",
    "To start, let's query for the Messier 1 object, a supernova remnant in the Taurus constellation. You may know it better as the Crab Nebula!"
   ]
  },
  {
   "cell_type": "code",
   "execution_count": 4,
   "metadata": {
    "execution": {
     "iopub.execute_input": "2024-06-28T16:18:42.011789Z",
     "iopub.status.busy": "2024-06-28T16:18:42.011612Z",
     "iopub.status.idle": "2024-06-28T16:18:46.111137Z",
     "shell.execute_reply": "2024-06-28T16:18:46.110520Z"
    }
   },
   "outputs": [
    {
     "name": "stdout",
     "output_type": "stream",
     "text": [
      "Total number of results: 250\n"
     ]
    },
    {
     "data": {
      "text/html": [
       "<div><i>Table masked=True length=5</i>\n",
       "<table id=\"table140508393729168\" class=\"table-striped table-bordered table-condensed\">\n",
       "<thead><tr><th>ArchiveFileID</th><th>fileSetName</th><th>productLevel</th><th>targprop</th><th>targ_ra</th><th>targ_dec</th><th>instrume</th><th>exp_type</th><th>opticalElements</th><th>date_obs</th><th>duration</th><th>program</th><th>observtn</th><th>visit</th><th>publicReleaseDate</th><th>pi_name</th><th>proposal_type</th><th>proposal_cycle</th><th>targtype</th><th>access</th><th>ang_sep</th></tr></thead>\n",
       "<thead><tr><th>int64</th><th>str25</th><th>str14</th><th>str18</th><th>float64</th><th>float64</th><th>str6</th><th>str9</th><th>str77</th><th>str27</th><th>float64</th><th>int64</th><th>int64</th><th>int64</th><th>str19</th><th>str10</th><th>str2</th><th>int64</th><th>str5</th><th>str16</th><th>float64</th></tr></thead>\n",
       "<tr><td>85452887</td><td>jw01714001001_02101_00001</td><td>1b, 2a, 2b, 2c</td><td>CRAB-NEBULA</td><td>83.63604958333333</td><td>22.01641666666667</td><td>MIRI</td><td>MIR_IMAGE</td><td>F560W</td><td>2023-02-24T00:50:42.9710000</td><td>138.752</td><td>1714</td><td>1</td><td>1</td><td>2024-02-24T13:30:27</td><td>Temim, Tea</td><td>GO</td><td>1</td><td>FIXED</td><td>PUBLIC</td><td>1.331273005820459</td></tr>\n",
       "<tr><td>85452927</td><td>jw01714001001_02101_00002</td><td>1b, 2a, 2b, 2c</td><td>CRAB-NEBULA</td><td>83.63604958333333</td><td>22.01641666666667</td><td>MIRI</td><td>MIR_IMAGE</td><td>F560W</td><td>2023-02-24T00:54:27.7390000</td><td>138.752</td><td>1714</td><td>1</td><td>1</td><td>2024-02-24T13:33:03</td><td>Temim, Tea</td><td>GO</td><td>1</td><td>FIXED</td><td>PUBLIC</td><td>1.0681813609695832</td></tr>\n",
       "<tr><td>85452908</td><td>jw01714001001_02101_00003</td><td>1b, 2a, 2b, 2c</td><td>CRAB-NEBULA</td><td>83.63604958333333</td><td>22.01641666666667</td><td>MIRI</td><td>MIR_IMAGE</td><td>F560W</td><td>2023-02-24T00:58:07.0030000</td><td>138.752</td><td>1714</td><td>1</td><td>1</td><td>2024-02-24T13:32:24</td><td>Temim, Tea</td><td>GO</td><td>1</td><td>FIXED</td><td>PUBLIC</td><td>1.2193221921015729</td></tr>\n",
       "<tr><td>85452963</td><td>jw01714001001_02101_00004</td><td>1b, 2a, 2b, 2c</td><td>CRAB-NEBULA</td><td>83.63604958333333</td><td>22.01641666666667</td><td>MIRI</td><td>MIR_IMAGE</td><td>F560W</td><td>2023-02-24T01:01:46.2660000</td><td>138.752</td><td>1714</td><td>1</td><td>1</td><td>2024-02-24T13:33:18</td><td>Temim, Tea</td><td>GO</td><td>1</td><td>FIXED</td><td>PUBLIC</td><td>1.3888896315547088</td></tr>\n",
       "<tr><td>85452842</td><td>jw01714001001_02103_00001</td><td>1b, 2a, 2b, 2c</td><td>CRAB-NEBULA</td><td>83.63604958333333</td><td>22.01641666666667</td><td>MIRI</td><td>MIR_IMAGE</td><td>F1130W</td><td>2023-02-24T01:07:30.3500000</td><td>105.452</td><td>1714</td><td>1</td><td>1</td><td>2024-02-24T13:34:12</td><td>Temim, Tea</td><td>GO</td><td>1</td><td>FIXED</td><td>PUBLIC</td><td>1.3305044761512126</td></tr>\n",
       "</table></div>"
      ],
      "text/plain": [
       "<Table masked=True length=5>\n",
       "ArchiveFileID        fileSetName        ... access      ang_sep      \n",
       "    int64               str25           ... str16       float64      \n",
       "------------- ------------------------- ... ------ ------------------\n",
       "     85452887 jw01714001001_02101_00001 ... PUBLIC  1.331273005820459\n",
       "     85452927 jw01714001001_02101_00002 ... PUBLIC 1.0681813609695832\n",
       "     85452908 jw01714001001_02101_00003 ... PUBLIC 1.2193221921015729\n",
       "     85452963 jw01714001001_02101_00004 ... PUBLIC 1.3888896315547088\n",
       "     85452842 jw01714001001_02103_00001 ... PUBLIC 1.3305044761512126"
      ]
     },
     "execution_count": 4,
     "metadata": {},
     "output_type": "execute_result"
    }
   ],
   "source": [
    "# Query for Messier 1 ('M1')\n",
    "results = missions.query_object('M1')\n",
    "\n",
    "# Display the first 5 results\n",
    "print(f'Total number of results: {len(results)}')\n",
    "results[:5]"
   ]
  },
  {
   "cell_type": "markdown",
   "metadata": {},
   "source": [
    "There were 250 total results, meaning that 250 JWST datasets were targeting the Crab Nebula. Now, let's try refining our search a bit more.\n",
    "\n",
    "- Each dataset is associated with a celestial coordinate, given by `targ_ra` (right ascension) and `targ_dec` (declination). By default, the query returns all datasets that fall within 3 arcminutes from the object's coordinates. Let's set the `radius` parameter to be 1 arcminute instead.\n",
    "- Say that we're not interested in the first 4 results. We can assign `offset` to skip a certain number of rows.\n",
    "- By default, a subset of recommended columns are returned for each query. However, we can specify exactly which columns to return using the `select_cols` keyword argument. The `ArchiveFileID` column is included automatically."
   ]
  },
  {
   "cell_type": "code",
   "execution_count": 5,
   "metadata": {
    "execution": {
     "iopub.execute_input": "2024-06-28T16:18:46.113664Z",
     "iopub.status.busy": "2024-06-28T16:18:46.113454Z",
     "iopub.status.idle": "2024-06-28T16:18:47.436361Z",
     "shell.execute_reply": "2024-06-28T16:18:47.435802Z"
    }
   },
   "outputs": [
    {
     "name": "stdout",
     "output_type": "stream",
     "text": [
      "Total number of results: 151\n"
     ]
    },
    {
     "data": {
      "text/html": [
       "<div><i>Table masked=True length=5</i>\n",
       "<table id=\"table140508378921040\" class=\"table-striped table-bordered table-condensed\">\n",
       "<thead><tr><th>ArchiveFileID</th><th>fileSetName</th><th>targprop</th><th>date_obs</th></tr></thead>\n",
       "<thead><tr><th>int64</th><th>str25</th><th>str18</th><th>str27</th></tr></thead>\n",
       "<tr><td>85452592</td><td>jw01714001003_02101_00001</td><td>CRAB-NEBULA</td><td>2023-02-24T02:49:57.2040000</td></tr>\n",
       "<tr><td>85452596</td><td>jw01714001003_02101_00002</td><td>CRAB-NEBULA</td><td>2023-02-24T02:53:39.2200000</td></tr>\n",
       "<tr><td>85452584</td><td>jw01714001003_02101_00003</td><td>CRAB-NEBULA</td><td>2023-02-24T02:57:23.9880000</td></tr>\n",
       "<tr><td>85452177</td><td>jw01714001003_02101_00004</td><td>CRAB-NEBULA</td><td>2023-02-24T03:01:06.0030000</td></tr>\n",
       "<tr><td>85452330</td><td>jw01714001003_02103_00001</td><td>CRAB-NEBULA</td><td>2023-02-24T03:06:50.0870000</td></tr>\n",
       "</table></div>"
      ],
      "text/plain": [
       "<Table masked=True length=5>\n",
       "ArchiveFileID        fileSetName          targprop            date_obs         \n",
       "    int64               str25              str18               str27           \n",
       "------------- ------------------------- ----------- ---------------------------\n",
       "     85452592 jw01714001003_02101_00001 CRAB-NEBULA 2023-02-24T02:49:57.2040000\n",
       "     85452596 jw01714001003_02101_00002 CRAB-NEBULA 2023-02-24T02:53:39.2200000\n",
       "     85452584 jw01714001003_02101_00003 CRAB-NEBULA 2023-02-24T02:57:23.9880000\n",
       "     85452177 jw01714001003_02101_00004 CRAB-NEBULA 2023-02-24T03:01:06.0030000\n",
       "     85452330 jw01714001003_02103_00001 CRAB-NEBULA 2023-02-24T03:06:50.0870000"
      ]
     },
     "execution_count": 5,
     "metadata": {},
     "output_type": "execute_result"
    }
   ],
   "source": [
    "# Refined query for Messier 1 ('M1')\n",
    "results = missions.query_object('M1',\n",
    "                                radius=1,  # Search within a 1 arcminute radius\n",
    "                                offset=4,  # Skip the first 4 results\n",
    "                                select_cols=['fileSetName', 'targprop', 'date_obs'])  # Select certain columns\n",
    "\n",
    "# Display the first 5 results\n",
    "print(f'Total number of results: {len(results)}')\n",
    "results[:5]"
   ]
  },
  {
   "cell_type": "markdown",
   "metadata": {},
   "source": [
    "### Exercise 1\n",
    "Now it's your turn! Try querying for the Whirlpool Galaxy object. Search within a radius of 1 arcminute, skip the first 300 results, and select the `fileSetName` and `opticalElements` columns."
   ]
  },
  {
   "cell_type": "code",
   "execution_count": 6,
   "metadata": {
    "execution": {
     "iopub.execute_input": "2024-06-28T16:18:47.438731Z",
     "iopub.status.busy": "2024-06-28T16:18:47.438558Z",
     "iopub.status.idle": "2024-06-28T16:18:47.441131Z",
     "shell.execute_reply": "2024-06-28T16:18:47.440639Z"
    }
   },
   "outputs": [],
   "source": [
    "# # Query for Whirlpool Galaxy\n",
    "# results = missions.query_object(...)  # Write your query!\n",
    "\n",
    "# # Display the first 5 results\n",
    "# print(f'Total number of results: {len(results)}')\n",
    "# results[:5]"
   ]
  },
  {
   "cell_type": "markdown",
   "metadata": {},
   "source": [
    "### Query by Region\n",
    "\n",
    "The `missions` object also allows us to query by a region in the sky. By passing in a set of coordinates to the `query_region` function, we can return datasets that fall within a certain `radius` value of that point. This type of search is also known as a cone search."
   ]
  },
  {
   "cell_type": "code",
   "execution_count": 7,
   "metadata": {
    "execution": {
     "iopub.execute_input": "2024-06-28T16:18:47.443294Z",
     "iopub.status.busy": "2024-06-28T16:18:47.443130Z",
     "iopub.status.idle": "2024-06-28T16:18:52.209034Z",
     "shell.execute_reply": "2024-06-28T16:18:52.208392Z"
    }
   },
   "outputs": [
    {
     "name": "stdout",
     "output_type": "stream",
     "text": [
      "Total number of results: 395\n"
     ]
    },
    {
     "data": {
      "text/html": [
       "<div><i>Table masked=True length=5</i>\n",
       "<table id=\"table140508393768080\" class=\"table-striped table-bordered table-condensed\">\n",
       "<thead><tr><th>ArchiveFileID</th><th>fileSetName</th><th>productLevel</th><th>targprop</th><th>targ_ra</th><th>targ_dec</th><th>instrume</th><th>exp_type</th><th>opticalElements</th><th>date_obs</th><th>duration</th><th>program</th><th>observtn</th><th>visit</th><th>publicReleaseDate</th><th>pi_name</th><th>proposal_type</th><th>proposal_cycle</th><th>targtype</th><th>access</th><th>ang_sep</th></tr></thead>\n",
       "<thead><tr><th>int64</th><th>str27</th><th>str14</th><th>str25</th><th>float64</th><th>float64</th><th>str7</th><th>str17</th><th>str89</th><th>str27</th><th>float64</th><th>int64</th><th>int64</th><th>int64</th><th>str19</th><th>str25</th><th>str6</th><th>int64</th><th>str7</th><th>str16</th><th>float64</th></tr></thead>\n",
       "<tr><td>104386304</td><td>jw01995001001_02101_00001</td><td>1b, 2a, 2b, 2c</td><td>MESSIER-101</td><td>210.876465</td><td>54.36092777777778</td><td>NIRCAM</td><td>NRC_IMAGE</td><td>F115W;CLEAR, F444W;CLEAR</td><td>2023-05-30T15:23:35.5330000</td><td>311.366</td><td>1995</td><td>1</td><td>1</td><td>2024-05-30T23:55:17</td><td>Freedman, Wendy L.</td><td>GO</td><td>1</td><td>FIXED</td><td>PUBLIC</td><td>0.9317195976624251</td></tr>\n",
       "<tr><td>104386207</td><td>jw01995001001_02101_00002</td><td>1b, 2a, 2b, 2c</td><td>MESSIER-101</td><td>210.876465</td><td>54.36092777777778</td><td>NIRCAM</td><td>NRC_IMAGE</td><td>F115W;CLEAR, F444W;CLEAR</td><td>2023-05-30T15:30:23.5330000</td><td>311.366</td><td>1995</td><td>1</td><td>1</td><td>2024-05-30T23:56:39</td><td>Freedman, Wendy L.</td><td>GO</td><td>1</td><td>FIXED</td><td>PUBLIC</td><td>0.9247099787034783</td></tr>\n",
       "<tr><td>104386069</td><td>jw01995001001_02101_00003</td><td>1b, 2a, 2b, 2c</td><td>MESSIER-101</td><td>210.876465</td><td>54.36092777777778</td><td>NIRCAM</td><td>NRC_IMAGE</td><td>F115W;CLEAR, F444W;CLEAR</td><td>2023-05-30T15:37:00.7800000</td><td>311.366</td><td>1995</td><td>1</td><td>1</td><td>2024-05-30T23:58:44</td><td>Freedman, Wendy L.</td><td>GO</td><td>1</td><td>FIXED</td><td>PUBLIC</td><td>0.9387390545558567</td></tr>\n",
       "<tr><td>104385967</td><td>jw01995001001_02201_00001</td><td>1b, 2a, 2b, 2c</td><td>MESSIER-101</td><td>210.876465</td><td>54.36092777777778</td><td>NIRISS</td><td>NIS_IMAGE</td><td>CLEAR;F115W</td><td>2023-05-30T15:23:38.9100000</td><td>311.366</td><td>1995</td><td>1</td><td>1</td><td>2024-05-30T23:55:55</td><td>Freedman, Wendy L.</td><td>GO</td><td>1</td><td>FIXED</td><td>PUBLIC</td><td>7.239582698074742</td></tr>\n",
       "<tr><td>104385970</td><td>jw01995001001_02201_00002</td><td>1b, 2a, 2b, 2c</td><td>MESSIER-101</td><td>210.876465</td><td>54.36092777777778</td><td>NIRISS</td><td>NIS_IMAGE</td><td>CLEAR;F115W</td><td>2023-05-30T15:30:26.3340000</td><td>311.366</td><td>1995</td><td>1</td><td>1</td><td>2024-05-30T23:55:49</td><td>Freedman, Wendy L.</td><td>GO</td><td>1</td><td>FIXED</td><td>PUBLIC</td><td>7.233995178717605</td></tr>\n",
       "</table></div>"
      ],
      "text/plain": [
       "<Table masked=True length=5>\n",
       "ArchiveFileID        fileSetName        ... access      ang_sep      \n",
       "    int64               str27           ... str16       float64      \n",
       "------------- ------------------------- ... ------ ------------------\n",
       "    104386304 jw01995001001_02101_00001 ... PUBLIC 0.9317195976624251\n",
       "    104386207 jw01995001001_02101_00002 ... PUBLIC 0.9247099787034783\n",
       "    104386069 jw01995001001_02101_00003 ... PUBLIC 0.9387390545558567\n",
       "    104385967 jw01995001001_02201_00001 ... PUBLIC  7.239582698074742\n",
       "    104385970 jw01995001001_02201_00002 ... PUBLIC  7.233995178717605"
      ]
     },
     "execution_count": 7,
     "metadata": {},
     "output_type": "execute_result"
    }
   ],
   "source": [
    "# Create coordinate object\n",
    "coords = SkyCoord(210.80227, 54.34895, unit=('deg'))\n",
    "\n",
    "# Query for results within 10 arcminutes of coords\n",
    "results = missions.query_region(coords, radius=10)\n",
    "\n",
    "# Display results\n",
    "print(f'Total number of results: {len(results)}')\n",
    "results[:5]"
   ]
  },
  {
   "cell_type": "markdown",
   "metadata": {},
   "source": [
    "395 JWST datasets fall within our cone search. In other words, their target coordinates are within 10 arcminutes of the coordinates that we defined."
   ]
  },
  {
   "cell_type": "markdown",
   "metadata": {},
   "source": [
    "### Exercise 2: \n",
    "JWST has observed the star Vega, which has a right ascension of 279.23473 degrees and a declination of 38.78369 degrees. Use the `query_region` function to search for datasets within 15 arcminutes of Vega. Select the `fileSetName`, `targprop`, `targ_ra`, and `targ_dec` columns."
   ]
  },
  {
   "cell_type": "code",
   "execution_count": 8,
   "metadata": {
    "execution": {
     "iopub.execute_input": "2024-06-28T16:18:52.211544Z",
     "iopub.status.busy": "2024-06-28T16:18:52.211368Z",
     "iopub.status.idle": "2024-06-28T16:18:52.214160Z",
     "shell.execute_reply": "2024-06-28T16:18:52.213577Z"
    }
   },
   "outputs": [],
   "source": [
    "# # Vega coordinates\n",
    "# vega = SkyCoord(_, _, unit=('deg'))  # Fill in with Vega's coordinates\n",
    "\n",
    "# # Query for datasets around Vega\n",
    "# results = missions.query_region(...)  # Write your query!\n",
    "\n",
    "# # Display the first 5 results\n",
    "# print(f'Total number of results: {len(results)}')\n",
    "# results[:5]"
   ]
  },
  {
   "cell_type": "markdown",
   "metadata": {},
   "source": [
    "### Query by Criteria"
   ]
  },
  {
   "cell_type": "markdown",
   "metadata": {},
   "source": [
    "In some cases, we may want to run queries with non-positional parameters. To accomplish this, we use the `query_criteria` function.\n",
    "\n",
    "For any of our query functions, we can filter our results by the value of columns in the dataset.\n",
    "\n",
    "Let's say that we only want observations from JWST's Near Infrared Camera (NIRCam) instrument, and that we only want datasets connected to program number 1189."
   ]
  },
  {
   "cell_type": "code",
   "execution_count": 9,
   "metadata": {
    "execution": {
     "iopub.execute_input": "2024-06-28T16:18:52.216440Z",
     "iopub.status.busy": "2024-06-28T16:18:52.216279Z",
     "iopub.status.idle": "2024-06-28T16:18:56.527100Z",
     "shell.execute_reply": "2024-06-28T16:18:56.526205Z"
    }
   },
   "outputs": [
    {
     "name": "stdout",
     "output_type": "stream",
     "text": [
      "Total number of results: 79\n"
     ]
    },
    {
     "data": {
      "text/html": [
       "<div><i>Table masked=True length=5</i>\n",
       "<table id=\"table140508515936592\" class=\"table-striped table-bordered table-condensed\">\n",
       "<thead><tr><th>ArchiveFileID</th><th>fileSetName</th><th>instrume</th><th>exp_type</th><th>program</th><th>pi_name</th></tr></thead>\n",
       "<thead><tr><th>int64</th><th>str25</th><th>str6</th><th>str13</th><th>int64</th><th>str17</th></tr></thead>\n",
       "<tr><td>103431933</td><td>jw01189010001_02101_00001</td><td>NIRCAM</td><td>NRC_IMAGE</td><td>1189</td><td>Roellig, Thomas L</td></tr>\n",
       "<tr><td>103431875</td><td>jw01189010001_02101_00002</td><td>NIRCAM</td><td>NRC_IMAGE</td><td>1189</td><td>Roellig, Thomas L</td></tr>\n",
       "<tr><td>103431770</td><td>jw01189010001_02101_00003</td><td>NIRCAM</td><td>NRC_IMAGE</td><td>1189</td><td>Roellig, Thomas L</td></tr>\n",
       "<tr><td>103431722</td><td>jw01189010001_02101_00004</td><td>NIRCAM</td><td>NRC_IMAGE</td><td>1189</td><td>Roellig, Thomas L</td></tr>\n",
       "<tr><td>103431669</td><td>jw01189010001_04101_00001</td><td>NIRCAM</td><td>NRC_IMAGE</td><td>1189</td><td>Roellig, Thomas L</td></tr>\n",
       "</table></div>"
      ],
      "text/plain": [
       "<Table masked=True length=5>\n",
       "ArchiveFileID        fileSetName        instrume ... program      pi_name     \n",
       "    int64               str25             str6   ...  int64        str17      \n",
       "------------- ------------------------- -------- ... ------- -----------------\n",
       "    103431933 jw01189010001_02101_00001   NIRCAM ...    1189 Roellig, Thomas L\n",
       "    103431875 jw01189010001_02101_00002   NIRCAM ...    1189 Roellig, Thomas L\n",
       "    103431770 jw01189010001_02101_00003   NIRCAM ...    1189 Roellig, Thomas L\n",
       "    103431722 jw01189010001_02101_00004   NIRCAM ...    1189 Roellig, Thomas L\n",
       "    103431669 jw01189010001_04101_00001   NIRCAM ...    1189 Roellig, Thomas L"
      ]
     },
     "execution_count": 9,
     "metadata": {},
     "output_type": "execute_result"
    }
   ],
   "source": [
    "# Query with column criteria\n",
    "results = missions.query_criteria(instrume='NIRCAM',  # From Near Infrared Camera\n",
    "                                  program=1189,\n",
    "                                  select_cols=['fileSetName', 'instrume', 'exp_type', 'program', 'pi_name'])\n",
    "\n",
    "# Display the first 5 results\n",
    "print(f'Total number of results: {len(results)}')\n",
    "results[:5]"
   ]
  },
  {
   "cell_type": "markdown",
   "metadata": {},
   "source": [
    "To exclude and filter out a certain value from the results, we can prepend the value with `!`.\n",
    "\n",
    "Let's run the same query as above, but this time, we will filter out datasets coming from the NIRCam instrument."
   ]
  },
  {
   "cell_type": "code",
   "execution_count": 10,
   "metadata": {
    "execution": {
     "iopub.execute_input": "2024-06-28T16:18:56.529540Z",
     "iopub.status.busy": "2024-06-28T16:18:56.529368Z",
     "iopub.status.idle": "2024-06-28T16:19:00.750948Z",
     "shell.execute_reply": "2024-06-28T16:19:00.750340Z"
    }
   },
   "outputs": [
    {
     "name": "stdout",
     "output_type": "stream",
     "text": [
      "Total number of results: 96\n"
     ]
    },
    {
     "data": {
      "text/html": [
       "<div><i>Table masked=True length=5</i>\n",
       "<table id=\"table140507918555152\" class=\"table-striped table-bordered table-condensed\">\n",
       "<thead><tr><th>ArchiveFileID</th><th>fileSetName</th><th>instrume</th><th>exp_type</th><th>program</th><th>pi_name</th></tr></thead>\n",
       "<thead><tr><th>int64</th><th>str27</th><th>str7</th><th>str17</th><th>int64</th><th>str17</th></tr></thead>\n",
       "<tr><td>103431025</td><td>jw01189001001_02101_00001</td><td>NIRSPEC</td><td>NRS_WATA</td><td>1189</td><td>Roellig, Thomas L</td></tr>\n",
       "<tr><td>103430996</td><td>jw01189001001_02101_00002</td><td>NIRSPEC</td><td>NRS_TACONFIRM</td><td>1189</td><td>Roellig, Thomas L</td></tr>\n",
       "<tr><td>103431005</td><td>jw01189001001_04101_00001</td><td>NIRSPEC</td><td>NRS_FIXEDSLIT</td><td>1189</td><td>Roellig, Thomas L</td></tr>\n",
       "<tr><td>103430949</td><td>jw01189001001_04101_00002</td><td>NIRSPEC</td><td>NRS_FIXEDSLIT</td><td>1189</td><td>Roellig, Thomas L</td></tr>\n",
       "<tr><td>103430874</td><td>jw01189001001_04101_00003</td><td>NIRSPEC</td><td>NRS_FIXEDSLIT</td><td>1189</td><td>Roellig, Thomas L</td></tr>\n",
       "</table></div>"
      ],
      "text/plain": [
       "<Table masked=True length=5>\n",
       "ArchiveFileID        fileSetName        instrume ... program      pi_name     \n",
       "    int64               str27             str7   ...  int64        str17      \n",
       "------------- ------------------------- -------- ... ------- -----------------\n",
       "    103431025 jw01189001001_02101_00001  NIRSPEC ...    1189 Roellig, Thomas L\n",
       "    103430996 jw01189001001_02101_00002  NIRSPEC ...    1189 Roellig, Thomas L\n",
       "    103431005 jw01189001001_04101_00001  NIRSPEC ...    1189 Roellig, Thomas L\n",
       "    103430949 jw01189001001_04101_00002  NIRSPEC ...    1189 Roellig, Thomas L\n",
       "    103430874 jw01189001001_04101_00003  NIRSPEC ...    1189 Roellig, Thomas L"
      ]
     },
     "execution_count": 10,
     "metadata": {},
     "output_type": "execute_result"
    }
   ],
   "source": [
    "# Filtered query, excluding NIRCam datasets\n",
    "results = missions.query_criteria(program=1189,\n",
    "                                  instrume='!NIRCAM',  # Exclude datasets from the NIRCam instrument\n",
    "                                  select_cols=['fileSetName', 'instrume', 'exp_type', 'program', 'pi_name'])\n",
    "\n",
    "# Display the first 5 results\n",
    "print(f'Total number of results: {len(results)}')\n",
    "results[:5]"
   ]
  },
  {
   "cell_type": "markdown",
   "metadata": {},
   "source": [
    "We can also use wildcards for more advanced filtering. Let's use the same query from above, but we will add an exposure type filter for fixed slits (FS) spectroscopy."
   ]
  },
  {
   "cell_type": "code",
   "execution_count": 11,
   "metadata": {
    "execution": {
     "iopub.execute_input": "2024-06-28T16:19:00.753517Z",
     "iopub.status.busy": "2024-06-28T16:19:00.753168Z",
     "iopub.status.idle": "2024-06-28T16:19:22.588917Z",
     "shell.execute_reply": "2024-06-28T16:19:22.588233Z"
    }
   },
   "outputs": [
    {
     "name": "stdout",
     "output_type": "stream",
     "text": [
      "Total number of results: 42\n"
     ]
    },
    {
     "data": {
      "text/html": [
       "<div><i>Table masked=True length=10</i>\n",
       "<table id=\"table140507912448912\" class=\"table-striped table-bordered table-condensed\">\n",
       "<thead><tr><th>ArchiveFileID</th><th>fileSetName</th><th>instrume</th><th>exp_type</th><th>program</th><th>pi_name</th></tr></thead>\n",
       "<thead><tr><th>int64</th><th>str27</th><th>str7</th><th>str17</th><th>int64</th><th>str17</th></tr></thead>\n",
       "<tr><td>103431005</td><td>jw01189001001_04101_00001</td><td>NIRSPEC</td><td>NRS_FIXEDSLIT</td><td>1189</td><td>Roellig, Thomas L</td></tr>\n",
       "<tr><td>103430949</td><td>jw01189001001_04101_00002</td><td>NIRSPEC</td><td>NRS_FIXEDSLIT</td><td>1189</td><td>Roellig, Thomas L</td></tr>\n",
       "<tr><td>103430874</td><td>jw01189001001_04101_00003</td><td>NIRSPEC</td><td>NRS_FIXEDSLIT</td><td>1189</td><td>Roellig, Thomas L</td></tr>\n",
       "<tr><td>103430827</td><td>jw01189001001_06101_00001</td><td>NIRSPEC</td><td>NRS_FIXEDSLIT</td><td>1189</td><td>Roellig, Thomas L</td></tr>\n",
       "<tr><td>103430762</td><td>jw01189001001_06101_00002</td><td>NIRSPEC</td><td>NRS_FIXEDSLIT</td><td>1189</td><td>Roellig, Thomas L</td></tr>\n",
       "<tr><td>103430721</td><td>jw01189001001_06101_00003</td><td>NIRSPEC</td><td>NRS_FIXEDSLIT</td><td>1189</td><td>Roellig, Thomas L</td></tr>\n",
       "<tr><td>103430672</td><td>jw01189001001_08101_00001</td><td>NIRSPEC</td><td>NRS_FIXEDSLIT</td><td>1189</td><td>Roellig, Thomas L</td></tr>\n",
       "<tr><td>103430621</td><td>jw01189001001_08101_00002</td><td>NIRSPEC</td><td>NRS_FIXEDSLIT</td><td>1189</td><td>Roellig, Thomas L</td></tr>\n",
       "<tr><td>103430556</td><td>jw01189001001_08101_00003</td><td>NIRSPEC</td><td>NRS_FIXEDSLIT</td><td>1189</td><td>Roellig, Thomas L</td></tr>\n",
       "<tr><td>103432165</td><td>jw01189002001_03102_00001</td><td>MIRI</td><td>MIR_LRS-FIXEDSLIT</td><td>1189</td><td>Roellig, Thomas L</td></tr>\n",
       "</table></div>"
      ],
      "text/plain": [
       "<Table masked=True length=10>\n",
       "ArchiveFileID        fileSetName        instrume ... program      pi_name     \n",
       "    int64               str27             str7   ...  int64        str17      \n",
       "------------- ------------------------- -------- ... ------- -----------------\n",
       "    103431005 jw01189001001_04101_00001  NIRSPEC ...    1189 Roellig, Thomas L\n",
       "    103430949 jw01189001001_04101_00002  NIRSPEC ...    1189 Roellig, Thomas L\n",
       "    103430874 jw01189001001_04101_00003  NIRSPEC ...    1189 Roellig, Thomas L\n",
       "    103430827 jw01189001001_06101_00001  NIRSPEC ...    1189 Roellig, Thomas L\n",
       "    103430762 jw01189001001_06101_00002  NIRSPEC ...    1189 Roellig, Thomas L\n",
       "    103430721 jw01189001001_06101_00003  NIRSPEC ...    1189 Roellig, Thomas L\n",
       "    103430672 jw01189001001_08101_00001  NIRSPEC ...    1189 Roellig, Thomas L\n",
       "    103430621 jw01189001001_08101_00002  NIRSPEC ...    1189 Roellig, Thomas L\n",
       "    103430556 jw01189001001_08101_00003  NIRSPEC ...    1189 Roellig, Thomas L\n",
       "    103432165 jw01189002001_03102_00001     MIRI ...    1189 Roellig, Thomas L"
      ]
     },
     "execution_count": 11,
     "metadata": {},
     "output_type": "execute_result"
    }
   ],
   "source": [
    "# Filtered query with wildcard\n",
    "results = missions.query_criteria(program=1189,\n",
    "                                  instrume='!NIRCAM',  # Exclude datasets from the NIRCam instrument\n",
    "                                  exp_type='*FIXEDSLIT*', # Any exposure type that contains 'FIXEDSLIT'\n",
    "                                  select_cols=['fileSetName', 'instrume', 'exp_type', 'program', 'pi_name'])\n",
    "\n",
    "# Display the first 10 results\n",
    "print(f'Total number of results: {len(results)}')\n",
    "results[:10]"
   ]
  },
  {
   "cell_type": "markdown",
   "metadata": {},
   "source": [
    "To filter by multiple values for a single column, we use a string of the values delimited by commas.\n",
    "\n",
    "To illustrate this, we will use a slightly different query. We query for datasets that have a fixed slits spectroscopy exposure type and targets with moving coordinates (`targtype='MOVING'`). We will add another filter to match three different last names for principal investigators (PIs)."
   ]
  },
  {
   "cell_type": "code",
   "execution_count": 12,
   "metadata": {
    "execution": {
     "iopub.execute_input": "2024-06-28T16:19:22.591309Z",
     "iopub.status.busy": "2024-06-28T16:19:22.591140Z",
     "iopub.status.idle": "2024-06-28T16:19:44.804756Z",
     "shell.execute_reply": "2024-06-28T16:19:44.804117Z"
    }
   },
   "outputs": [
    {
     "name": "stdout",
     "output_type": "stream",
     "text": [
      "Total number of results: 17\n"
     ]
    },
    {
     "data": {
      "text/html": [
       "<div><i>Table masked=True length=10</i>\n",
       "<table id=\"table140508246570384\" class=\"table-striped table-bordered table-condensed\">\n",
       "<thead><tr><th>ArchiveFileID</th><th>fileSetName</th><th>instrume</th><th>exp_type</th><th>program</th><th>pi_name</th><th>targtype</th></tr></thead>\n",
       "<thead><tr><th>int64</th><th>str25</th><th>str4</th><th>str17</th><th>int64</th><th>str21</th><th>str6</th></tr></thead>\n",
       "<tr><td>90652789</td><td>jw01191018001_03102_00001</td><td>MIRI</td><td>MIR_LRS-FIXEDSLIT</td><td>1191</td><td>Stansberry, John A.</td><td>MOVING</td></tr>\n",
       "<tr><td>90652807</td><td>jw01191018001_03102_00002</td><td>MIRI</td><td>MIR_LRS-FIXEDSLIT</td><td>1191</td><td>Stansberry, John A.</td><td>MOVING</td></tr>\n",
       "<tr><td>90656062</td><td>jw01191-o018_t002_miri</td><td>MIRI</td><td>MIR_LRS-FIXEDSLIT</td><td>1191</td><td>Stansberry, John A.</td><td>MOVING</td></tr>\n",
       "<tr><td>90092649</td><td>jw01254001001_03102_00001</td><td>MIRI</td><td>MIR_LRS-FIXEDSLIT</td><td>1254</td><td>Parker, Alex Harrison</td><td>MOVING</td></tr>\n",
       "<tr><td>90092583</td><td>jw01254001001_03102_00002</td><td>MIRI</td><td>MIR_LRS-FIXEDSLIT</td><td>1254</td><td>Parker, Alex Harrison</td><td>MOVING</td></tr>\n",
       "<tr><td>90093194</td><td>jw01254-o001_t001_miri</td><td>MIRI</td><td>MIR_LRS-FIXEDSLIT</td><td>1254</td><td>Parker, Alex Harrison</td><td>MOVING</td></tr>\n",
       "<tr><td>100129970</td><td>jw01273001001_04102_00001</td><td>MIRI</td><td>MIR_LRS-FIXEDSLIT</td><td>1273</td><td>Lunine, Jonathan I.</td><td>MOVING</td></tr>\n",
       "<tr><td>100131628</td><td>jw01273001001_04102_00002</td><td>MIRI</td><td>MIR_LRS-FIXEDSLIT</td><td>1273</td><td>Lunine, Jonathan I.</td><td>MOVING</td></tr>\n",
       "<tr><td>100131677</td><td>jw01273009001_04102_00001</td><td>MIRI</td><td>MIR_LRS-FIXEDSLIT</td><td>1273</td><td>Lunine, Jonathan I.</td><td>MOVING</td></tr>\n",
       "<tr><td>100131817</td><td>jw01273009001_04102_00002</td><td>MIRI</td><td>MIR_LRS-FIXEDSLIT</td><td>1273</td><td>Lunine, Jonathan I.</td><td>MOVING</td></tr>\n",
       "</table></div>"
      ],
      "text/plain": [
       "<Table masked=True length=10>\n",
       "ArchiveFileID        fileSetName        ...        pi_name        targtype\n",
       "    int64               str25           ...         str21           str6  \n",
       "------------- ------------------------- ... --------------------- --------\n",
       "     90652789 jw01191018001_03102_00001 ...   Stansberry, John A.   MOVING\n",
       "     90652807 jw01191018001_03102_00002 ...   Stansberry, John A.   MOVING\n",
       "     90656062    jw01191-o018_t002_miri ...   Stansberry, John A.   MOVING\n",
       "     90092649 jw01254001001_03102_00001 ... Parker, Alex Harrison   MOVING\n",
       "     90092583 jw01254001001_03102_00002 ... Parker, Alex Harrison   MOVING\n",
       "     90093194    jw01254-o001_t001_miri ... Parker, Alex Harrison   MOVING\n",
       "    100129970 jw01273001001_04102_00001 ...   Lunine, Jonathan I.   MOVING\n",
       "    100131628 jw01273001001_04102_00002 ...   Lunine, Jonathan I.   MOVING\n",
       "    100131677 jw01273009001_04102_00001 ...   Lunine, Jonathan I.   MOVING\n",
       "    100131817 jw01273009001_04102_00002 ...   Lunine, Jonathan I.   MOVING"
      ]
     },
     "execution_count": 12,
     "metadata": {},
     "output_type": "execute_result"
    }
   ],
   "source": [
    "# Filtered query with multiple values\n",
    "results = missions.query_criteria(exp_type='*FIXEDSLIT*', # Any exposure type that contains 'FIXEDSLIT'\n",
    "                                  targtype='MOVING',  # Only return moving targets\n",
    "                                  pi_name='Stansberry, Parker, Lunine',  # Last name of PI can be any of these 3 values\n",
    "                                  select_cols=['fileSetName', 'targtype', 'instrume', 'exp_type', 'program', 'pi_name'])\n",
    "\n",
    "# Display the first 10 results\n",
    "print(f'Total number of results: {len(results)}')\n",
    "results[:10]"
   ]
  },
  {
   "cell_type": "markdown",
   "metadata": {},
   "source": [
    "For columns with numeric or date values, we can filter using comparison values:\n",
    "\n",
    "- `<`: Return values less than or before the given number/date\n",
    "- `>`: Return values greater than or after the given number/date\n",
    "- `<=`: Return values less than or equal to the given number/date\n",
    "- `>=`: Return values greater than or equal to the given number/date\n",
    "\n",
    "As an example, let's write a query to return all datasets with an observation date before February 1, 2022."
   ]
  },
  {
   "cell_type": "code",
   "execution_count": 13,
   "metadata": {
    "execution": {
     "iopub.execute_input": "2024-06-28T16:19:44.807362Z",
     "iopub.status.busy": "2024-06-28T16:19:44.806985Z",
     "iopub.status.idle": "2024-06-28T16:19:50.938538Z",
     "shell.execute_reply": "2024-06-28T16:19:50.937947Z"
    }
   },
   "outputs": [
    {
     "name": "stdout",
     "output_type": "stream",
     "text": [
      "Total number of results: 7\n"
     ]
    },
    {
     "data": {
      "text/html": [
       "<div><i>Table masked=True length=7</i>\n",
       "<table id=\"table140507912543312\" class=\"table-striped table-bordered table-condensed\">\n",
       "<thead><tr><th>ArchiveFileID</th><th>fileSetName</th><th>date_obs</th><th>program</th></tr></thead>\n",
       "<thead><tr><th>int64</th><th>str25</th><th>str27</th><th>int64</th></tr></thead>\n",
       "<tr><td>91445440</td><td>jw01173001001_02101_00001</td><td>2022-01-28T14:23:42.6180000</td><td>1173</td></tr>\n",
       "<tr><td>91445554</td><td>jw01173002001_02101_00001</td><td>2022-01-28T14:36:52.9270000</td><td>1173</td></tr>\n",
       "<tr><td>91445294</td><td>jw01173003001_02101_00001</td><td>2022-01-28T15:00:36.6550000</td><td>1173</td></tr>\n",
       "<tr><td>91445352</td><td>jw01173004001_02101_00001</td><td>2022-01-28T15:09:07.1830000</td><td>1173</td></tr>\n",
       "<tr><td>91445310</td><td>jw01173005001_02101_00001</td><td>2022-01-28T15:26:27.6020000</td><td>1173</td></tr>\n",
       "<tr><td>91445363</td><td>jw01173006001_02101_00001</td><td>2022-01-28T15:34:25.7730000</td><td>1173</td></tr>\n",
       "<tr><td>91445306</td><td>jw01173007001_02101_00001</td><td>2022-01-28T15:43:44.3010000</td><td>1173</td></tr>\n",
       "</table></div>"
      ],
      "text/plain": [
       "<Table masked=True length=7>\n",
       "ArchiveFileID        fileSetName                  date_obs          program\n",
       "    int64               str25                      str27             int64 \n",
       "------------- ------------------------- --------------------------- -------\n",
       "     91445440 jw01173001001_02101_00001 2022-01-28T14:23:42.6180000    1173\n",
       "     91445554 jw01173002001_02101_00001 2022-01-28T14:36:52.9270000    1173\n",
       "     91445294 jw01173003001_02101_00001 2022-01-28T15:00:36.6550000    1173\n",
       "     91445352 jw01173004001_02101_00001 2022-01-28T15:09:07.1830000    1173\n",
       "     91445310 jw01173005001_02101_00001 2022-01-28T15:26:27.6020000    1173\n",
       "     91445363 jw01173006001_02101_00001 2022-01-28T15:34:25.7730000    1173\n",
       "     91445306 jw01173007001_02101_00001 2022-01-28T15:43:44.3010000    1173"
      ]
     },
     "execution_count": 13,
     "metadata": {},
     "output_type": "execute_result"
    }
   ],
   "source": [
    "# Query using comparison operator\n",
    "results = missions.query_criteria(date_obs='<2022-02-01',  # Must be observed before February 1, 2022\n",
    "                                  select_cols=['fileSetName', 'program', 'date_obs'])\n",
    "\n",
    "# Display results\n",
    "print(f'Total number of results: {len(results)}')\n",
    "results"
   ]
  },
  {
   "cell_type": "markdown",
   "metadata": {},
   "source": [
    "For numeric or date data types, we can also filter with ranges. This requires the following syntax: `'#..#'`.\n",
    "\n",
    "Let's write a query that uses range syntax to return datasets that belong to a program number between 1150 and 1155. We will also select for exposure durations that are greater than or equal to 100 seconds."
   ]
  },
  {
   "cell_type": "code",
   "execution_count": 14,
   "metadata": {
    "execution": {
     "iopub.execute_input": "2024-06-28T16:19:50.941473Z",
     "iopub.status.busy": "2024-06-28T16:19:50.941056Z",
     "iopub.status.idle": "2024-06-28T16:19:57.190445Z",
     "shell.execute_reply": "2024-06-28T16:19:57.189730Z"
    }
   },
   "outputs": [
    {
     "name": "stdout",
     "output_type": "stream",
     "text": [
      "Total number of results: 77\n"
     ]
    },
    {
     "data": {
      "text/html": [
       "<div><i>Table masked=True length=77</i>\n",
       "<table id=\"table140507912822992\" class=\"table-striped table-bordered table-condensed\">\n",
       "<thead><tr><th>ArchiveFileID</th><th>fileSetName</th><th>duration</th><th>program</th></tr></thead>\n",
       "<thead><tr><th>int64</th><th>str25</th><th>float64</th><th>int64</th></tr></thead>\n",
       "<tr><td>56863803</td><td>jw01151001001_02101_00001</td><td>203.999</td><td>1151</td></tr>\n",
       "<tr><td>56863873</td><td>jw01151001001_02101_00002</td><td>203.999</td><td>1151</td></tr>\n",
       "<tr><td>56863512</td><td>jw01151001001_03101_00001</td><td>214.735</td><td>1151</td></tr>\n",
       "<tr><td>56863800</td><td>jw01151001001_05101_00001</td><td>203.999</td><td>1151</td></tr>\n",
       "<tr><td>56863856</td><td>jw01151001001_05101_00002</td><td>203.999</td><td>1151</td></tr>\n",
       "<tr><td>56863823</td><td>jw01151001001_06101_00001</td><td>214.735</td><td>1151</td></tr>\n",
       "<tr><td>56863853</td><td>jw01151001001_08101_00001</td><td>203.999</td><td>1151</td></tr>\n",
       "<tr><td>56875469</td><td>jw01151020001_03101_00001</td><td>214.735</td><td>1151</td></tr>\n",
       "<tr><td>56876309</td><td>jw01151021001_02102_00001</td><td>118.104</td><td>1151</td></tr>\n",
       "<tr><td>...</td><td>...</td><td>...</td><td>...</td></tr>\n",
       "<tr><td>56968427</td><td>jw01155005001_0210a_00002</td><td>150.315</td><td>1155</td></tr>\n",
       "<tr><td>56968592</td><td>jw01155005001_0210b_00001</td><td>150.315</td><td>1155</td></tr>\n",
       "<tr><td>56968483</td><td>jw01155005001_0210b_00002</td><td>150.315</td><td>1155</td></tr>\n",
       "<tr><td>56967461</td><td>jw01155007001_02102_00001</td><td>1191.781</td><td>1155</td></tr>\n",
       "<tr><td>56967484</td><td>jw01155007001_02103_00001</td><td>1191.781</td><td>1155</td></tr>\n",
       "<tr><td>56967455</td><td>jw01155007001_02104_00001</td><td>1191.781</td><td>1155</td></tr>\n",
       "<tr><td>56969427</td><td>jw01155-o001_t018_nircam</td><td>246.946</td><td>1155</td></tr>\n",
       "<tr><td>56969260</td><td>jw01155-o003_t018_nircam</td><td>150.315</td><td>1155</td></tr>\n",
       "<tr><td>56969340</td><td>jw01155-o005_t018_nircam</td><td>246.946</td><td>1155</td></tr>\n",
       "<tr><td>56969363</td><td>jw01155-o007_t018_nircam</td><td>4767.124</td><td>1155</td></tr>\n",
       "</table></div>"
      ],
      "text/plain": [
       "<Table masked=True length=77>\n",
       "ArchiveFileID        fileSetName        duration program\n",
       "    int64               str25           float64   int64 \n",
       "------------- ------------------------- -------- -------\n",
       "     56863803 jw01151001001_02101_00001  203.999    1151\n",
       "     56863873 jw01151001001_02101_00002  203.999    1151\n",
       "     56863512 jw01151001001_03101_00001  214.735    1151\n",
       "     56863800 jw01151001001_05101_00001  203.999    1151\n",
       "     56863856 jw01151001001_05101_00002  203.999    1151\n",
       "     56863823 jw01151001001_06101_00001  214.735    1151\n",
       "     56863853 jw01151001001_08101_00001  203.999    1151\n",
       "     56875469 jw01151020001_03101_00001  214.735    1151\n",
       "     56876309 jw01151021001_02102_00001  118.104    1151\n",
       "          ...                       ...      ...     ...\n",
       "     56968427 jw01155005001_0210a_00002  150.315    1155\n",
       "     56968592 jw01155005001_0210b_00001  150.315    1155\n",
       "     56968483 jw01155005001_0210b_00002  150.315    1155\n",
       "     56967461 jw01155007001_02102_00001 1191.781    1155\n",
       "     56967484 jw01155007001_02103_00001 1191.781    1155\n",
       "     56967455 jw01155007001_02104_00001 1191.781    1155\n",
       "     56969427  jw01155-o001_t018_nircam  246.946    1155\n",
       "     56969260  jw01155-o003_t018_nircam  150.315    1155\n",
       "     56969340  jw01155-o005_t018_nircam  246.946    1155\n",
       "     56969363  jw01155-o007_t018_nircam 4767.124    1155"
      ]
     },
     "execution_count": 14,
     "metadata": {},
     "output_type": "execute_result"
    }
   ],
   "source": [
    "# Query using range operator\n",
    "results = missions.query_criteria(program='1150..1155', # Program number between 1150 and 1155\n",
    "                                  duration='>100',  # Exposure duration is greater than or equal to 100 seconds\n",
    "                                  select_cols=['fileSetName', 'program', 'duration'])\n",
    "\n",
    "# Display results\n",
    "print(f'Total number of results: {len(results)}')\n",
    "results"
   ]
  },
  {
   "cell_type": "markdown",
   "metadata": {},
   "source": [
    "### Exercise 3\n",
    "It's time to apply all that you've learned! Write a non-positional query based on the following:\n",
    "\n",
    "- Fixed targets (*HINT*: `targtype='FIXED'`)\n",
    "- Instument is Mid-Infrared Instrument (MIRI) or Fine Guidance Sensor (FGS)\n",
    "- Proposal type should NOT include General Observers (`GO`)\n",
    "- Exposure type includes the string `'IMAGE'`\n",
    "- Right ascension is between 70 and 75 degrees\n",
    "- Program number is less than 1200.\n",
    "- Skip the first 5 entries.\n",
    "- Select the following columns: `fileSetName`, `targtype`, `instrume`, `proposal_type`, `exp_type`, `targ_ra`, `program`"
   ]
  },
  {
   "cell_type": "code",
   "execution_count": 15,
   "metadata": {
    "execution": {
     "iopub.execute_input": "2024-06-28T16:19:57.193308Z",
     "iopub.status.busy": "2024-06-28T16:19:57.192928Z",
     "iopub.status.idle": "2024-06-28T16:19:57.195772Z",
     "shell.execute_reply": "2024-06-28T16:19:57.195138Z"
    }
   },
   "outputs": [],
   "source": [
    "# # A non-positional query with column criteria\n",
    "# results = missions.query_criteria(...)  # Write your query here!\n",
    "\n",
    "# # Display results\n",
    "# print(f'Total number of results: {len(results)}')\n",
    "# results"
   ]
  },
  {
   "cell_type": "markdown",
   "metadata": {},
   "source": [
    "## Additional Resources\n",
    "\n",
    "- [MAST JWST Search Form](https://mast.stsci.edu/search/ui/#/jwst)\n",
    "- [MAST JWST Search API](https://mast.stsci.edu/search/docs/?urls.primaryName=jwst_api)\n",
    "- [`astroquery.mast` Documentation for Mission-Specific Searches](https://astroquery.readthedocs.io/en/latest/mast/mast_missions.html#mission-specific-search-queries)"
   ]
  },
  {
   "cell_type": "markdown",
   "metadata": {},
   "source": [
    "## Exercise Solutions\n",
    "\n",
    "### Exercise 1"
   ]
  },
  {
   "cell_type": "code",
   "execution_count": 16,
   "metadata": {
    "execution": {
     "iopub.execute_input": "2024-06-28T16:19:57.198082Z",
     "iopub.status.busy": "2024-06-28T16:19:57.197924Z",
     "iopub.status.idle": "2024-06-28T16:19:59.316738Z",
     "shell.execute_reply": "2024-06-28T16:19:59.316141Z"
    }
   },
   "outputs": [
    {
     "name": "stdout",
     "output_type": "stream",
     "text": [
      "Total number of results: 60\n"
     ]
    },
    {
     "data": {
      "text/html": [
       "<div><i>Table masked=True length=5</i>\n",
       "<table id=\"table140507912824080\" class=\"table-striped table-bordered table-condensed\">\n",
       "<thead><tr><th>ArchiveFileID</th><th>fileSetName</th><th>opticalElements</th></tr></thead>\n",
       "<thead><tr><th>int64</th><th>str25</th><th>str77</th></tr></thead>\n",
       "<tr><td>101357435</td><td>jw03435008001_0210l_00003</td><td>CH12;SHORT, CH34;SHORT, F770W</td></tr>\n",
       "<tr><td>101357394</td><td>jw03435008001_0210l_00004</td><td>CH12;SHORT, CH34;SHORT, F770W</td></tr>\n",
       "<tr><td>101357354</td><td>jw03435008001_0210n_00001</td><td>CH12;SHORT, CH34;SHORT, F770W</td></tr>\n",
       "<tr><td>101357300</td><td>jw03435008001_0210n_00002</td><td>CH12;SHORT, CH34;SHORT, F770W</td></tr>\n",
       "<tr><td>101357254</td><td>jw03435008001_0210n_00003</td><td>CH12;SHORT, CH34;SHORT, F770W</td></tr>\n",
       "</table></div>"
      ],
      "text/plain": [
       "<Table masked=True length=5>\n",
       "ArchiveFileID        fileSetName               opticalElements       \n",
       "    int64               str25                       str77            \n",
       "------------- ------------------------- -----------------------------\n",
       "    101357435 jw03435008001_0210l_00003 CH12;SHORT, CH34;SHORT, F770W\n",
       "    101357394 jw03435008001_0210l_00004 CH12;SHORT, CH34;SHORT, F770W\n",
       "    101357354 jw03435008001_0210n_00001 CH12;SHORT, CH34;SHORT, F770W\n",
       "    101357300 jw03435008001_0210n_00002 CH12;SHORT, CH34;SHORT, F770W\n",
       "    101357254 jw03435008001_0210n_00003 CH12;SHORT, CH34;SHORT, F770W"
      ]
     },
     "execution_count": 16,
     "metadata": {},
     "output_type": "execute_result"
    }
   ],
   "source": [
    "# Query for Whirlpool Galaxy\n",
    "results = missions.query_object('Whirlpool',\n",
    "                                radius=1,  # Search radius of 1 arcminute\n",
    "                                offset=300,  # Skip the first 300 rows\n",
    "                                select_cols=['fileSetName', 'opticalElements'])\n",
    "\n",
    "# Display the first 5 results\n",
    "print(f'Total number of results: {len(results)}')\n",
    "results[:5]"
   ]
  },
  {
   "cell_type": "markdown",
   "metadata": {},
   "source": [
    "### Exercise 2"
   ]
  },
  {
   "cell_type": "code",
   "execution_count": 17,
   "metadata": {
    "execution": {
     "iopub.execute_input": "2024-06-28T16:19:59.319421Z",
     "iopub.status.busy": "2024-06-28T16:19:59.319072Z",
     "iopub.status.idle": "2024-06-28T16:20:00.306495Z",
     "shell.execute_reply": "2024-06-28T16:20:00.305974Z"
    }
   },
   "outputs": [
    {
     "name": "stdout",
     "output_type": "stream",
     "text": [
      "Total number of results: 51\n"
     ]
    },
    {
     "data": {
      "text/html": [
       "<div><i>Table masked=True length=5</i>\n",
       "<table id=\"table140507912483792\" class=\"table-striped table-bordered table-condensed\">\n",
       "<thead><tr><th>ArchiveFileID</th><th>fileSetName</th><th>targprop</th><th>targ_ra</th><th>targ_dec</th></tr></thead>\n",
       "<thead><tr><th>int64</th><th>str25</th><th>str20</th><th>float64</th><th>float64</th></tr></thead>\n",
       "<tr><td>98240946</td><td>jw01193026001_02101_00001</td><td>VEGA</td><td>279.2364266145171</td><td>38.78556769656323</td></tr>\n",
       "<tr><td>98240935</td><td>jw01193026001_02101_00002</td><td>VEGA</td><td>279.2364266153141</td><td>38.7855676974483</td></tr>\n",
       "<tr><td>98240928</td><td>jw01193026001_02101_00003</td><td>VEGA</td><td>279.2364266161172</td><td>38.78556769833999</td></tr>\n",
       "<tr><td>98240908</td><td>jw01193026001_02101_00004</td><td>VEGA</td><td>279.2364266169163</td><td>38.78556769922733</td></tr>\n",
       "<tr><td>98241079</td><td>jw01193027001_02101_00001</td><td>VEGA-COPY-MIRI-CORON</td><td>279.2364266191411</td><td>38.78556770169765</td></tr>\n",
       "</table></div>"
      ],
      "text/plain": [
       "<Table masked=True length=5>\n",
       "ArchiveFileID        fileSetName        ...      targ_ra           targ_dec    \n",
       "    int64               str25           ...      float64           float64     \n",
       "------------- ------------------------- ... ----------------- -----------------\n",
       "     98240946 jw01193026001_02101_00001 ... 279.2364266145171 38.78556769656323\n",
       "     98240935 jw01193026001_02101_00002 ... 279.2364266153141  38.7855676974483\n",
       "     98240928 jw01193026001_02101_00003 ... 279.2364266161172 38.78556769833999\n",
       "     98240908 jw01193026001_02101_00004 ... 279.2364266169163 38.78556769922733\n",
       "     98241079 jw01193027001_02101_00001 ... 279.2364266191411 38.78556770169765"
      ]
     },
     "execution_count": 17,
     "metadata": {},
     "output_type": "execute_result"
    }
   ],
   "source": [
    "# Vega coordinates\n",
    "vega = SkyCoord(279.23473, 38.78369, unit=('deg'))\n",
    "\n",
    "# Query for datasets around Vega\n",
    "results = missions.query_region(vega,\n",
    "                                radius=15,  # Search radius of 15 arcminutes\n",
    "                                select_cols=['fileSetName', 'targprop', 'targ_ra', 'targ_dec'])\n",
    "\n",
    "# Display the first 5 results\n",
    "print(f'Total number of results: {len(results)}')\n",
    "results[:5]"
   ]
  },
  {
   "cell_type": "markdown",
   "metadata": {},
   "source": [
    "### Exercise 3"
   ]
  },
  {
   "cell_type": "code",
   "execution_count": 18,
   "metadata": {
    "execution": {
     "iopub.execute_input": "2024-06-28T16:20:00.309128Z",
     "iopub.status.busy": "2024-06-28T16:20:00.308951Z",
     "iopub.status.idle": "2024-06-28T16:22:08.416579Z",
     "shell.execute_reply": "2024-06-28T16:22:08.415879Z"
    }
   },
   "outputs": [
    {
     "name": "stdout",
     "output_type": "stream",
     "text": [
      "Total number of results: 11\n"
     ]
    },
    {
     "data": {
      "text/html": [
       "<div><i>Table masked=True length=11</i>\n",
       "<table id=\"table140507909412880\" class=\"table-striped table-bordered table-condensed\">\n",
       "<thead><tr><th>ArchiveFileID</th><th>fileSetName</th><th>targ_ra</th><th>instrume</th><th>exp_type</th><th>program</th><th>proposal_type</th><th>targtype</th></tr></thead>\n",
       "<thead><tr><th>int64</th><th>str25</th><th>float64</th><th>str4</th><th>str9</th><th>int64</th><th>str3</th><th>str5</th></tr></thead>\n",
       "<tr><td>103428041</td><td>jw01189005001_02101_00006</td><td>74.72636096419268</td><td>MIRI</td><td>MIR_IMAGE</td><td>1189</td><td>GTO</td><td>FIXED</td></tr>\n",
       "<tr><td>103428045</td><td>jw01189005001_02101_00007</td><td>74.72636096470079</td><td>MIRI</td><td>MIR_IMAGE</td><td>1189</td><td>GTO</td><td>FIXED</td></tr>\n",
       "<tr><td>103427981</td><td>jw01189005001_02101_00008</td><td>74.72636096498769</td><td>MIRI</td><td>MIR_IMAGE</td><td>1189</td><td>GTO</td><td>FIXED</td></tr>\n",
       "<tr><td>103432656</td><td>jw01189015001_02101_00001</td><td>74.72636283573928</td><td>MIRI</td><td>MIR_MRS</td><td>1189</td><td>GTO</td><td>FIXED</td></tr>\n",
       "<tr><td>103432616</td><td>jw01189015001_02101_00002</td><td>74.72636283830163</td><td>MIRI</td><td>MIR_MRS</td><td>1189</td><td>GTO</td><td>FIXED</td></tr>\n",
       "<tr><td>103433605</td><td>jw01189015001_02103_00001</td><td>74.72636284146016</td><td>MIRI</td><td>MIR_MRS</td><td>1189</td><td>GTO</td><td>FIXED</td></tr>\n",
       "<tr><td>103432532</td><td>jw01189015001_02103_00002</td><td>74.72636284400124</td><td>MIRI</td><td>MIR_MRS</td><td>1189</td><td>GTO</td><td>FIXED</td></tr>\n",
       "<tr><td>103432477</td><td>jw01189015001_02105_00001</td><td>74.72636284716255</td><td>MIRI</td><td>MIR_MRS</td><td>1189</td><td>GTO</td><td>FIXED</td></tr>\n",
       "<tr><td>103432925</td><td>jw01189015001_02105_00002</td><td>74.72636284973676</td><td>MIRI</td><td>MIR_MRS</td><td>1189</td><td>GTO</td><td>FIXED</td></tr>\n",
       "<tr><td>103431227</td><td>jw01189-o005_t002_miri</td><td>74.72636096235495</td><td>MIRI</td><td>MIR_IMAGE</td><td>1189</td><td>GTO</td><td>FIXED</td></tr>\n",
       "<tr><td>103438341</td><td>jw01189-o015_t002_miri</td><td>74.72636283572731</td><td>MIRI</td><td>MIR_IMAGE</td><td>1189</td><td>GTO</td><td>FIXED</td></tr>\n",
       "</table></div>"
      ],
      "text/plain": [
       "<Table masked=True length=11>\n",
       "ArchiveFileID        fileSetName        ... proposal_type targtype\n",
       "    int64               str25           ...      str3       str5  \n",
       "------------- ------------------------- ... ------------- --------\n",
       "    103428041 jw01189005001_02101_00006 ...           GTO    FIXED\n",
       "    103428045 jw01189005001_02101_00007 ...           GTO    FIXED\n",
       "    103427981 jw01189005001_02101_00008 ...           GTO    FIXED\n",
       "    103432656 jw01189015001_02101_00001 ...           GTO    FIXED\n",
       "    103432616 jw01189015001_02101_00002 ...           GTO    FIXED\n",
       "    103433605 jw01189015001_02103_00001 ...           GTO    FIXED\n",
       "    103432532 jw01189015001_02103_00002 ...           GTO    FIXED\n",
       "    103432477 jw01189015001_02105_00001 ...           GTO    FIXED\n",
       "    103432925 jw01189015001_02105_00002 ...           GTO    FIXED\n",
       "    103431227    jw01189-o005_t002_miri ...           GTO    FIXED\n",
       "    103438341    jw01189-o015_t002_miri ...           GTO    FIXED"
      ]
     },
     "execution_count": 18,
     "metadata": {},
     "output_type": "execute_result"
    }
   ],
   "source": [
    "# A non-positional query with column criteria\n",
    "results = missions.query_criteria(targtype='FIXED',  # Fixed target\n",
    "                                  instrume='MIRI, FGS',  # Select MIRI and FGS observations\n",
    "                                  proposal_type='!GO',  # Not from a general observer proposal\n",
    "                                  exp_type='*IMAGE*',  # Contains the string \"IMAGE\"\n",
    "                                  targ_ra='70..75',  # Between 70 and 75\n",
    "                                  program='<1200',  # Less than 1200\n",
    "                                  offset=5,  # Skip the first 5 results\n",
    "                                  select_cols=['fileSetName', 'targtype', 'instrume', 'proposal_type', \n",
    "                                               'exp_type', 'targ_ra', 'program'])\n",
    "\n",
    "# Display results\n",
    "print(f'Total number of results: {len(results)}')\n",
    "results"
   ]
  },
  {
   "cell_type": "markdown",
   "metadata": {},
   "source": [
    "## Citations\n",
    "\n",
    "If you use `astroquery` for published research, please cite the\n",
    "authors. Follow these links for more information about citing `astroquery`:\n",
    "\n",
    "* [Citing `astroquery`](https://github.com/astropy/astroquery/blob/main/astroquery/CITATION)\n"
   ]
  },
  {
   "cell_type": "markdown",
   "metadata": {
    "slideshow": {
     "slide_type": "slide"
    }
   },
   "source": [
    "## About this Notebook\n",
    "\n",
    "**Author(s):** Sam Bianco <br>\n",
    "**Keyword(s):** Tutorial, JWST, Astroquery, MastMissions <br>\n",
    "**First published:** June 2024 <br>\n",
    "**Last updated:** June 2024 <br>\n",
    "\n",
    "***\n",
    "[Top of Page](#top)\n",
    "<img style=\"float: right;\" src=\"https://raw.githubusercontent.com/spacetelescope/notebooks/master/assets/stsci_pri_combo_mark_horizonal_white_bkgd.png\" alt=\"Space Telescope Logo\" width=\"200px\"/> "
   ]
  }
 ],
 "metadata": {
  "kernelspec": {
   "display_name": "Python 3 (ipykernel)",
   "language": "python",
   "name": "python3"
  },
  "language_info": {
   "codemirror_mode": {
    "name": "ipython",
    "version": 3
   },
   "file_extension": ".py",
   "mimetype": "text/x-python",
   "name": "python",
   "nbconvert_exporter": "python",
   "pygments_lexer": "ipython3",
   "version": "3.11.9"
  }
 },
 "nbformat": 4,
 "nbformat_minor": 4
}
