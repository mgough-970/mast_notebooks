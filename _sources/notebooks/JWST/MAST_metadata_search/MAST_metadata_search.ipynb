{
 "cells": [
  {
   "cell_type": "markdown",
   "metadata": {},
   "source": [
    "<a id=\"top\"></a>\n",
    "# Astroquery: Exploring Metadata from the James Webb Space Telescope\n",
    "***\n",
    "## Learning Goals\n",
    "\n",
    "By the end of this tutorial, you will:\n",
    "\n",
    "- Understand how to use the `astroquery.mast` module to access metadata from the James Webb Space Telescope (JWST).\n",
    "- Run metadata queries based on coordinates, an object name, or non-positional criteria.\n",
    "- Use optional search parameters to further refine query results."
   ]
  },
  {
   "cell_type": "markdown",
   "metadata": {
    "slideshow": {
     "slide_type": "slide"
    }
   },
   "source": [
    "## Table of Contents\n",
    "* [Introduction](#Introduction)\n",
    "* [Querying MAST for JWST Metadata](#Querying-MAST-for-JWST-Metadata)\n",
    "    * [Setup](#Setup)\n",
    "    * [Optional Search Parameters](#Optional-Search-Parameters)\n",
    "    * [Query by Object Name](#Query-by-Object-Name)\n",
    "    * [Query by Region](#Query-by-Region)\n",
    "    * [Query by Criteria](#Query-by-Criteria)\n",
    "* [Additional Resources](#Additional-Resources)\n",
    "* [Exercise Solutions](#Exercise-Solutions)\n",
    "\n",
    "## Introduction\n",
    "\n",
    "Welcome! This tutorial focuses on using the `astroquery.mast` module to search for metadata from the [James Webb Space Telescope (JWST)](https://webb.nasa.gov/). Launched in December of 2021, JWST is an advanced space observatory designed for observations in the infrared light spectrum.\n",
    "\n",
    "The [Mikulski Archive for Space Telescopes (MAST)](https://archive.stsci.edu/) hosts publicly accessible data products from space telescopes like JWST. `astroquery.mast` provides access to a broad set of JWST metadata, including header keywords, proposal information, and observational parameters. The available metadata can also be found using the [MAST JWST Search](https://mast.stsci.edu/search/ui/#/jwst) interface.\n",
    "\n",
    "***Please note that `astroquery.mast.MastMissions` and the MAST JWST Search API do not yet support data product downloads.***"
   ]
  },
  {
   "cell_type": "markdown",
   "metadata": {
    "slideshow": {
     "slide_type": "slide"
    }
   },
   "source": [
    "## Imports\n",
    "\n",
    "This notebook uses the following packages:\n",
    "- *astroquery.mast* to query the MAST Archive\n",
    "- *astropy.coordinates* to assign coordinates of interest"
   ]
  },
  {
   "cell_type": "code",
   "execution_count": 1,
   "metadata": {
    "execution": {
     "iopub.execute_input": "2025-03-27T19:27:12.391509Z",
     "iopub.status.busy": "2025-03-27T19:27:12.391331Z",
     "iopub.status.idle": "2025-03-27T19:27:12.961226Z",
     "shell.execute_reply": "2025-03-27T19:27:12.960549Z"
    },
    "slideshow": {
     "slide_type": "fragment"
    }
   },
   "outputs": [],
   "source": [
    "from astroquery.mast import MastMissions\n",
    "from astropy.coordinates import SkyCoord"
   ]
  },
  {
   "cell_type": "markdown",
   "metadata": {},
   "source": [
    "***"
   ]
  },
  {
   "cell_type": "markdown",
   "metadata": {},
   "source": [
    "## Querying MAST for JWST Metadata"
   ]
  },
  {
   "cell_type": "markdown",
   "metadata": {},
   "source": [
    "### Setup"
   ]
  },
  {
   "cell_type": "markdown",
   "metadata": {},
   "source": [
    "In order to make queries on JWST metadata, we will have to perform some setup. First, we will instantiate an object of the `MastMissions` class and assign its `mission` to be `'jwst'`. Its `service` is set to the default of `'search'`."
   ]
  },
  {
   "cell_type": "code",
   "execution_count": 2,
   "metadata": {
    "execution": {
     "iopub.execute_input": "2025-03-27T19:27:12.963667Z",
     "iopub.status.busy": "2025-03-27T19:27:12.963476Z",
     "iopub.status.idle": "2025-03-27T19:27:12.967298Z",
     "shell.execute_reply": "2025-03-27T19:27:12.966765Z"
    }
   },
   "outputs": [
    {
     "name": "stdout",
     "output_type": "stream",
     "text": [
      "Mission: jwst\n",
      "Service: search\n"
     ]
    }
   ],
   "source": [
    "# Create MastMissions object and assign mission to 'jwst'\n",
    "missions = MastMissions(mission='jwst')\n",
    "\n",
    "print(f'Mission: {missions.mission}')\n",
    "print(f'Service: {missions.service}')"
   ]
  },
  {
   "cell_type": "markdown",
   "metadata": {},
   "source": [
    "When writing queries, keyword arguments can be used to specify output characteristics (see the following section) and filter on values like instrument, exposure type, and proposal ID. The available column names for a mission are returned by the `get_column_list` function. Below, we will print out the name, data type, and description for the first 10 columns in JWST metadata."
   ]
  },
  {
   "cell_type": "code",
   "execution_count": 3,
   "metadata": {
    "execution": {
     "iopub.execute_input": "2025-03-27T19:27:13.000888Z",
     "iopub.status.busy": "2025-03-27T19:27:13.000356Z",
     "iopub.status.idle": "2025-03-27T19:27:13.262466Z",
     "shell.execute_reply": "2025-03-27T19:27:13.261851Z"
    }
   },
   "outputs": [
    {
     "data": {
      "text/html": [
       "<div><i>Table length=10</i>\n",
       "<table id=\"table139884069483216\" class=\"table-striped table-bordered table-condensed\">\n",
       "<thead><tr><th>name</th><th>data_type</th><th>description</th></tr></thead>\n",
       "<thead><tr><th>str17</th><th>str9</th><th>str1594</th></tr></thead>\n",
       "<tr><td>search_pos</td><td>string</td><td>Search Position (RA and Dec)</td></tr>\n",
       "<tr><td>ArchiveFileID</td><td>integer</td><td>ArchiveFileID</td></tr>\n",
       "<tr><td>fileSetName</td><td>string</td><td>Of the form jwpppppooovvv_ggsaa_eeeee where ppppp - Program Number, ooo - Observation Number, vvv - Visit Number, gg - Visit Group, s - Parallel Sequence id (1 prime, 2-5 parallel), aa - Activity (base 36), and eeeee - Exposure Number, all padded by zeros where necessary. Source-based data set names are expressed as jwppppp-oOOO_tTTT_instrument, where: ppppp - Program number, OOO - observation number, TTT - target number, and instrument - Instrument name</td></tr>\n",
       "<tr><td>productLevel</td><td>string</td><td>Product levels, 1b is an Uncal FITS file, 2a = Countrate exposure, 2b = calibrated exposure, 2c = cosmic-ray-flagged exposure, and 3 = combined data.</td></tr>\n",
       "<tr><td>targprop</td><td>string</td><td>Proposer prefered name for the target</td></tr>\n",
       "<tr><td>targname</td><td>string</td><td>Standard astronomical catalog name for the target</td></tr>\n",
       "<tr><td>targ_ra</td><td>ra</td><td>Right Ascension (J2000), from 0 to 360, in degrees</td></tr>\n",
       "<tr><td>targ_dec</td><td>dec</td><td>Declination (J2000), from -90 to +90, in degrees</td></tr>\n",
       "<tr><td>instrume</td><td>string</td><td>Identifies the instrument used to acquire the data.</td></tr>\n",
       "<tr><td>exp_type</td><td>string</td><td>Exposure type is used by DMS to direct Science Data Processing code (SDP) and calibration, as well as provide metadata for archive searches. For a given template the EXP_TYPE keyword value is obtained for each exposure from the EXPOSURE_TYPE exposure-level parameter in the Observatory Status File (OSF). In a few cases, additional information is required to set the value for the EXP_TYPE keyword</td></tr>\n",
       "</table></div>"
      ],
      "text/plain": [
       "<Table length=10>\n",
       "     name     ...\n",
       "    str17     ...\n",
       "------------- ...\n",
       "   search_pos ...\n",
       "ArchiveFileID ...\n",
       "  fileSetName ...\n",
       " productLevel ...\n",
       "     targprop ...\n",
       "     targname ...\n",
       "      targ_ra ...\n",
       "     targ_dec ...\n",
       "     instrume ...\n",
       "     exp_type ..."
      ]
     },
     "execution_count": 3,
     "metadata": {},
     "output_type": "execute_result"
    }
   ],
   "source": [
    "# Get available columns for JWST mission\n",
    "columns = missions.get_column_list()\n",
    "columns[:10]"
   ]
  },
  {
   "cell_type": "markdown",
   "metadata": {},
   "source": [
    "### Optional Search Parameters\n",
    "\n",
    "Before we dive in to the actual queries, it's important to know how we can refine our results with optional keyword arguments. The following parameters are available:\n",
    "\n",
    "- `radius`: For positional searches only. Only return results within a certain distance from an object or set of coordinates. Default is 3 arcminutes. \n",
    "- `limit`: The maximum number of results to return. Default is 5000.\n",
    "- `offset`: Skip the first ***n*** results. Useful for paging through results.\n",
    "- `select_cols`: A list of columns to be returned in the response.\n",
    "\n",
    "As we walk through different types of queries, we will see these parameters in action!"
   ]
  },
  {
   "cell_type": "markdown",
   "metadata": {},
   "source": [
    "### Query by Object Name\n",
    "\n",
    "We've reached our first query! We can use object names to perform metadata queries using the `query_object` function.\n",
    "\n",
    "To start, let's query for the Messier 1 object, a supernova remnant in the Taurus constellation. You may know it better as the Crab Nebula!"
   ]
  },
  {
   "cell_type": "code",
   "execution_count": 4,
   "metadata": {
    "execution": {
     "iopub.execute_input": "2025-03-27T19:27:13.264794Z",
     "iopub.status.busy": "2025-03-27T19:27:13.264239Z",
     "iopub.status.idle": "2025-03-27T19:27:16.289602Z",
     "shell.execute_reply": "2025-03-27T19:27:16.289006Z"
    }
   },
   "outputs": [
    {
     "name": "stdout",
     "output_type": "stream",
     "text": [
      "Total number of results: 250\n"
     ]
    },
    {
     "data": {
      "text/html": [
       "<div><i>Table masked=True length=5</i>\n",
       "<table id=\"table139884069825872\" class=\"table-striped table-bordered table-condensed\">\n",
       "<thead><tr><th>ArchiveFileID</th><th>fileSetName</th><th>productLevel</th><th>targprop</th><th>targ_ra</th><th>targ_dec</th><th>instrume</th><th>exp_type</th><th>opticalElements</th><th>date_obs</th><th>duration</th><th>program</th><th>observtn</th><th>visit</th><th>publicReleaseDate</th><th>pi_name</th><th>proposal_type</th><th>proposal_cycle</th><th>targtype</th><th>access</th><th>ang_sep</th><th>s_region</th></tr></thead>\n",
       "<thead><tr><th>int64</th><th>str25</th><th>str14</th><th>str18</th><th>float64</th><th>float64</th><th>str6</th><th>str9</th><th>str77</th><th>str27</th><th>float64</th><th>int64</th><th>int64</th><th>int64</th><th>str19</th><th>str10</th><th>str2</th><th>int64</th><th>str5</th><th>str6</th><th>float64</th><th>str117</th></tr></thead>\n",
       "<tr><td>140969955</td><td>jw01714001001_02101_00001</td><td>1b, 2a, 2b, 2c</td><td>CRAB-NEBULA</td><td>83.63604958333333</td><td>22.01641666666667</td><td>MIRI</td><td>MIR_IMAGE</td><td>F560W</td><td>2023-02-24T00:50:42.9710000</td><td>138.752</td><td>1714</td><td>1</td><td>1</td><td>2024-02-24T13:30:27</td><td>Temim, Tea</td><td>GO</td><td>1</td><td>FIXED</td><td>PUBLIC</td><td>1.0970509857770536</td><td>POLYGON ICRS  83.651895783 22.020165846 83.685738447 22.019090702 83.686913614 22.050772495 83.653063383 22.051847880</td></tr>\n",
       "<tr><td>140969441</td><td>jw01714001001_02101_00002</td><td>1b, 2a, 2b, 2c</td><td>CRAB-NEBULA</td><td>83.63604958333333</td><td>22.01641666666667</td><td>MIRI</td><td>MIR_IMAGE</td><td>F560W</td><td>2023-02-24T00:54:27.7390000</td><td>138.752</td><td>1714</td><td>1</td><td>1</td><td>2024-02-24T13:33:03</td><td>Temim, Tea</td><td>GO</td><td>1</td><td>FIXED</td><td>PUBLIC</td><td>0.8253462827989163</td><td>POLYGON ICRS  83.646857347 22.020496034 83.680700125 22.019421805 83.681874298 22.051103630 83.648023954 22.052178100</td></tr>\n",
       "<tr><td>140970303</td><td>jw01714001001_02101_00003</td><td>1b, 2a, 2b, 2c</td><td>CRAB-NEBULA</td><td>83.63604958333333</td><td>22.01641666666667</td><td>MIRI</td><td>MIR_IMAGE</td><td>F560W</td><td>2023-02-24T00:58:07.0030000</td><td>138.752</td><td>1714</td><td>1</td><td>1</td><td>2024-02-24T13:32:24</td><td>Temim, Tea</td><td>GO</td><td>1</td><td>FIXED</td><td>PUBLIC</td><td>0.9607116035272403</td><td>POLYGON ICRS  83.647661363 22.024897630 83.681505187 22.023823259 83.682679551 22.055505079 83.648828160 22.056579690</td></tr>\n",
       "<tr><td>140969487</td><td>jw01714001001_02101_00004</td><td>1b, 2a, 2b, 2c</td><td>CRAB-NEBULA</td><td>83.63604958333333</td><td>22.01641666666667</td><td>MIRI</td><td>MIR_IMAGE</td><td>F560W</td><td>2023-02-24T01:01:46.2660000</td><td>138.752</td><td>1714</td><td>1</td><td>1</td><td>2024-02-24T13:33:18</td><td>Temim, Tea</td><td>GO</td><td>1</td><td>FIXED</td><td>PUBLIC</td><td>1.1368712452489975</td><td>POLYGON ICRS  83.651520724 22.024094493 83.685364325 22.023019302 83.686539577 22.054701093 83.652688408 22.055776525</td></tr>\n",
       "<tr><td>140970598</td><td>jw01714001001_02103_00001</td><td>1b, 2a, 2b, 2c</td><td>CRAB-NEBULA</td><td>83.63604958333333</td><td>22.01641666666667</td><td>MIRI</td><td>MIR_IMAGE</td><td>F1130W</td><td>2023-02-24T01:07:30.3500000</td><td>105.452</td><td>1714</td><td>1</td><td>1</td><td>2024-02-24T13:34:12</td><td>Temim, Tea</td><td>GO</td><td>1</td><td>FIXED</td><td>PUBLIC</td><td>1.0962220337763038</td><td>POLYGON ICRS  83.651879463 22.020173371 83.685722127 22.019098153 83.686897374 22.050779944 83.653047144 22.051855402</td></tr>\n",
       "</table></div>"
      ],
      "text/plain": [
       "<Table masked=True length=5>\n",
       "ArchiveFileID ...\n",
       "    int64     ...\n",
       "------------- ...\n",
       "    140969955 ...\n",
       "    140969441 ...\n",
       "    140970303 ...\n",
       "    140969487 ...\n",
       "    140970598 ..."
      ]
     },
     "execution_count": 4,
     "metadata": {},
     "output_type": "execute_result"
    }
   ],
   "source": [
    "# Query for Messier 1 ('M1')\n",
    "results = missions.query_object('M1')\n",
    "\n",
    "# Display the first 5 results\n",
    "print(f'Total number of results: {len(results)}')\n",
    "results[:5]"
   ]
  },
  {
   "cell_type": "markdown",
   "metadata": {},
   "source": [
    "There were 250 total results, meaning that 250 JWST datasets were targeting the Crab Nebula. Now, let's try refining our search a bit more.\n",
    "\n",
    "- Each dataset is associated with a celestial coordinate, given by `targ_ra` (right ascension) and `targ_dec` (declination). By default, the query returns all datasets that fall within 3 arcminutes from the object's coordinates. Let's set the `radius` parameter to be 1 arcminute instead.\n",
    "- Say that we're not interested in the first 4 results. We can assign `offset` to skip a certain number of rows.\n",
    "- By default, a subset of recommended columns are returned for each query. However, we can specify exactly which columns to return using the `select_cols` keyword argument. The `ArchiveFileID` column is included automatically."
   ]
  },
  {
   "cell_type": "code",
   "execution_count": 5,
   "metadata": {
    "execution": {
     "iopub.execute_input": "2025-03-27T19:27:16.291598Z",
     "iopub.status.busy": "2025-03-27T19:27:16.291202Z",
     "iopub.status.idle": "2025-03-27T19:27:17.531912Z",
     "shell.execute_reply": "2025-03-27T19:27:17.531424Z"
    }
   },
   "outputs": [
    {
     "name": "stdout",
     "output_type": "stream",
     "text": [
      "Total number of results: 161\n"
     ]
    },
    {
     "data": {
      "text/html": [
       "<div><i>Table masked=True length=5</i>\n",
       "<table id=\"table139884067489424\" class=\"table-striped table-bordered table-condensed\">\n",
       "<thead><tr><th>ArchiveFileID</th><th>fileSetName</th><th>targprop</th><th>date_obs</th><th>s_region</th></tr></thead>\n",
       "<thead><tr><th>int64</th><th>str25</th><th>str18</th><th>str27</th><th>str117</th></tr></thead>\n",
       "<tr><td>140967908</td><td>jw01714001001_02105_00002</td><td>CRAB-NEBULA</td><td>2023-02-24T01:23:47.1870000</td><td>POLYGON ICRS  83.646836411 22.020511240 83.680679192 22.019437014 83.681853361 22.051118839 83.648003014 22.052193305</td></tr>\n",
       "<tr><td>140968840</td><td>jw01714001001_02105_00003</td><td>CRAB-NEBULA</td><td>2023-02-24T01:25:40.9790000</td><td>POLYGON ICRS  83.647640608 22.024913016 83.681484434 22.023838623 83.682658823 22.055520441 83.648807429 22.056595075</td></tr>\n",
       "<tr><td>140969064</td><td>jw01714001001_02107_00002</td><td>CRAB-NEBULA</td><td>2023-02-24T01:33:35.5030000</td><td>POLYGON ICRS  83.646850658 22.020498367 83.680693435 22.019424131 83.681867616 22.051105955 83.648017272 22.052180431</td></tr>\n",
       "<tr><td>140968989</td><td>jw01714001001_02107_00003</td><td>CRAB-NEBULA</td><td>2023-02-24T01:36:24.7820000</td><td>POLYGON ICRS  83.647654834 22.024900130 83.681498658 22.023825747 83.682673036 22.055507566 83.648821644 22.056582189</td></tr>\n",
       "<tr><td>140968684</td><td>jw01714001002_02101_00002</td><td>CRAB-NEBULA</td><td>2023-02-24T01:53:56.5670000</td><td>POLYGON ICRS  83.646065866 22.002003062 83.679904222 22.000928695 83.681078389 22.032610514 83.647232475 22.033685122</td></tr>\n",
       "</table></div>"
      ],
      "text/plain": [
       "<Table masked=True length=5>\n",
       "ArchiveFileID ...\n",
       "    int64     ...\n",
       "------------- ...\n",
       "    140967908 ...\n",
       "    140968840 ...\n",
       "    140969064 ...\n",
       "    140968989 ...\n",
       "    140968684 ..."
      ]
     },
     "execution_count": 5,
     "metadata": {},
     "output_type": "execute_result"
    }
   ],
   "source": [
    "# Refined query for Messier 1 ('M1')\n",
    "results = missions.query_object('M1',\n",
    "                                radius=1,  # Search within a 1 arcminute radius\n",
    "                                offset=4,  # Skip the first 4 results\n",
    "                                select_cols=['fileSetName', 'targprop', 'date_obs'])  # Select certain columns\n",
    "\n",
    "# Display the first 5 results\n",
    "print(f'Total number of results: {len(results)}')\n",
    "results[:5]"
   ]
  },
  {
   "cell_type": "markdown",
   "metadata": {},
   "source": [
    "### Exercise 1\n",
    "Now it's your turn! Try querying for the Whirlpool Galaxy object. Search within a radius of 1 arcminute, skip the first 300 results, and select the `fileSetName` and `opticalElements` columns."
   ]
  },
  {
   "cell_type": "code",
   "execution_count": 6,
   "metadata": {
    "execution": {
     "iopub.execute_input": "2025-03-27T19:27:17.533820Z",
     "iopub.status.busy": "2025-03-27T19:27:17.533451Z",
     "iopub.status.idle": "2025-03-27T19:27:17.535845Z",
     "shell.execute_reply": "2025-03-27T19:27:17.535426Z"
    }
   },
   "outputs": [],
   "source": [
    "# # Query for Whirlpool Galaxy\n",
    "# results = missions.query_object(...)  # Write your query!\n",
    "\n",
    "# # Display the first 5 results\n",
    "# print(f'Total number of results: {len(results)}')\n",
    "# results[:5]"
   ]
  },
  {
   "cell_type": "markdown",
   "metadata": {},
   "source": [
    "### Query by Region\n",
    "\n",
    "The `missions` object also allows us to query by a region in the sky. By passing in a set of coordinates to the `query_region` function, we can return datasets that fall within a certain `radius` value of that point. This type of search is also known as a cone search."
   ]
  },
  {
   "cell_type": "code",
   "execution_count": 7,
   "metadata": {
    "execution": {
     "iopub.execute_input": "2025-03-27T19:27:17.537621Z",
     "iopub.status.busy": "2025-03-27T19:27:17.537236Z",
     "iopub.status.idle": "2025-03-27T19:27:20.287001Z",
     "shell.execute_reply": "2025-03-27T19:27:20.286411Z"
    }
   },
   "outputs": [
    {
     "name": "stdout",
     "output_type": "stream",
     "text": [
      "Total number of results: 431\n"
     ]
    },
    {
     "data": {
      "text/html": [
       "<div><i>Table masked=True length=5</i>\n",
       "<table id=\"table139884069996688\" class=\"table-striped table-bordered table-condensed\">\n",
       "<thead><tr><th>ArchiveFileID</th><th>fileSetName</th><th>productLevel</th><th>targprop</th><th>targ_ra</th><th>targ_dec</th><th>instrume</th><th>exp_type</th><th>opticalElements</th><th>date_obs</th><th>duration</th><th>program</th><th>observtn</th><th>visit</th><th>publicReleaseDate</th><th>pi_name</th><th>proposal_type</th><th>proposal_cycle</th><th>targtype</th><th>access</th><th>ang_sep</th><th>s_region</th></tr></thead>\n",
       "<thead><tr><th>int64</th><th>str31</th><th>str14</th><th>str25</th><th>float64</th><th>float64</th><th>str7</th><th>str17</th><th>str89</th><th>str27</th><th>float64</th><th>int64</th><th>int64</th><th>int64</th><th>str19</th><th>str25</th><th>str6</th><th>int64</th><th>str7</th><th>str16</th><th>float64</th><th>str121</th></tr></thead>\n",
       "<tr><td>143245453</td><td>jw01995001001_02101_00001</td><td>1b, 2a, 2b, 2c</td><td>MESSIER-101</td><td>210.876465</td><td>54.36092777777778</td><td>NIRCAM</td><td>NRC_IMAGE</td><td>F115W;CLEAR, F444W;CLEAR</td><td>2023-05-30T15:23:35.5330000</td><td>311.366</td><td>1995</td><td>1</td><td>1</td><td>2024-05-30T23:55:17</td><td>Freedman, Wendy L.</td><td>GO</td><td>1</td><td>FIXED</td><td>PUBLIC</td><td>0.9317195976624251</td><td>POLYGON ICRS  210.827993572 54.354715688 210.864844544 54.325657806 210.914875889 54.347195624 210.878040993 54.376268745</td></tr>\n",
       "<tr><td>143248342</td><td>jw01995001001_02101_00002</td><td>1b, 2a, 2b, 2c</td><td>MESSIER-101</td><td>210.876465</td><td>54.36092777777778</td><td>NIRCAM</td><td>NRC_IMAGE</td><td>F115W;CLEAR, F444W;CLEAR</td><td>2023-05-30T15:30:23.4690000</td><td>311.366</td><td>1995</td><td>1</td><td>1</td><td>2024-05-30T23:56:39</td><td>Freedman, Wendy L.</td><td>GO</td><td>1</td><td>FIXED</td><td>PUBLIC</td><td>0.9247099787034783</td><td>POLYGON ICRS  210.895598212 54.383166871 210.932406715 54.354011954 210.982639688 54.375509952 210.945847598 54.404680147</td></tr>\n",
       "<tr><td>143248633</td><td>jw01995001001_02101_00003</td><td>1b, 2a, 2b, 2c</td><td>MESSIER-101</td><td>210.876465</td><td>54.36092777777778</td><td>NIRCAM</td><td>NRC_IMAGE</td><td>F115W;CLEAR, F444W;CLEAR</td><td>2023-05-30T15:37:00.7800000</td><td>311.366</td><td>1995</td><td>1</td><td>1</td><td>2024-05-30T23:58:44</td><td>Freedman, Wendy L.</td><td>GO</td><td>1</td><td>FIXED</td><td>PUBLIC</td><td>0.9387390545558567</td><td>POLYGON ICRS  210.853452937 54.366244061 210.871650908 54.351711621 210.896510323 54.362275300 210.878316469 54.376811479</td></tr>\n",
       "<tr><td>143247692</td><td>jw01995001001_02201_00001</td><td>1b, 2a, 2b, 2c</td><td>MESSIER-101</td><td>210.876465</td><td>54.36092777777778</td><td>NIRISS</td><td>NIS_IMAGE</td><td>CLEAR;F115W</td><td>2023-05-30T15:23:38.9100000</td><td>311.366</td><td>1995</td><td>1</td><td>1</td><td>2024-05-30T23:55:55</td><td>Freedman, Wendy L.</td><td>GO</td><td>1</td><td>FIXED</td><td>PUBLIC</td><td>7.239582698074742</td><td>POLYGON ICRS  210.913934950 54.462978815 210.951558106 54.432634381 211.003204113 54.454479744 210.965638042 54.484823939</td></tr>\n",
       "<tr><td>143248409</td><td>jw01995001001_02201_00002</td><td>1b, 2a, 2b, 2c</td><td>MESSIER-101</td><td>210.876465</td><td>54.36092777777778</td><td>NIRISS</td><td>NIS_IMAGE</td><td>CLEAR;F115W</td><td>2023-05-30T15:30:26.3340000</td><td>311.366</td><td>1995</td><td>1</td><td>1</td><td>2024-05-30T23:55:49</td><td>Freedman, Wendy L.</td><td>GO</td><td>1</td><td>FIXED</td><td>PUBLIC</td><td>7.233995178717605</td><td>POLYGON ICRS  210.913724498 54.462971771 210.951347659 54.432627342 211.002993648 54.454472712 210.965427572 54.484816902</td></tr>\n",
       "</table></div>"
      ],
      "text/plain": [
       "<Table masked=True length=5>\n",
       "ArchiveFileID ...\n",
       "    int64     ...\n",
       "------------- ...\n",
       "    143245453 ...\n",
       "    143248342 ...\n",
       "    143248633 ...\n",
       "    143247692 ...\n",
       "    143248409 ..."
      ]
     },
     "execution_count": 7,
     "metadata": {},
     "output_type": "execute_result"
    }
   ],
   "source": [
    "# Create coordinate object\n",
    "coords = SkyCoord(210.80227, 54.34895, unit=('deg'))\n",
    "\n",
    "# Query for results within 10 arcminutes of coords\n",
    "results = missions.query_region(coords, radius=10)\n",
    "\n",
    "# Display results\n",
    "print(f'Total number of results: {len(results)}')\n",
    "results[:5]"
   ]
  },
  {
   "cell_type": "markdown",
   "metadata": {},
   "source": [
    "395 JWST datasets fall within our cone search. In other words, their target coordinates are within 10 arcminutes of the coordinates that we defined."
   ]
  },
  {
   "cell_type": "markdown",
   "metadata": {},
   "source": [
    "### Exercise 2: \n",
    "JWST has observed the star Vega, which has a right ascension of 279.23473 degrees and a declination of 38.78369 degrees. Use the `query_region` function to search for datasets within 15 arcminutes of Vega. Select the `fileSetName`, `targprop`, `targ_ra`, and `targ_dec` columns."
   ]
  },
  {
   "cell_type": "code",
   "execution_count": 8,
   "metadata": {
    "execution": {
     "iopub.execute_input": "2025-03-27T19:27:20.288772Z",
     "iopub.status.busy": "2025-03-27T19:27:20.288591Z",
     "iopub.status.idle": "2025-03-27T19:27:20.291112Z",
     "shell.execute_reply": "2025-03-27T19:27:20.290673Z"
    }
   },
   "outputs": [],
   "source": [
    "# # Vega coordinates\n",
    "# vega = SkyCoord(_, _, unit=('deg'))  # Fill in with Vega's coordinates\n",
    "\n",
    "# # Query for datasets around Vega\n",
    "# results = missions.query_region(...)  # Write your query!\n",
    "\n",
    "# # Display the first 5 results\n",
    "# print(f'Total number of results: {len(results)}')\n",
    "# results[:5]"
   ]
  },
  {
   "cell_type": "markdown",
   "metadata": {},
   "source": [
    "### Query by Criteria"
   ]
  },
  {
   "cell_type": "markdown",
   "metadata": {},
   "source": [
    "In some cases, we may want to run queries with non-positional parameters. To accomplish this, we use the `query_criteria` function.\n",
    "\n",
    "For any of our query functions, we can filter our results by the value of columns in the dataset.\n",
    "\n",
    "Let's say that we only want observations from JWST's Near Infrared Camera (NIRCam) instrument, and that we only want datasets connected to program number 1189."
   ]
  },
  {
   "cell_type": "code",
   "execution_count": 9,
   "metadata": {
    "execution": {
     "iopub.execute_input": "2025-03-27T19:27:20.292797Z",
     "iopub.status.busy": "2025-03-27T19:27:20.292474Z",
     "iopub.status.idle": "2025-03-27T19:27:22.590452Z",
     "shell.execute_reply": "2025-03-27T19:27:22.589882Z"
    }
   },
   "outputs": [
    {
     "name": "stdout",
     "output_type": "stream",
     "text": [
      "Total number of results: 79\n"
     ]
    },
    {
     "data": {
      "text/html": [
       "<div><i>Table masked=True length=5</i>\n",
       "<table id=\"table139883661931344\" class=\"table-striped table-bordered table-condensed\">\n",
       "<thead><tr><th>ArchiveFileID</th><th>fileSetName</th><th>instrume</th><th>exp_type</th><th>program</th><th>pi_name</th><th>s_region</th></tr></thead>\n",
       "<thead><tr><th>int64</th><th>str25</th><th>str6</th><th>str13</th><th>int64</th><th>str17</th><th>str121</th></tr></thead>\n",
       "<tr><td>159785580</td><td>jw01189010001_02101_00001</td><td>NIRCAM</td><td>NRC_IMAGE</td><td>1189</td><td>Roellig, Thomas L</td><td>POLYGON ICRS  277.137659247 26.861105196 277.149069743 26.846465320 277.165479951 26.856643631 277.154070551 26.871284825</td></tr>\n",
       "<tr><td>159785419</td><td>jw01189010001_02101_00002</td><td>NIRCAM</td><td>NRC_IMAGE</td><td>1189</td><td>Roellig, Thomas L</td><td>POLYGON ICRS  277.137238152 26.858825348 277.148648325 26.844185414 277.165058265 26.854363641 277.153649189 26.869004893</td></tr>\n",
       "<tr><td>159785131</td><td>jw01189010001_02101_00003</td><td>NIRCAM</td><td>NRC_IMAGE</td><td>1189</td><td>Roellig, Thomas L</td><td>POLYGON ICRS  277.149235325 26.841068963 277.160604381 26.826745837 277.176674629 26.836900318 277.165306586 26.851224729</td></tr>\n",
       "<tr><td>159784821</td><td>jw01189010001_02101_00004</td><td>NIRCAM</td><td>NRC_IMAGE</td><td>1189</td><td>Roellig, Thomas L</td><td>POLYGON ICRS  277.148813871 26.838789939 277.160182758 26.824466851 277.176252641 26.834621385 277.164884766 26.848945758</td></tr>\n",
       "<tr><td>159784825</td><td>jw01189010001_04101_00001</td><td>NIRCAM</td><td>NRC_IMAGE</td><td>1189</td><td>Roellig, Thomas L</td><td>POLYGON ICRS  277.120171890 26.849875464 277.132005933 26.835345259 277.148242726 26.845870734 277.136409668 26.860402290</td></tr>\n",
       "</table></div>"
      ],
      "text/plain": [
       "<Table masked=True length=5>\n",
       "ArchiveFileID ...\n",
       "    int64     ...\n",
       "------------- ...\n",
       "    159785580 ...\n",
       "    159785419 ...\n",
       "    159785131 ...\n",
       "    159784821 ...\n",
       "    159784825 ..."
      ]
     },
     "execution_count": 9,
     "metadata": {},
     "output_type": "execute_result"
    }
   ],
   "source": [
    "# Query with column criteria\n",
    "results = missions.query_criteria(instrume='NIRCAM',  # From Near Infrared Camera\n",
    "                                  program=1189,\n",
    "                                  select_cols=['fileSetName', 'instrume', 'exp_type', 'program', 'pi_name'])\n",
    "\n",
    "# Display the first 5 results\n",
    "print(f'Total number of results: {len(results)}')\n",
    "results[:5]"
   ]
  },
  {
   "cell_type": "markdown",
   "metadata": {},
   "source": [
    "To exclude and filter out a certain value from the results, we can prepend the value with `!`.\n",
    "\n",
    "Let's run the same query as above, but this time, we will filter out datasets coming from the NIRCam instrument."
   ]
  },
  {
   "cell_type": "code",
   "execution_count": 10,
   "metadata": {
    "execution": {
     "iopub.execute_input": "2025-03-27T19:27:22.592293Z",
     "iopub.status.busy": "2025-03-27T19:27:22.591972Z",
     "iopub.status.idle": "2025-03-27T19:27:24.943863Z",
     "shell.execute_reply": "2025-03-27T19:27:24.943268Z"
    }
   },
   "outputs": [
    {
     "name": "stdout",
     "output_type": "stream",
     "text": [
      "Total number of results: 94\n"
     ]
    },
    {
     "data": {
      "text/html": [
       "<div><i>Table masked=True length=5</i>\n",
       "<table id=\"table139883796813712\" class=\"table-striped table-bordered table-condensed\">\n",
       "<thead><tr><th>ArchiveFileID</th><th>fileSetName</th><th>instrume</th><th>exp_type</th><th>program</th><th>pi_name</th><th>s_region</th></tr></thead>\n",
       "<thead><tr><th>int64</th><th>str31</th><th>str7</th><th>str17</th><th>int64</th><th>str17</th><th>str121</th></tr></thead>\n",
       "<tr><td>159776343</td><td>jw01189001001_02101_00001</td><td>NIRSPEC</td><td>NRS_WATA</td><td>1189</td><td>Roellig, Thomas L</td><td>POLYGON ICRS  57.028706395 -60.379718866 57.029996917 -60.379034437 57.028628460 -60.378418399 57.027338468 -60.379103025</td></tr>\n",
       "<tr><td>159776754</td><td>jw01189001001_02101_00002</td><td>NIRSPEC</td><td>NRS_TACONFIRM</td><td>1189</td><td>Roellig, Thomas L</td><td>POLYGON ICRS  57.028868144 -60.379725520 57.030158663 -60.379041090 57.028790202 -60.378425054 57.027500214 -60.379109681</td></tr>\n",
       "<tr><td>159777067</td><td>jw01189001001_04101_00001</td><td>NIRSPEC</td><td>NRS_FIXEDSLIT</td><td>1189</td><td>Roellig, Thomas L</td><td>--</td></tr>\n",
       "<tr><td>159777116</td><td>jw01189001001_04101_00002</td><td>NIRSPEC</td><td>NRS_FIXEDSLIT</td><td>1189</td><td>Roellig, Thomas L</td><td>--</td></tr>\n",
       "<tr><td>159776883</td><td>jw01189001001_04101_00003</td><td>NIRSPEC</td><td>NRS_FIXEDSLIT</td><td>1189</td><td>Roellig, Thomas L</td><td>--</td></tr>\n",
       "</table></div>"
      ],
      "text/plain": [
       "<Table masked=True length=5>\n",
       "ArchiveFileID ...\n",
       "    int64     ...\n",
       "------------- ...\n",
       "    159776343 ...\n",
       "    159776754 ...\n",
       "    159777067 ...\n",
       "    159777116 ...\n",
       "    159776883 ..."
      ]
     },
     "execution_count": 10,
     "metadata": {},
     "output_type": "execute_result"
    }
   ],
   "source": [
    "# Filtered query, excluding NIRCam datasets\n",
    "results = missions.query_criteria(program=1189,\n",
    "                                  instrume='!NIRCAM',  # Exclude datasets from the NIRCam instrument\n",
    "                                  select_cols=['fileSetName', 'instrume', 'exp_type', 'program', 'pi_name'])\n",
    "\n",
    "# Display the first 5 results\n",
    "print(f'Total number of results: {len(results)}')\n",
    "results[:5]"
   ]
  },
  {
   "cell_type": "markdown",
   "metadata": {},
   "source": [
    "We can also use wildcards for more advanced filtering. Let's use the same query from above, but we will add an exposure type filter for fixed slits (FS) spectroscopy."
   ]
  },
  {
   "cell_type": "code",
   "execution_count": 11,
   "metadata": {
    "execution": {
     "iopub.execute_input": "2025-03-27T19:27:24.945691Z",
     "iopub.status.busy": "2025-03-27T19:27:24.945374Z",
     "iopub.status.idle": "2025-03-27T19:27:35.224679Z",
     "shell.execute_reply": "2025-03-27T19:27:35.224218Z"
    }
   },
   "outputs": [
    {
     "name": "stdout",
     "output_type": "stream",
     "text": [
      "Total number of results: 0\n"
     ]
    },
    {
     "name": "stderr",
     "output_type": "stream",
     "text": [
      "WARNING: NoResultsWarning: Query returned no results. [astroquery.mast.services]\n"
     ]
    },
    {
     "data": {
      "text/html": [
       "<div><i>Table masked=True length=0</i>\n",
       "<table id=\"table139883804739792\" class=\"table-striped table-bordered table-condensed\">\n",
       "<thead><tr><th>ArchiveFileID</th><th>fileSetName</th><th>instrume</th><th>exp_type</th><th>program</th><th>pi_name</th><th>s_region</th></tr></thead>\n",
       "<thead><tr><th>int64</th><th>str1</th><th>str1</th><th>str1</th><th>int64</th><th>str1</th><th>str1</th></tr></thead>\n",
       "</table></div>"
      ],
      "text/plain": [
       "<Table masked=True length=0>\n",
       "ArchiveFileID fileSetName instrume exp_type program pi_name s_region\n",
       "    int64         str1      str1     str1    int64    str1    str1  \n",
       "------------- ----------- -------- -------- ------- ------- --------"
      ]
     },
     "execution_count": 11,
     "metadata": {},
     "output_type": "execute_result"
    }
   ],
   "source": [
    "# Filtered query with wildcard\n",
    "results = missions.query_criteria(program=1189,\n",
    "                                  instrume='!NIRCAM',  # Exclude datasets from the NIRCam instrument\n",
    "                                  exp_type='*FIXEDSLIT*', # Any exposure type that contains 'FIXEDSLIT'\n",
    "                                  select_cols=['fileSetName', 'instrume', 'exp_type', 'program', 'pi_name'])\n",
    "\n",
    "# Display the first 10 results\n",
    "print(f'Total number of results: {len(results)}')\n",
    "results[:10]"
   ]
  },
  {
   "cell_type": "markdown",
   "metadata": {},
   "source": [
    "To filter by multiple values for a single column, we use a string of the values delimited by commas.\n",
    "\n",
    "To illustrate this, we will use a slightly different query. We query for datasets that have a fixed slits spectroscopy exposure type and targets with moving coordinates (`targtype='MOVING'`). We will add another filter to match three different last names for principal investigators (PIs)."
   ]
  },
  {
   "cell_type": "code",
   "execution_count": 12,
   "metadata": {
    "execution": {
     "iopub.execute_input": "2025-03-27T19:27:35.226528Z",
     "iopub.status.busy": "2025-03-27T19:27:35.226221Z",
     "iopub.status.idle": "2025-03-27T19:27:45.168509Z",
     "shell.execute_reply": "2025-03-27T19:27:45.168047Z"
    }
   },
   "outputs": [
    {
     "name": "stdout",
     "output_type": "stream",
     "text": [
      "Total number of results: 0\n"
     ]
    },
    {
     "data": {
      "text/html": [
       "<div><i>Table masked=True length=0</i>\n",
       "<table id=\"table139883661780752\" class=\"table-striped table-bordered table-condensed\">\n",
       "<thead><tr><th>ArchiveFileID</th><th>fileSetName</th><th>instrume</th><th>exp_type</th><th>program</th><th>pi_name</th><th>targtype</th><th>s_region</th></tr></thead>\n",
       "<thead><tr><th>int64</th><th>str1</th><th>str1</th><th>str1</th><th>int64</th><th>str1</th><th>str1</th><th>str1</th></tr></thead>\n",
       "</table></div>"
      ],
      "text/plain": [
       "<Table masked=True length=0>\n",
       "ArchiveFileID fileSetName instrume exp_type program pi_name targtype s_region\n",
       "    int64         str1      str1     str1    int64    str1    str1     str1  \n",
       "------------- ----------- -------- -------- ------- ------- -------- --------"
      ]
     },
     "execution_count": 12,
     "metadata": {},
     "output_type": "execute_result"
    }
   ],
   "source": [
    "# Filtered query with multiple values\n",
    "results = missions.query_criteria(exp_type='*FIXEDSLIT*', # Any exposure type that contains 'FIXEDSLIT'\n",
    "                                  targtype='MOVING',  # Only return moving targets\n",
    "                                  pi_name='Stansberry, Parker, Lunine',  # Last name of PI can be any of these 3 values\n",
    "                                  select_cols=['fileSetName', 'targtype', 'instrume', 'exp_type', 'program', 'pi_name'])\n",
    "\n",
    "# Display the first 10 results\n",
    "print(f'Total number of results: {len(results)}')\n",
    "results[:10]"
   ]
  },
  {
   "cell_type": "markdown",
   "metadata": {},
   "source": [
    "For columns with numeric or date values, we can filter using comparison values:\n",
    "\n",
    "- `<`: Return values less than or before the given number/date\n",
    "- `>`: Return values greater than or after the given number/date\n",
    "- `<=`: Return values less than or equal to the given number/date\n",
    "- `>=`: Return values greater than or equal to the given number/date\n",
    "\n",
    "As an example, let's write a query to return all datasets with an observation date before February 1, 2022."
   ]
  },
  {
   "cell_type": "code",
   "execution_count": 13,
   "metadata": {
    "execution": {
     "iopub.execute_input": "2025-03-27T19:27:45.170422Z",
     "iopub.status.busy": "2025-03-27T19:27:45.170079Z",
     "iopub.status.idle": "2025-03-27T19:27:48.701756Z",
     "shell.execute_reply": "2025-03-27T19:27:48.701169Z"
    }
   },
   "outputs": [
    {
     "name": "stdout",
     "output_type": "stream",
     "text": [
      "Total number of results: 7\n"
     ]
    },
    {
     "data": {
      "text/html": [
       "<div><i>Table masked=True length=7</i>\n",
       "<table id=\"table139883643088592\" class=\"table-striped table-bordered table-condensed\">\n",
       "<thead><tr><th>ArchiveFileID</th><th>fileSetName</th><th>date_obs</th><th>program</th><th>s_region</th></tr></thead>\n",
       "<thead><tr><th>int64</th><th>str25</th><th>str27</th><th>int64</th><th>str117</th></tr></thead>\n",
       "<tr><td>152901340</td><td>jw01173001001_02101_00001</td><td>2022-01-28T14:23:42.0420000</td><td>1173</td><td>POLYGON ICRS  49.866458426 43.426050483 49.866462762 43.425157226 49.865029698 43.425149829 49.865043995 43.426048206</td></tr>\n",
       "<tr><td>152901354</td><td>jw01173002001_02101_00001</td><td>2022-01-28T14:36:53.5670000</td><td>1173</td><td>POLYGON ICRS  49.872292426 43.425849207 49.872296668 43.424955949 49.870863608 43.424948633 49.870878000 43.425847008</td></tr>\n",
       "<tr><td>152900094</td><td>jw01173003001_02101_00001</td><td>2022-01-28T15:00:36.6550000</td><td>1173</td><td>POLYGON ICRS  49.833254104 43.387235046 49.830519212 43.418878447 49.873596213 43.420536706 49.876213947 43.389178421</td></tr>\n",
       "<tr><td>152899998</td><td>jw01173004001_02101_00001</td><td>2022-01-28T15:09:07.1830000</td><td>1173</td><td>POLYGON ICRS  49.871715919 43.425730091 49.871720169 43.424836834 49.870287112 43.424829510 49.870301495 43.425727886</td></tr>\n",
       "<tr><td>152900368</td><td>jw01173005001_02101_00001</td><td>2022-01-28T15:26:28.4540000</td><td>1173</td><td>POLYGON ICRS  49.871724403 43.425719555 49.871728653 43.424826298 49.870295596 43.424818974 49.870309979 43.425717350</td></tr>\n",
       "<tr><td>152900392</td><td>jw01173006001_02101_00001</td><td>2022-01-28T15:34:23.4690000</td><td>1173</td><td>POLYGON ICRS  49.871738741 43.425735307 49.871742991 43.424842050 49.870309933 43.424834727 49.870324317 43.425733103</td></tr>\n",
       "<tr><td>152900285</td><td>jw01173007001_02101_00001</td><td>2022-01-28T15:43:44.3010000</td><td>1173</td><td>POLYGON ICRS  49.871732392 43.425741041 49.871736642 43.424847784 49.870303584 43.424840460 49.870317968 43.425738836</td></tr>\n",
       "</table></div>"
      ],
      "text/plain": [
       "<Table masked=True length=7>\n",
       "ArchiveFileID ...\n",
       "    int64     ...\n",
       "------------- ...\n",
       "    152901340 ...\n",
       "    152901354 ...\n",
       "    152900094 ...\n",
       "    152899998 ...\n",
       "    152900368 ...\n",
       "    152900392 ...\n",
       "    152900285 ..."
      ]
     },
     "execution_count": 13,
     "metadata": {},
     "output_type": "execute_result"
    }
   ],
   "source": [
    "# Query using comparison operator\n",
    "results = missions.query_criteria(date_obs='<2022-02-01',  # Must be observed before February 1, 2022\n",
    "                                  select_cols=['fileSetName', 'program', 'date_obs'])\n",
    "\n",
    "# Display results\n",
    "print(f'Total number of results: {len(results)}')\n",
    "results"
   ]
  },
  {
   "cell_type": "markdown",
   "metadata": {},
   "source": [
    "For numeric or date data types, we can also filter with ranges. This requires the following syntax: `'#..#'`.\n",
    "\n",
    "Let's write a query that uses range syntax to return datasets that belong to a program number between 1150 and 1155. We will also select for exposure durations that are greater than or equal to 100 seconds."
   ]
  },
  {
   "cell_type": "code",
   "execution_count": 14,
   "metadata": {
    "execution": {
     "iopub.execute_input": "2025-03-27T19:27:48.703531Z",
     "iopub.status.busy": "2025-03-27T19:27:48.703363Z",
     "iopub.status.idle": "2025-03-27T19:27:52.452945Z",
     "shell.execute_reply": "2025-03-27T19:27:52.452413Z"
    }
   },
   "outputs": [
    {
     "name": "stdout",
     "output_type": "stream",
     "text": [
      "Total number of results: 77\n"
     ]
    },
    {
     "data": {
      "text/html": [
       "<div><i>Table masked=True length=77</i>\n",
       "<table id=\"table139883643102032\" class=\"table-striped table-bordered table-condensed\">\n",
       "<thead><tr><th>ArchiveFileID</th><th>fileSetName</th><th>duration</th><th>program</th><th>s_region</th></tr></thead>\n",
       "<thead><tr><th>int64</th><th>str25</th><th>float64</th><th>int64</th><th>str121</th></tr></thead>\n",
       "<tr><td>56863803</td><td>jw01151001001_02101_00001</td><td>203.999</td><td>1151</td><td>POLYGON ICRS  267.905935489 74.594343945 267.773467483 74.601350652 267.745808425 74.566718890 267.878307607 74.558837777</td></tr>\n",
       "<tr><td>56863873</td><td>jw01151001001_02101_00002</td><td>203.999</td><td>1151</td><td>POLYGON ICRS  267.844834919 74.586434115 267.712406428 74.593404722 267.684894677 74.558765447 267.817357659 74.550920433</td></tr>\n",
       "<tr><td>56863512</td><td>jw01151001001_03101_00001</td><td>214.735</td><td>1151</td><td>POLYGON ICRS  268.091803329 74.608826495 267.943092794 74.616030022 267.912318626 74.578289816 268.058609787 74.570410560</td></tr>\n",
       "<tr><td>56863800</td><td>jw01151001001_05101_00001</td><td>203.999</td><td>1151</td><td>POLYGON ICRS  267.893660571 74.575935751 267.827945499 74.579618578 267.813949853 74.562328771 267.879750360 74.558389483</td></tr>\n",
       "<tr><td>56863856</td><td>jw01151001001_05101_00002</td><td>203.999</td><td>1151</td><td>POLYGON ICRS  267.844835056 74.586433898 267.712406430 74.593404320 267.684895365 74.558765007 267.817358498 74.550920178</td></tr>\n",
       "<tr><td>56863823</td><td>jw01151001001_06101_00001</td><td>214.735</td><td>1151</td><td>POLYGON ICRS  268.091803198 74.608826549 267.943092604 74.616029989 267.912318750 74.578289765 268.058609977 74.570410594</td></tr>\n",
       "<tr><td>56863853</td><td>jw01151001001_08101_00001</td><td>203.999</td><td>1151</td><td>POLYGON ICRS  267.888160436 74.568517327 267.822479644 74.572204521 267.808474310 74.554915646 267.874240304 74.550971983</td></tr>\n",
       "<tr><td>56875469</td><td>jw01151020001_03101_00001</td><td>214.735</td><td>1151</td><td>POLYGON ICRS  241.403250845 62.406808505 241.320362209 62.395214146 241.341730845 62.357890793 241.424148058 62.368600633</td></tr>\n",
       "<tr><td>56876309</td><td>jw01151021001_02102_00001</td><td>118.104</td><td>1151</td><td>POLYGON ICRS  267.911184344 74.593885726 267.779710230 74.602107984 267.747538661 74.567745622 267.878954411 74.558651139</td></tr>\n",
       "<tr><td>...</td><td>...</td><td>...</td><td>...</td><td>...</td></tr>\n",
       "<tr><td>56968427</td><td>jw01155005001_0210a_00002</td><td>150.315</td><td>1155</td><td>POLYGON ICRS  268.950135910 65.884115362 268.906969346 65.886595235 268.900599994 65.869182640 268.943757497 65.866457203</td></tr>\n",
       "<tr><td>56968592</td><td>jw01155005001_0210b_00001</td><td>150.315</td><td>1155</td><td>POLYGON ICRS  268.904202937 65.886650584 268.861748404 65.889217517 268.855301278 65.872015244 268.897761202 65.869256365</td></tr>\n",
       "<tr><td>56968483</td><td>jw01155005001_0210b_00002</td><td>150.315</td><td>1155</td><td>POLYGON ICRS  268.943349832 65.865093564 268.900189303 65.867843084 268.893331493 65.850380419 268.936597351 65.847374789</td></tr>\n",
       "<tr><td>56967461</td><td>jw01155007001_02102_00001</td><td>1191.781</td><td>1155</td><td>POLYGON ICRS  268.900739876 65.867352239 268.858053923 65.870127601 268.851284097 65.852675278 268.893941782 65.849901802</td></tr>\n",
       "<tr><td>56967484</td><td>jw01155007001_02103_00001</td><td>1191.781</td><td>1155</td><td>POLYGON ICRS  268.907588088 65.885890374 268.865082464 65.888560682 268.858558271 65.871177748 268.901035787 65.868509248</td></tr>\n",
       "<tr><td>56967455</td><td>jw01155007001_02104_00001</td><td>1191.781</td><td>1155</td><td>POLYGON ICRS  268.953444161 65.883351054 268.910226105 65.885970032 268.903835023 65.868311189 268.947024000 65.865694013</td></tr>\n",
       "<tr><td>56969427</td><td>jw01155-o001_t018_nircam</td><td>246.946</td><td>1155</td><td>POLYGON ICRS  268.904172965 65.886609810 268.861719200 65.889178683 268.855267376 65.871976705 268.897726480 65.869215886</td></tr>\n",
       "<tr><td>56969260</td><td>jw01155-o003_t018_nircam</td><td>150.315</td><td>1155</td><td>POLYGON ICRS  268.948913393 65.883648560 268.862008496 65.888779990 268.848492791 65.853809603 268.935598638 65.847800619</td></tr>\n",
       "<tr><td>56969340</td><td>jw01155-o005_t018_nircam</td><td>246.946</td><td>1155</td><td>POLYGON ICRS  268.904185522 65.886606704 268.861731057 65.889173626 268.855283968 65.871971352 268.897743825 65.869212484</td></tr>\n",
       "<tr><td>56969363</td><td>jw01155-o007_t018_nircam</td><td>4767.124</td><td>1155</td><td>POLYGON ICRS  268.953551265 65.883344527 268.864318032 65.888753703 268.851066146 65.852035393 268.940174638 65.846633948</td></tr>\n",
       "</table></div>"
      ],
      "text/plain": [
       "<Table masked=True length=77>\n",
       "ArchiveFileID ...\n",
       "    int64     ...\n",
       "------------- ...\n",
       "     56863803 ...\n",
       "     56863873 ...\n",
       "     56863512 ...\n",
       "     56863800 ...\n",
       "     56863856 ...\n",
       "     56863823 ...\n",
       "     56863853 ...\n",
       "     56875469 ...\n",
       "     56876309 ...\n",
       "          ... ...\n",
       "     56968427 ...\n",
       "     56968592 ...\n",
       "     56968483 ...\n",
       "     56967461 ...\n",
       "     56967484 ...\n",
       "     56967455 ...\n",
       "     56969427 ...\n",
       "     56969260 ...\n",
       "     56969340 ...\n",
       "     56969363 ..."
      ]
     },
     "execution_count": 14,
     "metadata": {},
     "output_type": "execute_result"
    }
   ],
   "source": [
    "# Query using range operator\n",
    "results = missions.query_criteria(program='1150..1155', # Program number between 1150 and 1155\n",
    "                                  duration='>100',  # Exposure duration is greater than or equal to 100 seconds\n",
    "                                  select_cols=['fileSetName', 'program', 'duration'])\n",
    "\n",
    "# Display results\n",
    "print(f'Total number of results: {len(results)}')\n",
    "results"
   ]
  },
  {
   "cell_type": "markdown",
   "metadata": {},
   "source": [
    "### Exercise 3\n",
    "It's time to apply all that you've learned! Write a non-positional query based on the following:\n",
    "\n",
    "- Fixed targets (*HINT*: `targtype='FIXED'`)\n",
    "- Instument is Mid-Infrared Instrument (MIRI) or Fine Guidance Sensor (FGS)\n",
    "- Proposal type should NOT include General Observers (`GO`)\n",
    "- Exposure type includes the string `'IMAGE'`\n",
    "- Right ascension is between 70 and 75 degrees\n",
    "- Program number is less than 1200.\n",
    "- Skip the first 5 entries.\n",
    "- Select the following columns: `fileSetName`, `targtype`, `instrume`, `proposal_type`, `exp_type`, `targ_ra`, `program`"
   ]
  },
  {
   "cell_type": "code",
   "execution_count": 15,
   "metadata": {
    "execution": {
     "iopub.execute_input": "2025-03-27T19:27:52.454651Z",
     "iopub.status.busy": "2025-03-27T19:27:52.454484Z",
     "iopub.status.idle": "2025-03-27T19:27:52.456769Z",
     "shell.execute_reply": "2025-03-27T19:27:52.456327Z"
    }
   },
   "outputs": [],
   "source": [
    "# # A non-positional query with column criteria\n",
    "# results = missions.query_criteria(...)  # Write your query here!\n",
    "\n",
    "# # Display results\n",
    "# print(f'Total number of results: {len(results)}')\n",
    "# results"
   ]
  },
  {
   "cell_type": "markdown",
   "metadata": {},
   "source": [
    "## Additional Resources\n",
    "\n",
    "- [MAST JWST Search Form](https://mast.stsci.edu/search/ui/#/jwst)\n",
    "- [MAST JWST Search API](https://mast.stsci.edu/search/docs/?urls.primaryName=jwst_api)\n",
    "- [`astroquery.mast` Documentation for Mission-Specific Searches](https://astroquery.readthedocs.io/en/latest/mast/mast_missions.html#mission-specific-search-queries)"
   ]
  },
  {
   "cell_type": "markdown",
   "metadata": {},
   "source": [
    "## Exercise Solutions\n",
    "\n",
    "### Exercise 1"
   ]
  },
  {
   "cell_type": "code",
   "execution_count": 16,
   "metadata": {
    "execution": {
     "iopub.execute_input": "2025-03-27T19:27:52.458390Z",
     "iopub.status.busy": "2025-03-27T19:27:52.458133Z",
     "iopub.status.idle": "2025-03-27T19:27:53.948103Z",
     "shell.execute_reply": "2025-03-27T19:27:53.947500Z"
    }
   },
   "outputs": [
    {
     "name": "stdout",
     "output_type": "stream",
     "text": [
      "Total number of results: 61\n"
     ]
    },
    {
     "data": {
      "text/html": [
       "<div><i>Table masked=True length=5</i>\n",
       "<table id=\"table139883661901136\" class=\"table-striped table-bordered table-condensed\">\n",
       "<thead><tr><th>ArchiveFileID</th><th>fileSetName</th><th>opticalElements</th><th>s_region</th></tr></thead>\n",
       "<thead><tr><th>int64</th><th>str25</th><th>str103</th><th>str121</th></tr></thead>\n",
       "<tr><td>144284832</td><td>jw03435008001_0210l_00003</td><td>CH12;SHORT, CH34;SHORT, F770W</td><td>--</td></tr>\n",
       "<tr><td>144283926</td><td>jw03435008001_0210l_00004</td><td>CH12;SHORT, CH34;SHORT, F770W</td><td>POLYGON ICRS  202.436247753 47.217452146 202.462884928 47.191799453 202.501022836 47.210063119 202.474394940 47.235724650</td></tr>\n",
       "<tr><td>144284390</td><td>jw03435008001_0210n_00001</td><td>CH12;SHORT, CH34;SHORT, F770W</td><td>--</td></tr>\n",
       "<tr><td>144284225</td><td>jw03435008001_0210n_00002</td><td>CH12;SHORT, CH34;SHORT, F770W</td><td>--</td></tr>\n",
       "<tr><td>144283868</td><td>jw03435008001_0210n_00003</td><td>CH12;SHORT, CH34;SHORT, F770W</td><td>POLYGON ICRS  202.435540216 47.216831997 202.462177436 47.191179475 202.500314644 47.209443386 202.473686702 47.235104746</td></tr>\n",
       "</table></div>"
      ],
      "text/plain": [
       "<Table masked=True length=5>\n",
       "ArchiveFileID ...\n",
       "    int64     ...\n",
       "------------- ...\n",
       "    144284832 ...\n",
       "    144283926 ...\n",
       "    144284390 ...\n",
       "    144284225 ...\n",
       "    144283868 ..."
      ]
     },
     "execution_count": 16,
     "metadata": {},
     "output_type": "execute_result"
    }
   ],
   "source": [
    "# Query for Whirlpool Galaxy\n",
    "results = missions.query_object('Whirlpool',\n",
    "                                radius=1,  # Search radius of 1 arcminute\n",
    "                                offset=300,  # Skip the first 300 rows\n",
    "                                select_cols=['fileSetName', 'opticalElements'])\n",
    "\n",
    "# Display the first 5 results\n",
    "print(f'Total number of results: {len(results)}')\n",
    "results[:5]"
   ]
  },
  {
   "cell_type": "markdown",
   "metadata": {},
   "source": [
    "### Exercise 2"
   ]
  },
  {
   "cell_type": "code",
   "execution_count": 17,
   "metadata": {
    "execution": {
     "iopub.execute_input": "2025-03-27T19:27:53.950128Z",
     "iopub.status.busy": "2025-03-27T19:27:53.949672Z",
     "iopub.status.idle": "2025-03-27T19:27:54.766179Z",
     "shell.execute_reply": "2025-03-27T19:27:54.765576Z"
    }
   },
   "outputs": [
    {
     "name": "stdout",
     "output_type": "stream",
     "text": [
      "Total number of results: 59\n"
     ]
    },
    {
     "data": {
      "text/html": [
       "<div><i>Table masked=True length=5</i>\n",
       "<table id=\"table139883662047632\" class=\"table-striped table-bordered table-condensed\">\n",
       "<thead><tr><th>ArchiveFileID</th><th>fileSetName</th><th>targprop</th><th>targ_ra</th><th>targ_dec</th><th>s_region</th></tr></thead>\n",
       "<thead><tr><th>int64</th><th>str25</th><th>str20</th><th>float64</th><th>float64</th><th>str121</th></tr></thead>\n",
       "<tr><td>139986910</td><td>jw01193026001_02101_00001</td><td>VEGA</td><td>279.2364266145171</td><td>38.78556769656323</td><td>POLYGON ICRS  279.221673372 38.783464345 279.235110746 38.771687075 279.250219841 38.782160787 279.236782989 38.793939787</td></tr>\n",
       "<tr><td>139986914</td><td>jw01193026001_02101_00002</td><td>VEGA</td><td>279.2364266153141</td><td>38.7855676974483</td><td>POLYGON ICRS  279.217845954 38.787075674 279.231284731 38.775298906 279.246393949 38.785773182 279.232955693 38.797551680</td></tr>\n",
       "<tr><td>139986894</td><td>jw01193026001_02101_00003</td><td>VEGA</td><td>279.2364266161172</td><td>38.78556769833999</td><td>POLYGON ICRS  279.222594065 38.789571903 279.236032521 38.777794586 279.251142971 38.788268244 279.237705038 38.800047292</td></tr>\n",
       "<tr><td>139986886</td><td>jw01193026001_02101_00004</td><td>VEGA</td><td>279.2364266169163</td><td>38.78556769922733</td><td>POLYGON ICRS  279.225013814 38.786427568 279.238451269 38.774649968 279.253561416 38.785123308 279.240124484 38.796902638</td></tr>\n",
       "<tr><td>139984754</td><td>jw01193027001_02101_00001</td><td>VEGA-COPY-MIRI-CORON</td><td>279.2364266191411</td><td>38.78556770169765</td><td>POLYGON ICRS  279.224083011 38.786614315 279.232077088 38.779700332 279.241453574 38.786140110 279.233480779 38.793084704</td></tr>\n",
       "</table></div>"
      ],
      "text/plain": [
       "<Table masked=True length=5>\n",
       "ArchiveFileID ...\n",
       "    int64     ...\n",
       "------------- ...\n",
       "    139986910 ...\n",
       "    139986914 ...\n",
       "    139986894 ...\n",
       "    139986886 ...\n",
       "    139984754 ..."
      ]
     },
     "execution_count": 17,
     "metadata": {},
     "output_type": "execute_result"
    }
   ],
   "source": [
    "# Vega coordinates\n",
    "vega = SkyCoord(279.23473, 38.78369, unit=('deg'))\n",
    "\n",
    "# Query for datasets around Vega\n",
    "results = missions.query_region(vega,\n",
    "                                radius=15,  # Search radius of 15 arcminutes\n",
    "                                select_cols=['fileSetName', 'targprop', 'targ_ra', 'targ_dec'])\n",
    "\n",
    "# Display the first 5 results\n",
    "print(f'Total number of results: {len(results)}')\n",
    "results[:5]"
   ]
  },
  {
   "cell_type": "markdown",
   "metadata": {},
   "source": [
    "### Exercise 3"
   ]
  },
  {
   "cell_type": "code",
   "execution_count": 18,
   "metadata": {
    "execution": {
     "iopub.execute_input": "2025-03-27T19:27:54.767989Z",
     "iopub.status.busy": "2025-03-27T19:27:54.767827Z",
     "iopub.status.idle": "2025-03-27T19:28:24.048638Z",
     "shell.execute_reply": "2025-03-27T19:28:24.048087Z"
    }
   },
   "outputs": [
    {
     "name": "stdout",
     "output_type": "stream",
     "text": [
      "Total number of results: 0\n"
     ]
    },
    {
     "data": {
      "text/html": [
       "<div><i>Table masked=True length=0</i>\n",
       "<table id=\"table139883642609296\" class=\"table-striped table-bordered table-condensed\">\n",
       "<thead><tr><th>ArchiveFileID</th><th>fileSetName</th><th>targ_ra</th><th>instrume</th><th>exp_type</th><th>program</th><th>proposal_type</th><th>targtype</th><th>s_region</th></tr></thead>\n",
       "<thead><tr><th>int64</th><th>str1</th><th>float64</th><th>str1</th><th>str1</th><th>int64</th><th>str1</th><th>str1</th><th>str1</th></tr></thead>\n",
       "</table></div>"
      ],
      "text/plain": [
       "<Table masked=True length=0>\n",
       "ArchiveFileID fileSetName targ_ra instrume ... proposal_type targtype s_region\n",
       "    int64         str1    float64   str1   ...      str1       str1     str1  \n",
       "------------- ----------- ------- -------- ... ------------- -------- --------"
      ]
     },
     "execution_count": 18,
     "metadata": {},
     "output_type": "execute_result"
    }
   ],
   "source": [
    "# A non-positional query with column criteria\n",
    "results = missions.query_criteria(targtype='FIXED',  # Fixed target\n",
    "                                  instrume='MIRI, FGS',  # Select MIRI and FGS observations\n",
    "                                  proposal_type='!GO',  # Not from a general observer proposal\n",
    "                                  exp_type='*IMAGE*',  # Contains the string \"IMAGE\"\n",
    "                                  targ_ra='70..75',  # Between 70 and 75\n",
    "                                  program='<1200',  # Less than 1200\n",
    "                                  offset=5,  # Skip the first 5 results\n",
    "                                  select_cols=['fileSetName', 'targtype', 'instrume', 'proposal_type', \n",
    "                                               'exp_type', 'targ_ra', 'program'])\n",
    "\n",
    "# Display results\n",
    "print(f'Total number of results: {len(results)}')\n",
    "results"
   ]
  },
  {
   "cell_type": "markdown",
   "metadata": {},
   "source": [
    "## Citations\n",
    "\n",
    "If you use `astroquery` for published research, please cite the\n",
    "authors. Follow these links for more information about citing `astroquery`:\n",
    "\n",
    "* [Citing `astroquery`](https://github.com/astropy/astroquery/blob/main/astroquery/CITATION)\n"
   ]
  },
  {
   "cell_type": "markdown",
   "metadata": {
    "slideshow": {
     "slide_type": "slide"
    }
   },
   "source": [
    "## About this Notebook\n",
    "\n",
    "**Author(s):** Sam Bianco <br>\n",
    "**Keyword(s):** Tutorial, JWST, Astroquery, MastMissions <br>\n",
    "**First published:** June 2024 <br>\n",
    "**Last updated:** June 2024 <br>\n",
    "\n",
    "***\n",
    "[Top of Page](#top)\n",
    "<img style=\"float: right;\" src=\"https://raw.githubusercontent.com/spacetelescope/notebooks/master/assets/stsci_pri_combo_mark_horizonal_white_bkgd.png\" alt=\"Space Telescope Logo\" width=\"200px\"/> "
   ]
  }
 ],
 "metadata": {
  "kernelspec": {
   "display_name": "Python 3 (ipykernel)",
   "language": "python",
   "name": "python3"
  },
  "language_info": {
   "codemirror_mode": {
    "name": "ipython",
    "version": 3
   },
   "file_extension": ".py",
   "mimetype": "text/x-python",
   "name": "python",
   "nbconvert_exporter": "python",
   "pygments_lexer": "ipython3",
   "version": "3.11.11"
  }
 },
 "nbformat": 4,
 "nbformat_minor": 4
}
