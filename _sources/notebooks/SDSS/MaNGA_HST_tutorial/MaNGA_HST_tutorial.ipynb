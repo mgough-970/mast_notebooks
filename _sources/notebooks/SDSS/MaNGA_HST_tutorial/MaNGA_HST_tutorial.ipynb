{
 "cells": [
  {
   "cell_type": "markdown",
   "metadata": {},
   "source": [
    "<a id=\"top\"></a>\n",
    "\n",
    "# Mapping Galaxy Properties with MaNGA + HST\n",
    "***\n",
    "\n",
    "## Learning Goals\n",
    "\n",
    "By the end of this tutorial, you will:\n",
    "\n",
    "- Understand how to search the MAST Archive and download SDSS MaNGA data using `astroquery.mast`\n",
    "- Plot galaxy properties including H-$\\alpha$ emission line flux and stellar velocities with MaNGA\n",
    "- Understand how to search for HST data complementing the MaNGA observations\n",
    "- Create maps of galaxy properties by combining HST and MaNGA data\n"
   ]
  },
  {
   "cell_type": "markdown",
   "metadata": {
    "slideshow": {
     "slide_type": "slide"
    }
   },
   "source": [
    "## Table of Contents\n",
    "* [Introduction](#Introduction)\n",
    "* [Imports](#Imports)\n",
    "* [Accessing MaNGA data at MAST](#MaNGA)\n",
    "    * [Querying All MaNGA data](#MaNGA-query)\n",
    "    * [Searching for a specific galaxy](#MaNGA-galaxy)\n",
    "    * [Downloading MaNGA data products](#MaNGA-download)\n",
    "    * [Plotting velocity and flux maps from MaNGA](#MaNGA-plot)\n",
    "    \n",
    "* [Searching for HST data of this galaxy](#HST)\n",
    "    * [Coordinate search using astroquery.mast](#HST-query)\n",
    "    * [Colorizing HST images with astropy](#HST-colorize)\n",
    "\n",
    "* [Combining MaNGA and HST data](#HST-MaNGA)\n",
    "    * [Creating an H-alpha Emission Map](#HST-MaNGA-Halpha)\n",
    "    * [Plotting the stellar velocity field](#HST-MaNGA-Velocity)\n",
    "\n",
    "* [Additional Resources](#Resources)\n",
    "    * [How to Cite](#Citations)\n",
    "    * [About This Notebook](#About)\n",
    "\n",
    "## Introduction\n",
    "<a id=\"Introduction\"></a>\n",
    "\n",
    "The [Mapping Nearby Galaxies at Apache Point Observatory (MaNGA)](https://www.sdss4.org/surveys/manga/) survey provides optical-wavelength integral field unit (IFU) spectroscopy for over 10,000 nearby galaxies. MaNGA collected data between 2014 - 2020 as part of the [Sloan Digital Sky Survey (SDSS-IV) project](https://www.sdss4.org). MaNGA data is now available at the [Mikulski Archive for Space Telescopes (MAST)](https://archive.stsci.edu) through the [SDSS Legacy Archive at MAST](https://outerspace.stsci.edu/display/SDSS/The+SDSS+Legacy+Archive+at+MAST). \n",
    "\n",
    "In this notebook tutorial, we will demonstrate how to access MaNGA data at MAST using Python. One MaNGA observation, an interacting galaxy pair named `MaNGA 7443-12703` will be used to demonstrate the basics of how to download and plot MaNGA data. We will then combine this MaNGA data with HST observations, also accessible from MAST, to study this galaxy pair in detail, exploring how its gas and stars are moving as the galaxies merge together."
   ]
  },
  {
   "cell_type": "markdown",
   "metadata": {
    "slideshow": {
     "slide_type": "slide"
    }
   },
   "source": [
    "## Imports\n",
    "<a id=\"Imports\"></a>\n",
    "\n",
    "The main packages we're using for this notebook and their use-cases are:\n",
    "- *astropy.coordinates* for handling astronomical coordinates\n",
    "- *astroquery.mast Observations* for searching the MAST archive\n",
    "- *astropy.visualization* for colorizing images\n",
    "- *astropy.wcs WCS* for handling spatial footprints\n",
    "- *astropy.units* for working with astronomical units\n",
    "- *astropy.io fits* for accessing FITS files\n",
    "- *matplotlib.pyplot* for plotting data\n",
    "- *numpy* to handle array functions\n",
    "- *PIL* for plotting and handling preview (png/jpg) images\n",
    "- *reproject* for coordinate transformations and projections"
   ]
  },
  {
   "cell_type": "code",
   "execution_count": null,
   "metadata": {
    "slideshow": {
     "slide_type": "fragment"
    }
   },
   "outputs": [],
   "source": [
    "%matplotlib inline\n",
    "\n",
    "from astropy.coordinates import SkyCoord\n",
    "from astroquery.mast import Observations\n",
    "from astropy.visualization import make_lupton_rgb\n",
    "from astropy.wcs import WCS\n",
    "\n",
    "import astropy.units as u\n",
    "import astropy.io.fits as fits\n",
    "import matplotlib.pyplot as plt\n",
    "import numpy as np\n",
    "import PIL\n",
    "import reproject"
   ]
  },
  {
   "cell_type": "markdown",
   "metadata": {},
   "source": [
    "This cell updates some of the settings in `matplotlib` to use larger font sizes in the figures:"
   ]
  },
  {
   "cell_type": "code",
   "execution_count": null,
   "metadata": {},
   "outputs": [],
   "source": [
    "#Update Plotting Parameters\n",
    "params = {'axes.labelsize': 12, 'xtick.labelsize': 12, 'ytick.labelsize': 12, \n",
    "          'text.usetex': False, 'lines.linewidth': 1,\n",
    "          'axes.titlesize': 18, 'font.family': 'serif', 'font.size': 12}\n",
    "plt.rcParams.update(params)"
   ]
  },
  {
   "cell_type": "markdown",
   "metadata": {},
   "source": [
    "***\n",
    "<a id=\"MaNGA\"></a>\n",
    "# Accessing MaNGA data at MAST\n",
    "\n",
    "The [SDSS Legacy Archive at MAST](https://outerspace.stsci.edu/display/SDSS/The+SDSS+Legacy+Archive+at+MAST) hosts all of the science-ready data products from the [SDSS-IV MaNGA Survey](https://www.sdss4.org/surveys/manga/), which includes data for over 10,000 different nearby galaxies taken with the Apache Point Observatory SDSS-2.5m telescope. This notebook will demonstrate how to search and download MaNGA data using MAST.\n",
    "\n",
    "<img src=\"https://www.sdss4.org/wp-content/uploads/2014/07/manga_v3.jpg\" alt=\"The SDSS MaNGA survey obtains spectra across the entire face of target galaxies using custom designed fiber bundles. The title text in the top-center of the image reads 'SDSS-IV Dissects 10,000 Galaxies in Nearby Universe'. In the top left corner is a small inset image of the SDSS 2.5m telescope at Apache Point Observatory, where the MaNGA data was taken. The center-left shows an image of a pair of hands plugging an optical fiber into the MaNGA instrument. The SDSS-IV logo is in the bottom-left. A close-up photo of the MaNGA instrument is shown in the center and bottom-right area of the image, demonstrating that each MaNGA data cube is made from dozens of optical fibers arranged in a hexagon shape, which each take a spectrum at a different location in the galaxy. The top-right inset shows two example spectra from MaNGA, one taken from the center of the fiber bundle (labeled 1) and one taken from the edge of the fiber bundle (labeled 2), showing how the spectrum of the central regions differs dramatically from outer regions. Image Credit: Dana Berry / SkyWorks Digital Inc., David Law, and the SDSS collaboration.\" width=\"500px\">\n",
    "<center><i>Image Credit: Dana Berry / SkyWorks Digital Inc., David Law, and the SDSS collaboration.</i></center>\n",
    "\n",
    "\n",
    "\n",
    "\n",
    "<a id=\"MaNGA-query\"></a>\n",
    "## Querying all MaNGA data\n",
    "\n",
    "Searching for MaNGA data is straightforward with `astroquery.mast`. In this example, we use `Observations.query_criteria` and search for `provenance_name = 'MaNGA'`. This will return a table describing all of the MaNGA data hosted by the MAST archive.\n",
    "\n",
    "Other useful search parameters for MaNGA data might include:\n",
    "* `obs_collection = 'SDSS'`: searches for all SDSS data\n",
    "* `target_classification = 'GALAXY'`: searches for only galaxies\n",
    "* `obs_id` to search for specific targets"
   ]
  },
  {
   "cell_type": "code",
   "execution_count": null,
   "metadata": {
    "tags": []
   },
   "outputs": [],
   "source": [
    "# Search for MaNGA data\n",
    "manga_obs_list = Observations.query_criteria(provenance_name='MaNGA')\n",
    "\n",
    "# Display First Ten Entries in Table\n",
    "manga_obs_list[:10]"
   ]
  },
  {
   "cell_type": "markdown",
   "metadata": {},
   "source": [
    "<a id=\"MaNGA-galaxy\"></a>\n",
    "## Searching for a specific galaxy\n",
    "\n",
    "Let's narrow down the search to one particular galaxy: MaNGA galaxy 7443-12703, also known as \"Mrk 848B\". This is an interacting galaxy pair currently undergoing a merger event: the two galaxies are colliding and will eventually merge together into one large galaxy. Studying merger events like this one help us understand how galaxies grow and evolve over time.  \n",
    "\n",
    "We can search for this galaxy in particular using the `obs_id` keyword:"
   ]
  },
  {
   "cell_type": "code",
   "execution_count": null,
   "metadata": {},
   "outputs": [],
   "source": [
    "# Search for MaNGA galaxy 7443-12703\n",
    "manga_obs_list = Observations.query_criteria(provenance_name='MaNGA',\n",
    "                                             obs_id='sdss_manga_7443-12703')\n",
    "\n",
    "# Display results\n",
    "manga_obs_list"
   ]
  },
  {
   "cell_type": "markdown",
   "metadata": {},
   "source": [
    "<a id=\"MaNGA-download\"></a>\n",
    "## Downloading MaNGA data products\n",
    "\n",
    "List all of the data products availble for this galaxy using `Observations.get_product_list()`.\n",
    "\n",
    "There are 13 total files available for this galaxy, which include include a preview image (`12703.png`), the 3D MaNGA spectral cube (`manga-7443-12703-LOGCUBE.fits.gz`), and the MaNGA MAP file (`manga-7443-12703-MAPS-HYB10-MILESHC-MASTARSSP.fits.gz`) which contains measurements and parameters from the MaNGA data analysis pipeline.\n",
    "\n",
    "More information on all of these products can be seen in the search results table:\n"
   ]
  },
  {
   "cell_type": "code",
   "execution_count": null,
   "metadata": {
    "scrolled": true
   },
   "outputs": [],
   "source": [
    "# Get list of products (files) associated with this observation \n",
    "manga_products_list = Observations.get_product_list(manga_obs_list)\n",
    "\n",
    "# Show Products List\n",
    "manga_products_list"
   ]
  },
  {
   "cell_type": "markdown",
   "metadata": {},
   "source": [
    "Now we will download some of these files using `Observations.download_products()`. To start, let's download the preview image to see what this galaxy pair looks like. The parameters used are:\n",
    "* `manga_products_list`: the list of products from the previous cell\n",
    "* `productType='PREVIEW'`: limit the list to preview files only\n",
    "* `flat=True`: download the data into the current directory\n",
    "\n",
    "The download will print a status message when completed."
   ]
  },
  {
   "cell_type": "code",
   "execution_count": null,
   "metadata": {},
   "outputs": [],
   "source": [
    "print(Observations.download_products(manga_products_list, productType='PREVIEW', flat=True))"
   ]
  },
  {
   "cell_type": "markdown",
   "metadata": {},
   "source": [
    "The Right Ascension (RA) and declination (Dec) coordinates for this image are contained in the file as a [World Coordinate System (WCS)](https://astropy-astrofrog.readthedocs.io/en/latest/wcs/) axis. Using `astropy.wcs.WCS()`, we can retrieve this information from the file and use it in the plot."
   ]
  },
  {
   "cell_type": "code",
   "execution_count": null,
   "metadata": {},
   "outputs": [],
   "source": [
    "def get_wcs_from_png(file):\n",
    "    \"\"\" Retrieves WCS information from png file \"\"\"\n",
    "    with PIL.Image.open(file) as ii:\n",
    "        ww = {}\n",
    "        for k, v in ii.info.items():\n",
    "            try:\n",
    "                ww[k] = float(v)\n",
    "            except ValueError:\n",
    "                ww[k] = v\n",
    "        ww.pop(\"WCSAXES\")\n",
    "        return WCS(ww)   "
   ]
  },
  {
   "cell_type": "markdown",
   "metadata": {},
   "source": [
    "Now let's plot this preview image to see what these galaxies look like!"
   ]
  },
  {
   "cell_type": "code",
   "execution_count": null,
   "metadata": {},
   "outputs": [],
   "source": [
    "# Open image file\n",
    "manga_preview = np.asarray(PIL.Image.open('12703.png'))\n",
    "\n",
    "# Set up plot using WCS projection from the file\n",
    "plt.subplot(projection=get_wcs_from_png('12703.png'))\n",
    "\n",
    "# Show the image\n",
    "plt.imshow(manga_preview)\n",
    "\n",
    "# Label title and axes\n",
    "plt.title('MaNGA Preview Image')\n",
    "plt.xlabel('Right Ascension')\n",
    "plt.ylabel('Declination')\n",
    "\n",
    "plt.show()"
   ]
  },
  {
   "cell_type": "markdown",
   "metadata": {},
   "source": [
    "Next, let's download the **Minimum Recommended Products**. These are the recommended files to download for this MaNGA galaxy. You can select the Minimum Recommended Products using `mrp_only=True`. This will download 4 files."
   ]
  },
  {
   "cell_type": "code",
   "execution_count": null,
   "metadata": {},
   "outputs": [],
   "source": [
    "# Download Minimum Recommended Products\n",
    "Observations.download_products(manga_products_list, mrp_only=True, flat=True)"
   ]
  },
  {
   "cell_type": "markdown",
   "metadata": {},
   "source": [
    "<a id=\"MaNGA-plot\"></a>\n",
    "## Plotting velocity and flux maps from MaNGA\n",
    "\n",
    "Now that the MaNGA data has been downloaded, we can plot some of the galaxy properties. The ManGA MAP file (`manga-7443-12703-MAPS-HYB10-MILESHC-MASTARSSP.fits.gz`) contains the output and results from the [MaNGA Data Analysis Pipeline (DAP)](https://www.sdss4.org/dr17/manga/manga-analysis-pipeline/). This example is based off of the [MaNGA DAP Python Tutorial](https://www.sdss4.org/dr17/manga/manga-tutorials/dap-tutorial/dap-python-tutorial/), and plots the g-band flux, the H-alpha emission line flux, and the stellar velocity field from MaNGA.\n",
    "\n",
    "\n",
    "The full description of contents of the the MaNGA MAP file is [available here](https://data.sdss.org/datamodel/files/MANGA_SPECTRO_ANALYSIS/DRPVER/DAPVER/DAPTYPE/PLATE/IFU/manga-MAPS-DAPTYPE.html).\n",
    "\n",
    "Let's open the file and view some basic information:"
   ]
  },
  {
   "cell_type": "code",
   "execution_count": null,
   "metadata": {},
   "outputs": [],
   "source": [
    "# Open MaNGA MAP file\n",
    "manga_map = fits.open('manga-7443-12703-MAPS-HYB10-MILESHC-MASTARSSP.fits.gz')\n",
    "\n",
    "# Print information on file extensions\n",
    "manga_map.info()"
   ]
  },
  {
   "cell_type": "markdown",
   "metadata": {},
   "source": [
    "To make the plot in the next cell, we will use three different extensions of the MAP file. Here is the description of each of these extensions from the [data model](https://data.sdss.org/datamodel/files/MANGA_SPECTRO_ANALYSIS/DRPVER/DAPVER/DAPTYPE/PLATE/IFU/manga-MAPS-DAPTYPE.html):\n",
    "\n",
    "* `SPX_MFLUX` \n",
    "    * Description: \"g-band-weighted mean flux, not corrected for Galactic extinction or internal attenuation.\"\n",
    "* The `EMLINE_GFLUX` \n",
    "    * Description: \"gaussian profile integrated flux from a combined continuum+emission-line fit. The flux ratio of the [NeIII], [OIII], [OI], [NII], and [S III] lines are fixed and cannot be treated as independent measurements. The emission-line fluxes account for Galactic reddening using the E(B-V) (copied to the DAP primary headers, see the EBVGAL header keyword) value provided by the DRP header and assuming an O’Donnell (1994, ApJ, 422, 158) reddening law; however, no attenuation correction is applied for dust internal to the galaxy. See [here](https://data.sdss.org/datamodel/files/MANGA_SPECTRO_ANALYSIS/DRPVER/DAPVER/DAPTYPE/PLATE/IFU/manga-MAPS-DAPTYPE.html#eml_gauss) for more information.\"\n",
    "    * Specifically, we will be using the H-alpha emission line flux from this extension\n",
    "* `STELLAR_VEL`\n",
    "    * Description: \"Line-of-sight stellar velocity, relative to the input guess redshift (given as cz by the keyword SCINPVEL in the header of the PRIMARY extension, and most often identical to the NSA redshift).\"\n",
    "\n",
    "\n",
    "\n",
    "\n"
   ]
  },
  {
   "cell_type": "code",
   "execution_count": null,
   "metadata": {},
   "outputs": [],
   "source": [
    "#=========================================\n",
    "# Set up Plot\n",
    "#=========================================\n",
    "plt.figure(figsize=(12, 6))\n",
    "# Grab the WCS information from the header\n",
    "manga_wcs = WCS(manga_map['SPX_MFLUX'].header)\n",
    "ax1 = plt.subplot(131, projection=manga_wcs)\n",
    "ax2 = plt.subplot(132, projection=manga_wcs)\n",
    "ax3 = plt.subplot(133, projection=manga_wcs)\n",
    "\n",
    "for ax in [ax1, ax2, ax3]:\n",
    "    ax.set_xlabel('Right Ascension')\n",
    "    ax.set_ylabel('Declination')\n",
    "\n",
    "\n",
    "#=========================================\n",
    "# Subplot 1: MaNGA Flux Map\n",
    "#=========================================\n",
    "# The 'SPX_MFLUX' ext contains the g-band-weighted mean flux\n",
    "manga_flux = manga_map['SPX_MFLUX'].data\n",
    "manga_flux[manga_flux == 0] = np.nan # mask for quality data\n",
    "\n",
    "# Plot image\n",
    "im = ax1.imshow(manga_flux, cmap='Greys_r')\n",
    "ax1.set_title('MaNGA g-band Flux')\n",
    "plt.colorbar(im, label=r'Flux [$10^{-17}$ erg/s/cm$^{2}$/Å/spaxel]',\n",
    "             orientation='horizontal')\n",
    "             \n",
    "\n",
    "#=========================================\n",
    "# Subplot 2: MaNGA H-Alpha Emission Map\n",
    "#=========================================\n",
    "\n",
    "# Define the emission line indexes for this ext\n",
    "emline = {}\n",
    "for k, v in manga_map['EMLINE_GFLUX'].header.items():\n",
    "    if k[0] == 'C':\n",
    "        try:\n",
    "            i = int(k[1:])-1\n",
    "        except ValueError:\n",
    "            continue\n",
    "        emline[v] = i\n",
    "        \n",
    "# The 'EMLINE_GFLUX' ext contains the emission line measurements\n",
    "h_alpha_flux = np.copy(manga_map['EMLINE_GFLUX'].data[emline['Ha-6564']])\n",
    "h_alpha_flux[h_alpha_flux == 0] = np.nan # mask for quality data\n",
    "\n",
    "# Plot image\n",
    "im = ax2.imshow(h_alpha_flux, cmap='magma', vmin=0, vmax=200)\n",
    "plt.colorbar(im, label=r'H-$\\alpha$ Emission [$10^{-17}$ erg/s/cm$^{2}$/spaxel]',\n",
    "             orientation='horizontal')\n",
    "\n",
    "ax2.set_title(r'H-$\\alpha$ Emission')\n",
    "\n",
    "#=========================================\n",
    "# Subplot 3: MaNGA Stellar Velocity Field\n",
    "#=========================================\n",
    "# The 'STELLAR_VEL' ext contains the stellar velocity measurements\n",
    "qual_mask = manga_map['STELLAR_VEL'].header['QUALDATA'] # mask for quality data\n",
    "velocity_map = np.ma.MaskedArray(manga_map['STELLAR_VEL'].data,\n",
    "                                 mask=manga_map[qual_mask].data > 0)\n",
    "\n",
    "# plot Image\n",
    "im = ax3.imshow(velocity_map, interpolation='nearest', \n",
    "                vmin=-125, vmax=125, cmap='RdBu_r')\n",
    "\n",
    "ax3.set_title(r'Stellar Velocity')\n",
    "plt.colorbar(im, label=r'Stellar Velocity [km/s]',\n",
    "             orientation='horizontal')\n",
    "\n",
    "#plt.subplots_adjust(hspace=0)\n",
    "\n",
    "plt.tight_layout()\n",
    "plt.show()"
   ]
  },
  {
   "cell_type": "markdown",
   "metadata": {},
   "source": [
    "***\n",
    "<a id=\"HST\"></a>\n",
    "<a id=\"HST-query\"></a>\n",
    "# Searching for HST observations of this galaxy\n",
    "\n",
    "## Coordinate search using astroquery.mast\n",
    "\n",
    "Now let's search for HST obersvations of this same galaxy. Similar to before, we will be using `Observations.query_criteria()` to search the MAST archive, but this time, we will search for HST observations (`obs_collection='HST'`) near the coordinates of this MaNGA galaxy pair."
   ]
  },
  {
   "cell_type": "code",
   "execution_count": null,
   "metadata": {},
   "outputs": [],
   "source": [
    "# Retrieve RA and DEC of MaNGA observations\n",
    "ra = manga_obs_list['s_ra'][0]\n",
    "dec = manga_obs_list['s_dec'][0]\n",
    "# make a SkyCoord object from these coordinates\n",
    "coord = SkyCoord(ra=ra*u.deg, dec=dec*u.deg)\n",
    "print(coord)\n",
    "\n",
    "# Search for HST observations based on coordinates\n",
    "hst_obs = Observations.query_criteria(# Search by coordinates\n",
    "                                      coordinates=coord, \n",
    "                                      # Search for HST observations\n",
    "                                      obs_collection='HST',\n",
    "                                      # Select only Science observations (not calibration files)\n",
    "                                      intentType='science',\n",
    "                                      # Select calibrated reduced observations\n",
    "                                      provenance_name='CAL*') \n",
    "\n",
    "# Display Results\n",
    "hst_obs"
   ]
  },
  {
   "cell_type": "markdown",
   "metadata": {},
   "source": [
    "The table of results shown above tells us that there are three observations of this galaxy from HST, in three different filters: F160W, F435W, and F814W. Let's see what data products are available associated with these observations:"
   ]
  },
  {
   "cell_type": "code",
   "execution_count": null,
   "metadata": {},
   "outputs": [],
   "source": [
    "hst_products = Observations.get_product_list(hst_obs)\n",
    "\n",
    "# Filter product list \n",
    "hst_products = Observations.filter_products(hst_products,\n",
    "                                            # Select science files\n",
    "                                            productType=\"SCIENCE\",\n",
    "                                            # Recommended Products\n",
    "                                            productGroupDescription=\"Minimum Recommended Products\", \n",
    "                                            # Select DRZ files - the calibrated combined images\n",
    "                                            productSubGroupDescription='DRZ')\n",
    "hst_products"
   ]
  },
  {
   "cell_type": "markdown",
   "metadata": {},
   "source": [
    "With our products selected, we can proceed to download. We'll use `flat=True` to put them all into the same directory."
   ]
  },
  {
   "cell_type": "code",
   "execution_count": null,
   "metadata": {},
   "outputs": [],
   "source": [
    "# Download products\n",
    "Observations.download_products(hst_products, flat=True)"
   ]
  },
  {
   "cell_type": "markdown",
   "metadata": {},
   "source": [
    "<a id=\"HST-plot\"></a>\n",
    "## Plot the HST images\n",
    "\n",
    "Let's plot the three HST images."
   ]
  },
  {
   "cell_type": "code",
   "execution_count": null,
   "metadata": {},
   "outputs": [],
   "source": [
    "# Open files\n",
    "f160w = fits.open('ia1e42010_drz.fits')\n",
    "f435w = fits.open('j9cv55010_drz.fits')\n",
    "f814w = fits.open('j9cv55020_drz.fits')\n",
    "\n",
    "\n",
    "f160w_wcs = WCS(f160w[1].header)\n",
    "f435w_wcs = WCS(f435w[1].header)\n",
    "f814w_wcs = WCS(f814w[1].header)\n",
    "\n",
    "#=========================================\n",
    "# Set up Plot\n",
    "#=========================================\n",
    "fig = plt.figure(figsize=(15, 5))\n",
    "ax1 = plt.subplot(131, projection=f160w_wcs)\n",
    "ax2 = plt.subplot(132, projection=f435w_wcs)\n",
    "ax3 = plt.subplot(133, projection=f814w_wcs)\n",
    "\n",
    "for ax in [ax1, ax2, ax3]:\n",
    "    ax.set_xlabel('Right Ascension')\n",
    "    ax.set_ylabel('Declination')\n",
    "\n",
    "#=========================================\n",
    "# Subplot 1: F160W filter image\n",
    "#=========================================\n",
    "# Note - this image is upside-down compared to the other two\n",
    "fits_file = f160w\n",
    "ax1.imshow(fits_file[1].data, cmap='Greys_r', vmin=0, vmax=2.5, origin='lower')\n",
    "ax1.set_title(f\"{fits_file[0].header['INSTRUME']}/{fits_file[0].header['FILTER']}\")\n",
    "\n",
    "#=========================================\n",
    "# Subplot 2: F435W filter image\n",
    "#=========================================\n",
    "fits_file = f435w\n",
    "wcs = WCS(fits_file[1].header)\n",
    "ax2.imshow(fits_file[1].data, cmap='Greys_r', vmin=0, vmax=0.5, origin='lower')\n",
    "ax2.set_title(f\"{fits_file[0].header['INSTRUME']}/{fits_file[0].header['FILTER2']}\")\n",
    "\n",
    "#=========================================\n",
    "# Subplot 3: F814W filter image\n",
    "#=========================================\n",
    "fits_file = f814w\n",
    "wcs = WCS(fits_file[1].header)\n",
    "ax3.imshow(fits_file[1].data, cmap='Greys_r', vmin=0, vmax=0.5, origin='lower')\n",
    "ax3.set_title(f\"{fits_file[0].header['INSTRUME']}/{fits_file[0].header['FILTER2']}\")\n",
    "\n",
    "plt.tight_layout()\n",
    "plt.show()"
   ]
  },
  {
   "cell_type": "markdown",
   "metadata": {},
   "source": [
    "<a id=\"HST-colorize\"></a>\n",
    "## Colorizing HST images with astropy\n",
    "\n",
    "We can combine all three HST images here and colorize them using the `make_lupton_rgb()` function from astropy. This function takes image data from three filter images, and combines them as an RGB image. In this example, we will order by wavelength and map the IR filter (F160W) to the red channel ('r'), the F814W filter to the green channel ('g'), and the F435W filter to the blue channel ('b').\n",
    "\n",
    "Before we colorize the images, however, we need to reproject them onto the same coordinate system. We will resample the F160W and F814W images to the same projection as the F435W image, because the F435W image is the largest.\n"
   ]
  },
  {
   "cell_type": "code",
   "execution_count": null,
   "metadata": {},
   "outputs": [],
   "source": [
    "# Print image shapes:\n",
    "print(f\"F160W shape: {f160w[1].data.shape}\")\n",
    "print(f\"F814W shape: {f814w[1].data.shape}\")\n",
    "print(f\"F435W shape: {f435w[1].data.shape}\")\n",
    "\n",
    "# Reproject all three HST images into the same frame (using F435W image as base)\n",
    "# This may take about a minute.\n",
    "r, _ = reproject.reproject_interp(f160w[1], f435w[1].header)\n",
    "g, _ = reproject.reproject_interp(f814w[1], f435w[1].header)\n",
    "b, _ = reproject.reproject_interp(f435w[1], f435w[1].header)\n",
    "\n",
    "# Colorize image using the three filters\n",
    "hst_image = make_lupton_rgb(r*0.1, g, b*2.5, Q=4, stretch=0.75)"
   ]
  },
  {
   "cell_type": "markdown",
   "metadata": {},
   "source": [
    "Our reprojection and colorization is complete! Let's now plot the image."
   ]
  },
  {
   "cell_type": "code",
   "execution_count": null,
   "metadata": {},
   "outputs": [],
   "source": [
    "# Make plot\n",
    "plt.figure(figsize=(5, 10))\n",
    "ax = plt.subplot(projection=f435w_wcs)\n",
    "\n",
    "# Plot image\n",
    "ax.imshow(hst_image)\n",
    "\n",
    "# Zoom in\n",
    "ax.set_xlim(1800, 2600)\n",
    "ax.set_ylim(2000, 2900)\n",
    "\n",
    "# Label Plot\n",
    "ax.set_xlabel('Right Ascension')\n",
    "ax.set_ylabel('Declination')\n",
    "ax.set_title('HST Image (colorized)')\n",
    "plt.show()"
   ]
  },
  {
   "cell_type": "markdown",
   "metadata": {},
   "source": [
    "This image looks great! There are certainly a few places where bright spots in one image are affecting the final result; this can be seen as the green speckles across the lower third of the image.\n",
    "\n",
    "***\n",
    "<a id=\"HST-MaNGA\"></a>\n",
    "# Combining MaNGA and HST data\n",
    "\n",
    "Now that we have downloaded both MaNGA and HST data, let's combine them into one plot to map some of properties of this merging pair of galaxies!\n",
    "\n",
    "The key to combining the HST and MaNGA data is the [World Coordinate System (WCS)](https://astropy-astrofrog.readthedocs.io/en/latest/wcs/) transformations done by astropy. Using information from the file headers, `astropy.wcs()` will calculate the RA and DEC coordinates corresponding to each pixel in the image, allowing us to project both datasets on the same figure."
   ]
  },
  {
   "cell_type": "code",
   "execution_count": null,
   "metadata": {},
   "outputs": [],
   "source": [
    "# Store WCS for easy coordinate transformations\n",
    "hst_wcs = WCS(f435w[1].header)\n",
    "manga_wcs = WCS(manga_map[3].header)\n",
    "\n",
    "#=========================================\n",
    "# Set up Plot\n",
    "#=========================================\n",
    "plt.figure(figsize=(15, 5))\n",
    "\n",
    "ax1 = plt.subplot(131, projection=hst_wcs)\n",
    "ax2 = plt.subplot(132, projection=hst_wcs)\n",
    "ax3 = plt.subplot(133, projection=hst_wcs)\n",
    "\n",
    "for ax in [ax1, ax2, ax3]:\n",
    "    # Zoom in\n",
    "    ax.set_xlim(1850, 2550)\n",
    "    ax.set_ylim(2300, 3000)\n",
    "    # Label Axes\n",
    "    ax.set_xlabel('RA')\n",
    "    ax.set_ylabel('Dec')\n",
    "    # Plot Grid\n",
    "    ax.grid(color='white', ls='dotted', alpha=0.5)\n",
    "\n",
    "    \n",
    "#=========================================\n",
    "# Subplot 1: HST Image\n",
    "#=========================================\n",
    "ax1.imshow(hst_image)\n",
    "ax1.set_title('HST Image (colorized)')\n",
    "\n",
    "#=========================================\n",
    "# Subplot 2: MaNGA H-alpha Emission\n",
    "#=========================================\n",
    "ax2.set_title(r'MaNGA H-$\\alpha$ Flux' + '\\n' + r'[$10^{-17}$ erg/s/cm$^{2}$/spaxel]')\n",
    "\n",
    "h_alpha_flux = np.copy(manga_map['EMLINE_GFLUX'].data[emline['Ha-6564']])\n",
    "h_alpha_flux[h_alpha_flux == 0] = np.nan # mask for quality data\n",
    "\n",
    "\n",
    "# Plot H-alpha flux\n",
    "ax2.imshow(np.log10(h_alpha_flux),\n",
    "           transform=ax2.get_transform(manga_wcs),\n",
    "           cmap='magma', vmin=0, vmax=2)\n",
    "\n",
    "# Plot MaNGA contours\n",
    "contour_levels = [1, 10, 20, 50, 100]\n",
    "contour_labels = [str(c) for c in contour_levels]\n",
    "fmt = {}\n",
    "for label_level, label_string in zip(contour_levels, contour_labels):\n",
    "    fmt[label_level] = label_string\n",
    "\n",
    "contours = ax2.contour(h_alpha_flux,\n",
    "                       transform=ax2.get_transform(manga_wcs),\n",
    "                       levels=contour_levels, colors='white')\n",
    "ax2.clabel(contours, contours.levels, inline=True, fmt=fmt, fontsize=12)\n",
    "\n",
    "\n",
    "#=========================================\n",
    "# Subplot 3: HST + MaNGA\n",
    "#=========================================\n",
    "ax3.set_title(r'HST + MaNGA H-$\\alpha$ Contours')\n",
    "\n",
    "# Plot background HST image\n",
    "ax3.imshow(hst_image)\n",
    "    \n",
    "# Plot MaNGA contours\n",
    "contours = ax3.contour(h_alpha_flux,\n",
    "                       transform=ax3.get_transform(manga_wcs),\n",
    "                       levels=contour_levels, colors='white')\n",
    "ax3.clabel(contours, contours.levels, inline=True, fmt=fmt, fontsize=8)\n",
    "\n",
    "\n",
    "plt.tight_layout()\n",
    "plt.show()"
   ]
  },
  {
   "cell_type": "markdown",
   "metadata": {},
   "source": [
    "This plot encapsulates everything we have learned so far, showing the colorized HST image (left), the H-alpha flux from MaNGA (middle), and combining them both into a single image (right).\n",
    "\n",
    "\n",
    "<a id=\"HST-MaNGA-Halpha\"></a>\n",
    "## Creating an H-alpha Emission Map\n",
    "\n",
    "We can isolate the last panel and plot it by itself, too."
   ]
  },
  {
   "cell_type": "code",
   "execution_count": null,
   "metadata": {},
   "outputs": [],
   "source": [
    "plt.figure(figsize=(10, 10))\n",
    "ax = plt.subplot(projection=hst_wcs)\n",
    "ax.set_xlim(1950, 2550)\n",
    "ax.set_ylim(2350, 2900)\n",
    "plt.xlabel(r'Right Ascension')\n",
    "plt.ylabel(r'Declination')\n",
    "plt.title(r'HST Image + H-$\\alpha$ Emission from MaNGA')\n",
    "\n",
    "# Plot the HST image\n",
    "ax.imshow(hst_image)\n",
    "\n",
    "\n",
    "# Plot MaNGA contours\n",
    "contour_levels = [1, 10, 20, 50, 100]\n",
    "contour_labels = [str(c) for c in contour_levels]\n",
    "contour_labels[0] = r'1 $\\times10^{-17}$ erg/s/cm$^{2}$/spaxel'\n",
    "fmt = {}\n",
    "for label_level, label_string in zip(contour_levels, contour_labels):\n",
    "    fmt[label_level] = label_string\n",
    "\n",
    "contours = ax.contour(h_alpha_flux,\n",
    "                      transform=ax.get_transform(manga_wcs),\n",
    "                      levels=contour_levels, colors='white')\n",
    "ax.clabel(contours, contours.levels, inline=True, fmt=fmt, fontsize=14)\n",
    "\n",
    "plt.savefig('manga_halpha_map.png')\n",
    "plt.show()"
   ]
  },
  {
   "cell_type": "markdown",
   "metadata": {},
   "source": [
    "In this figure, we can see that the H-alpha flux from MaNGA follows the spiral arms of the top galaxy, and the emission is strongest near the center of both galaxies.\n",
    "\n",
    "<a id=\"HST-MaNGA-Velocity\"></a>\n",
    "## Plotting the stellar velocity field\n",
    "\n",
    "Last but not least, let's do the same thing with the stellar velocity! The stellar velocity field from MaNGA will show which parts of the galaxies are redshifted (moving away from us, which we will plot in red), and which parts are blueshifted (moving toward us, which we will plot in blue)."
   ]
  },
  {
   "cell_type": "code",
   "execution_count": null,
   "metadata": {},
   "outputs": [],
   "source": [
    "plt.figure(figsize=(14, 10))\n",
    "ax = plt.subplot(projection=WCS(f435w[1].header))\n",
    "\n",
    "ax.imshow(f435w[1].data, vmin=0, vmax=0.5, cmap='Greys_r',\n",
    "          transform=ax.get_transform(WCS(f435w[1].header)))\n",
    "\n",
    "ax.set_xlim(1950, 2550)\n",
    "ax.set_ylim(2350, 2900)\n",
    "\n",
    "bin_indx = manga_map['BINID'].data[1]\n",
    "unique_bins, unique_indices = tuple(map(lambda x: x[1:],\n",
    "                                        np.unique(bin_indx.ravel(), return_index=True)))\n",
    "\n",
    "x_pix = np.array([x for y in range(74) for x in range(74)])[unique_indices]\n",
    "y_pix = np.array([y for y in range(74) for x in range(74)])[unique_indices]\n",
    "v_map = velocity_map.ravel()[unique_indices]\n",
    "\n",
    "# Get the luminosity-weighted x and y coordinates of the unique bins\n",
    "im = ax.scatter(x_pix, y_pix, c=v_map,\n",
    "                marker='.', s=100, lw=0,\n",
    "                vmin=-150, vmax=150, cmap='seismic', \n",
    "                transform=ax.get_transform(manga_wcs))\n",
    "\n",
    "plt.colorbar(im, label='Stellar Velocity [km/s]')\n",
    "\n",
    "\n",
    "plt.xlabel(r'Right Ascension')\n",
    "plt.ylabel(r'Declination')\n",
    "plt.title(r'Stellar Velocity from MaNGA')\n",
    "\n",
    "plt.savefig('manga_velocity_map.png')\n",
    "plt.show()"
   ]
  },
  {
   "cell_type": "markdown",
   "metadata": {},
   "source": [
    "This plot shows that this galaxy pair is rotating vertically (from the perspective of this image). The arm in the upper galaxy is blueshifted, while most of the lower galaxy, and the end of the arm is redshifted."
   ]
  },
  {
   "cell_type": "markdown",
   "metadata": {},
   "source": [
    "***"
   ]
  },
  {
   "cell_type": "markdown",
   "metadata": {},
   "source": [
    "Congratulations! You have reached the end of this tutorial notebook. You have learned how to access and download MaNGA data from MAST, and combine it with HST images to map different properties for this merging pair of galaxies."
   ]
  },
  {
   "cell_type": "markdown",
   "metadata": {},
   "source": [
    "<a id=\"Resources\"></a>\n",
    "\n",
    "## Additional Resources\n",
    "\n",
    "Additional resources are linked below:\n",
    "\n",
    "- [SDSS Legacy Archive at MAST](https://archive.stsci.edu/missions-and-data/sdss)\n",
    "- [SDSS-IV MaNGA Survey](https://www.sdss4.org/surveys/manga/)\n",
    "- [astroquery.mast User Manual](https://astroquery.readthedocs.io/en/latest/mast/mast.html)\n",
    "- [MAST API](https://mast.stsci.edu/api/v0/index.html)\n"
   ]
  },
  {
   "cell_type": "markdown",
   "metadata": {},
   "source": [
    "## Citations\n",
    "<a id=\"Citations\"></a>\n",
    "\n",
    "If you use MaNGA data for published research, see the following links for information on which citations to include in your paper:\n",
    "\n",
    "* [Citing SDSS](https://sdss.org/collaboration/citing-sdss/)\n",
    "* [Citing MaNGA](https://www.sdss4.org/dr17/manga/manga-technical-papers/)\n",
    "* [Citing MAST](https://archive.stsci.edu/publishing/mission-acknowledgements)\n",
    "* [Citing astropy](https://www.astropy.org/acknowledging.html)\n"
   ]
  },
  {
   "cell_type": "markdown",
   "metadata": {
    "slideshow": {
     "slide_type": "slide"
    }
   },
   "source": [
    "## About this Notebook\n",
    "\n",
    "<a id=\"About\"></a>\n",
    "\n",
    "For questions or issues with this notebook, you can open a github issue or email archive@stsci.edu.\n",
    "\n",
    "**Authors:** Julie Imig, Brian Cherinka <br>\n",
    "**Keywords:** Tutorial, SDSS, MaNGA, HST, galaxies <br>\n",
    "**First published:** October 2024 <br>\n",
    "**Last updated:** October 2024 <br>\n",
    "\n",
    "***\n",
    "[Top of Page](#top)\n",
    "<img style=\"float: right;\" src=\"https://raw.githubusercontent.com/spacetelescope/style-guides/master/guides/images/stsci-logo.png\" alt=\"Space Telescope Logo\" width=\"200px\"/> "
   ]
  }
 ],
 "metadata": {
  "kernelspec": {
   "display_name": "Python 3 (ipykernel)",
   "language": "python",
   "name": "python3"
  },
  "language_info": {
   "codemirror_mode": {
    "name": "ipython",
    "version": 3
   },
   "file_extension": ".py",
   "mimetype": "text/x-python",
   "name": "python",
   "nbconvert_exporter": "python",
   "pygments_lexer": "ipython3",
   "version": "3.11.10"
  }
 },
 "nbformat": 4,
 "nbformat_minor": 4
}
