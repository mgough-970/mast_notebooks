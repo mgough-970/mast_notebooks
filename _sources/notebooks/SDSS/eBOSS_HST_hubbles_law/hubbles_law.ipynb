{
 "cells": [
  {
   "cell_type": "markdown",
   "metadata": {},
   "source": [
    "<a id=\"top\"></a>\n",
    "# Calculating the Hubble Constant with eBOSS \n",
    "***\n",
    "## Learning Goals\n",
    "\n",
    "\n",
    "By the end of this tutorial, you will:\n",
    "\n",
    "- Understand how to use `astroquery.mast` to download SDSS eBOSS and HST data from the MAST archive.\n",
    "- Plot a sample of galaxies from eBOSS with a line of best fit to determine Hubble's constant.\n",
    "- Create a color image of Abell 2199 from HST data."
   ]
  },
  {
   "cell_type": "markdown",
   "metadata": {
    "slideshow": {
     "slide_type": "slide"
    }
   },
   "source": [
    "## Table of Contents \n",
    "* [Introduction](#introduction)\n",
    "* [Imports](#imports)\n",
    "* [Accessing eBOSS Data from MAST](#accessing-eboss-data-from-mast)\n",
    "    * [Querying eBOSS Data](#querying-eboss-data)\n",
    "    * [Sampling eBOSS for Redshifted Galaxies](#sampling-eboss-for-redshifted-galaxies)\n",
    "    * [Downloading Products from eBOSS](#downloading-products-from-eboss)\n",
    "    * [Making the Hubble-Lemaître Diagram](#making-the-hubble-lemaître-diagram)\n",
    "    * [Plotting eBOSS Data](#plotting-eboss-data)\n",
    "      * [Importing Abell 2199 Data](#importing-abell-2199-data)\n",
    "    * [Comparing Calculated H<sub>0</sub> to Other Models](#comparing-calculated-h0-to-other-models)\n",
    "* [Utilizing HST Data from Mast](#utilizing-hst-data-from-mast)\n",
    "    * [Creating an Image of Abell 2199 Using HST](#creating-an-image-of-abell-2199-using-hst)\n",
    "    * [Plotting the HST Images](#plotting-the-hst-images)\n",
    "    * [Colorizing the HST Image](#colorizing-the-hst-image-of-abell-2199)\n",
    "* [End of Tutorial](#end-of-tutorial)\n",
    "* [Additional Resources](#additional-resources)\n",
    "* [Citations](#citations)\n",
    "* [About this Notebook](#about-this-notebook)\n",
    "\n",
    "\n",
    "\n",
    "\n",
    "## Introduction \n",
    "The Hubble-Lemaître law is one of the most prominent topics of debate in modern cosmology. In 1927, Georges Lemaître published a paper in a Belgian journal proposing that the Universe was expanding, using data from Vesto Slipher at Lowell Observatory. Around the same time, Edwin Hubble was independently studying the relationship between galaxy distances and their radial velocities at Mount Wilson Observatory. Although Hubble was originally credited with the discovery, in 2018 the International Astronomical Union officially renamed \"Hubble’s Law\" to the \"Hubble–Lemaître Law\" to acknowledge Lemaître’s earlier contribution  [[1]](https://pressbooks.bccampus.ca/astronomy1105/chapter/26-5-the-expanding-universe/).\n",
    "\n",
    "The Big Bang occurred approximately 14 billion years ago, leading to the expansion of the Universe. We can estimate the speed of this expansion by examining the redshifts of a sample of galaxies. These redshifts can be translated into radial velocities, and then using observed spectral flux, we can the determine the distances to these galaxies. By plotting radial velocities versus distances, we can apply a linear fit model to the data. This allows us to approximate the Hubble constant from the slope as described by Hubble's Law [[2]](https://www.teachastronomy.com/textbook/The-Expanding-Universe/Relating-Redshift-and-Distance/):\n",
    "\n",
    "$$\n",
    "v_{rad} = H_{0}d\n",
    "$$\n",
    "\n",
    "There are various models used to calculate H<sub>0</sub>, some based on observations of the Cosmic Microwave Background (CMB), and others on measurements of galaxies or supernovae. These models typically yield varying values of H<sub>0</sub> ranging from approximately 67 km/s/Mpc to 74 km/s/Mpc. This discrepancy is known as the *Hubble Tension* [[3]](https://doi.org/10.3390/universe9020094). \n",
    "\n",
    "In this notebook, we'll construct a Hubble-Lemaître Diagram using data from the Sloan Digital Sky Survey’s (SDSS) Extended Baryon Oscillation Spectroscopic Survey (eBOSS). eBOSS gathered over 4 million spectra from stars, quasars, and galaxies. We'll focus on a subset of galaxies, using their redshifts and spectral data to plot radial velocity against distance. By applying a linear fit to this relationship, we can estimate Hubble's constant from the slope of the resulting line."
   ]
  },
  {
   "cell_type": "markdown",
   "metadata": {
    "slideshow": {
     "slide_type": "slide"
    }
   },
   "source": [
    "## Imports \n",
    "The main packages and their use-cases in this tutorial are as follows:\n",
    "\n",
    "- *numpy* to handle array functions\n",
    "- *matplotlib.pyplot* for plotting data \n",
    "- *astroquery.mast.Observations* to access data from MAST\n",
    "- *astropy.io.fits* for accessing FITS files\n",
    "- *astropy.table.vstack* for vertically stacking tables\n",
    "- *scipy.optimize.curve_fit* for creating a linear fit \n",
    "- *astropy.visualization.make_luptopn_rgb* for creating an RGB image \n",
    "- *astropy.wcs.WCS* for world coordinate system transformations\n",
    "- *reproject* for stacking FITS images"
   ]
  },
  {
   "cell_type": "code",
   "execution_count": 1,
   "metadata": {
    "execution": {
     "iopub.execute_input": "2025-07-10T13:44:28.017938Z",
     "iopub.status.busy": "2025-07-10T13:44:28.017772Z",
     "iopub.status.idle": "2025-07-10T13:44:29.738360Z",
     "shell.execute_reply": "2025-07-10T13:44:29.737807Z"
    },
    "slideshow": {
     "slide_type": "fragment"
    }
   },
   "outputs": [],
   "source": [
    "%matplotlib inline\n",
    "\n",
    "import numpy as np\n",
    "import matplotlib.pyplot as plt\n",
    "\n",
    "from astroquery.mast import Observations\n",
    "import astropy.io.fits as fits\n",
    "from astropy.table import vstack\n",
    "from scipy.optimize import curve_fit\n",
    "\n",
    "from astropy.visualization import make_lupton_rgb\n",
    "from astropy.wcs import WCS\n",
    "import reproject"
   ]
  },
  {
   "cell_type": "markdown",
   "metadata": {},
   "source": [
    "If you're not sure if you have the required versions of packages installed on your device, you can run the following cell:"
   ]
  },
  {
   "cell_type": "code",
   "execution_count": 2,
   "metadata": {
    "execution": {
     "iopub.execute_input": "2025-07-10T13:44:29.740692Z",
     "iopub.status.busy": "2025-07-10T13:44:29.740365Z",
     "iopub.status.idle": "2025-07-10T13:44:29.744242Z",
     "shell.execute_reply": "2025-07-10T13:44:29.743632Z"
    }
   },
   "outputs": [
    {
     "name": "stdout",
     "output_type": "stream",
     "text": [
      "Required packages for this notebook:\n",
      "astropy >= 5.3\n",
      "astroquery >= 0.4.9\n",
      "matplotlib >= 3.9.1\n",
      "numpy >= 1.26.4\n",
      "scipy >= 1.15.3\n",
      "reproject >= 0.14.0\n"
     ]
    }
   ],
   "source": [
    "with open(\"requirements.txt\") as f:\n",
    "    print(f\"Required packages for this notebook:\\n{f.read()}\")"
   ]
  },
  {
   "cell_type": "markdown",
   "metadata": {},
   "source": [
    "To ensure these requirements are installed, you can run the following command in the terminal:\n",
    "```bash\n",
    "pip install -r requirements.txt\n",
    "```"
   ]
  },
  {
   "cell_type": "markdown",
   "metadata": {},
   "source": [
    "***"
   ]
  },
  {
   "cell_type": "markdown",
   "metadata": {},
   "source": [
    "## Accessing eBOSS Data from MAST \n",
    "\n",
    "The [Mikulski Archive for Space Telescopes (MAST)](https://archive.stsci.edu/) hosts a large array of data from several telescope missions. In this tutorial, we will be specifically focusing on data from the Sloan Digital Sky Survey (SDSS) and the Hubble Space Telescope (HST). \n",
    "\n",
    "The [Extended Baryon Oscillation Spectroscopic Survey (eBOSS)](https://www.sdss4.org/surveys/eboss/) was completed using the SDSS-2.5m telescope and BOSS spectrograph at the Apache Point Observatory in New Mexico. Using plug plates and a 1000 fiber-fed spectrograph, eBOSS was able to collect spectra from over 4 million objects including quasars, galaxies, and stars in the northern hemisphere."
   ]
  },
  {
   "cell_type": "markdown",
   "metadata": {
    "slideshow": {
     "slide_type": "slide"
    }
   },
   "source": [
    "### Querying eBOSS Data \n",
    "\n",
    "You can query data from MAST using the [website portal](https://mast.stsci.edu/portal/Mashup/Clients/Mast/Portal.html). You can also query MAST data in Python using the package `astroquery.mast`! \n",
    "\n",
    "We can query all of the eBOSS data using `Observations.query_criteria` with `provenance_name = 'eBOSS'` and `obs_collection = 'SDSS'`. Since eBOSS has a large amount of data, we can display the first 10 results using the `pagesize` parameter as well as the `page` parameter. \n",
    "\n",
    "We can also limit the number of observations by date. Using the `t_min=[58118, 60675]` parameter (the modified Julian date of the exposure), we can filter data that has a modified Julian date from 58118 to 60676 (years 2018-2024). \n",
    "\n",
    "This might take a few minutes depending on your internet connection."
   ]
  },
  {
   "cell_type": "code",
   "execution_count": 3,
   "metadata": {
    "execution": {
     "iopub.execute_input": "2025-07-10T13:44:29.777560Z",
     "iopub.status.busy": "2025-07-10T13:44:29.777155Z",
     "iopub.status.idle": "2025-07-10T13:45:11.123898Z",
     "shell.execute_reply": "2025-07-10T13:45:11.123258Z"
    }
   },
   "outputs": [
    {
     "data": {
      "text/html": [
       "<div><i>Table masked=True length=5</i>\n",
       "<table id=\"table140299736552144\" class=\"table-striped table-bordered table-condensed\">\n",
       "<thead><tr><th>intentType</th><th>obs_collection</th><th>provenance_name</th><th>instrument_name</th><th>project</th><th>filters</th><th>wavelength_region</th><th>target_name</th><th>target_classification</th><th>obs_id</th><th>s_ra</th><th>s_dec</th><th>dataproduct_type</th><th>proposal_pi</th><th>calib_level</th><th>t_min</th><th>t_max</th><th>t_exptime</th><th>em_min</th><th>em_max</th><th>obs_title</th><th>t_obs_release</th><th>proposal_id</th><th>proposal_type</th><th>sequence_number</th><th>s_region</th><th>jpegURL</th><th>dataURL</th><th>dataRights</th><th>mtFlag</th><th>srcDen</th><th>obsid</th><th>objID</th></tr></thead>\n",
       "<thead><tr><th>str7</th><th>str4</th><th>str5</th><th>str4</th><th>str4</th><th>str4</th><th>str7</th><th>str21</th><th>str6</th><th>str27</th><th>float64</th><th>float64</th><th>str8</th><th>str18</th><th>int64</th><th>float64</th><th>float64</th><th>float64</th><th>float64</th><th>float64</th><th>str56</th><th>float64</th><th>str3</th><th>str1</th><th>int64</th><th>str56</th><th>str64</th><th>str64</th><th>str6</th><th>bool</th><th>float64</th><th>str9</th><th>str9</th></tr></thead>\n",
       "<tr><td>science</td><td>SDSS</td><td>eBOSS</td><td>BOSS</td><td>SDSS</td><td>None</td><td>OPTICAL</td><td>eBOSS 10759-58526-429</td><td>GALAXY</td><td>sdss_eboss_10759-58526-0429</td><td>210.4510299999999</td><td>38.233801</td><td>spectrum</td><td>SDSS Collaboration</td><td>3</td><td>58523.37033564815</td><td>58526.410765162036</td><td>3600.41</td><td>360.0</td><td>1040.0</td><td>Extended Baryon Oscillation Spectroscopic Survey (eBOSS)</td><td>59554.0</td><td>N/A</td><td>--</td><td>--</td><td>CIRCLE 210.4510299999999 38.233801 0.0002777777777777778</td><td>mast:SDSS/eboss/10759/58526/0429/spec-image-10759-58526-0429.png</td><td>mast:SDSS/eboss/10759/58526/0429/full/spec-10759-58526-0429.fits</td><td>PUBLIC</td><td>False</td><td>nan</td><td>243450949</td><td>723271914</td></tr>\n",
       "<tr><td>science</td><td>SDSS</td><td>eBOSS</td><td>BOSS</td><td>SDSS</td><td>None</td><td>OPTICAL</td><td>eBOSS 10759-58526-904</td><td>QSO</td><td>sdss_eboss_10759-58526-0904</td><td>211.82028</td><td>39.947863</td><td>spectrum</td><td>SDSS Collaboration</td><td>3</td><td>58523.37033564815</td><td>58526.410766203706</td><td>3600.41</td><td>360.0</td><td>1040.0</td><td>Extended Baryon Oscillation Spectroscopic Survey (eBOSS)</td><td>59554.0</td><td>N/A</td><td>--</td><td>--</td><td>CIRCLE 211.82028 39.947863 0.0002777777777777778</td><td>mast:SDSS/eboss/10759/58526/0904/spec-image-10759-58526-0904.png</td><td>mast:SDSS/eboss/10759/58526/0904/full/spec-10759-58526-0904.fits</td><td>PUBLIC</td><td>False</td><td>nan</td><td>243450984</td><td>723271967</td></tr>\n",
       "<tr><td>science</td><td>SDSS</td><td>eBOSS</td><td>BOSS</td><td>SDSS</td><td>None</td><td>OPTICAL</td><td>eBOSS 10759-58526-921</td><td>QSO</td><td>sdss_eboss_10759-58526-0921</td><td>211.96721</td><td>39.285269</td><td>spectrum</td><td>SDSS Collaboration</td><td>3</td><td>58523.37033564815</td><td>58526.410766203706</td><td>3600.41</td><td>360.0</td><td>1040.0</td><td>Extended Baryon Oscillation Spectroscopic Survey (eBOSS)</td><td>59554.0</td><td>N/A</td><td>--</td><td>--</td><td>CIRCLE 211.96721 39.285269 0.0002777777777777778</td><td>mast:SDSS/eboss/10759/58526/0921/spec-image-10759-58526-0921.png</td><td>mast:SDSS/eboss/10759/58526/0921/full/spec-10759-58526-0921.fits</td><td>PUBLIC</td><td>False</td><td>nan</td><td>243451002</td><td>723272001</td></tr>\n",
       "<tr><td>science</td><td>SDSS</td><td>eBOSS</td><td>BOSS</td><td>SDSS</td><td>None</td><td>OPTICAL</td><td>eBOSS 10759-58526-739</td><td>QSO</td><td>sdss_eboss_10759-58526-0739</td><td>210.9883</td><td>38.71173</td><td>spectrum</td><td>SDSS Collaboration</td><td>3</td><td>58523.37033564815</td><td>58526.410766203706</td><td>3600.41</td><td>360.0</td><td>1040.0</td><td>Extended Baryon Oscillation Spectroscopic Survey (eBOSS)</td><td>59554.0</td><td>N/A</td><td>--</td><td>--</td><td>CIRCLE 210.9883 38.71173 0.0002777777777777778</td><td>mast:SDSS/eboss/10759/58526/0739/spec-image-10759-58526-0739.png</td><td>mast:SDSS/eboss/10759/58526/0739/full/spec-10759-58526-0739.fits</td><td>PUBLIC</td><td>False</td><td>nan</td><td>243451049</td><td>723272072</td></tr>\n",
       "<tr><td>science</td><td>SDSS</td><td>eBOSS</td><td>BOSS</td><td>SDSS</td><td>None</td><td>OPTICAL</td><td>eBOSS 10759-58526-33</td><td>QSO</td><td>sdss_eboss_10759-58526-0033</td><td>212.46253</td><td>38.435741</td><td>spectrum</td><td>SDSS Collaboration</td><td>3</td><td>58523.37033564815</td><td>58526.410765162036</td><td>3600.41</td><td>360.0</td><td>1040.0</td><td>Extended Baryon Oscillation Spectroscopic Survey (eBOSS)</td><td>59554.0</td><td>N/A</td><td>--</td><td>--</td><td>CIRCLE 212.46253 38.435741 0.0002777777777777778</td><td>mast:SDSS/eboss/10759/58526/0033/spec-image-10759-58526-0033.png</td><td>mast:SDSS/eboss/10759/58526/0033/full/spec-10759-58526-0033.fits</td><td>PUBLIC</td><td>False</td><td>nan</td><td>243451058</td><td>723272084</td></tr>\n",
       "</table></div>"
      ],
      "text/plain": [
       "<Table masked=True length=5>\n",
       "intentType obs_collection provenance_name ...  srcDen   obsid     objID  \n",
       "   str7         str4            str5      ... float64    str9      str9  \n",
       "---------- -------------- --------------- ... ------- --------- ---------\n",
       "   science           SDSS           eBOSS ...     nan 243450949 723271914\n",
       "   science           SDSS           eBOSS ...     nan 243450984 723271967\n",
       "   science           SDSS           eBOSS ...     nan 243451002 723272001\n",
       "   science           SDSS           eBOSS ...     nan 243451049 723272072\n",
       "   science           SDSS           eBOSS ...     nan 243451058 723272084"
      ]
     },
     "execution_count": 3,
     "metadata": {},
     "output_type": "execute_result"
    }
   ],
   "source": [
    "eboss_data = Observations.query_criteria(\n",
    "    obs_collection=\"SDSS\",\n",
    "    provenance_name=\"eBOSS\",\n",
    "    t_min=[58118, 60675],\n",
    "    pagesize=5,\n",
    "    page=1,\n",
    ")\n",
    "\n",
    "# Show the astropy table\n",
    "eboss_data"
   ]
  },
  {
   "cell_type": "markdown",
   "metadata": {},
   "source": [
    "The table above provides some basic information for each object:\n",
    "- `s_ra` and `s_dec`: Right ascension and declination.\n",
    "- `instrument_name`: `BOSS` indicates that the data were collected using the BOSS spectrograph.\n",
    "- `obs_id`: Observation ID associated with the object. This is based on the plate number, the modified Julian date of observation, and the fiber ID, so the observation ID will look something like `sdss_eboss_{PLATE}-{MJD}-{FIBERID}`.\n",
    "- `target_classification`: Indicates the type of object (`QSO`, `STAR`, or `GALAXY`).\n",
    "- `t_min` and `t_max`: The modified Julian dates indicating the start and end times of the exposures.\n",
    "- `wavelength_region`: Indicates the region of the electromagnetic spectrum observed. This should be `OPTICAL`, since eBOSS observed in the optical wavelength range.\n",
    "- `em_min` and `em_max`: The minimum and maximum wavelengths observed by the survey. For eBOSS, this range is 360.0–1040.0 nanometers (optical).\n",
    "- `dataproduct_type`: Since eBOSS was a spectroscopic survey, this should be `spectrum`."
   ]
  },
  {
   "cell_type": "markdown",
   "metadata": {},
   "source": [
    "### Sampling eBOSS for Redshifted Galaxies \n",
    "\n",
    "In this tutorial, we will be examining a sample of 311 galaxies, with 32 of those being from the galaxy cluster Abell 2199. This sample was curated for this exercise by randomly selecting 500 galaxies from the LOFAR subprogram of eBOSS across a uniform range of redshifts, and then selecting the most linear portion of the data when plotted on a radial velocity vs. distance plot. \n",
    "\n",
    "For the purpose of this tutorial, we will only focus on querying by observation ID. The list of observation IDs of the 311 galaxies is located in the .txt file `all_galaxies.txt`. The galaxies from *Abell 2199* are located in `abell_2199.txt`. "
   ]
  },
  {
   "cell_type": "code",
   "execution_count": 4,
   "metadata": {
    "execution": {
     "iopub.execute_input": "2025-07-10T13:45:11.125765Z",
     "iopub.status.busy": "2025-07-10T13:45:11.125574Z",
     "iopub.status.idle": "2025-07-10T13:46:15.096132Z",
     "shell.execute_reply": "2025-07-10T13:46:15.095475Z"
    }
   },
   "outputs": [],
   "source": [
    "# importing the galaxy IDs\n",
    "obs_id = np.loadtxt(\"all_galaxies.txt\", dtype=str)\n",
    "\n",
    "# looping through the .txt file to collect query results\n",
    "# (this might take a few minutes)\n",
    "results_tables = []\n",
    "for i in obs_id:\n",
    "    query_result = Observations.query_criteria(\n",
    "        obs_collection=\"SDSS\", provenance_name=\"eBOSS\", obs_id=i\n",
    "    )\n",
    "    results_tables.append(query_result)\n",
    "\n",
    "# combine query results using vstack\n",
    "combined_results = vstack(results_tables)"
   ]
  },
  {
   "cell_type": "code",
   "execution_count": 5,
   "metadata": {
    "execution": {
     "iopub.execute_input": "2025-07-10T13:46:15.098221Z",
     "iopub.status.busy": "2025-07-10T13:46:15.098035Z",
     "iopub.status.idle": "2025-07-10T13:46:15.115649Z",
     "shell.execute_reply": "2025-07-10T13:46:15.115218Z"
    }
   },
   "outputs": [
    {
     "data": {
      "text/html": [
       "<div><i>Table length=10</i>\n",
       "<table id=\"table140299699396560\" class=\"table-striped table-bordered table-condensed\">\n",
       "<thead><tr><th>intentType</th><th>obs_collection</th><th>provenance_name</th><th>instrument_name</th><th>project</th><th>filters</th><th>wavelength_region</th><th>target_name</th><th>target_classification</th><th>obs_id</th><th>s_ra</th><th>s_dec</th><th>dataproduct_type</th><th>proposal_pi</th><th>calib_level</th><th>t_min</th><th>t_max</th><th>t_exptime</th><th>em_min</th><th>em_max</th><th>obs_title</th><th>t_obs_release</th><th>proposal_id</th><th>proposal_type</th><th>sequence_number</th><th>s_region</th><th>jpegURL</th><th>dataURL</th><th>dataRights</th><th>mtFlag</th><th>srcDen</th><th>obsid</th><th>objID</th></tr></thead>\n",
       "<thead><tr><th>str7</th><th>str4</th><th>str5</th><th>str4</th><th>str4</th><th>str4</th><th>str7</th><th>str21</th><th>str6</th><th>str27</th><th>float64</th><th>float64</th><th>str8</th><th>str18</th><th>int64</th><th>float64</th><th>float64</th><th>float64</th><th>float64</th><th>float64</th><th>str56</th><th>float64</th><th>str3</th><th>str1</th><th>int64</th><th>str56</th><th>str64</th><th>str64</th><th>str6</th><th>bool</th><th>float64</th><th>str9</th><th>str9</th></tr></thead>\n",
       "<tr><td>science</td><td>SDSS</td><td>eBOSS</td><td>BOSS</td><td>SDSS</td><td>None</td><td>OPTICAL</td><td>eBOSS 7563-56810-546</td><td>GALAXY</td><td>sdss_eboss_7563-56810-0546</td><td>242.38543</td><td>55.191924</td><td>spectrum</td><td>SDSS Collaboration</td><td>3</td><td>56810.23339120371</td><td>56810.266540972225</td><td>2700.3</td><td>360.0</td><td>1040.0</td><td>Extended Baryon Oscillation Spectroscopic Survey (eBOSS)</td><td>59554.0</td><td>N/A</td><td>--</td><td>--</td><td>CIRCLE 242.38543 55.191924 0.0002777777777777778</td><td>mast:SDSS/eboss/7563/56810/0546/spec-image-7563-56810-0546.png</td><td>mast:SDSS/eboss/7563/56810/0546/full/spec-7563-56810-0546.fits</td><td>PUBLIC</td><td>False</td><td>nan</td><td>247778078</td><td>731713673</td></tr>\n",
       "<tr><td>science</td><td>SDSS</td><td>eBOSS</td><td>BOSS</td><td>SDSS</td><td>None</td><td>OPTICAL</td><td>eBOSS 7562-56799-119</td><td>GALAXY</td><td>sdss_eboss_7562-56799-0119</td><td>242.23545</td><td>54.39303</td><td>spectrum</td><td>SDSS Collaboration</td><td>3</td><td>56799.26600694445</td><td>56799.31052199074</td><td>3600.38</td><td>360.0</td><td>1040.0</td><td>Extended Baryon Oscillation Spectroscopic Survey (eBOSS)</td><td>59554.0</td><td>N/A</td><td>--</td><td>--</td><td>CIRCLE 242.23545 54.39303 0.0002777777777777778</td><td>mast:SDSS/eboss/7562/56799/0119/spec-image-7562-56799-0119.png</td><td>mast:SDSS/eboss/7562/56799/0119/full/spec-7562-56799-0119.fits</td><td>PUBLIC</td><td>False</td><td>nan</td><td>246836643</td><td>729532212</td></tr>\n",
       "<tr><td>science</td><td>SDSS</td><td>eBOSS</td><td>BOSS</td><td>SDSS</td><td>None</td><td>OPTICAL</td><td>eBOSS 7563-56810-66</td><td>GALAXY</td><td>sdss_eboss_7563-56810-0066</td><td>246.3541299999999</td><td>53.987946</td><td>spectrum</td><td>SDSS Collaboration</td><td>3</td><td>56810.23339120371</td><td>56810.266540509256</td><td>2700.3</td><td>360.0</td><td>1040.0</td><td>Extended Baryon Oscillation Spectroscopic Survey (eBOSS)</td><td>59554.0</td><td>N/A</td><td>--</td><td>--</td><td>CIRCLE 246.3541299999999 53.987946 0.0002777777777777778</td><td>mast:SDSS/eboss/7563/56810/0066/spec-image-7563-56810-0066.png</td><td>mast:SDSS/eboss/7563/56810/0066/full/spec-7563-56810-0066.fits</td><td>PUBLIC</td><td>False</td><td>nan</td><td>247778139</td><td>731713984</td></tr>\n",
       "<tr><td>science</td><td>SDSS</td><td>eBOSS</td><td>BOSS</td><td>SDSS</td><td>None</td><td>OPTICAL</td><td>eBOSS 7564-56804-589</td><td>GALAXY</td><td>sdss_eboss_7564-56804-0589</td><td>241.9422</td><td>54.987496</td><td>spectrum</td><td>SDSS Collaboration</td><td>3</td><td>56804.29349537037</td><td>56804.3494</td><td>4500.51</td><td>360.0</td><td>1040.0</td><td>Extended Baryon Oscillation Spectroscopic Survey (eBOSS)</td><td>59554.0</td><td>N/A</td><td>--</td><td>--</td><td>CIRCLE 241.9422 54.987496 0.0002777777777777778</td><td>mast:SDSS/eboss/7564/56804/0589/spec-image-7564-56804-0589.png</td><td>mast:SDSS/eboss/7564/56804/0589/full/spec-7564-56804-0589.fits</td><td>PUBLIC</td><td>False</td><td>nan</td><td>244576784</td><td>725746454</td></tr>\n",
       "<tr><td>science</td><td>SDSS</td><td>eBOSS</td><td>BOSS</td><td>SDSS</td><td>None</td><td>OPTICAL</td><td>eBOSS 7562-56799-322</td><td>GALAXY</td><td>sdss_eboss_7562-56799-0322</td><td>239.64237</td><td>53.270835</td><td>spectrum</td><td>SDSS Collaboration</td><td>3</td><td>56799.26600694445</td><td>56799.31052199074</td><td>3600.38</td><td>360.0</td><td>1040.0</td><td>Extended Baryon Oscillation Spectroscopic Survey (eBOSS)</td><td>59554.0</td><td>N/A</td><td>--</td><td>--</td><td>CIRCLE 239.64237 53.270835 0.0002777777777777778</td><td>mast:SDSS/eboss/7562/56799/0322/spec-image-7562-56799-0322.png</td><td>mast:SDSS/eboss/7562/56799/0322/full/spec-7562-56799-0322.fits</td><td>PUBLIC</td><td>False</td><td>nan</td><td>246835989</td><td>729530281</td></tr>\n",
       "<tr><td>science</td><td>SDSS</td><td>eBOSS</td><td>BOSS</td><td>SDSS</td><td>None</td><td>OPTICAL</td><td>eBOSS 7562-56799-946</td><td>GALAXY</td><td>sdss_eboss_7562-56799-0946</td><td>242.29276</td><td>55.442419</td><td>spectrum</td><td>SDSS Collaboration</td><td>3</td><td>56799.26600694445</td><td>56799.31052245371</td><td>3600.38</td><td>360.0</td><td>1040.0</td><td>Extended Baryon Oscillation Spectroscopic Survey (eBOSS)</td><td>59554.0</td><td>N/A</td><td>--</td><td>--</td><td>CIRCLE 242.29276 55.442419 0.0002777777777777778</td><td>mast:SDSS/eboss/7562/56799/0946/spec-image-7562-56799-0946.png</td><td>mast:SDSS/eboss/7562/56799/0946/full/spec-7562-56799-0946.fits</td><td>PUBLIC</td><td>False</td><td>nan</td><td>246835581</td><td>729529394</td></tr>\n",
       "<tr><td>science</td><td>SDSS</td><td>eBOSS</td><td>BOSS</td><td>SDSS</td><td>None</td><td>OPTICAL</td><td>eBOSS 7565-56809-575</td><td>GALAXY</td><td>sdss_eboss_7565-56809-0575</td><td>240.7521</td><td>55.295251</td><td>spectrum</td><td>SDSS Collaboration</td><td>3</td><td>56809.23818287037</td><td>56809.27134421296</td><td>2700.27</td><td>360.0</td><td>1040.0</td><td>Extended Baryon Oscillation Spectroscopic Survey (eBOSS)</td><td>59554.0</td><td>N/A</td><td>--</td><td>--</td><td>CIRCLE 240.7521 55.295251 0.0002777777777777778</td><td>mast:SDSS/eboss/7565/56809/0575/spec-image-7565-56809-0575.png</td><td>mast:SDSS/eboss/7565/56809/0575/full/spec-7565-56809-0575.fits</td><td>PUBLIC</td><td>False</td><td>nan</td><td>246919581</td><td>729701420</td></tr>\n",
       "<tr><td>science</td><td>SDSS</td><td>eBOSS</td><td>BOSS</td><td>SDSS</td><td>None</td><td>OPTICAL</td><td>eBOSS 7564-56804-655</td><td>GALAXY</td><td>sdss_eboss_7564-56804-0655</td><td>242.15617</td><td>54.257776</td><td>spectrum</td><td>SDSS Collaboration</td><td>3</td><td>56804.29349537037</td><td>56804.3494</td><td>4500.51</td><td>360.0</td><td>1040.0</td><td>Extended Baryon Oscillation Spectroscopic Survey (eBOSS)</td><td>59554.0</td><td>N/A</td><td>--</td><td>--</td><td>CIRCLE 242.15617 54.257776 0.0002777777777777778</td><td>mast:SDSS/eboss/7564/56804/0655/spec-image-7564-56804-0655.png</td><td>mast:SDSS/eboss/7564/56804/0655/full/spec-7564-56804-0655.fits</td><td>PUBLIC</td><td>False</td><td>nan</td><td>244577089</td><td>725747202</td></tr>\n",
       "<tr><td>science</td><td>SDSS</td><td>eBOSS</td><td>BOSS</td><td>SDSS</td><td>None</td><td>OPTICAL</td><td>eBOSS 7563-56810-647</td><td>GALAXY</td><td>sdss_eboss_7563-56810-0647</td><td>242.90702</td><td>54.704448</td><td>spectrum</td><td>SDSS Collaboration</td><td>3</td><td>56810.23339120371</td><td>56810.266540972225</td><td>2700.3</td><td>360.0</td><td>1040.0</td><td>Extended Baryon Oscillation Spectroscopic Survey (eBOSS)</td><td>59554.0</td><td>N/A</td><td>--</td><td>--</td><td>CIRCLE 242.90702 54.704448 0.0002777777777777778</td><td>mast:SDSS/eboss/7563/56810/0647/spec-image-7563-56810-0647.png</td><td>mast:SDSS/eboss/7563/56810/0647/full/spec-7563-56810-0647.fits</td><td>PUBLIC</td><td>False</td><td>nan</td><td>247778318</td><td>731714416</td></tr>\n",
       "<tr><td>science</td><td>SDSS</td><td>eBOSS</td><td>BOSS</td><td>SDSS</td><td>None</td><td>OPTICAL</td><td>eBOSS 7563-56810-740</td><td>GALAXY</td><td>sdss_eboss_7563-56810-0740</td><td>243.28003</td><td>54.632292</td><td>spectrum</td><td>SDSS Collaboration</td><td>3</td><td>56810.23339120371</td><td>56810.266540972225</td><td>2700.3</td><td>360.0</td><td>1040.0</td><td>Extended Baryon Oscillation Spectroscopic Survey (eBOSS)</td><td>59554.0</td><td>N/A</td><td>--</td><td>--</td><td>CIRCLE 243.28003 54.632292 0.0002777777777777778</td><td>mast:SDSS/eboss/7563/56810/0740/spec-image-7563-56810-0740.png</td><td>mast:SDSS/eboss/7563/56810/0740/full/spec-7563-56810-0740.fits</td><td>PUBLIC</td><td>False</td><td>nan</td><td>247780260</td><td>731720216</td></tr>\n",
       "</table></div>"
      ],
      "text/plain": [
       "<Table length=10>\n",
       "intentType obs_collection provenance_name ...  srcDen   obsid     objID  \n",
       "   str7         str4            str5      ... float64    str9      str9  \n",
       "---------- -------------- --------------- ... ------- --------- ---------\n",
       "   science           SDSS           eBOSS ...     nan 247778078 731713673\n",
       "   science           SDSS           eBOSS ...     nan 246836643 729532212\n",
       "   science           SDSS           eBOSS ...     nan 247778139 731713984\n",
       "   science           SDSS           eBOSS ...     nan 244576784 725746454\n",
       "   science           SDSS           eBOSS ...     nan 246835989 729530281\n",
       "   science           SDSS           eBOSS ...     nan 246835581 729529394\n",
       "   science           SDSS           eBOSS ...     nan 246919581 729701420\n",
       "   science           SDSS           eBOSS ...     nan 244577089 725747202\n",
       "   science           SDSS           eBOSS ...     nan 247778318 731714416\n",
       "   science           SDSS           eBOSS ...     nan 247780260 731720216"
      ]
     },
     "execution_count": 5,
     "metadata": {},
     "output_type": "execute_result"
    }
   ],
   "source": [
    "# show the first 10 results\n",
    "combined_results[:10]"
   ]
  },
  {
   "cell_type": "markdown",
   "metadata": {},
   "source": [
    "### Downloading Products from eBOSS\n",
    "\n",
    "For each object, there are three available files: The preview .png image, the \"full spectrum\" file, and the \"lite spectrum\" file. The full spectrum is listed as `Minimum Recommended Products` for the `productGroupDescription` parameter. \n",
    "\n",
    "For more information about eBOSS data products, you can visit the [MAST Archive Manual](https://outerspace.stsci.edu/display/SDSS/eBOSS+Data+Products) as well as in the search results table. \n",
    "\n",
    "This will take a few minutes to load."
   ]
  },
  {
   "cell_type": "code",
   "execution_count": 6,
   "metadata": {
    "execution": {
     "iopub.execute_input": "2025-07-10T13:46:15.117336Z",
     "iopub.status.busy": "2025-07-10T13:46:15.117164Z",
     "iopub.status.idle": "2025-07-10T13:46:16.583553Z",
     "shell.execute_reply": "2025-07-10T13:46:16.583064Z"
    }
   },
   "outputs": [
    {
     "data": {
      "text/html": [
       "<div><i>Table masked=True length=2170</i>\n",
       "<table id=\"table140299697022480\" class=\"table-striped table-bordered table-condensed\">\n",
       "<thead><tr><th>obsID</th><th>obs_collection</th><th>dataproduct_type</th><th>obs_id</th><th>description</th><th>type</th><th>dataURI</th><th>productType</th><th>productGroupDescription</th><th>productSubGroupDescription</th><th>productDocumentationURL</th><th>project</th><th>prvversion</th><th>proposal_id</th><th>productFilename</th><th>size</th><th>parent_obsid</th><th>dataRights</th><th>calib_level</th><th>filters</th></tr></thead>\n",
       "<thead><tr><th>str9</th><th>str4</th><th>str12</th><th>str30</th><th>str235</th><th>str1</th><th>str69</th><th>str7</th><th>str28</th><th>str14</th><th>str61</th><th>str5</th><th>str7</th><th>str3</th><th>str31</th><th>int64</th><th>str9</th><th>str6</th><th>int64</th><th>str4</th></tr></thead>\n",
       "<tr><td>244093798</td><td>SDSS</td><td>spectrum</td><td>sdss_eboss_10729-58248-0357</td><td>Preview-Full</td><td>S</td><td>mast:SDSS/eboss/10729/58248/0357/spec-image-10729-58248-0357.png</td><td>PREVIEW</td><td>--</td><td>--</td><td>--</td><td>eBOSS</td><td>DR17</td><td>N/A</td><td>spec-image-10729-58248-0357.png</td><td>33843</td><td>244093798</td><td>PUBLIC</td><td>3</td><td>None</td></tr>\n",
       "<tr><td>244093798</td><td>SDSS</td><td>spectrum</td><td>sdss_eboss_10729-58248-0357</td><td>SDSS eBOSS lite spectrum file containing the combined spectrum and associated metadata but not the individual exposures.</td><td>S</td><td>mast:SDSS/eboss/10729/58248/0357/lite/spec-lite-10729-58248-0357.fits</td><td>SCIENCE</td><td>--</td><td>SPECTRA</td><td>https://outerspace.stsci.edu/display/SDSS/eBOSS+Data+Products</td><td>eBOSS</td><td>DR17</td><td>N/A</td><td>spec-lite-10729-58248-0357.fits</td><td>216000</td><td>244093798</td><td>PUBLIC</td><td>3</td><td>None</td></tr>\n",
       "<tr><td>244093798</td><td>SDSS</td><td>spectrum</td><td>sdss_eboss_10729-58248-0357</td><td>SDSS eBOSS full spectrum file containing the combined spectrum, associated metadata, and the individual exposures.</td><td>S</td><td>mast:SDSS/eboss/10729/58248/0357/full/spec-10729-58248-0357.fits</td><td>SCIENCE</td><td>Minimum Recommended Products</td><td>SPECTRA</td><td>https://outerspace.stsci.edu/display/SDSS/eBOSS+Data+Products</td><td>eBOSS</td><td>DR17</td><td>N/A</td><td>spec-10729-58248-0357.fits</td><td>864000</td><td>244093798</td><td>PUBLIC</td><td>3</td><td>None</td></tr>\n",
       "<tr><td>244093916</td><td>SDSS</td><td>spectrum</td><td>sdss_eboss_10729-58248-0657</td><td>Preview-Full</td><td>S</td><td>mast:SDSS/eboss/10729/58248/0657/spec-image-10729-58248-0657.png</td><td>PREVIEW</td><td>--</td><td>--</td><td>--</td><td>eBOSS</td><td>DR17</td><td>N/A</td><td>spec-image-10729-58248-0657.png</td><td>39087</td><td>244093916</td><td>PUBLIC</td><td>3</td><td>None</td></tr>\n",
       "<tr><td>244093916</td><td>SDSS</td><td>spectrum</td><td>sdss_eboss_10729-58248-0657</td><td>SDSS eBOSS lite spectrum file containing the combined spectrum and associated metadata but not the individual exposures.</td><td>S</td><td>mast:SDSS/eboss/10729/58248/0657/lite/spec-lite-10729-58248-0657.fits</td><td>SCIENCE</td><td>--</td><td>SPECTRA</td><td>https://outerspace.stsci.edu/display/SDSS/eBOSS+Data+Products</td><td>eBOSS</td><td>DR17</td><td>N/A</td><td>spec-lite-10729-58248-0657.fits</td><td>216000</td><td>244093916</td><td>PUBLIC</td><td>3</td><td>None</td></tr>\n",
       "<tr><td>244093916</td><td>SDSS</td><td>spectrum</td><td>sdss_eboss_10729-58248-0657</td><td>SDSS eBOSS full spectrum file containing the combined spectrum, associated metadata, and the individual exposures.</td><td>S</td><td>mast:SDSS/eboss/10729/58248/0657/full/spec-10729-58248-0657.fits</td><td>SCIENCE</td><td>Minimum Recommended Products</td><td>SPECTRA</td><td>https://outerspace.stsci.edu/display/SDSS/eBOSS+Data+Products</td><td>eBOSS</td><td>DR17</td><td>N/A</td><td>spec-10729-58248-0657.fits</td><td>864000</td><td>244093916</td><td>PUBLIC</td><td>3</td><td>None</td></tr>\n",
       "<tr><td>244094913</td><td>SDSS</td><td>spectrum</td><td>sdss_eboss_10729-58248-0359</td><td>Preview-Full</td><td>S</td><td>mast:SDSS/eboss/10729/58248/0359/spec-image-10729-58248-0359.png</td><td>PREVIEW</td><td>--</td><td>--</td><td>--</td><td>eBOSS</td><td>DR17</td><td>N/A</td><td>spec-image-10729-58248-0359.png</td><td>34149</td><td>244094913</td><td>PUBLIC</td><td>3</td><td>None</td></tr>\n",
       "<tr><td>244094913</td><td>SDSS</td><td>spectrum</td><td>sdss_eboss_10729-58248-0359</td><td>SDSS eBOSS lite spectrum file containing the combined spectrum and associated metadata but not the individual exposures.</td><td>S</td><td>mast:SDSS/eboss/10729/58248/0359/lite/spec-lite-10729-58248-0359.fits</td><td>SCIENCE</td><td>--</td><td>SPECTRA</td><td>https://outerspace.stsci.edu/display/SDSS/eBOSS+Data+Products</td><td>eBOSS</td><td>DR17</td><td>N/A</td><td>spec-lite-10729-58248-0359.fits</td><td>216000</td><td>244094913</td><td>PUBLIC</td><td>3</td><td>None</td></tr>\n",
       "<tr><td>244094913</td><td>SDSS</td><td>spectrum</td><td>sdss_eboss_10729-58248-0359</td><td>SDSS eBOSS full spectrum file containing the combined spectrum, associated metadata, and the individual exposures.</td><td>S</td><td>mast:SDSS/eboss/10729/58248/0359/full/spec-10729-58248-0359.fits</td><td>SCIENCE</td><td>Minimum Recommended Products</td><td>SPECTRA</td><td>https://outerspace.stsci.edu/display/SDSS/eBOSS+Data+Products</td><td>eBOSS</td><td>DR17</td><td>N/A</td><td>spec-10729-58248-0359.fits</td><td>864000</td><td>244094913</td><td>PUBLIC</td><td>3</td><td>None</td></tr>\n",
       "<tr><td>...</td><td>...</td><td>...</td><td>...</td><td>...</td><td>...</td><td>...</td><td>...</td><td>...</td><td>...</td><td>...</td><td>...</td><td>...</td><td>...</td><td>...</td><td>...</td><td>...</td><td>...</td><td>...</td><td>...</td></tr>\n",
       "<tr><td>252830431</td><td>SDSS</td><td>measurements</td><td>sdss_eboss_spall</td><td>SDSS eBOSS summary catalog. This provides collated summary tables on the observations and data processing from eBOSS, including targeting information, spectroscopic classifications, and redshifts for every observation.</td><td>D</td><td>mast:SDSS/eboss/spAll-v5_13_2.fits</td><td>SCIENCE</td><td>--</td><td>eBOSS Catalogs</td><td>https://outerspace.stsci.edu/display/SDSS/eBOSS+Data+Products</td><td>eBOSS</td><td>v5_13_2</td><td>N/A</td><td>spAll-v5_13_2.fits</td><td>15895373760</td><td>248379571</td><td>PUBLIC</td><td>3</td><td>--</td></tr>\n",
       "<tr><td>252830431</td><td>SDSS</td><td>measurements</td><td>sdss_eboss_spall</td><td>SDSS eBOSS summary catalog. This provides collated summary tables on the observations and data processing from eBOSS, including targeting information, spectroscopic classifications, and redshifts for every observation.</td><td>D</td><td>mast:SDSS/eboss/spAll-v5_13_2.fits</td><td>SCIENCE</td><td>--</td><td>eBOSS Catalogs</td><td>https://outerspace.stsci.edu/display/SDSS/eBOSS+Data+Products</td><td>eBOSS</td><td>v5_13_2</td><td>N/A</td><td>spAll-v5_13_2.fits</td><td>15895373760</td><td>248380187</td><td>PUBLIC</td><td>3</td><td>--</td></tr>\n",
       "<tr><td>252830431</td><td>SDSS</td><td>measurements</td><td>sdss_eboss_spall</td><td>SDSS eBOSS summary catalog. This provides collated summary tables on the observations and data processing from eBOSS, including targeting information, spectroscopic classifications, and redshifts for every observation.</td><td>D</td><td>mast:SDSS/eboss/spAll-v5_13_2.fits</td><td>SCIENCE</td><td>--</td><td>eBOSS Catalogs</td><td>https://outerspace.stsci.edu/display/SDSS/eBOSS+Data+Products</td><td>eBOSS</td><td>v5_13_2</td><td>N/A</td><td>spAll-v5_13_2.fits</td><td>15895373760</td><td>248380410</td><td>PUBLIC</td><td>3</td><td>--</td></tr>\n",
       "<tr><td>252830431</td><td>SDSS</td><td>measurements</td><td>sdss_eboss_spall</td><td>SDSS eBOSS summary catalog. This provides collated summary tables on the observations and data processing from eBOSS, including targeting information, spectroscopic classifications, and redshifts for every observation.</td><td>D</td><td>mast:SDSS/eboss/spAll-v5_13_2.fits</td><td>SCIENCE</td><td>--</td><td>eBOSS Catalogs</td><td>https://outerspace.stsci.edu/display/SDSS/eBOSS+Data+Products</td><td>eBOSS</td><td>v5_13_2</td><td>N/A</td><td>spAll-v5_13_2.fits</td><td>15895373760</td><td>248380534</td><td>PUBLIC</td><td>3</td><td>--</td></tr>\n",
       "<tr><td>252830431</td><td>SDSS</td><td>measurements</td><td>sdss_eboss_spall</td><td>SDSS eBOSS summary catalog. This provides collated summary tables on the observations and data processing from eBOSS, including targeting information, spectroscopic classifications, and redshifts for every observation.</td><td>D</td><td>mast:SDSS/eboss/spAll-v5_13_2.fits</td><td>SCIENCE</td><td>--</td><td>eBOSS Catalogs</td><td>https://outerspace.stsci.edu/display/SDSS/eBOSS+Data+Products</td><td>eBOSS</td><td>v5_13_2</td><td>N/A</td><td>spAll-v5_13_2.fits</td><td>15895373760</td><td>248380590</td><td>PUBLIC</td><td>3</td><td>--</td></tr>\n",
       "<tr><td>252830431</td><td>SDSS</td><td>measurements</td><td>sdss_eboss_spall</td><td>SDSS eBOSS summary catalog. This provides collated summary tables on the observations and data processing from eBOSS, including targeting information, spectroscopic classifications, and redshifts for every observation.</td><td>D</td><td>mast:SDSS/eboss/spAll-v5_13_2.fits</td><td>SCIENCE</td><td>--</td><td>eBOSS Catalogs</td><td>https://outerspace.stsci.edu/display/SDSS/eBOSS+Data+Products</td><td>eBOSS</td><td>v5_13_2</td><td>N/A</td><td>spAll-v5_13_2.fits</td><td>15895373760</td><td>248380647</td><td>PUBLIC</td><td>3</td><td>--</td></tr>\n",
       "<tr><td>252830431</td><td>SDSS</td><td>measurements</td><td>sdss_eboss_spall</td><td>SDSS eBOSS summary catalog. This provides collated summary tables on the observations and data processing from eBOSS, including targeting information, spectroscopic classifications, and redshifts for every observation.</td><td>D</td><td>mast:SDSS/eboss/spAll-v5_13_2.fits</td><td>SCIENCE</td><td>--</td><td>eBOSS Catalogs</td><td>https://outerspace.stsci.edu/display/SDSS/eBOSS+Data+Products</td><td>eBOSS</td><td>v5_13_2</td><td>N/A</td><td>spAll-v5_13_2.fits</td><td>15895373760</td><td>248380843</td><td>PUBLIC</td><td>3</td><td>--</td></tr>\n",
       "<tr><td>252830431</td><td>SDSS</td><td>measurements</td><td>sdss_eboss_spall</td><td>SDSS eBOSS summary catalog. This provides collated summary tables on the observations and data processing from eBOSS, including targeting information, spectroscopic classifications, and redshifts for every observation.</td><td>D</td><td>mast:SDSS/eboss/spAll-v5_13_2.fits</td><td>SCIENCE</td><td>--</td><td>eBOSS Catalogs</td><td>https://outerspace.stsci.edu/display/SDSS/eBOSS+Data+Products</td><td>eBOSS</td><td>v5_13_2</td><td>N/A</td><td>spAll-v5_13_2.fits</td><td>15895373760</td><td>248381352</td><td>PUBLIC</td><td>3</td><td>--</td></tr>\n",
       "<tr><td>252830431</td><td>SDSS</td><td>measurements</td><td>sdss_eboss_spall</td><td>SDSS eBOSS summary catalog. This provides collated summary tables on the observations and data processing from eBOSS, including targeting information, spectroscopic classifications, and redshifts for every observation.</td><td>D</td><td>mast:SDSS/eboss/spAll-v5_13_2.fits</td><td>SCIENCE</td><td>--</td><td>eBOSS Catalogs</td><td>https://outerspace.stsci.edu/display/SDSS/eBOSS+Data+Products</td><td>eBOSS</td><td>v5_13_2</td><td>N/A</td><td>spAll-v5_13_2.fits</td><td>15895373760</td><td>248381483</td><td>PUBLIC</td><td>3</td><td>--</td></tr>\n",
       "<tr><td>252830431</td><td>SDSS</td><td>measurements</td><td>sdss_eboss_spall</td><td>SDSS eBOSS summary catalog. This provides collated summary tables on the observations and data processing from eBOSS, including targeting information, spectroscopic classifications, and redshifts for every observation.</td><td>D</td><td>mast:SDSS/eboss/spAll-v5_13_2.fits</td><td>SCIENCE</td><td>--</td><td>eBOSS Catalogs</td><td>https://outerspace.stsci.edu/display/SDSS/eBOSS+Data+Products</td><td>eBOSS</td><td>v5_13_2</td><td>N/A</td><td>spAll-v5_13_2.fits</td><td>15895373760</td><td>248382373</td><td>PUBLIC</td><td>3</td><td>--</td></tr>\n",
       "</table></div>"
      ],
      "text/plain": [
       "<Table masked=True length=2170>\n",
       "  obsID   obs_collection dataproduct_type ... dataRights calib_level filters\n",
       "   str9        str4           str12       ...    str6       int64      str4 \n",
       "--------- -------------- ---------------- ... ---------- ----------- -------\n",
       "244093798           SDSS         spectrum ...     PUBLIC           3    None\n",
       "244093798           SDSS         spectrum ...     PUBLIC           3    None\n",
       "244093798           SDSS         spectrum ...     PUBLIC           3    None\n",
       "244093916           SDSS         spectrum ...     PUBLIC           3    None\n",
       "244093916           SDSS         spectrum ...     PUBLIC           3    None\n",
       "244093916           SDSS         spectrum ...     PUBLIC           3    None\n",
       "244094913           SDSS         spectrum ...     PUBLIC           3    None\n",
       "244094913           SDSS         spectrum ...     PUBLIC           3    None\n",
       "244094913           SDSS         spectrum ...     PUBLIC           3    None\n",
       "      ...            ...              ... ...        ...         ...     ...\n",
       "252830431           SDSS     measurements ...     PUBLIC           3      --\n",
       "252830431           SDSS     measurements ...     PUBLIC           3      --\n",
       "252830431           SDSS     measurements ...     PUBLIC           3      --\n",
       "252830431           SDSS     measurements ...     PUBLIC           3      --\n",
       "252830431           SDSS     measurements ...     PUBLIC           3      --\n",
       "252830431           SDSS     measurements ...     PUBLIC           3      --\n",
       "252830431           SDSS     measurements ...     PUBLIC           3      --\n",
       "252830431           SDSS     measurements ...     PUBLIC           3      --\n",
       "252830431           SDSS     measurements ...     PUBLIC           3      --\n",
       "252830431           SDSS     measurements ...     PUBLIC           3      --"
      ]
     },
     "execution_count": 6,
     "metadata": {},
     "output_type": "execute_result"
    }
   ],
   "source": [
    "# Obtaining the product list of all galaxies\n",
    "products = Observations.get_product_list(combined_results)\n",
    "\n",
    "# Display the available products\n",
    "products"
   ]
  },
  {
   "cell_type": "markdown",
   "metadata": {},
   "source": [
    "To utilize the data, we must download the FITS files. Any data products dowloaded from MAST will appear in a folder called `mastDownload`. \n",
    "\n",
    "We'll be focusing on using the full spectrum datafile only, which is labeled \"Minimum Recommended Products\" as the product Group Description. To ensure we're only downloading this file for each target, we'll use the parameter `mrp_only = True`. \n",
    "\n",
    "This download should take around 45 seconds or so. "
   ]
  },
  {
   "cell_type": "code",
   "execution_count": 7,
   "metadata": {
    "execution": {
     "iopub.execute_input": "2025-07-10T13:46:16.585243Z",
     "iopub.status.busy": "2025-07-10T13:46:16.585071Z",
     "iopub.status.idle": "2025-07-10T13:47:12.024800Z",
     "shell.execute_reply": "2025-07-10T13:47:12.024190Z"
    }
   },
   "outputs": [
    {
     "name": "stdout",
     "output_type": "stream",
     "text": [
      "Downloading URL https://mast.stsci.edu/api/v0.1/Download/file?uri=mast:SDSS/eboss/10729/58248/0357/full/spec-10729-58248-0357.fits to ./mastDownload/SDSS/sdss_eboss_10729-58248-0357/spec-10729-58248-0357.fits ..."
     ]
    },
    {
     "name": "stdout",
     "output_type": "stream",
     "text": [
      " [Done]\n"
     ]
    },
    {
     "name": "stdout",
     "output_type": "stream",
     "text": [
      "Downloading URL https://mast.stsci.edu/api/v0.1/Download/file?uri=mast:SDSS/eboss/10729/58248/0359/full/spec-10729-58248-0359.fits to ./mastDownload/SDSS/sdss_eboss_10729-58248-0359/spec-10729-58248-0359.fits ..."
     ]
    },
    {
     "name": "stdout",
     "output_type": "stream",
     "text": [
      " [Done]\n"
     ]
    },
    {
     "name": "stdout",
     "output_type": "stream",
     "text": [
      "Downloading URL https://mast.stsci.edu/api/v0.1/Download/file?uri=mast:SDSS/eboss/10729/58248/0657/full/spec-10729-58248-0657.fits to ./mastDownload/SDSS/sdss_eboss_10729-58248-0657/spec-10729-58248-0657.fits ..."
     ]
    },
    {
     "name": "stdout",
     "output_type": "stream",
     "text": [
      " [Done]\n"
     ]
    },
    {
     "name": "stdout",
     "output_type": "stream",
     "text": [
      "Downloading URL https://mast.stsci.edu/api/v0.1/Download/file?uri=mast:SDSS/eboss/5190/56077/0747/full/spec-5190-56077-0747.fits to ./mastDownload/SDSS/sdss_eboss_5190-56077-0747/spec-5190-56077-0747.fits ..."
     ]
    },
    {
     "name": "stdout",
     "output_type": "stream",
     "text": [
      " [Done]\n"
     ]
    },
    {
     "name": "stdout",
     "output_type": "stream",
     "text": [
      "Downloading URL https://mast.stsci.edu/api/v0.1/Download/file?uri=mast:SDSS/eboss/5190/56077/0749/full/spec-5190-56077-0749.fits to ./mastDownload/SDSS/sdss_eboss_5190-56077-0749/spec-5190-56077-0749.fits ..."
     ]
    },
    {
     "name": "stdout",
     "output_type": "stream",
     "text": [
      " [Done]\n"
     ]
    },
    {
     "name": "stdout",
     "output_type": "stream",
     "text": [
      "Downloading URL https://mast.stsci.edu/api/v0.1/Download/file?uri=mast:SDSS/eboss/5190/56077/0753/full/spec-5190-56077-0753.fits to ./mastDownload/SDSS/sdss_eboss_5190-56077-0753/spec-5190-56077-0753.fits ..."
     ]
    },
    {
     "name": "stdout",
     "output_type": "stream",
     "text": [
      " [Done]\n"
     ]
    },
    {
     "name": "stdout",
     "output_type": "stream",
     "text": [
      "Downloading URL https://mast.stsci.edu/api/v0.1/Download/file?uri=mast:SDSS/eboss/5190/56077/0756/full/spec-5190-56077-0756.fits to ./mastDownload/SDSS/sdss_eboss_5190-56077-0756/spec-5190-56077-0756.fits ..."
     ]
    },
    {
     "name": "stdout",
     "output_type": "stream",
     "text": [
      " [Done]\n"
     ]
    },
    {
     "name": "stdout",
     "output_type": "stream",
     "text": [
      "Downloading URL https://mast.stsci.edu/api/v0.1/Download/file?uri=mast:SDSS/eboss/5190/56077/0757/full/spec-5190-56077-0757.fits to ./mastDownload/SDSS/sdss_eboss_5190-56077-0757/spec-5190-56077-0757.fits ..."
     ]
    },
    {
     "name": "stdout",
     "output_type": "stream",
     "text": [
      " [Done]\n"
     ]
    },
    {
     "name": "stdout",
     "output_type": "stream",
     "text": [
      "Downloading URL https://mast.stsci.edu/api/v0.1/Download/file?uri=mast:SDSS/eboss/5190/56077/0758/full/spec-5190-56077-0758.fits to ./mastDownload/SDSS/sdss_eboss_5190-56077-0758/spec-5190-56077-0758.fits ..."
     ]
    },
    {
     "name": "stdout",
     "output_type": "stream",
     "text": [
      " [Done]\n"
     ]
    },
    {
     "name": "stdout",
     "output_type": "stream",
     "text": [
      "Downloading URL https://mast.stsci.edu/api/v0.1/Download/file?uri=mast:SDSS/eboss/5190/56077/0759/full/spec-5190-56077-0759.fits to ./mastDownload/SDSS/sdss_eboss_5190-56077-0759/spec-5190-56077-0759.fits ..."
     ]
    },
    {
     "name": "stdout",
     "output_type": "stream",
     "text": [
      " [Done]\n"
     ]
    },
    {
     "name": "stdout",
     "output_type": "stream",
     "text": [
      "Downloading URL https://mast.stsci.edu/api/v0.1/Download/file?uri=mast:SDSS/eboss/5190/56077/0761/full/spec-5190-56077-0761.fits to ./mastDownload/SDSS/sdss_eboss_5190-56077-0761/spec-5190-56077-0761.fits ..."
     ]
    },
    {
     "name": "stdout",
     "output_type": "stream",
     "text": [
      " [Done]\n"
     ]
    },
    {
     "name": "stdout",
     "output_type": "stream",
     "text": [
      "Downloading URL https://mast.stsci.edu/api/v0.1/Download/file?uri=mast:SDSS/eboss/5190/56077/0762/full/spec-5190-56077-0762.fits to ./mastDownload/SDSS/sdss_eboss_5190-56077-0762/spec-5190-56077-0762.fits ..."
     ]
    },
    {
     "name": "stdout",
     "output_type": "stream",
     "text": [
      " [Done]\n"
     ]
    },
    {
     "name": "stdout",
     "output_type": "stream",
     "text": [
      "Downloading URL https://mast.stsci.edu/api/v0.1/Download/file?uri=mast:SDSS/eboss/5190/56077/0790/full/spec-5190-56077-0790.fits to ./mastDownload/SDSS/sdss_eboss_5190-56077-0790/spec-5190-56077-0790.fits ..."
     ]
    },
    {
     "name": "stdout",
     "output_type": "stream",
     "text": [
      " [Done]\n"
     ]
    },
    {
     "name": "stdout",
     "output_type": "stream",
     "text": [
      "Downloading URL https://mast.stsci.edu/api/v0.1/Download/file?uri=mast:SDSS/eboss/5190/56077/0793/full/spec-5190-56077-0793.fits to ./mastDownload/SDSS/sdss_eboss_5190-56077-0793/spec-5190-56077-0793.fits ..."
     ]
    },
    {
     "name": "stdout",
     "output_type": "stream",
     "text": [
      " [Done]\n"
     ]
    },
    {
     "name": "stdout",
     "output_type": "stream",
     "text": [
      "Downloading URL https://mast.stsci.edu/api/v0.1/Download/file?uri=mast:SDSS/eboss/5190/56077/0795/full/spec-5190-56077-0795.fits to ./mastDownload/SDSS/sdss_eboss_5190-56077-0795/spec-5190-56077-0795.fits ..."
     ]
    },
    {
     "name": "stdout",
     "output_type": "stream",
     "text": [
      " [Done]\n"
     ]
    },
    {
     "name": "stdout",
     "output_type": "stream",
     "text": [
      "Downloading URL https://mast.stsci.edu/api/v0.1/Download/file?uri=mast:SDSS/eboss/5190/56077/0797/full/spec-5190-56077-0797.fits to ./mastDownload/SDSS/sdss_eboss_5190-56077-0797/spec-5190-56077-0797.fits ..."
     ]
    },
    {
     "name": "stdout",
     "output_type": "stream",
     "text": [
      " [Done]\n"
     ]
    },
    {
     "name": "stdout",
     "output_type": "stream",
     "text": [
      "Downloading URL https://mast.stsci.edu/api/v0.1/Download/file?uri=mast:SDSS/eboss/5190/56077/0798/full/spec-5190-56077-0798.fits to ./mastDownload/SDSS/sdss_eboss_5190-56077-0798/spec-5190-56077-0798.fits ..."
     ]
    },
    {
     "name": "stdout",
     "output_type": "stream",
     "text": [
      " [Done]\n"
     ]
    },
    {
     "name": "stdout",
     "output_type": "stream",
     "text": [
      "Downloading URL https://mast.stsci.edu/api/v0.1/Download/file?uri=mast:SDSS/eboss/5190/56077/0799/full/spec-5190-56077-0799.fits to ./mastDownload/SDSS/sdss_eboss_5190-56077-0799/spec-5190-56077-0799.fits ..."
     ]
    },
    {
     "name": "stdout",
     "output_type": "stream",
     "text": [
      " [Done]\n"
     ]
    },
    {
     "name": "stdout",
     "output_type": "stream",
     "text": [
      "Downloading URL https://mast.stsci.edu/api/v0.1/Download/file?uri=mast:SDSS/eboss/6045/56072/0084/full/spec-6045-56072-0084.fits to ./mastDownload/SDSS/sdss_eboss_6045-56072-0084/spec-6045-56072-0084.fits ..."
     ]
    },
    {
     "name": "stdout",
     "output_type": "stream",
     "text": [
      " [Done]\n"
     ]
    },
    {
     "name": "stdout",
     "output_type": "stream",
     "text": [
      "Downloading URL https://mast.stsci.edu/api/v0.1/Download/file?uri=mast:SDSS/eboss/6045/56072/0121/full/spec-6045-56072-0121.fits to ./mastDownload/SDSS/sdss_eboss_6045-56072-0121/spec-6045-56072-0121.fits ..."
     ]
    },
    {
     "name": "stdout",
     "output_type": "stream",
     "text": [
      " [Done]\n"
     ]
    },
    {
     "name": "stdout",
     "output_type": "stream",
     "text": [
      "Downloading URL https://mast.stsci.edu/api/v0.1/Download/file?uri=mast:SDSS/eboss/6045/56072/0124/full/spec-6045-56072-0124.fits to ./mastDownload/SDSS/sdss_eboss_6045-56072-0124/spec-6045-56072-0124.fits ..."
     ]
    },
    {
     "name": "stdout",
     "output_type": "stream",
     "text": [
      " [Done]\n"
     ]
    },
    {
     "name": "stdout",
     "output_type": "stream",
     "text": [
      "Downloading URL https://mast.stsci.edu/api/v0.1/Download/file?uri=mast:SDSS/eboss/6045/56072/0125/full/spec-6045-56072-0125.fits to ./mastDownload/SDSS/sdss_eboss_6045-56072-0125/spec-6045-56072-0125.fits ..."
     ]
    },
    {
     "name": "stdout",
     "output_type": "stream",
     "text": [
      " [Done]\n"
     ]
    },
    {
     "name": "stdout",
     "output_type": "stream",
     "text": [
      "Downloading URL https://mast.stsci.edu/api/v0.1/Download/file?uri=mast:SDSS/eboss/6045/56072/0126/full/spec-6045-56072-0126.fits to ./mastDownload/SDSS/sdss_eboss_6045-56072-0126/spec-6045-56072-0126.fits ..."
     ]
    },
    {
     "name": "stdout",
     "output_type": "stream",
     "text": [
      " [Done]\n"
     ]
    },
    {
     "name": "stdout",
     "output_type": "stream",
     "text": [
      "Downloading URL https://mast.stsci.edu/api/v0.1/Download/file?uri=mast:SDSS/eboss/6045/56072/0130/full/spec-6045-56072-0130.fits to ./mastDownload/SDSS/sdss_eboss_6045-56072-0130/spec-6045-56072-0130.fits ..."
     ]
    },
    {
     "name": "stdout",
     "output_type": "stream",
     "text": [
      " [Done]\n"
     ]
    },
    {
     "name": "stdout",
     "output_type": "stream",
     "text": [
      "Downloading URL https://mast.stsci.edu/api/v0.1/Download/file?uri=mast:SDSS/eboss/6045/56072/0161/full/spec-6045-56072-0161.fits to ./mastDownload/SDSS/sdss_eboss_6045-56072-0161/spec-6045-56072-0161.fits ..."
     ]
    },
    {
     "name": "stdout",
     "output_type": "stream",
     "text": [
      " [Done]\n"
     ]
    },
    {
     "name": "stdout",
     "output_type": "stream",
     "text": [
      "Downloading URL https://mast.stsci.edu/api/v0.1/Download/file?uri=mast:SDSS/eboss/6045/56072/0162/full/spec-6045-56072-0162.fits to ./mastDownload/SDSS/sdss_eboss_6045-56072-0162/spec-6045-56072-0162.fits ..."
     ]
    },
    {
     "name": "stdout",
     "output_type": "stream",
     "text": [
      " [Done]\n"
     ]
    },
    {
     "name": "stdout",
     "output_type": "stream",
     "text": [
      "Downloading URL https://mast.stsci.edu/api/v0.1/Download/file?uri=mast:SDSS/eboss/6045/56072/0163/full/spec-6045-56072-0163.fits to ./mastDownload/SDSS/sdss_eboss_6045-56072-0163/spec-6045-56072-0163.fits ..."
     ]
    },
    {
     "name": "stdout",
     "output_type": "stream",
     "text": [
      " [Done]\n"
     ]
    },
    {
     "name": "stdout",
     "output_type": "stream",
     "text": [
      "Downloading URL https://mast.stsci.edu/api/v0.1/Download/file?uri=mast:SDSS/eboss/6045/56072/0164/full/spec-6045-56072-0164.fits to ./mastDownload/SDSS/sdss_eboss_6045-56072-0164/spec-6045-56072-0164.fits ..."
     ]
    },
    {
     "name": "stdout",
     "output_type": "stream",
     "text": [
      " [Done]\n"
     ]
    },
    {
     "name": "stdout",
     "output_type": "stream",
     "text": [
      "Downloading URL https://mast.stsci.edu/api/v0.1/Download/file?uri=mast:SDSS/eboss/6045/56072/0165/full/spec-6045-56072-0165.fits to ./mastDownload/SDSS/sdss_eboss_6045-56072-0165/spec-6045-56072-0165.fits ..."
     ]
    },
    {
     "name": "stdout",
     "output_type": "stream",
     "text": [
      " [Done]\n"
     ]
    },
    {
     "name": "stdout",
     "output_type": "stream",
     "text": [
      "Downloading URL https://mast.stsci.edu/api/v0.1/Download/file?uri=mast:SDSS/eboss/6045/56072/0167/full/spec-6045-56072-0167.fits to ./mastDownload/SDSS/sdss_eboss_6045-56072-0167/spec-6045-56072-0167.fits ..."
     ]
    },
    {
     "name": "stdout",
     "output_type": "stream",
     "text": [
      " [Done]\n"
     ]
    },
    {
     "name": "stdout",
     "output_type": "stream",
     "text": [
      "Downloading URL https://mast.stsci.edu/api/v0.1/Download/file?uri=mast:SDSS/eboss/6045/56072/0169/full/spec-6045-56072-0169.fits to ./mastDownload/SDSS/sdss_eboss_6045-56072-0169/spec-6045-56072-0169.fits ..."
     ]
    },
    {
     "name": "stdout",
     "output_type": "stream",
     "text": [
      " [Done]\n"
     ]
    },
    {
     "name": "stdout",
     "output_type": "stream",
     "text": [
      "Downloading URL https://mast.stsci.edu/api/v0.1/Download/file?uri=mast:SDSS/eboss/6045/56072/0206/full/spec-6045-56072-0206.fits to ./mastDownload/SDSS/sdss_eboss_6045-56072-0206/spec-6045-56072-0206.fits ..."
     ]
    },
    {
     "name": "stdout",
     "output_type": "stream",
     "text": [
      " [Done]\n"
     ]
    },
    {
     "name": "stdout",
     "output_type": "stream",
     "text": [
      "Downloading URL https://mast.stsci.edu/api/v0.1/Download/file?uri=mast:SDSS/eboss/7562/56799/0019/full/spec-7562-56799-0019.fits to ./mastDownload/SDSS/sdss_eboss_7562-56799-0019/spec-7562-56799-0019.fits ..."
     ]
    },
    {
     "name": "stdout",
     "output_type": "stream",
     "text": [
      " [Done]\n"
     ]
    },
    {
     "name": "stdout",
     "output_type": "stream",
     "text": [
      "Downloading URL https://mast.stsci.edu/api/v0.1/Download/file?uri=mast:SDSS/eboss/7562/56799/0030/full/spec-7562-56799-0030.fits to ./mastDownload/SDSS/sdss_eboss_7562-56799-0030/spec-7562-56799-0030.fits ..."
     ]
    },
    {
     "name": "stdout",
     "output_type": "stream",
     "text": [
      " [Done]\n"
     ]
    },
    {
     "name": "stdout",
     "output_type": "stream",
     "text": [
      "Downloading URL https://mast.stsci.edu/api/v0.1/Download/file?uri=mast:SDSS/eboss/7562/56799/0036/full/spec-7562-56799-0036.fits to ./mastDownload/SDSS/sdss_eboss_7562-56799-0036/spec-7562-56799-0036.fits ..."
     ]
    },
    {
     "name": "stdout",
     "output_type": "stream",
     "text": [
      " [Done]\n"
     ]
    },
    {
     "name": "stdout",
     "output_type": "stream",
     "text": [
      "Downloading URL https://mast.stsci.edu/api/v0.1/Download/file?uri=mast:SDSS/eboss/7562/56799/0041/full/spec-7562-56799-0041.fits to ./mastDownload/SDSS/sdss_eboss_7562-56799-0041/spec-7562-56799-0041.fits ..."
     ]
    },
    {
     "name": "stdout",
     "output_type": "stream",
     "text": [
      " [Done]\n"
     ]
    },
    {
     "name": "stdout",
     "output_type": "stream",
     "text": [
      "Downloading URL https://mast.stsci.edu/api/v0.1/Download/file?uri=mast:SDSS/eboss/7562/56799/0054/full/spec-7562-56799-0054.fits to ./mastDownload/SDSS/sdss_eboss_7562-56799-0054/spec-7562-56799-0054.fits ..."
     ]
    },
    {
     "name": "stdout",
     "output_type": "stream",
     "text": [
      " [Done]\n"
     ]
    },
    {
     "name": "stdout",
     "output_type": "stream",
     "text": [
      "Downloading URL https://mast.stsci.edu/api/v0.1/Download/file?uri=mast:SDSS/eboss/7562/56799/0061/full/spec-7562-56799-0061.fits to ./mastDownload/SDSS/sdss_eboss_7562-56799-0061/spec-7562-56799-0061.fits ..."
     ]
    },
    {
     "name": "stdout",
     "output_type": "stream",
     "text": [
      " [Done]\n"
     ]
    },
    {
     "name": "stdout",
     "output_type": "stream",
     "text": [
      "Downloading URL https://mast.stsci.edu/api/v0.1/Download/file?uri=mast:SDSS/eboss/7562/56799/0066/full/spec-7562-56799-0066.fits to ./mastDownload/SDSS/sdss_eboss_7562-56799-0066/spec-7562-56799-0066.fits ..."
     ]
    },
    {
     "name": "stdout",
     "output_type": "stream",
     "text": [
      " [Done]\n"
     ]
    },
    {
     "name": "stdout",
     "output_type": "stream",
     "text": [
      "Downloading URL https://mast.stsci.edu/api/v0.1/Download/file?uri=mast:SDSS/eboss/7562/56799/0068/full/spec-7562-56799-0068.fits to ./mastDownload/SDSS/sdss_eboss_7562-56799-0068/spec-7562-56799-0068.fits ..."
     ]
    },
    {
     "name": "stdout",
     "output_type": "stream",
     "text": [
      " [Done]\n"
     ]
    },
    {
     "name": "stdout",
     "output_type": "stream",
     "text": [
      "Downloading URL https://mast.stsci.edu/api/v0.1/Download/file?uri=mast:SDSS/eboss/7562/56799/0069/full/spec-7562-56799-0069.fits to ./mastDownload/SDSS/sdss_eboss_7562-56799-0069/spec-7562-56799-0069.fits ..."
     ]
    },
    {
     "name": "stdout",
     "output_type": "stream",
     "text": [
      " [Done]\n"
     ]
    },
    {
     "name": "stdout",
     "output_type": "stream",
     "text": [
      "Downloading URL https://mast.stsci.edu/api/v0.1/Download/file?uri=mast:SDSS/eboss/7562/56799/0075/full/spec-7562-56799-0075.fits to ./mastDownload/SDSS/sdss_eboss_7562-56799-0075/spec-7562-56799-0075.fits ..."
     ]
    },
    {
     "name": "stdout",
     "output_type": "stream",
     "text": [
      " [Done]\n"
     ]
    },
    {
     "name": "stdout",
     "output_type": "stream",
     "text": [
      "Downloading URL https://mast.stsci.edu/api/v0.1/Download/file?uri=mast:SDSS/eboss/7562/56799/0104/full/spec-7562-56799-0104.fits to ./mastDownload/SDSS/sdss_eboss_7562-56799-0104/spec-7562-56799-0104.fits ..."
     ]
    },
    {
     "name": "stdout",
     "output_type": "stream",
     "text": [
      " [Done]\n"
     ]
    },
    {
     "name": "stdout",
     "output_type": "stream",
     "text": [
      "Downloading URL https://mast.stsci.edu/api/v0.1/Download/file?uri=mast:SDSS/eboss/7562/56799/0118/full/spec-7562-56799-0118.fits to ./mastDownload/SDSS/sdss_eboss_7562-56799-0118/spec-7562-56799-0118.fits ..."
     ]
    },
    {
     "name": "stdout",
     "output_type": "stream",
     "text": [
      " [Done]\n"
     ]
    },
    {
     "name": "stdout",
     "output_type": "stream",
     "text": [
      "Downloading URL https://mast.stsci.edu/api/v0.1/Download/file?uri=mast:SDSS/eboss/7562/56799/0119/full/spec-7562-56799-0119.fits to ./mastDownload/SDSS/sdss_eboss_7562-56799-0119/spec-7562-56799-0119.fits ..."
     ]
    },
    {
     "name": "stdout",
     "output_type": "stream",
     "text": [
      " [Done]\n"
     ]
    },
    {
     "name": "stdout",
     "output_type": "stream",
     "text": [
      "Downloading URL https://mast.stsci.edu/api/v0.1/Download/file?uri=mast:SDSS/eboss/7562/56799/0157/full/spec-7562-56799-0157.fits to ./mastDownload/SDSS/sdss_eboss_7562-56799-0157/spec-7562-56799-0157.fits ..."
     ]
    },
    {
     "name": "stdout",
     "output_type": "stream",
     "text": [
      " [Done]\n"
     ]
    },
    {
     "name": "stdout",
     "output_type": "stream",
     "text": [
      "Downloading URL https://mast.stsci.edu/api/v0.1/Download/file?uri=mast:SDSS/eboss/7562/56799/0160/full/spec-7562-56799-0160.fits to ./mastDownload/SDSS/sdss_eboss_7562-56799-0160/spec-7562-56799-0160.fits ..."
     ]
    },
    {
     "name": "stdout",
     "output_type": "stream",
     "text": [
      " [Done]\n"
     ]
    },
    {
     "name": "stdout",
     "output_type": "stream",
     "text": [
      "Downloading URL https://mast.stsci.edu/api/v0.1/Download/file?uri=mast:SDSS/eboss/7562/56799/0183/full/spec-7562-56799-0183.fits to ./mastDownload/SDSS/sdss_eboss_7562-56799-0183/spec-7562-56799-0183.fits ..."
     ]
    },
    {
     "name": "stdout",
     "output_type": "stream",
     "text": [
      " [Done]\n"
     ]
    },
    {
     "name": "stdout",
     "output_type": "stream",
     "text": [
      "Downloading URL https://mast.stsci.edu/api/v0.1/Download/file?uri=mast:SDSS/eboss/7562/56799/0322/full/spec-7562-56799-0322.fits to ./mastDownload/SDSS/sdss_eboss_7562-56799-0322/spec-7562-56799-0322.fits ..."
     ]
    },
    {
     "name": "stdout",
     "output_type": "stream",
     "text": [
      " [Done]\n"
     ]
    },
    {
     "name": "stdout",
     "output_type": "stream",
     "text": [
      "Downloading URL https://mast.stsci.edu/api/v0.1/Download/file?uri=mast:SDSS/eboss/7562/56799/0351/full/spec-7562-56799-0351.fits to ./mastDownload/SDSS/sdss_eboss_7562-56799-0351/spec-7562-56799-0351.fits ..."
     ]
    },
    {
     "name": "stdout",
     "output_type": "stream",
     "text": [
      " [Done]\n"
     ]
    },
    {
     "name": "stdout",
     "output_type": "stream",
     "text": [
      "Downloading URL https://mast.stsci.edu/api/v0.1/Download/file?uri=mast:SDSS/eboss/7562/56799/0361/full/spec-7562-56799-0361.fits to ./mastDownload/SDSS/sdss_eboss_7562-56799-0361/spec-7562-56799-0361.fits ..."
     ]
    },
    {
     "name": "stdout",
     "output_type": "stream",
     "text": [
      " [Done]\n"
     ]
    },
    {
     "name": "stdout",
     "output_type": "stream",
     "text": [
      "Downloading URL https://mast.stsci.edu/api/v0.1/Download/file?uri=mast:SDSS/eboss/7562/56799/0393/full/spec-7562-56799-0393.fits to ./mastDownload/SDSS/sdss_eboss_7562-56799-0393/spec-7562-56799-0393.fits ..."
     ]
    },
    {
     "name": "stdout",
     "output_type": "stream",
     "text": [
      " [Done]\n"
     ]
    },
    {
     "name": "stdout",
     "output_type": "stream",
     "text": [
      "Downloading URL https://mast.stsci.edu/api/v0.1/Download/file?uri=mast:SDSS/eboss/7562/56799/0420/full/spec-7562-56799-0420.fits to ./mastDownload/SDSS/sdss_eboss_7562-56799-0420/spec-7562-56799-0420.fits ..."
     ]
    },
    {
     "name": "stdout",
     "output_type": "stream",
     "text": [
      " [Done]\n"
     ]
    },
    {
     "name": "stdout",
     "output_type": "stream",
     "text": [
      "Downloading URL https://mast.stsci.edu/api/v0.1/Download/file?uri=mast:SDSS/eboss/7562/56799/0425/full/spec-7562-56799-0425.fits to ./mastDownload/SDSS/sdss_eboss_7562-56799-0425/spec-7562-56799-0425.fits ..."
     ]
    },
    {
     "name": "stdout",
     "output_type": "stream",
     "text": [
      " [Done]\n"
     ]
    },
    {
     "name": "stdout",
     "output_type": "stream",
     "text": [
      "Downloading URL https://mast.stsci.edu/api/v0.1/Download/file?uri=mast:SDSS/eboss/7562/56799/0427/full/spec-7562-56799-0427.fits to ./mastDownload/SDSS/sdss_eboss_7562-56799-0427/spec-7562-56799-0427.fits ..."
     ]
    },
    {
     "name": "stdout",
     "output_type": "stream",
     "text": [
      " [Done]\n"
     ]
    },
    {
     "name": "stdout",
     "output_type": "stream",
     "text": [
      "Downloading URL https://mast.stsci.edu/api/v0.1/Download/file?uri=mast:SDSS/eboss/7562/56799/0464/full/spec-7562-56799-0464.fits to ./mastDownload/SDSS/sdss_eboss_7562-56799-0464/spec-7562-56799-0464.fits ..."
     ]
    },
    {
     "name": "stdout",
     "output_type": "stream",
     "text": [
      " [Done]\n"
     ]
    },
    {
     "name": "stdout",
     "output_type": "stream",
     "text": [
      "Downloading URL https://mast.stsci.edu/api/v0.1/Download/file?uri=mast:SDSS/eboss/7562/56799/0491/full/spec-7562-56799-0491.fits to ./mastDownload/SDSS/sdss_eboss_7562-56799-0491/spec-7562-56799-0491.fits ..."
     ]
    },
    {
     "name": "stdout",
     "output_type": "stream",
     "text": [
      " [Done]\n"
     ]
    },
    {
     "name": "stdout",
     "output_type": "stream",
     "text": [
      "Downloading URL https://mast.stsci.edu/api/v0.1/Download/file?uri=mast:SDSS/eboss/7562/56799/0498/full/spec-7562-56799-0498.fits to ./mastDownload/SDSS/sdss_eboss_7562-56799-0498/spec-7562-56799-0498.fits ..."
     ]
    },
    {
     "name": "stdout",
     "output_type": "stream",
     "text": [
      " [Done]\n"
     ]
    },
    {
     "name": "stdout",
     "output_type": "stream",
     "text": [
      "Downloading URL https://mast.stsci.edu/api/v0.1/Download/file?uri=mast:SDSS/eboss/7562/56799/0549/full/spec-7562-56799-0549.fits to ./mastDownload/SDSS/sdss_eboss_7562-56799-0549/spec-7562-56799-0549.fits ..."
     ]
    },
    {
     "name": "stdout",
     "output_type": "stream",
     "text": [
      " [Done]\n"
     ]
    },
    {
     "name": "stdout",
     "output_type": "stream",
     "text": [
      "Downloading URL https://mast.stsci.edu/api/v0.1/Download/file?uri=mast:SDSS/eboss/7562/56799/0592/full/spec-7562-56799-0592.fits to ./mastDownload/SDSS/sdss_eboss_7562-56799-0592/spec-7562-56799-0592.fits ..."
     ]
    },
    {
     "name": "stdout",
     "output_type": "stream",
     "text": [
      " [Done]\n"
     ]
    },
    {
     "name": "stdout",
     "output_type": "stream",
     "text": [
      "Downloading URL https://mast.stsci.edu/api/v0.1/Download/file?uri=mast:SDSS/eboss/7562/56799/0659/full/spec-7562-56799-0659.fits to ./mastDownload/SDSS/sdss_eboss_7562-56799-0659/spec-7562-56799-0659.fits ..."
     ]
    },
    {
     "name": "stdout",
     "output_type": "stream",
     "text": [
      " [Done]\n"
     ]
    },
    {
     "name": "stdout",
     "output_type": "stream",
     "text": [
      "Downloading URL https://mast.stsci.edu/api/v0.1/Download/file?uri=mast:SDSS/eboss/7562/56799/0682/full/spec-7562-56799-0682.fits to ./mastDownload/SDSS/sdss_eboss_7562-56799-0682/spec-7562-56799-0682.fits ..."
     ]
    },
    {
     "name": "stdout",
     "output_type": "stream",
     "text": [
      " [Done]\n"
     ]
    },
    {
     "name": "stdout",
     "output_type": "stream",
     "text": [
      "Downloading URL https://mast.stsci.edu/api/v0.1/Download/file?uri=mast:SDSS/eboss/7562/56799/0700/full/spec-7562-56799-0700.fits to ./mastDownload/SDSS/sdss_eboss_7562-56799-0700/spec-7562-56799-0700.fits ..."
     ]
    },
    {
     "name": "stdout",
     "output_type": "stream",
     "text": [
      " [Done]\n"
     ]
    },
    {
     "name": "stdout",
     "output_type": "stream",
     "text": [
      "Downloading URL https://mast.stsci.edu/api/v0.1/Download/file?uri=mast:SDSS/eboss/7562/56799/0749/full/spec-7562-56799-0749.fits to ./mastDownload/SDSS/sdss_eboss_7562-56799-0749/spec-7562-56799-0749.fits ..."
     ]
    },
    {
     "name": "stdout",
     "output_type": "stream",
     "text": [
      " [Done]\n"
     ]
    },
    {
     "name": "stdout",
     "output_type": "stream",
     "text": [
      "Downloading URL https://mast.stsci.edu/api/v0.1/Download/file?uri=mast:SDSS/eboss/7562/56799/0755/full/spec-7562-56799-0755.fits to ./mastDownload/SDSS/sdss_eboss_7562-56799-0755/spec-7562-56799-0755.fits ..."
     ]
    },
    {
     "name": "stdout",
     "output_type": "stream",
     "text": [
      " [Done]\n"
     ]
    },
    {
     "name": "stdout",
     "output_type": "stream",
     "text": [
      "Downloading URL https://mast.stsci.edu/api/v0.1/Download/file?uri=mast:SDSS/eboss/7562/56799/0783/full/spec-7562-56799-0783.fits to ./mastDownload/SDSS/sdss_eboss_7562-56799-0783/spec-7562-56799-0783.fits ..."
     ]
    },
    {
     "name": "stdout",
     "output_type": "stream",
     "text": [
      " [Done]\n"
     ]
    },
    {
     "name": "stdout",
     "output_type": "stream",
     "text": [
      "Downloading URL https://mast.stsci.edu/api/v0.1/Download/file?uri=mast:SDSS/eboss/7562/56799/0812/full/spec-7562-56799-0812.fits to ./mastDownload/SDSS/sdss_eboss_7562-56799-0812/spec-7562-56799-0812.fits ..."
     ]
    },
    {
     "name": "stdout",
     "output_type": "stream",
     "text": [
      " [Done]\n"
     ]
    },
    {
     "name": "stdout",
     "output_type": "stream",
     "text": [
      "Downloading URL https://mast.stsci.edu/api/v0.1/Download/file?uri=mast:SDSS/eboss/7562/56799/0825/full/spec-7562-56799-0825.fits to ./mastDownload/SDSS/sdss_eboss_7562-56799-0825/spec-7562-56799-0825.fits ..."
     ]
    },
    {
     "name": "stdout",
     "output_type": "stream",
     "text": [
      " [Done]\n"
     ]
    },
    {
     "name": "stdout",
     "output_type": "stream",
     "text": [
      "Downloading URL https://mast.stsci.edu/api/v0.1/Download/file?uri=mast:SDSS/eboss/7562/56799/0839/full/spec-7562-56799-0839.fits to ./mastDownload/SDSS/sdss_eboss_7562-56799-0839/spec-7562-56799-0839.fits ..."
     ]
    },
    {
     "name": "stdout",
     "output_type": "stream",
     "text": [
      " [Done]\n"
     ]
    },
    {
     "name": "stdout",
     "output_type": "stream",
     "text": [
      "Downloading URL https://mast.stsci.edu/api/v0.1/Download/file?uri=mast:SDSS/eboss/7562/56799/0850/full/spec-7562-56799-0850.fits to ./mastDownload/SDSS/sdss_eboss_7562-56799-0850/spec-7562-56799-0850.fits ..."
     ]
    },
    {
     "name": "stdout",
     "output_type": "stream",
     "text": [
      " [Done]\n"
     ]
    },
    {
     "name": "stdout",
     "output_type": "stream",
     "text": [
      "Downloading URL https://mast.stsci.edu/api/v0.1/Download/file?uri=mast:SDSS/eboss/7562/56799/0852/full/spec-7562-56799-0852.fits to ./mastDownload/SDSS/sdss_eboss_7562-56799-0852/spec-7562-56799-0852.fits ..."
     ]
    },
    {
     "name": "stdout",
     "output_type": "stream",
     "text": [
      " [Done]\n"
     ]
    },
    {
     "name": "stdout",
     "output_type": "stream",
     "text": [
      "Downloading URL https://mast.stsci.edu/api/v0.1/Download/file?uri=mast:SDSS/eboss/7562/56799/0862/full/spec-7562-56799-0862.fits to ./mastDownload/SDSS/sdss_eboss_7562-56799-0862/spec-7562-56799-0862.fits ..."
     ]
    },
    {
     "name": "stdout",
     "output_type": "stream",
     "text": [
      " [Done]\n"
     ]
    },
    {
     "name": "stdout",
     "output_type": "stream",
     "text": [
      "Downloading URL https://mast.stsci.edu/api/v0.1/Download/file?uri=mast:SDSS/eboss/7562/56799/0867/full/spec-7562-56799-0867.fits to ./mastDownload/SDSS/sdss_eboss_7562-56799-0867/spec-7562-56799-0867.fits ..."
     ]
    },
    {
     "name": "stdout",
     "output_type": "stream",
     "text": [
      " [Done]\n"
     ]
    },
    {
     "name": "stdout",
     "output_type": "stream",
     "text": [
      "Downloading URL https://mast.stsci.edu/api/v0.1/Download/file?uri=mast:SDSS/eboss/7562/56799/0884/full/spec-7562-56799-0884.fits to ./mastDownload/SDSS/sdss_eboss_7562-56799-0884/spec-7562-56799-0884.fits ..."
     ]
    },
    {
     "name": "stdout",
     "output_type": "stream",
     "text": [
      " [Done]\n"
     ]
    },
    {
     "name": "stdout",
     "output_type": "stream",
     "text": [
      "Downloading URL https://mast.stsci.edu/api/v0.1/Download/file?uri=mast:SDSS/eboss/7562/56799/0887/full/spec-7562-56799-0887.fits to ./mastDownload/SDSS/sdss_eboss_7562-56799-0887/spec-7562-56799-0887.fits ..."
     ]
    },
    {
     "name": "stdout",
     "output_type": "stream",
     "text": [
      " [Done]\n"
     ]
    },
    {
     "name": "stdout",
     "output_type": "stream",
     "text": [
      "Downloading URL https://mast.stsci.edu/api/v0.1/Download/file?uri=mast:SDSS/eboss/7562/56799/0892/full/spec-7562-56799-0892.fits to ./mastDownload/SDSS/sdss_eboss_7562-56799-0892/spec-7562-56799-0892.fits ..."
     ]
    },
    {
     "name": "stdout",
     "output_type": "stream",
     "text": [
      " [Done]\n"
     ]
    },
    {
     "name": "stdout",
     "output_type": "stream",
     "text": [
      "Downloading URL https://mast.stsci.edu/api/v0.1/Download/file?uri=mast:SDSS/eboss/7562/56799/0915/full/spec-7562-56799-0915.fits to ./mastDownload/SDSS/sdss_eboss_7562-56799-0915/spec-7562-56799-0915.fits ..."
     ]
    },
    {
     "name": "stdout",
     "output_type": "stream",
     "text": [
      " [Done]\n"
     ]
    },
    {
     "name": "stdout",
     "output_type": "stream",
     "text": [
      "Downloading URL https://mast.stsci.edu/api/v0.1/Download/file?uri=mast:SDSS/eboss/7562/56799/0926/full/spec-7562-56799-0926.fits to ./mastDownload/SDSS/sdss_eboss_7562-56799-0926/spec-7562-56799-0926.fits ..."
     ]
    },
    {
     "name": "stdout",
     "output_type": "stream",
     "text": [
      " [Done]\n"
     ]
    },
    {
     "name": "stdout",
     "output_type": "stream",
     "text": [
      "Downloading URL https://mast.stsci.edu/api/v0.1/Download/file?uri=mast:SDSS/eboss/7562/56799/0934/full/spec-7562-56799-0934.fits to ./mastDownload/SDSS/sdss_eboss_7562-56799-0934/spec-7562-56799-0934.fits ..."
     ]
    },
    {
     "name": "stdout",
     "output_type": "stream",
     "text": [
      " [Done]\n"
     ]
    },
    {
     "name": "stdout",
     "output_type": "stream",
     "text": [
      "Downloading URL https://mast.stsci.edu/api/v0.1/Download/file?uri=mast:SDSS/eboss/7562/56799/0936/full/spec-7562-56799-0936.fits to ./mastDownload/SDSS/sdss_eboss_7562-56799-0936/spec-7562-56799-0936.fits ..."
     ]
    },
    {
     "name": "stdout",
     "output_type": "stream",
     "text": [
      " [Done]\n"
     ]
    },
    {
     "name": "stdout",
     "output_type": "stream",
     "text": [
      "Downloading URL https://mast.stsci.edu/api/v0.1/Download/file?uri=mast:SDSS/eboss/7562/56799/0946/full/spec-7562-56799-0946.fits to ./mastDownload/SDSS/sdss_eboss_7562-56799-0946/spec-7562-56799-0946.fits ..."
     ]
    },
    {
     "name": "stdout",
     "output_type": "stream",
     "text": [
      " [Done]\n"
     ]
    },
    {
     "name": "stdout",
     "output_type": "stream",
     "text": [
      "Downloading URL https://mast.stsci.edu/api/v0.1/Download/file?uri=mast:SDSS/eboss/7562/56799/0954/full/spec-7562-56799-0954.fits to ./mastDownload/SDSS/sdss_eboss_7562-56799-0954/spec-7562-56799-0954.fits ..."
     ]
    },
    {
     "name": "stdout",
     "output_type": "stream",
     "text": [
      " [Done]\n"
     ]
    },
    {
     "name": "stdout",
     "output_type": "stream",
     "text": [
      "Downloading URL https://mast.stsci.edu/api/v0.1/Download/file?uri=mast:SDSS/eboss/7562/56799/0961/full/spec-7562-56799-0961.fits to ./mastDownload/SDSS/sdss_eboss_7562-56799-0961/spec-7562-56799-0961.fits ..."
     ]
    },
    {
     "name": "stdout",
     "output_type": "stream",
     "text": [
      " [Done]\n"
     ]
    },
    {
     "name": "stdout",
     "output_type": "stream",
     "text": [
      "Downloading URL https://mast.stsci.edu/api/v0.1/Download/file?uri=mast:SDSS/eboss/7562/56799/0964/full/spec-7562-56799-0964.fits to ./mastDownload/SDSS/sdss_eboss_7562-56799-0964/spec-7562-56799-0964.fits ..."
     ]
    },
    {
     "name": "stdout",
     "output_type": "stream",
     "text": [
      " [Done]\n"
     ]
    },
    {
     "name": "stdout",
     "output_type": "stream",
     "text": [
      "Downloading URL https://mast.stsci.edu/api/v0.1/Download/file?uri=mast:SDSS/eboss/7562/56799/0967/full/spec-7562-56799-0967.fits to ./mastDownload/SDSS/sdss_eboss_7562-56799-0967/spec-7562-56799-0967.fits ..."
     ]
    },
    {
     "name": "stdout",
     "output_type": "stream",
     "text": [
      " [Done]\n"
     ]
    },
    {
     "name": "stdout",
     "output_type": "stream",
     "text": [
      "Downloading URL https://mast.stsci.edu/api/v0.1/Download/file?uri=mast:SDSS/eboss/7562/56799/0980/full/spec-7562-56799-0980.fits to ./mastDownload/SDSS/sdss_eboss_7562-56799-0980/spec-7562-56799-0980.fits ..."
     ]
    },
    {
     "name": "stdout",
     "output_type": "stream",
     "text": [
      " [Done]\n"
     ]
    },
    {
     "name": "stdout",
     "output_type": "stream",
     "text": [
      "Downloading URL https://mast.stsci.edu/api/v0.1/Download/file?uri=mast:SDSS/eboss/7562/56799/1000/full/spec-7562-56799-1000.fits to ./mastDownload/SDSS/sdss_eboss_7562-56799-1000/spec-7562-56799-1000.fits ..."
     ]
    },
    {
     "name": "stdout",
     "output_type": "stream",
     "text": [
      " [Done]\n"
     ]
    },
    {
     "name": "stdout",
     "output_type": "stream",
     "text": [
      "Downloading URL https://mast.stsci.edu/api/v0.1/Download/file?uri=mast:SDSS/eboss/7563/56810/0022/full/spec-7563-56810-0022.fits to ./mastDownload/SDSS/sdss_eboss_7563-56810-0022/spec-7563-56810-0022.fits ..."
     ]
    },
    {
     "name": "stdout",
     "output_type": "stream",
     "text": [
      " [Done]\n"
     ]
    },
    {
     "name": "stdout",
     "output_type": "stream",
     "text": [
      "Downloading URL https://mast.stsci.edu/api/v0.1/Download/file?uri=mast:SDSS/eboss/7563/56810/0047/full/spec-7563-56810-0047.fits to ./mastDownload/SDSS/sdss_eboss_7563-56810-0047/spec-7563-56810-0047.fits ..."
     ]
    },
    {
     "name": "stdout",
     "output_type": "stream",
     "text": [
      " [Done]\n"
     ]
    },
    {
     "name": "stdout",
     "output_type": "stream",
     "text": [
      "Downloading URL https://mast.stsci.edu/api/v0.1/Download/file?uri=mast:SDSS/eboss/7563/56810/0065/full/spec-7563-56810-0065.fits to ./mastDownload/SDSS/sdss_eboss_7563-56810-0065/spec-7563-56810-0065.fits ..."
     ]
    },
    {
     "name": "stdout",
     "output_type": "stream",
     "text": [
      " [Done]\n"
     ]
    },
    {
     "name": "stdout",
     "output_type": "stream",
     "text": [
      "Downloading URL https://mast.stsci.edu/api/v0.1/Download/file?uri=mast:SDSS/eboss/7563/56810/0066/full/spec-7563-56810-0066.fits to ./mastDownload/SDSS/sdss_eboss_7563-56810-0066/spec-7563-56810-0066.fits ..."
     ]
    },
    {
     "name": "stdout",
     "output_type": "stream",
     "text": [
      " [Done]\n"
     ]
    },
    {
     "name": "stdout",
     "output_type": "stream",
     "text": [
      "Downloading URL https://mast.stsci.edu/api/v0.1/Download/file?uri=mast:SDSS/eboss/7563/56810/0093/full/spec-7563-56810-0093.fits to ./mastDownload/SDSS/sdss_eboss_7563-56810-0093/spec-7563-56810-0093.fits ..."
     ]
    },
    {
     "name": "stdout",
     "output_type": "stream",
     "text": [
      " [Done]\n"
     ]
    },
    {
     "name": "stdout",
     "output_type": "stream",
     "text": [
      "Downloading URL https://mast.stsci.edu/api/v0.1/Download/file?uri=mast:SDSS/eboss/7563/56810/0102/full/spec-7563-56810-0102.fits to ./mastDownload/SDSS/sdss_eboss_7563-56810-0102/spec-7563-56810-0102.fits ..."
     ]
    },
    {
     "name": "stdout",
     "output_type": "stream",
     "text": [
      " [Done]\n"
     ]
    },
    {
     "name": "stdout",
     "output_type": "stream",
     "text": [
      "Downloading URL https://mast.stsci.edu/api/v0.1/Download/file?uri=mast:SDSS/eboss/7563/56810/0103/full/spec-7563-56810-0103.fits to ./mastDownload/SDSS/sdss_eboss_7563-56810-0103/spec-7563-56810-0103.fits ..."
     ]
    },
    {
     "name": "stdout",
     "output_type": "stream",
     "text": [
      " [Done]\n"
     ]
    },
    {
     "name": "stdout",
     "output_type": "stream",
     "text": [
      "Downloading URL https://mast.stsci.edu/api/v0.1/Download/file?uri=mast:SDSS/eboss/7563/56810/0105/full/spec-7563-56810-0105.fits to ./mastDownload/SDSS/sdss_eboss_7563-56810-0105/spec-7563-56810-0105.fits ..."
     ]
    },
    {
     "name": "stdout",
     "output_type": "stream",
     "text": [
      " [Done]\n"
     ]
    },
    {
     "name": "stdout",
     "output_type": "stream",
     "text": [
      "Downloading URL https://mast.stsci.edu/api/v0.1/Download/file?uri=mast:SDSS/eboss/7563/56810/0106/full/spec-7563-56810-0106.fits to ./mastDownload/SDSS/sdss_eboss_7563-56810-0106/spec-7563-56810-0106.fits ..."
     ]
    },
    {
     "name": "stdout",
     "output_type": "stream",
     "text": [
      " [Done]\n"
     ]
    },
    {
     "name": "stdout",
     "output_type": "stream",
     "text": [
      "Downloading URL https://mast.stsci.edu/api/v0.1/Download/file?uri=mast:SDSS/eboss/7563/56810/0111/full/spec-7563-56810-0111.fits to ./mastDownload/SDSS/sdss_eboss_7563-56810-0111/spec-7563-56810-0111.fits ..."
     ]
    },
    {
     "name": "stdout",
     "output_type": "stream",
     "text": [
      " [Done]\n"
     ]
    },
    {
     "name": "stdout",
     "output_type": "stream",
     "text": [
      "Downloading URL https://mast.stsci.edu/api/v0.1/Download/file?uri=mast:SDSS/eboss/7563/56810/0128/full/spec-7563-56810-0128.fits to ./mastDownload/SDSS/sdss_eboss_7563-56810-0128/spec-7563-56810-0128.fits ..."
     ]
    },
    {
     "name": "stdout",
     "output_type": "stream",
     "text": [
      " [Done]\n"
     ]
    },
    {
     "name": "stdout",
     "output_type": "stream",
     "text": [
      "Downloading URL https://mast.stsci.edu/api/v0.1/Download/file?uri=mast:SDSS/eboss/7563/56810/0135/full/spec-7563-56810-0135.fits to ./mastDownload/SDSS/sdss_eboss_7563-56810-0135/spec-7563-56810-0135.fits ..."
     ]
    },
    {
     "name": "stdout",
     "output_type": "stream",
     "text": [
      " [Done]\n"
     ]
    },
    {
     "name": "stdout",
     "output_type": "stream",
     "text": [
      "Downloading URL https://mast.stsci.edu/api/v0.1/Download/file?uri=mast:SDSS/eboss/7563/56810/0140/full/spec-7563-56810-0140.fits to ./mastDownload/SDSS/sdss_eboss_7563-56810-0140/spec-7563-56810-0140.fits ..."
     ]
    },
    {
     "name": "stdout",
     "output_type": "stream",
     "text": [
      " [Done]\n"
     ]
    },
    {
     "name": "stdout",
     "output_type": "stream",
     "text": [
      "Downloading URL https://mast.stsci.edu/api/v0.1/Download/file?uri=mast:SDSS/eboss/7563/56810/0179/full/spec-7563-56810-0179.fits to ./mastDownload/SDSS/sdss_eboss_7563-56810-0179/spec-7563-56810-0179.fits ..."
     ]
    },
    {
     "name": "stdout",
     "output_type": "stream",
     "text": [
      " [Done]\n"
     ]
    },
    {
     "name": "stdout",
     "output_type": "stream",
     "text": [
      "Downloading URL https://mast.stsci.edu/api/v0.1/Download/file?uri=mast:SDSS/eboss/7563/56810/0301/full/spec-7563-56810-0301.fits to ./mastDownload/SDSS/sdss_eboss_7563-56810-0301/spec-7563-56810-0301.fits ..."
     ]
    },
    {
     "name": "stdout",
     "output_type": "stream",
     "text": [
      " [Done]\n"
     ]
    },
    {
     "name": "stdout",
     "output_type": "stream",
     "text": [
      "Downloading URL https://mast.stsci.edu/api/v0.1/Download/file?uri=mast:SDSS/eboss/7563/56810/0315/full/spec-7563-56810-0315.fits to ./mastDownload/SDSS/sdss_eboss_7563-56810-0315/spec-7563-56810-0315.fits ..."
     ]
    },
    {
     "name": "stdout",
     "output_type": "stream",
     "text": [
      " [Done]\n"
     ]
    },
    {
     "name": "stdout",
     "output_type": "stream",
     "text": [
      "Downloading URL https://mast.stsci.edu/api/v0.1/Download/file?uri=mast:SDSS/eboss/7563/56810/0337/full/spec-7563-56810-0337.fits to ./mastDownload/SDSS/sdss_eboss_7563-56810-0337/spec-7563-56810-0337.fits ..."
     ]
    },
    {
     "name": "stdout",
     "output_type": "stream",
     "text": [
      " [Done]\n"
     ]
    },
    {
     "name": "stdout",
     "output_type": "stream",
     "text": [
      "Downloading URL https://mast.stsci.edu/api/v0.1/Download/file?uri=mast:SDSS/eboss/7563/56810/0354/full/spec-7563-56810-0354.fits to ./mastDownload/SDSS/sdss_eboss_7563-56810-0354/spec-7563-56810-0354.fits ..."
     ]
    },
    {
     "name": "stdout",
     "output_type": "stream",
     "text": [
      " [Done]\n"
     ]
    },
    {
     "name": "stdout",
     "output_type": "stream",
     "text": [
      "Downloading URL https://mast.stsci.edu/api/v0.1/Download/file?uri=mast:SDSS/eboss/7563/56810/0355/full/spec-7563-56810-0355.fits to ./mastDownload/SDSS/sdss_eboss_7563-56810-0355/spec-7563-56810-0355.fits ..."
     ]
    },
    {
     "name": "stdout",
     "output_type": "stream",
     "text": [
      " [Done]\n"
     ]
    },
    {
     "name": "stdout",
     "output_type": "stream",
     "text": [
      "Downloading URL https://mast.stsci.edu/api/v0.1/Download/file?uri=mast:SDSS/eboss/7563/56810/0359/full/spec-7563-56810-0359.fits to ./mastDownload/SDSS/sdss_eboss_7563-56810-0359/spec-7563-56810-0359.fits ..."
     ]
    },
    {
     "name": "stdout",
     "output_type": "stream",
     "text": [
      " [Done]\n"
     ]
    },
    {
     "name": "stdout",
     "output_type": "stream",
     "text": [
      "Downloading URL https://mast.stsci.edu/api/v0.1/Download/file?uri=mast:SDSS/eboss/7563/56810/0378/full/spec-7563-56810-0378.fits to ./mastDownload/SDSS/sdss_eboss_7563-56810-0378/spec-7563-56810-0378.fits ..."
     ]
    },
    {
     "name": "stdout",
     "output_type": "stream",
     "text": [
      " [Done]\n"
     ]
    },
    {
     "name": "stdout",
     "output_type": "stream",
     "text": [
      "Downloading URL https://mast.stsci.edu/api/v0.1/Download/file?uri=mast:SDSS/eboss/7563/56810/0391/full/spec-7563-56810-0391.fits to ./mastDownload/SDSS/sdss_eboss_7563-56810-0391/spec-7563-56810-0391.fits ..."
     ]
    },
    {
     "name": "stdout",
     "output_type": "stream",
     "text": [
      " [Done]\n"
     ]
    },
    {
     "name": "stdout",
     "output_type": "stream",
     "text": [
      "Downloading URL https://mast.stsci.edu/api/v0.1/Download/file?uri=mast:SDSS/eboss/7563/56810/0407/full/spec-7563-56810-0407.fits to ./mastDownload/SDSS/sdss_eboss_7563-56810-0407/spec-7563-56810-0407.fits ..."
     ]
    },
    {
     "name": "stdout",
     "output_type": "stream",
     "text": [
      " [Done]\n"
     ]
    },
    {
     "name": "stdout",
     "output_type": "stream",
     "text": [
      "Downloading URL https://mast.stsci.edu/api/v0.1/Download/file?uri=mast:SDSS/eboss/7563/56810/0426/full/spec-7563-56810-0426.fits to ./mastDownload/SDSS/sdss_eboss_7563-56810-0426/spec-7563-56810-0426.fits ..."
     ]
    },
    {
     "name": "stdout",
     "output_type": "stream",
     "text": [
      " [Done]\n"
     ]
    },
    {
     "name": "stdout",
     "output_type": "stream",
     "text": [
      "Downloading URL https://mast.stsci.edu/api/v0.1/Download/file?uri=mast:SDSS/eboss/7563/56810/0442/full/spec-7563-56810-0442.fits to ./mastDownload/SDSS/sdss_eboss_7563-56810-0442/spec-7563-56810-0442.fits ..."
     ]
    },
    {
     "name": "stdout",
     "output_type": "stream",
     "text": [
      " [Done]\n"
     ]
    },
    {
     "name": "stdout",
     "output_type": "stream",
     "text": [
      "Downloading URL https://mast.stsci.edu/api/v0.1/Download/file?uri=mast:SDSS/eboss/7563/56810/0446/full/spec-7563-56810-0446.fits to ./mastDownload/SDSS/sdss_eboss_7563-56810-0446/spec-7563-56810-0446.fits ..."
     ]
    },
    {
     "name": "stdout",
     "output_type": "stream",
     "text": [
      " [Done]\n"
     ]
    },
    {
     "name": "stdout",
     "output_type": "stream",
     "text": [
      "Downloading URL https://mast.stsci.edu/api/v0.1/Download/file?uri=mast:SDSS/eboss/7563/56810/0454/full/spec-7563-56810-0454.fits to ./mastDownload/SDSS/sdss_eboss_7563-56810-0454/spec-7563-56810-0454.fits ..."
     ]
    },
    {
     "name": "stdout",
     "output_type": "stream",
     "text": [
      " [Done]\n"
     ]
    },
    {
     "name": "stdout",
     "output_type": "stream",
     "text": [
      "Downloading URL https://mast.stsci.edu/api/v0.1/Download/file?uri=mast:SDSS/eboss/7563/56810/0455/full/spec-7563-56810-0455.fits to ./mastDownload/SDSS/sdss_eboss_7563-56810-0455/spec-7563-56810-0455.fits ..."
     ]
    },
    {
     "name": "stdout",
     "output_type": "stream",
     "text": [
      " [Done]\n"
     ]
    },
    {
     "name": "stdout",
     "output_type": "stream",
     "text": [
      "Downloading URL https://mast.stsci.edu/api/v0.1/Download/file?uri=mast:SDSS/eboss/7563/56810/0456/full/spec-7563-56810-0456.fits to ./mastDownload/SDSS/sdss_eboss_7563-56810-0456/spec-7563-56810-0456.fits ..."
     ]
    },
    {
     "name": "stdout",
     "output_type": "stream",
     "text": [
      " [Done]\n"
     ]
    },
    {
     "name": "stdout",
     "output_type": "stream",
     "text": [
      "Downloading URL https://mast.stsci.edu/api/v0.1/Download/file?uri=mast:SDSS/eboss/7563/56810/0460/full/spec-7563-56810-0460.fits to ./mastDownload/SDSS/sdss_eboss_7563-56810-0460/spec-7563-56810-0460.fits ..."
     ]
    },
    {
     "name": "stdout",
     "output_type": "stream",
     "text": [
      " [Done]\n"
     ]
    },
    {
     "name": "stdout",
     "output_type": "stream",
     "text": [
      "Downloading URL https://mast.stsci.edu/api/v0.1/Download/file?uri=mast:SDSS/eboss/7563/56810/0464/full/spec-7563-56810-0464.fits to ./mastDownload/SDSS/sdss_eboss_7563-56810-0464/spec-7563-56810-0464.fits ..."
     ]
    },
    {
     "name": "stdout",
     "output_type": "stream",
     "text": [
      " [Done]\n"
     ]
    },
    {
     "name": "stdout",
     "output_type": "stream",
     "text": [
      "Downloading URL https://mast.stsci.edu/api/v0.1/Download/file?uri=mast:SDSS/eboss/7563/56810/0506/full/spec-7563-56810-0506.fits to ./mastDownload/SDSS/sdss_eboss_7563-56810-0506/spec-7563-56810-0506.fits ..."
     ]
    },
    {
     "name": "stdout",
     "output_type": "stream",
     "text": [
      " [Done]\n"
     ]
    },
    {
     "name": "stdout",
     "output_type": "stream",
     "text": [
      "Downloading URL https://mast.stsci.edu/api/v0.1/Download/file?uri=mast:SDSS/eboss/7563/56810/0510/full/spec-7563-56810-0510.fits to ./mastDownload/SDSS/sdss_eboss_7563-56810-0510/spec-7563-56810-0510.fits ..."
     ]
    },
    {
     "name": "stdout",
     "output_type": "stream",
     "text": [
      " [Done]\n"
     ]
    },
    {
     "name": "stdout",
     "output_type": "stream",
     "text": [
      "Downloading URL https://mast.stsci.edu/api/v0.1/Download/file?uri=mast:SDSS/eboss/7563/56810/0522/full/spec-7563-56810-0522.fits to ./mastDownload/SDSS/sdss_eboss_7563-56810-0522/spec-7563-56810-0522.fits ..."
     ]
    },
    {
     "name": "stdout",
     "output_type": "stream",
     "text": [
      " [Done]\n"
     ]
    },
    {
     "name": "stdout",
     "output_type": "stream",
     "text": [
      "Downloading URL https://mast.stsci.edu/api/v0.1/Download/file?uri=mast:SDSS/eboss/7563/56810/0526/full/spec-7563-56810-0526.fits to ./mastDownload/SDSS/sdss_eboss_7563-56810-0526/spec-7563-56810-0526.fits ..."
     ]
    },
    {
     "name": "stdout",
     "output_type": "stream",
     "text": [
      " [Done]\n"
     ]
    },
    {
     "name": "stdout",
     "output_type": "stream",
     "text": [
      "Downloading URL https://mast.stsci.edu/api/v0.1/Download/file?uri=mast:SDSS/eboss/7563/56810/0535/full/spec-7563-56810-0535.fits to ./mastDownload/SDSS/sdss_eboss_7563-56810-0535/spec-7563-56810-0535.fits ..."
     ]
    },
    {
     "name": "stdout",
     "output_type": "stream",
     "text": [
      " [Done]\n"
     ]
    },
    {
     "name": "stdout",
     "output_type": "stream",
     "text": [
      "Downloading URL https://mast.stsci.edu/api/v0.1/Download/file?uri=mast:SDSS/eboss/7563/56810/0545/full/spec-7563-56810-0545.fits to ./mastDownload/SDSS/sdss_eboss_7563-56810-0545/spec-7563-56810-0545.fits ..."
     ]
    },
    {
     "name": "stdout",
     "output_type": "stream",
     "text": [
      " [Done]\n"
     ]
    },
    {
     "name": "stdout",
     "output_type": "stream",
     "text": [
      "Downloading URL https://mast.stsci.edu/api/v0.1/Download/file?uri=mast:SDSS/eboss/7563/56810/0546/full/spec-7563-56810-0546.fits to ./mastDownload/SDSS/sdss_eboss_7563-56810-0546/spec-7563-56810-0546.fits ..."
     ]
    },
    {
     "name": "stdout",
     "output_type": "stream",
     "text": [
      " [Done]\n"
     ]
    },
    {
     "name": "stdout",
     "output_type": "stream",
     "text": [
      "Downloading URL https://mast.stsci.edu/api/v0.1/Download/file?uri=mast:SDSS/eboss/7563/56810/0559/full/spec-7563-56810-0559.fits to ./mastDownload/SDSS/sdss_eboss_7563-56810-0559/spec-7563-56810-0559.fits ..."
     ]
    },
    {
     "name": "stdout",
     "output_type": "stream",
     "text": [
      " [Done]\n"
     ]
    },
    {
     "name": "stdout",
     "output_type": "stream",
     "text": [
      "Downloading URL https://mast.stsci.edu/api/v0.1/Download/file?uri=mast:SDSS/eboss/7563/56810/0565/full/spec-7563-56810-0565.fits to ./mastDownload/SDSS/sdss_eboss_7563-56810-0565/spec-7563-56810-0565.fits ..."
     ]
    },
    {
     "name": "stdout",
     "output_type": "stream",
     "text": [
      " [Done]\n"
     ]
    },
    {
     "name": "stdout",
     "output_type": "stream",
     "text": [
      "Downloading URL https://mast.stsci.edu/api/v0.1/Download/file?uri=mast:SDSS/eboss/7563/56810/0567/full/spec-7563-56810-0567.fits to ./mastDownload/SDSS/sdss_eboss_7563-56810-0567/spec-7563-56810-0567.fits ..."
     ]
    },
    {
     "name": "stdout",
     "output_type": "stream",
     "text": [
      " [Done]\n"
     ]
    },
    {
     "name": "stdout",
     "output_type": "stream",
     "text": [
      "Downloading URL https://mast.stsci.edu/api/v0.1/Download/file?uri=mast:SDSS/eboss/7563/56810/0575/full/spec-7563-56810-0575.fits to ./mastDownload/SDSS/sdss_eboss_7563-56810-0575/spec-7563-56810-0575.fits ..."
     ]
    },
    {
     "name": "stdout",
     "output_type": "stream",
     "text": [
      " [Done]\n"
     ]
    },
    {
     "name": "stdout",
     "output_type": "stream",
     "text": [
      "Downloading URL https://mast.stsci.edu/api/v0.1/Download/file?uri=mast:SDSS/eboss/7563/56810/0587/full/spec-7563-56810-0587.fits to ./mastDownload/SDSS/sdss_eboss_7563-56810-0587/spec-7563-56810-0587.fits ..."
     ]
    },
    {
     "name": "stdout",
     "output_type": "stream",
     "text": [
      " [Done]\n"
     ]
    },
    {
     "name": "stdout",
     "output_type": "stream",
     "text": [
      "Downloading URL https://mast.stsci.edu/api/v0.1/Download/file?uri=mast:SDSS/eboss/7563/56810/0610/full/spec-7563-56810-0610.fits to ./mastDownload/SDSS/sdss_eboss_7563-56810-0610/spec-7563-56810-0610.fits ..."
     ]
    },
    {
     "name": "stdout",
     "output_type": "stream",
     "text": [
      " [Done]\n"
     ]
    },
    {
     "name": "stdout",
     "output_type": "stream",
     "text": [
      "Downloading URL https://mast.stsci.edu/api/v0.1/Download/file?uri=mast:SDSS/eboss/7563/56810/0617/full/spec-7563-56810-0617.fits to ./mastDownload/SDSS/sdss_eboss_7563-56810-0617/spec-7563-56810-0617.fits ..."
     ]
    },
    {
     "name": "stdout",
     "output_type": "stream",
     "text": [
      " [Done]\n"
     ]
    },
    {
     "name": "stdout",
     "output_type": "stream",
     "text": [
      "Downloading URL https://mast.stsci.edu/api/v0.1/Download/file?uri=mast:SDSS/eboss/7563/56810/0636/full/spec-7563-56810-0636.fits to ./mastDownload/SDSS/sdss_eboss_7563-56810-0636/spec-7563-56810-0636.fits ..."
     ]
    },
    {
     "name": "stdout",
     "output_type": "stream",
     "text": [
      " [Done]\n"
     ]
    },
    {
     "name": "stdout",
     "output_type": "stream",
     "text": [
      "Downloading URL https://mast.stsci.edu/api/v0.1/Download/file?uri=mast:SDSS/eboss/7563/56810/0638/full/spec-7563-56810-0638.fits to ./mastDownload/SDSS/sdss_eboss_7563-56810-0638/spec-7563-56810-0638.fits ..."
     ]
    },
    {
     "name": "stdout",
     "output_type": "stream",
     "text": [
      " [Done]\n"
     ]
    },
    {
     "name": "stdout",
     "output_type": "stream",
     "text": [
      "Downloading URL https://mast.stsci.edu/api/v0.1/Download/file?uri=mast:SDSS/eboss/7563/56810/0641/full/spec-7563-56810-0641.fits to ./mastDownload/SDSS/sdss_eboss_7563-56810-0641/spec-7563-56810-0641.fits ..."
     ]
    },
    {
     "name": "stdout",
     "output_type": "stream",
     "text": [
      " [Done]\n"
     ]
    },
    {
     "name": "stdout",
     "output_type": "stream",
     "text": [
      "Downloading URL https://mast.stsci.edu/api/v0.1/Download/file?uri=mast:SDSS/eboss/7563/56810/0646/full/spec-7563-56810-0646.fits to ./mastDownload/SDSS/sdss_eboss_7563-56810-0646/spec-7563-56810-0646.fits ..."
     ]
    },
    {
     "name": "stdout",
     "output_type": "stream",
     "text": [
      " [Done]\n"
     ]
    },
    {
     "name": "stdout",
     "output_type": "stream",
     "text": [
      "Downloading URL https://mast.stsci.edu/api/v0.1/Download/file?uri=mast:SDSS/eboss/7563/56810/0647/full/spec-7563-56810-0647.fits to ./mastDownload/SDSS/sdss_eboss_7563-56810-0647/spec-7563-56810-0647.fits ..."
     ]
    },
    {
     "name": "stdout",
     "output_type": "stream",
     "text": [
      " [Done]\n"
     ]
    },
    {
     "name": "stdout",
     "output_type": "stream",
     "text": [
      "Downloading URL https://mast.stsci.edu/api/v0.1/Download/file?uri=mast:SDSS/eboss/7563/56810/0649/full/spec-7563-56810-0649.fits to ./mastDownload/SDSS/sdss_eboss_7563-56810-0649/spec-7563-56810-0649.fits ..."
     ]
    },
    {
     "name": "stdout",
     "output_type": "stream",
     "text": [
      " [Done]\n"
     ]
    },
    {
     "name": "stdout",
     "output_type": "stream",
     "text": [
      "Downloading URL https://mast.stsci.edu/api/v0.1/Download/file?uri=mast:SDSS/eboss/7563/56810/0673/full/spec-7563-56810-0673.fits to ./mastDownload/SDSS/sdss_eboss_7563-56810-0673/spec-7563-56810-0673.fits ..."
     ]
    },
    {
     "name": "stdout",
     "output_type": "stream",
     "text": [
      " [Done]\n"
     ]
    },
    {
     "name": "stdout",
     "output_type": "stream",
     "text": [
      "Downloading URL https://mast.stsci.edu/api/v0.1/Download/file?uri=mast:SDSS/eboss/7563/56810/0692/full/spec-7563-56810-0692.fits to ./mastDownload/SDSS/sdss_eboss_7563-56810-0692/spec-7563-56810-0692.fits ..."
     ]
    },
    {
     "name": "stdout",
     "output_type": "stream",
     "text": [
      " [Done]\n"
     ]
    },
    {
     "name": "stdout",
     "output_type": "stream",
     "text": [
      "Downloading URL https://mast.stsci.edu/api/v0.1/Download/file?uri=mast:SDSS/eboss/7563/56810/0694/full/spec-7563-56810-0694.fits to ./mastDownload/SDSS/sdss_eboss_7563-56810-0694/spec-7563-56810-0694.fits ..."
     ]
    },
    {
     "name": "stdout",
     "output_type": "stream",
     "text": [
      " [Done]\n"
     ]
    },
    {
     "name": "stdout",
     "output_type": "stream",
     "text": [
      "Downloading URL https://mast.stsci.edu/api/v0.1/Download/file?uri=mast:SDSS/eboss/7563/56810/0698/full/spec-7563-56810-0698.fits to ./mastDownload/SDSS/sdss_eboss_7563-56810-0698/spec-7563-56810-0698.fits ..."
     ]
    },
    {
     "name": "stdout",
     "output_type": "stream",
     "text": [
      " [Done]\n"
     ]
    },
    {
     "name": "stdout",
     "output_type": "stream",
     "text": [
      "Downloading URL https://mast.stsci.edu/api/v0.1/Download/file?uri=mast:SDSS/eboss/7563/56810/0709/full/spec-7563-56810-0709.fits to ./mastDownload/SDSS/sdss_eboss_7563-56810-0709/spec-7563-56810-0709.fits ..."
     ]
    },
    {
     "name": "stdout",
     "output_type": "stream",
     "text": [
      " [Done]\n"
     ]
    },
    {
     "name": "stdout",
     "output_type": "stream",
     "text": [
      "Downloading URL https://mast.stsci.edu/api/v0.1/Download/file?uri=mast:SDSS/eboss/7563/56810/0713/full/spec-7563-56810-0713.fits to ./mastDownload/SDSS/sdss_eboss_7563-56810-0713/spec-7563-56810-0713.fits ..."
     ]
    },
    {
     "name": "stdout",
     "output_type": "stream",
     "text": [
      " [Done]\n"
     ]
    },
    {
     "name": "stdout",
     "output_type": "stream",
     "text": [
      "Downloading URL https://mast.stsci.edu/api/v0.1/Download/file?uri=mast:SDSS/eboss/7563/56810/0721/full/spec-7563-56810-0721.fits to ./mastDownload/SDSS/sdss_eboss_7563-56810-0721/spec-7563-56810-0721.fits ..."
     ]
    },
    {
     "name": "stdout",
     "output_type": "stream",
     "text": [
      " [Done]\n"
     ]
    },
    {
     "name": "stdout",
     "output_type": "stream",
     "text": [
      "Downloading URL https://mast.stsci.edu/api/v0.1/Download/file?uri=mast:SDSS/eboss/7563/56810/0733/full/spec-7563-56810-0733.fits to ./mastDownload/SDSS/sdss_eboss_7563-56810-0733/spec-7563-56810-0733.fits ..."
     ]
    },
    {
     "name": "stdout",
     "output_type": "stream",
     "text": [
      " [Done]\n"
     ]
    },
    {
     "name": "stdout",
     "output_type": "stream",
     "text": [
      "Downloading URL https://mast.stsci.edu/api/v0.1/Download/file?uri=mast:SDSS/eboss/7563/56810/0737/full/spec-7563-56810-0737.fits to ./mastDownload/SDSS/sdss_eboss_7563-56810-0737/spec-7563-56810-0737.fits ..."
     ]
    },
    {
     "name": "stdout",
     "output_type": "stream",
     "text": [
      " [Done]\n"
     ]
    },
    {
     "name": "stdout",
     "output_type": "stream",
     "text": [
      "Downloading URL https://mast.stsci.edu/api/v0.1/Download/file?uri=mast:SDSS/eboss/7563/56810/0740/full/spec-7563-56810-0740.fits to ./mastDownload/SDSS/sdss_eboss_7563-56810-0740/spec-7563-56810-0740.fits ..."
     ]
    },
    {
     "name": "stdout",
     "output_type": "stream",
     "text": [
      " [Done]\n"
     ]
    },
    {
     "name": "stdout",
     "output_type": "stream",
     "text": [
      "Downloading URL https://mast.stsci.edu/api/v0.1/Download/file?uri=mast:SDSS/eboss/7563/56810/0746/full/spec-7563-56810-0746.fits to ./mastDownload/SDSS/sdss_eboss_7563-56810-0746/spec-7563-56810-0746.fits ..."
     ]
    },
    {
     "name": "stdout",
     "output_type": "stream",
     "text": [
      " [Done]\n"
     ]
    },
    {
     "name": "stdout",
     "output_type": "stream",
     "text": [
      "Downloading URL https://mast.stsci.edu/api/v0.1/Download/file?uri=mast:SDSS/eboss/7563/56810/0758/full/spec-7563-56810-0758.fits to ./mastDownload/SDSS/sdss_eboss_7563-56810-0758/spec-7563-56810-0758.fits ..."
     ]
    },
    {
     "name": "stdout",
     "output_type": "stream",
     "text": [
      " [Done]\n"
     ]
    },
    {
     "name": "stdout",
     "output_type": "stream",
     "text": [
      "Downloading URL https://mast.stsci.edu/api/v0.1/Download/file?uri=mast:SDSS/eboss/7563/56810/0766/full/spec-7563-56810-0766.fits to ./mastDownload/SDSS/sdss_eboss_7563-56810-0766/spec-7563-56810-0766.fits ..."
     ]
    },
    {
     "name": "stdout",
     "output_type": "stream",
     "text": [
      " [Done]\n"
     ]
    },
    {
     "name": "stdout",
     "output_type": "stream",
     "text": [
      "Downloading URL https://mast.stsci.edu/api/v0.1/Download/file?uri=mast:SDSS/eboss/7563/56810/0778/full/spec-7563-56810-0778.fits to ./mastDownload/SDSS/sdss_eboss_7563-56810-0778/spec-7563-56810-0778.fits ..."
     ]
    },
    {
     "name": "stdout",
     "output_type": "stream",
     "text": [
      " [Done]\n"
     ]
    },
    {
     "name": "stdout",
     "output_type": "stream",
     "text": [
      "Downloading URL https://mast.stsci.edu/api/v0.1/Download/file?uri=mast:SDSS/eboss/7563/56810/0779/full/spec-7563-56810-0779.fits to ./mastDownload/SDSS/sdss_eboss_7563-56810-0779/spec-7563-56810-0779.fits ..."
     ]
    },
    {
     "name": "stdout",
     "output_type": "stream",
     "text": [
      " [Done]\n"
     ]
    },
    {
     "name": "stdout",
     "output_type": "stream",
     "text": [
      "Downloading URL https://mast.stsci.edu/api/v0.1/Download/file?uri=mast:SDSS/eboss/7563/56810/0780/full/spec-7563-56810-0780.fits to ./mastDownload/SDSS/sdss_eboss_7563-56810-0780/spec-7563-56810-0780.fits ..."
     ]
    },
    {
     "name": "stdout",
     "output_type": "stream",
     "text": [
      " [Done]\n"
     ]
    },
    {
     "name": "stdout",
     "output_type": "stream",
     "text": [
      "Downloading URL https://mast.stsci.edu/api/v0.1/Download/file?uri=mast:SDSS/eboss/7563/56810/0795/full/spec-7563-56810-0795.fits to ./mastDownload/SDSS/sdss_eboss_7563-56810-0795/spec-7563-56810-0795.fits ..."
     ]
    },
    {
     "name": "stdout",
     "output_type": "stream",
     "text": [
      " [Done]\n"
     ]
    },
    {
     "name": "stdout",
     "output_type": "stream",
     "text": [
      "Downloading URL https://mast.stsci.edu/api/v0.1/Download/file?uri=mast:SDSS/eboss/7563/56810/0805/full/spec-7563-56810-0805.fits to ./mastDownload/SDSS/sdss_eboss_7563-56810-0805/spec-7563-56810-0805.fits ..."
     ]
    },
    {
     "name": "stdout",
     "output_type": "stream",
     "text": [
      " [Done]\n"
     ]
    },
    {
     "name": "stdout",
     "output_type": "stream",
     "text": [
      "Downloading URL https://mast.stsci.edu/api/v0.1/Download/file?uri=mast:SDSS/eboss/7563/56810/0806/full/spec-7563-56810-0806.fits to ./mastDownload/SDSS/sdss_eboss_7563-56810-0806/spec-7563-56810-0806.fits ..."
     ]
    },
    {
     "name": "stdout",
     "output_type": "stream",
     "text": [
      " [Done]\n"
     ]
    },
    {
     "name": "stdout",
     "output_type": "stream",
     "text": [
      "Downloading URL https://mast.stsci.edu/api/v0.1/Download/file?uri=mast:SDSS/eboss/7563/56810/0816/full/spec-7563-56810-0816.fits to ./mastDownload/SDSS/sdss_eboss_7563-56810-0816/spec-7563-56810-0816.fits ..."
     ]
    },
    {
     "name": "stdout",
     "output_type": "stream",
     "text": [
      " [Done]\n"
     ]
    },
    {
     "name": "stdout",
     "output_type": "stream",
     "text": [
      "Downloading URL https://mast.stsci.edu/api/v0.1/Download/file?uri=mast:SDSS/eboss/7563/56810/0824/full/spec-7563-56810-0824.fits to ./mastDownload/SDSS/sdss_eboss_7563-56810-0824/spec-7563-56810-0824.fits ..."
     ]
    },
    {
     "name": "stdout",
     "output_type": "stream",
     "text": [
      " [Done]\n"
     ]
    },
    {
     "name": "stdout",
     "output_type": "stream",
     "text": [
      "Downloading URL https://mast.stsci.edu/api/v0.1/Download/file?uri=mast:SDSS/eboss/7563/56810/0826/full/spec-7563-56810-0826.fits to ./mastDownload/SDSS/sdss_eboss_7563-56810-0826/spec-7563-56810-0826.fits ..."
     ]
    },
    {
     "name": "stdout",
     "output_type": "stream",
     "text": [
      " [Done]\n"
     ]
    },
    {
     "name": "stdout",
     "output_type": "stream",
     "text": [
      "Downloading URL https://mast.stsci.edu/api/v0.1/Download/file?uri=mast:SDSS/eboss/7563/56810/0830/full/spec-7563-56810-0830.fits to ./mastDownload/SDSS/sdss_eboss_7563-56810-0830/spec-7563-56810-0830.fits ..."
     ]
    },
    {
     "name": "stdout",
     "output_type": "stream",
     "text": [
      " [Done]\n"
     ]
    },
    {
     "name": "stdout",
     "output_type": "stream",
     "text": [
      "Downloading URL https://mast.stsci.edu/api/v0.1/Download/file?uri=mast:SDSS/eboss/7563/56810/0833/full/spec-7563-56810-0833.fits to ./mastDownload/SDSS/sdss_eboss_7563-56810-0833/spec-7563-56810-0833.fits ..."
     ]
    },
    {
     "name": "stdout",
     "output_type": "stream",
     "text": [
      " [Done]\n"
     ]
    },
    {
     "name": "stdout",
     "output_type": "stream",
     "text": [
      "Downloading URL https://mast.stsci.edu/api/v0.1/Download/file?uri=mast:SDSS/eboss/7563/56810/0847/full/spec-7563-56810-0847.fits to ./mastDownload/SDSS/sdss_eboss_7563-56810-0847/spec-7563-56810-0847.fits ..."
     ]
    },
    {
     "name": "stdout",
     "output_type": "stream",
     "text": [
      " [Done]\n"
     ]
    },
    {
     "name": "stdout",
     "output_type": "stream",
     "text": [
      "Downloading URL https://mast.stsci.edu/api/v0.1/Download/file?uri=mast:SDSS/eboss/7563/56810/0848/full/spec-7563-56810-0848.fits to ./mastDownload/SDSS/sdss_eboss_7563-56810-0848/spec-7563-56810-0848.fits ..."
     ]
    },
    {
     "name": "stdout",
     "output_type": "stream",
     "text": [
      " [Done]\n"
     ]
    },
    {
     "name": "stdout",
     "output_type": "stream",
     "text": [
      "Downloading URL https://mast.stsci.edu/api/v0.1/Download/file?uri=mast:SDSS/eboss/7563/56810/0850/full/spec-7563-56810-0850.fits to ./mastDownload/SDSS/sdss_eboss_7563-56810-0850/spec-7563-56810-0850.fits ..."
     ]
    },
    {
     "name": "stdout",
     "output_type": "stream",
     "text": [
      " [Done]\n"
     ]
    },
    {
     "name": "stdout",
     "output_type": "stream",
     "text": [
      "Downloading URL https://mast.stsci.edu/api/v0.1/Download/file?uri=mast:SDSS/eboss/7563/56810/0888/full/spec-7563-56810-0888.fits to ./mastDownload/SDSS/sdss_eboss_7563-56810-0888/spec-7563-56810-0888.fits ..."
     ]
    },
    {
     "name": "stdout",
     "output_type": "stream",
     "text": [
      " [Done]\n"
     ]
    },
    {
     "name": "stdout",
     "output_type": "stream",
     "text": [
      "Downloading URL https://mast.stsci.edu/api/v0.1/Download/file?uri=mast:SDSS/eboss/7563/56810/0894/full/spec-7563-56810-0894.fits to ./mastDownload/SDSS/sdss_eboss_7563-56810-0894/spec-7563-56810-0894.fits ..."
     ]
    },
    {
     "name": "stdout",
     "output_type": "stream",
     "text": [
      " [Done]\n"
     ]
    },
    {
     "name": "stdout",
     "output_type": "stream",
     "text": [
      "Downloading URL https://mast.stsci.edu/api/v0.1/Download/file?uri=mast:SDSS/eboss/7563/56810/0908/full/spec-7563-56810-0908.fits to ./mastDownload/SDSS/sdss_eboss_7563-56810-0908/spec-7563-56810-0908.fits ..."
     ]
    },
    {
     "name": "stdout",
     "output_type": "stream",
     "text": [
      " [Done]\n"
     ]
    },
    {
     "name": "stdout",
     "output_type": "stream",
     "text": [
      "Downloading URL https://mast.stsci.edu/api/v0.1/Download/file?uri=mast:SDSS/eboss/7563/56810/0959/full/spec-7563-56810-0959.fits to ./mastDownload/SDSS/sdss_eboss_7563-56810-0959/spec-7563-56810-0959.fits ..."
     ]
    },
    {
     "name": "stdout",
     "output_type": "stream",
     "text": [
      " [Done]\n"
     ]
    },
    {
     "name": "stdout",
     "output_type": "stream",
     "text": [
      "Downloading URL https://mast.stsci.edu/api/v0.1/Download/file?uri=mast:SDSS/eboss/7563/56810/0967/full/spec-7563-56810-0967.fits to ./mastDownload/SDSS/sdss_eboss_7563-56810-0967/spec-7563-56810-0967.fits ..."
     ]
    },
    {
     "name": "stdout",
     "output_type": "stream",
     "text": [
      " [Done]\n"
     ]
    },
    {
     "name": "stdout",
     "output_type": "stream",
     "text": [
      "Downloading URL https://mast.stsci.edu/api/v0.1/Download/file?uri=mast:SDSS/eboss/7563/56810/0997/full/spec-7563-56810-0997.fits to ./mastDownload/SDSS/sdss_eboss_7563-56810-0997/spec-7563-56810-0997.fits ..."
     ]
    },
    {
     "name": "stdout",
     "output_type": "stream",
     "text": [
      " [Done]\n"
     ]
    },
    {
     "name": "stdout",
     "output_type": "stream",
     "text": [
      "Downloading URL https://mast.stsci.edu/api/v0.1/Download/file?uri=mast:SDSS/eboss/7564/56804/0042/full/spec-7564-56804-0042.fits to ./mastDownload/SDSS/sdss_eboss_7564-56804-0042/spec-7564-56804-0042.fits ..."
     ]
    },
    {
     "name": "stdout",
     "output_type": "stream",
     "text": [
      " [Done]\n"
     ]
    },
    {
     "name": "stdout",
     "output_type": "stream",
     "text": [
      "Downloading URL https://mast.stsci.edu/api/v0.1/Download/file?uri=mast:SDSS/eboss/7564/56804/0088/full/spec-7564-56804-0088.fits to ./mastDownload/SDSS/sdss_eboss_7564-56804-0088/spec-7564-56804-0088.fits ..."
     ]
    },
    {
     "name": "stdout",
     "output_type": "stream",
     "text": [
      " [Done]\n"
     ]
    },
    {
     "name": "stdout",
     "output_type": "stream",
     "text": [
      "Downloading URL https://mast.stsci.edu/api/v0.1/Download/file?uri=mast:SDSS/eboss/7564/56804/0096/full/spec-7564-56804-0096.fits to ./mastDownload/SDSS/sdss_eboss_7564-56804-0096/spec-7564-56804-0096.fits ..."
     ]
    },
    {
     "name": "stdout",
     "output_type": "stream",
     "text": [
      " [Done]\n"
     ]
    },
    {
     "name": "stdout",
     "output_type": "stream",
     "text": [
      "Downloading URL https://mast.stsci.edu/api/v0.1/Download/file?uri=mast:SDSS/eboss/7564/56804/0111/full/spec-7564-56804-0111.fits to ./mastDownload/SDSS/sdss_eboss_7564-56804-0111/spec-7564-56804-0111.fits ..."
     ]
    },
    {
     "name": "stdout",
     "output_type": "stream",
     "text": [
      " [Done]\n"
     ]
    },
    {
     "name": "stdout",
     "output_type": "stream",
     "text": [
      "Downloading URL https://mast.stsci.edu/api/v0.1/Download/file?uri=mast:SDSS/eboss/7564/56804/0122/full/spec-7564-56804-0122.fits to ./mastDownload/SDSS/sdss_eboss_7564-56804-0122/spec-7564-56804-0122.fits ..."
     ]
    },
    {
     "name": "stdout",
     "output_type": "stream",
     "text": [
      " [Done]\n"
     ]
    },
    {
     "name": "stdout",
     "output_type": "stream",
     "text": [
      "Downloading URL https://mast.stsci.edu/api/v0.1/Download/file?uri=mast:SDSS/eboss/7564/56804/0125/full/spec-7564-56804-0125.fits to ./mastDownload/SDSS/sdss_eboss_7564-56804-0125/spec-7564-56804-0125.fits ..."
     ]
    },
    {
     "name": "stdout",
     "output_type": "stream",
     "text": [
      " [Done]\n"
     ]
    },
    {
     "name": "stdout",
     "output_type": "stream",
     "text": [
      "Downloading URL https://mast.stsci.edu/api/v0.1/Download/file?uri=mast:SDSS/eboss/7564/56804/0132/full/spec-7564-56804-0132.fits to ./mastDownload/SDSS/sdss_eboss_7564-56804-0132/spec-7564-56804-0132.fits ..."
     ]
    },
    {
     "name": "stdout",
     "output_type": "stream",
     "text": [
      " [Done]\n"
     ]
    },
    {
     "name": "stdout",
     "output_type": "stream",
     "text": [
      "Downloading URL https://mast.stsci.edu/api/v0.1/Download/file?uri=mast:SDSS/eboss/7564/56804/0151/full/spec-7564-56804-0151.fits to ./mastDownload/SDSS/sdss_eboss_7564-56804-0151/spec-7564-56804-0151.fits ..."
     ]
    },
    {
     "name": "stdout",
     "output_type": "stream",
     "text": [
      " [Done]\n"
     ]
    },
    {
     "name": "stdout",
     "output_type": "stream",
     "text": [
      "Downloading URL https://mast.stsci.edu/api/v0.1/Download/file?uri=mast:SDSS/eboss/7564/56804/0157/full/spec-7564-56804-0157.fits to ./mastDownload/SDSS/sdss_eboss_7564-56804-0157/spec-7564-56804-0157.fits ..."
     ]
    },
    {
     "name": "stdout",
     "output_type": "stream",
     "text": [
      " [Done]\n"
     ]
    },
    {
     "name": "stdout",
     "output_type": "stream",
     "text": [
      "Downloading URL https://mast.stsci.edu/api/v0.1/Download/file?uri=mast:SDSS/eboss/7564/56804/0176/full/spec-7564-56804-0176.fits to ./mastDownload/SDSS/sdss_eboss_7564-56804-0176/spec-7564-56804-0176.fits ..."
     ]
    },
    {
     "name": "stdout",
     "output_type": "stream",
     "text": [
      " [Done]\n"
     ]
    },
    {
     "name": "stdout",
     "output_type": "stream",
     "text": [
      "Downloading URL https://mast.stsci.edu/api/v0.1/Download/file?uri=mast:SDSS/eboss/7564/56804/0189/full/spec-7564-56804-0189.fits to ./mastDownload/SDSS/sdss_eboss_7564-56804-0189/spec-7564-56804-0189.fits ..."
     ]
    },
    {
     "name": "stdout",
     "output_type": "stream",
     "text": [
      " [Done]\n"
     ]
    },
    {
     "name": "stdout",
     "output_type": "stream",
     "text": [
      "Downloading URL https://mast.stsci.edu/api/v0.1/Download/file?uri=mast:SDSS/eboss/7564/56804/0208/full/spec-7564-56804-0208.fits to ./mastDownload/SDSS/sdss_eboss_7564-56804-0208/spec-7564-56804-0208.fits ..."
     ]
    },
    {
     "name": "stdout",
     "output_type": "stream",
     "text": [
      " [Done]\n"
     ]
    },
    {
     "name": "stdout",
     "output_type": "stream",
     "text": [
      "Downloading URL https://mast.stsci.edu/api/v0.1/Download/file?uri=mast:SDSS/eboss/7564/56804/0223/full/spec-7564-56804-0223.fits to ./mastDownload/SDSS/sdss_eboss_7564-56804-0223/spec-7564-56804-0223.fits ..."
     ]
    },
    {
     "name": "stdout",
     "output_type": "stream",
     "text": [
      " [Done]\n"
     ]
    },
    {
     "name": "stdout",
     "output_type": "stream",
     "text": [
      "Downloading URL https://mast.stsci.edu/api/v0.1/Download/file?uri=mast:SDSS/eboss/7564/56804/0229/full/spec-7564-56804-0229.fits to ./mastDownload/SDSS/sdss_eboss_7564-56804-0229/spec-7564-56804-0229.fits ..."
     ]
    },
    {
     "name": "stdout",
     "output_type": "stream",
     "text": [
      " [Done]\n"
     ]
    },
    {
     "name": "stdout",
     "output_type": "stream",
     "text": [
      "Downloading URL https://mast.stsci.edu/api/v0.1/Download/file?uri=mast:SDSS/eboss/7564/56804/0234/full/spec-7564-56804-0234.fits to ./mastDownload/SDSS/sdss_eboss_7564-56804-0234/spec-7564-56804-0234.fits ..."
     ]
    },
    {
     "name": "stdout",
     "output_type": "stream",
     "text": [
      " [Done]\n"
     ]
    },
    {
     "name": "stdout",
     "output_type": "stream",
     "text": [
      "Downloading URL https://mast.stsci.edu/api/v0.1/Download/file?uri=mast:SDSS/eboss/7564/56804/0237/full/spec-7564-56804-0237.fits to ./mastDownload/SDSS/sdss_eboss_7564-56804-0237/spec-7564-56804-0237.fits ..."
     ]
    },
    {
     "name": "stdout",
     "output_type": "stream",
     "text": [
      " [Done]\n"
     ]
    },
    {
     "name": "stdout",
     "output_type": "stream",
     "text": [
      "Downloading URL https://mast.stsci.edu/api/v0.1/Download/file?uri=mast:SDSS/eboss/7564/56804/0243/full/spec-7564-56804-0243.fits to ./mastDownload/SDSS/sdss_eboss_7564-56804-0243/spec-7564-56804-0243.fits ..."
     ]
    },
    {
     "name": "stdout",
     "output_type": "stream",
     "text": [
      " [Done]\n"
     ]
    },
    {
     "name": "stdout",
     "output_type": "stream",
     "text": [
      "Downloading URL https://mast.stsci.edu/api/v0.1/Download/file?uri=mast:SDSS/eboss/7564/56804/0252/full/spec-7564-56804-0252.fits to ./mastDownload/SDSS/sdss_eboss_7564-56804-0252/spec-7564-56804-0252.fits ..."
     ]
    },
    {
     "name": "stdout",
     "output_type": "stream",
     "text": [
      " [Done]\n"
     ]
    },
    {
     "name": "stdout",
     "output_type": "stream",
     "text": [
      "Downloading URL https://mast.stsci.edu/api/v0.1/Download/file?uri=mast:SDSS/eboss/7564/56804/0266/full/spec-7564-56804-0266.fits to ./mastDownload/SDSS/sdss_eboss_7564-56804-0266/spec-7564-56804-0266.fits ..."
     ]
    },
    {
     "name": "stdout",
     "output_type": "stream",
     "text": [
      " [Done]\n"
     ]
    },
    {
     "name": "stdout",
     "output_type": "stream",
     "text": [
      "Downloading URL https://mast.stsci.edu/api/v0.1/Download/file?uri=mast:SDSS/eboss/7564/56804/0267/full/spec-7564-56804-0267.fits to ./mastDownload/SDSS/sdss_eboss_7564-56804-0267/spec-7564-56804-0267.fits ..."
     ]
    },
    {
     "name": "stdout",
     "output_type": "stream",
     "text": [
      " [Done]\n"
     ]
    },
    {
     "name": "stdout",
     "output_type": "stream",
     "text": [
      "Downloading URL https://mast.stsci.edu/api/v0.1/Download/file?uri=mast:SDSS/eboss/7564/56804/0269/full/spec-7564-56804-0269.fits to ./mastDownload/SDSS/sdss_eboss_7564-56804-0269/spec-7564-56804-0269.fits ..."
     ]
    },
    {
     "name": "stdout",
     "output_type": "stream",
     "text": [
      " [Done]\n"
     ]
    },
    {
     "name": "stdout",
     "output_type": "stream",
     "text": [
      "Downloading URL https://mast.stsci.edu/api/v0.1/Download/file?uri=mast:SDSS/eboss/7564/56804/0304/full/spec-7564-56804-0304.fits to ./mastDownload/SDSS/sdss_eboss_7564-56804-0304/spec-7564-56804-0304.fits ..."
     ]
    },
    {
     "name": "stdout",
     "output_type": "stream",
     "text": [
      " [Done]\n"
     ]
    },
    {
     "name": "stdout",
     "output_type": "stream",
     "text": [
      "Downloading URL https://mast.stsci.edu/api/v0.1/Download/file?uri=mast:SDSS/eboss/7564/56804/0340/full/spec-7564-56804-0340.fits to ./mastDownload/SDSS/sdss_eboss_7564-56804-0340/spec-7564-56804-0340.fits ..."
     ]
    },
    {
     "name": "stdout",
     "output_type": "stream",
     "text": [
      " [Done]\n"
     ]
    },
    {
     "name": "stdout",
     "output_type": "stream",
     "text": [
      "Downloading URL https://mast.stsci.edu/api/v0.1/Download/file?uri=mast:SDSS/eboss/7564/56804/0355/full/spec-7564-56804-0355.fits to ./mastDownload/SDSS/sdss_eboss_7564-56804-0355/spec-7564-56804-0355.fits ..."
     ]
    },
    {
     "name": "stdout",
     "output_type": "stream",
     "text": [
      " [Done]\n"
     ]
    },
    {
     "name": "stdout",
     "output_type": "stream",
     "text": [
      "Downloading URL https://mast.stsci.edu/api/v0.1/Download/file?uri=mast:SDSS/eboss/7564/56804/0368/full/spec-7564-56804-0368.fits to ./mastDownload/SDSS/sdss_eboss_7564-56804-0368/spec-7564-56804-0368.fits ..."
     ]
    },
    {
     "name": "stdout",
     "output_type": "stream",
     "text": [
      " [Done]\n"
     ]
    },
    {
     "name": "stdout",
     "output_type": "stream",
     "text": [
      "Downloading URL https://mast.stsci.edu/api/v0.1/Download/file?uri=mast:SDSS/eboss/7564/56804/0392/full/spec-7564-56804-0392.fits to ./mastDownload/SDSS/sdss_eboss_7564-56804-0392/spec-7564-56804-0392.fits ..."
     ]
    },
    {
     "name": "stdout",
     "output_type": "stream",
     "text": [
      " [Done]\n"
     ]
    },
    {
     "name": "stdout",
     "output_type": "stream",
     "text": [
      "Downloading URL https://mast.stsci.edu/api/v0.1/Download/file?uri=mast:SDSS/eboss/7564/56804/0393/full/spec-7564-56804-0393.fits to ./mastDownload/SDSS/sdss_eboss_7564-56804-0393/spec-7564-56804-0393.fits ..."
     ]
    },
    {
     "name": "stdout",
     "output_type": "stream",
     "text": [
      " [Done]\n"
     ]
    },
    {
     "name": "stdout",
     "output_type": "stream",
     "text": [
      "Downloading URL https://mast.stsci.edu/api/v0.1/Download/file?uri=mast:SDSS/eboss/7564/56804/0436/full/spec-7564-56804-0436.fits to ./mastDownload/SDSS/sdss_eboss_7564-56804-0436/spec-7564-56804-0436.fits ..."
     ]
    },
    {
     "name": "stdout",
     "output_type": "stream",
     "text": [
      " [Done]\n"
     ]
    },
    {
     "name": "stdout",
     "output_type": "stream",
     "text": [
      "Downloading URL https://mast.stsci.edu/api/v0.1/Download/file?uri=mast:SDSS/eboss/7564/56804/0499/full/spec-7564-56804-0499.fits to ./mastDownload/SDSS/sdss_eboss_7564-56804-0499/spec-7564-56804-0499.fits ..."
     ]
    },
    {
     "name": "stdout",
     "output_type": "stream",
     "text": [
      " [Done]\n"
     ]
    },
    {
     "name": "stdout",
     "output_type": "stream",
     "text": [
      "Downloading URL https://mast.stsci.edu/api/v0.1/Download/file?uri=mast:SDSS/eboss/7564/56804/0520/full/spec-7564-56804-0520.fits to ./mastDownload/SDSS/sdss_eboss_7564-56804-0520/spec-7564-56804-0520.fits ..."
     ]
    },
    {
     "name": "stdout",
     "output_type": "stream",
     "text": [
      " [Done]\n"
     ]
    },
    {
     "name": "stdout",
     "output_type": "stream",
     "text": [
      "Downloading URL https://mast.stsci.edu/api/v0.1/Download/file?uri=mast:SDSS/eboss/7564/56804/0537/full/spec-7564-56804-0537.fits to ./mastDownload/SDSS/sdss_eboss_7564-56804-0537/spec-7564-56804-0537.fits ..."
     ]
    },
    {
     "name": "stdout",
     "output_type": "stream",
     "text": [
      " [Done]\n"
     ]
    },
    {
     "name": "stdout",
     "output_type": "stream",
     "text": [
      "Downloading URL https://mast.stsci.edu/api/v0.1/Download/file?uri=mast:SDSS/eboss/7564/56804/0589/full/spec-7564-56804-0589.fits to ./mastDownload/SDSS/sdss_eboss_7564-56804-0589/spec-7564-56804-0589.fits ..."
     ]
    },
    {
     "name": "stdout",
     "output_type": "stream",
     "text": [
      " [Done]\n"
     ]
    },
    {
     "name": "stdout",
     "output_type": "stream",
     "text": [
      "Downloading URL https://mast.stsci.edu/api/v0.1/Download/file?uri=mast:SDSS/eboss/7564/56804/0594/full/spec-7564-56804-0594.fits to ./mastDownload/SDSS/sdss_eboss_7564-56804-0594/spec-7564-56804-0594.fits ..."
     ]
    },
    {
     "name": "stdout",
     "output_type": "stream",
     "text": [
      " [Done]\n"
     ]
    },
    {
     "name": "stdout",
     "output_type": "stream",
     "text": [
      "Downloading URL https://mast.stsci.edu/api/v0.1/Download/file?uri=mast:SDSS/eboss/7564/56804/0608/full/spec-7564-56804-0608.fits to ./mastDownload/SDSS/sdss_eboss_7564-56804-0608/spec-7564-56804-0608.fits ..."
     ]
    },
    {
     "name": "stdout",
     "output_type": "stream",
     "text": [
      " [Done]\n"
     ]
    },
    {
     "name": "stdout",
     "output_type": "stream",
     "text": [
      "Downloading URL https://mast.stsci.edu/api/v0.1/Download/file?uri=mast:SDSS/eboss/7564/56804/0610/full/spec-7564-56804-0610.fits to ./mastDownload/SDSS/sdss_eboss_7564-56804-0610/spec-7564-56804-0610.fits ..."
     ]
    },
    {
     "name": "stdout",
     "output_type": "stream",
     "text": [
      " [Done]\n"
     ]
    },
    {
     "name": "stdout",
     "output_type": "stream",
     "text": [
      "Downloading URL https://mast.stsci.edu/api/v0.1/Download/file?uri=mast:SDSS/eboss/7564/56804/0612/full/spec-7564-56804-0612.fits to ./mastDownload/SDSS/sdss_eboss_7564-56804-0612/spec-7564-56804-0612.fits ..."
     ]
    },
    {
     "name": "stdout",
     "output_type": "stream",
     "text": [
      " [Done]\n"
     ]
    },
    {
     "name": "stdout",
     "output_type": "stream",
     "text": [
      "Downloading URL https://mast.stsci.edu/api/v0.1/Download/file?uri=mast:SDSS/eboss/7564/56804/0618/full/spec-7564-56804-0618.fits to ./mastDownload/SDSS/sdss_eboss_7564-56804-0618/spec-7564-56804-0618.fits ..."
     ]
    },
    {
     "name": "stdout",
     "output_type": "stream",
     "text": [
      " [Done]\n"
     ]
    },
    {
     "name": "stdout",
     "output_type": "stream",
     "text": [
      "Downloading URL https://mast.stsci.edu/api/v0.1/Download/file?uri=mast:SDSS/eboss/7564/56804/0621/full/spec-7564-56804-0621.fits to ./mastDownload/SDSS/sdss_eboss_7564-56804-0621/spec-7564-56804-0621.fits ..."
     ]
    },
    {
     "name": "stdout",
     "output_type": "stream",
     "text": [
      " [Done]\n"
     ]
    },
    {
     "name": "stdout",
     "output_type": "stream",
     "text": [
      "Downloading URL https://mast.stsci.edu/api/v0.1/Download/file?uri=mast:SDSS/eboss/7564/56804/0623/full/spec-7564-56804-0623.fits to ./mastDownload/SDSS/sdss_eboss_7564-56804-0623/spec-7564-56804-0623.fits ..."
     ]
    },
    {
     "name": "stdout",
     "output_type": "stream",
     "text": [
      " [Done]\n"
     ]
    },
    {
     "name": "stdout",
     "output_type": "stream",
     "text": [
      "Downloading URL https://mast.stsci.edu/api/v0.1/Download/file?uri=mast:SDSS/eboss/7564/56804/0626/full/spec-7564-56804-0626.fits to ./mastDownload/SDSS/sdss_eboss_7564-56804-0626/spec-7564-56804-0626.fits ..."
     ]
    },
    {
     "name": "stdout",
     "output_type": "stream",
     "text": [
      " [Done]\n"
     ]
    },
    {
     "name": "stdout",
     "output_type": "stream",
     "text": [
      "Downloading URL https://mast.stsci.edu/api/v0.1/Download/file?uri=mast:SDSS/eboss/7564/56804/0655/full/spec-7564-56804-0655.fits to ./mastDownload/SDSS/sdss_eboss_7564-56804-0655/spec-7564-56804-0655.fits ..."
     ]
    },
    {
     "name": "stdout",
     "output_type": "stream",
     "text": [
      " [Done]\n"
     ]
    },
    {
     "name": "stdout",
     "output_type": "stream",
     "text": [
      "Downloading URL https://mast.stsci.edu/api/v0.1/Download/file?uri=mast:SDSS/eboss/7564/56804/0673/full/spec-7564-56804-0673.fits to ./mastDownload/SDSS/sdss_eboss_7564-56804-0673/spec-7564-56804-0673.fits ..."
     ]
    },
    {
     "name": "stdout",
     "output_type": "stream",
     "text": [
      " [Done]\n"
     ]
    },
    {
     "name": "stdout",
     "output_type": "stream",
     "text": [
      "Downloading URL https://mast.stsci.edu/api/v0.1/Download/file?uri=mast:SDSS/eboss/7564/56804/0675/full/spec-7564-56804-0675.fits to ./mastDownload/SDSS/sdss_eboss_7564-56804-0675/spec-7564-56804-0675.fits ..."
     ]
    },
    {
     "name": "stdout",
     "output_type": "stream",
     "text": [
      " [Done]\n"
     ]
    },
    {
     "name": "stdout",
     "output_type": "stream",
     "text": [
      "Downloading URL https://mast.stsci.edu/api/v0.1/Download/file?uri=mast:SDSS/eboss/7564/56804/0677/full/spec-7564-56804-0677.fits to ./mastDownload/SDSS/sdss_eboss_7564-56804-0677/spec-7564-56804-0677.fits ..."
     ]
    },
    {
     "name": "stdout",
     "output_type": "stream",
     "text": [
      " [Done]\n"
     ]
    },
    {
     "name": "stdout",
     "output_type": "stream",
     "text": [
      "Downloading URL https://mast.stsci.edu/api/v0.1/Download/file?uri=mast:SDSS/eboss/7564/56804/0694/full/spec-7564-56804-0694.fits to ./mastDownload/SDSS/sdss_eboss_7564-56804-0694/spec-7564-56804-0694.fits ..."
     ]
    },
    {
     "name": "stdout",
     "output_type": "stream",
     "text": [
      " [Done]\n"
     ]
    },
    {
     "name": "stdout",
     "output_type": "stream",
     "text": [
      "Downloading URL https://mast.stsci.edu/api/v0.1/Download/file?uri=mast:SDSS/eboss/7564/56804/0696/full/spec-7564-56804-0696.fits to ./mastDownload/SDSS/sdss_eboss_7564-56804-0696/spec-7564-56804-0696.fits ..."
     ]
    },
    {
     "name": "stdout",
     "output_type": "stream",
     "text": [
      " [Done]\n"
     ]
    },
    {
     "name": "stdout",
     "output_type": "stream",
     "text": [
      "Downloading URL https://mast.stsci.edu/api/v0.1/Download/file?uri=mast:SDSS/eboss/7564/56804/0719/full/spec-7564-56804-0719.fits to ./mastDownload/SDSS/sdss_eboss_7564-56804-0719/spec-7564-56804-0719.fits ..."
     ]
    },
    {
     "name": "stdout",
     "output_type": "stream",
     "text": [
      " [Done]\n"
     ]
    },
    {
     "name": "stdout",
     "output_type": "stream",
     "text": [
      "Downloading URL https://mast.stsci.edu/api/v0.1/Download/file?uri=mast:SDSS/eboss/7564/56804/0735/full/spec-7564-56804-0735.fits to ./mastDownload/SDSS/sdss_eboss_7564-56804-0735/spec-7564-56804-0735.fits ..."
     ]
    },
    {
     "name": "stdout",
     "output_type": "stream",
     "text": [
      " [Done]\n"
     ]
    },
    {
     "name": "stdout",
     "output_type": "stream",
     "text": [
      "Downloading URL https://mast.stsci.edu/api/v0.1/Download/file?uri=mast:SDSS/eboss/7564/56804/0744/full/spec-7564-56804-0744.fits to ./mastDownload/SDSS/sdss_eboss_7564-56804-0744/spec-7564-56804-0744.fits ..."
     ]
    },
    {
     "name": "stdout",
     "output_type": "stream",
     "text": [
      " [Done]\n"
     ]
    },
    {
     "name": "stdout",
     "output_type": "stream",
     "text": [
      "Downloading URL https://mast.stsci.edu/api/v0.1/Download/file?uri=mast:SDSS/eboss/7564/56804/0765/full/spec-7564-56804-0765.fits to ./mastDownload/SDSS/sdss_eboss_7564-56804-0765/spec-7564-56804-0765.fits ..."
     ]
    },
    {
     "name": "stdout",
     "output_type": "stream",
     "text": [
      " [Done]\n"
     ]
    },
    {
     "name": "stdout",
     "output_type": "stream",
     "text": [
      "Downloading URL https://mast.stsci.edu/api/v0.1/Download/file?uri=mast:SDSS/eboss/7564/56804/0766/full/spec-7564-56804-0766.fits to ./mastDownload/SDSS/sdss_eboss_7564-56804-0766/spec-7564-56804-0766.fits ..."
     ]
    },
    {
     "name": "stdout",
     "output_type": "stream",
     "text": [
      " [Done]\n"
     ]
    },
    {
     "name": "stdout",
     "output_type": "stream",
     "text": [
      "Downloading URL https://mast.stsci.edu/api/v0.1/Download/file?uri=mast:SDSS/eboss/7564/56804/0774/full/spec-7564-56804-0774.fits to ./mastDownload/SDSS/sdss_eboss_7564-56804-0774/spec-7564-56804-0774.fits ..."
     ]
    },
    {
     "name": "stdout",
     "output_type": "stream",
     "text": [
      " [Done]\n"
     ]
    },
    {
     "name": "stdout",
     "output_type": "stream",
     "text": [
      "Downloading URL https://mast.stsci.edu/api/v0.1/Download/file?uri=mast:SDSS/eboss/7564/56804/0777/full/spec-7564-56804-0777.fits to ./mastDownload/SDSS/sdss_eboss_7564-56804-0777/spec-7564-56804-0777.fits ..."
     ]
    },
    {
     "name": "stdout",
     "output_type": "stream",
     "text": [
      " [Done]\n"
     ]
    },
    {
     "name": "stdout",
     "output_type": "stream",
     "text": [
      "Downloading URL https://mast.stsci.edu/api/v0.1/Download/file?uri=mast:SDSS/eboss/7564/56804/0790/full/spec-7564-56804-0790.fits to ./mastDownload/SDSS/sdss_eboss_7564-56804-0790/spec-7564-56804-0790.fits ..."
     ]
    },
    {
     "name": "stdout",
     "output_type": "stream",
     "text": [
      " [Done]\n"
     ]
    },
    {
     "name": "stdout",
     "output_type": "stream",
     "text": [
      "Downloading URL https://mast.stsci.edu/api/v0.1/Download/file?uri=mast:SDSS/eboss/7564/56804/0794/full/spec-7564-56804-0794.fits to ./mastDownload/SDSS/sdss_eboss_7564-56804-0794/spec-7564-56804-0794.fits ..."
     ]
    },
    {
     "name": "stdout",
     "output_type": "stream",
     "text": [
      " [Done]\n"
     ]
    },
    {
     "name": "stdout",
     "output_type": "stream",
     "text": [
      "Downloading URL https://mast.stsci.edu/api/v0.1/Download/file?uri=mast:SDSS/eboss/7564/56804/0800/full/spec-7564-56804-0800.fits to ./mastDownload/SDSS/sdss_eboss_7564-56804-0800/spec-7564-56804-0800.fits ..."
     ]
    },
    {
     "name": "stdout",
     "output_type": "stream",
     "text": [
      " [Done]\n"
     ]
    },
    {
     "name": "stdout",
     "output_type": "stream",
     "text": [
      "Downloading URL https://mast.stsci.edu/api/v0.1/Download/file?uri=mast:SDSS/eboss/7564/56804/0813/full/spec-7564-56804-0813.fits to ./mastDownload/SDSS/sdss_eboss_7564-56804-0813/spec-7564-56804-0813.fits ..."
     ]
    },
    {
     "name": "stdout",
     "output_type": "stream",
     "text": [
      " [Done]\n"
     ]
    },
    {
     "name": "stdout",
     "output_type": "stream",
     "text": [
      "Downloading URL https://mast.stsci.edu/api/v0.1/Download/file?uri=mast:SDSS/eboss/7564/56804/0818/full/spec-7564-56804-0818.fits to ./mastDownload/SDSS/sdss_eboss_7564-56804-0818/spec-7564-56804-0818.fits ..."
     ]
    },
    {
     "name": "stdout",
     "output_type": "stream",
     "text": [
      " [Done]\n"
     ]
    },
    {
     "name": "stdout",
     "output_type": "stream",
     "text": [
      "Downloading URL https://mast.stsci.edu/api/v0.1/Download/file?uri=mast:SDSS/eboss/7564/56804/0832/full/spec-7564-56804-0832.fits to ./mastDownload/SDSS/sdss_eboss_7564-56804-0832/spec-7564-56804-0832.fits ..."
     ]
    },
    {
     "name": "stdout",
     "output_type": "stream",
     "text": [
      " [Done]\n"
     ]
    },
    {
     "name": "stdout",
     "output_type": "stream",
     "text": [
      "Downloading URL https://mast.stsci.edu/api/v0.1/Download/file?uri=mast:SDSS/eboss/7564/56804/0835/full/spec-7564-56804-0835.fits to ./mastDownload/SDSS/sdss_eboss_7564-56804-0835/spec-7564-56804-0835.fits ..."
     ]
    },
    {
     "name": "stdout",
     "output_type": "stream",
     "text": [
      " [Done]\n"
     ]
    },
    {
     "name": "stdout",
     "output_type": "stream",
     "text": [
      "Downloading URL https://mast.stsci.edu/api/v0.1/Download/file?uri=mast:SDSS/eboss/7564/56804/0836/full/spec-7564-56804-0836.fits to ./mastDownload/SDSS/sdss_eboss_7564-56804-0836/spec-7564-56804-0836.fits ..."
     ]
    },
    {
     "name": "stdout",
     "output_type": "stream",
     "text": [
      " [Done]\n"
     ]
    },
    {
     "name": "stdout",
     "output_type": "stream",
     "text": [
      "Downloading URL https://mast.stsci.edu/api/v0.1/Download/file?uri=mast:SDSS/eboss/7564/56804/0843/full/spec-7564-56804-0843.fits to ./mastDownload/SDSS/sdss_eboss_7564-56804-0843/spec-7564-56804-0843.fits ..."
     ]
    },
    {
     "name": "stdout",
     "output_type": "stream",
     "text": [
      " [Done]\n"
     ]
    },
    {
     "name": "stdout",
     "output_type": "stream",
     "text": [
      "Downloading URL https://mast.stsci.edu/api/v0.1/Download/file?uri=mast:SDSS/eboss/7564/56804/0850/full/spec-7564-56804-0850.fits to ./mastDownload/SDSS/sdss_eboss_7564-56804-0850/spec-7564-56804-0850.fits ..."
     ]
    },
    {
     "name": "stdout",
     "output_type": "stream",
     "text": [
      " [Done]\n"
     ]
    },
    {
     "name": "stdout",
     "output_type": "stream",
     "text": [
      "Downloading URL https://mast.stsci.edu/api/v0.1/Download/file?uri=mast:SDSS/eboss/7564/56804/0851/full/spec-7564-56804-0851.fits to ./mastDownload/SDSS/sdss_eboss_7564-56804-0851/spec-7564-56804-0851.fits ..."
     ]
    },
    {
     "name": "stdout",
     "output_type": "stream",
     "text": [
      " [Done]\n"
     ]
    },
    {
     "name": "stdout",
     "output_type": "stream",
     "text": [
      "Downloading URL https://mast.stsci.edu/api/v0.1/Download/file?uri=mast:SDSS/eboss/7564/56804/0881/full/spec-7564-56804-0881.fits to ./mastDownload/SDSS/sdss_eboss_7564-56804-0881/spec-7564-56804-0881.fits ..."
     ]
    },
    {
     "name": "stdout",
     "output_type": "stream",
     "text": [
      " [Done]\n"
     ]
    },
    {
     "name": "stdout",
     "output_type": "stream",
     "text": [
      "Downloading URL https://mast.stsci.edu/api/v0.1/Download/file?uri=mast:SDSS/eboss/7564/56804/0888/full/spec-7564-56804-0888.fits to ./mastDownload/SDSS/sdss_eboss_7564-56804-0888/spec-7564-56804-0888.fits ..."
     ]
    },
    {
     "name": "stdout",
     "output_type": "stream",
     "text": [
      " [Done]\n"
     ]
    },
    {
     "name": "stdout",
     "output_type": "stream",
     "text": [
      "Downloading URL https://mast.stsci.edu/api/v0.1/Download/file?uri=mast:SDSS/eboss/7564/56804/0890/full/spec-7564-56804-0890.fits to ./mastDownload/SDSS/sdss_eboss_7564-56804-0890/spec-7564-56804-0890.fits ..."
     ]
    },
    {
     "name": "stdout",
     "output_type": "stream",
     "text": [
      " [Done]\n"
     ]
    },
    {
     "name": "stdout",
     "output_type": "stream",
     "text": [
      "Downloading URL https://mast.stsci.edu/api/v0.1/Download/file?uri=mast:SDSS/eboss/7564/56804/0915/full/spec-7564-56804-0915.fits to ./mastDownload/SDSS/sdss_eboss_7564-56804-0915/spec-7564-56804-0915.fits ..."
     ]
    },
    {
     "name": "stdout",
     "output_type": "stream",
     "text": [
      " [Done]\n"
     ]
    },
    {
     "name": "stdout",
     "output_type": "stream",
     "text": [
      "Downloading URL https://mast.stsci.edu/api/v0.1/Download/file?uri=mast:SDSS/eboss/7564/56804/0923/full/spec-7564-56804-0923.fits to ./mastDownload/SDSS/sdss_eboss_7564-56804-0923/spec-7564-56804-0923.fits ..."
     ]
    },
    {
     "name": "stdout",
     "output_type": "stream",
     "text": [
      " [Done]\n"
     ]
    },
    {
     "name": "stdout",
     "output_type": "stream",
     "text": [
      "Downloading URL https://mast.stsci.edu/api/v0.1/Download/file?uri=mast:SDSS/eboss/7564/56804/0926/full/spec-7564-56804-0926.fits to ./mastDownload/SDSS/sdss_eboss_7564-56804-0926/spec-7564-56804-0926.fits ..."
     ]
    },
    {
     "name": "stdout",
     "output_type": "stream",
     "text": [
      " [Done]\n"
     ]
    },
    {
     "name": "stdout",
     "output_type": "stream",
     "text": [
      "Downloading URL https://mast.stsci.edu/api/v0.1/Download/file?uri=mast:SDSS/eboss/7564/56804/0933/full/spec-7564-56804-0933.fits to ./mastDownload/SDSS/sdss_eboss_7564-56804-0933/spec-7564-56804-0933.fits ..."
     ]
    },
    {
     "name": "stdout",
     "output_type": "stream",
     "text": [
      " [Done]\n"
     ]
    },
    {
     "name": "stdout",
     "output_type": "stream",
     "text": [
      "Downloading URL https://mast.stsci.edu/api/v0.1/Download/file?uri=mast:SDSS/eboss/7564/56804/0937/full/spec-7564-56804-0937.fits to ./mastDownload/SDSS/sdss_eboss_7564-56804-0937/spec-7564-56804-0937.fits ..."
     ]
    },
    {
     "name": "stdout",
     "output_type": "stream",
     "text": [
      " [Done]\n"
     ]
    },
    {
     "name": "stdout",
     "output_type": "stream",
     "text": [
      "Downloading URL https://mast.stsci.edu/api/v0.1/Download/file?uri=mast:SDSS/eboss/7564/56804/0949/full/spec-7564-56804-0949.fits to ./mastDownload/SDSS/sdss_eboss_7564-56804-0949/spec-7564-56804-0949.fits ..."
     ]
    },
    {
     "name": "stdout",
     "output_type": "stream",
     "text": [
      " [Done]\n"
     ]
    },
    {
     "name": "stdout",
     "output_type": "stream",
     "text": [
      "Downloading URL https://mast.stsci.edu/api/v0.1/Download/file?uri=mast:SDSS/eboss/7564/56804/0959/full/spec-7564-56804-0959.fits to ./mastDownload/SDSS/sdss_eboss_7564-56804-0959/spec-7564-56804-0959.fits ..."
     ]
    },
    {
     "name": "stdout",
     "output_type": "stream",
     "text": [
      " [Done]\n"
     ]
    },
    {
     "name": "stdout",
     "output_type": "stream",
     "text": [
      "Downloading URL https://mast.stsci.edu/api/v0.1/Download/file?uri=mast:SDSS/eboss/7564/56804/0970/full/spec-7564-56804-0970.fits to ./mastDownload/SDSS/sdss_eboss_7564-56804-0970/spec-7564-56804-0970.fits ..."
     ]
    },
    {
     "name": "stdout",
     "output_type": "stream",
     "text": [
      " [Done]\n"
     ]
    },
    {
     "name": "stdout",
     "output_type": "stream",
     "text": [
      "Downloading URL https://mast.stsci.edu/api/v0.1/Download/file?uri=mast:SDSS/eboss/7564/56804/0974/full/spec-7564-56804-0974.fits to ./mastDownload/SDSS/sdss_eboss_7564-56804-0974/spec-7564-56804-0974.fits ..."
     ]
    },
    {
     "name": "stdout",
     "output_type": "stream",
     "text": [
      " [Done]\n"
     ]
    },
    {
     "name": "stdout",
     "output_type": "stream",
     "text": [
      "Downloading URL https://mast.stsci.edu/api/v0.1/Download/file?uri=mast:SDSS/eboss/7564/56804/0986/full/spec-7564-56804-0986.fits to ./mastDownload/SDSS/sdss_eboss_7564-56804-0986/spec-7564-56804-0986.fits ..."
     ]
    },
    {
     "name": "stdout",
     "output_type": "stream",
     "text": [
      " [Done]\n"
     ]
    },
    {
     "name": "stdout",
     "output_type": "stream",
     "text": [
      "Downloading URL https://mast.stsci.edu/api/v0.1/Download/file?uri=mast:SDSS/eboss/7564/56804/0997/full/spec-7564-56804-0997.fits to ./mastDownload/SDSS/sdss_eboss_7564-56804-0997/spec-7564-56804-0997.fits ..."
     ]
    },
    {
     "name": "stdout",
     "output_type": "stream",
     "text": [
      " [Done]\n"
     ]
    },
    {
     "name": "stdout",
     "output_type": "stream",
     "text": [
      "Downloading URL https://mast.stsci.edu/api/v0.1/Download/file?uri=mast:SDSS/eboss/7564/56804/1000/full/spec-7564-56804-1000.fits to ./mastDownload/SDSS/sdss_eboss_7564-56804-1000/spec-7564-56804-1000.fits ..."
     ]
    },
    {
     "name": "stdout",
     "output_type": "stream",
     "text": [
      " [Done]\n"
     ]
    },
    {
     "name": "stdout",
     "output_type": "stream",
     "text": [
      "Downloading URL https://mast.stsci.edu/api/v0.1/Download/file?uri=mast:SDSS/eboss/7565/56809/0071/full/spec-7565-56809-0071.fits to ./mastDownload/SDSS/sdss_eboss_7565-56809-0071/spec-7565-56809-0071.fits ..."
     ]
    },
    {
     "name": "stdout",
     "output_type": "stream",
     "text": [
      " [Done]\n"
     ]
    },
    {
     "name": "stdout",
     "output_type": "stream",
     "text": [
      "Downloading URL https://mast.stsci.edu/api/v0.1/Download/file?uri=mast:SDSS/eboss/7565/56809/0108/full/spec-7565-56809-0108.fits to ./mastDownload/SDSS/sdss_eboss_7565-56809-0108/spec-7565-56809-0108.fits ..."
     ]
    },
    {
     "name": "stdout",
     "output_type": "stream",
     "text": [
      " [Done]\n"
     ]
    },
    {
     "name": "stdout",
     "output_type": "stream",
     "text": [
      "Downloading URL https://mast.stsci.edu/api/v0.1/Download/file?uri=mast:SDSS/eboss/7565/56809/0115/full/spec-7565-56809-0115.fits to ./mastDownload/SDSS/sdss_eboss_7565-56809-0115/spec-7565-56809-0115.fits ..."
     ]
    },
    {
     "name": "stdout",
     "output_type": "stream",
     "text": [
      " [Done]\n"
     ]
    },
    {
     "name": "stdout",
     "output_type": "stream",
     "text": [
      "Downloading URL https://mast.stsci.edu/api/v0.1/Download/file?uri=mast:SDSS/eboss/7565/56809/0144/full/spec-7565-56809-0144.fits to ./mastDownload/SDSS/sdss_eboss_7565-56809-0144/spec-7565-56809-0144.fits ..."
     ]
    },
    {
     "name": "stdout",
     "output_type": "stream",
     "text": [
      " [Done]\n"
     ]
    },
    {
     "name": "stdout",
     "output_type": "stream",
     "text": [
      "Downloading URL https://mast.stsci.edu/api/v0.1/Download/file?uri=mast:SDSS/eboss/7565/56809/0149/full/spec-7565-56809-0149.fits to ./mastDownload/SDSS/sdss_eboss_7565-56809-0149/spec-7565-56809-0149.fits ..."
     ]
    },
    {
     "name": "stdout",
     "output_type": "stream",
     "text": [
      " [Done]\n"
     ]
    },
    {
     "name": "stdout",
     "output_type": "stream",
     "text": [
      "Downloading URL https://mast.stsci.edu/api/v0.1/Download/file?uri=mast:SDSS/eboss/7565/56809/0150/full/spec-7565-56809-0150.fits to ./mastDownload/SDSS/sdss_eboss_7565-56809-0150/spec-7565-56809-0150.fits ..."
     ]
    },
    {
     "name": "stdout",
     "output_type": "stream",
     "text": [
      " [Done]\n"
     ]
    },
    {
     "name": "stdout",
     "output_type": "stream",
     "text": [
      "Downloading URL https://mast.stsci.edu/api/v0.1/Download/file?uri=mast:SDSS/eboss/7565/56809/0159/full/spec-7565-56809-0159.fits to ./mastDownload/SDSS/sdss_eboss_7565-56809-0159/spec-7565-56809-0159.fits ..."
     ]
    },
    {
     "name": "stdout",
     "output_type": "stream",
     "text": [
      " [Done]\n"
     ]
    },
    {
     "name": "stdout",
     "output_type": "stream",
     "text": [
      "Downloading URL https://mast.stsci.edu/api/v0.1/Download/file?uri=mast:SDSS/eboss/7565/56809/0160/full/spec-7565-56809-0160.fits to ./mastDownload/SDSS/sdss_eboss_7565-56809-0160/spec-7565-56809-0160.fits ..."
     ]
    },
    {
     "name": "stdout",
     "output_type": "stream",
     "text": [
      " [Done]\n"
     ]
    },
    {
     "name": "stdout",
     "output_type": "stream",
     "text": [
      "Downloading URL https://mast.stsci.edu/api/v0.1/Download/file?uri=mast:SDSS/eboss/7565/56809/0173/full/spec-7565-56809-0173.fits to ./mastDownload/SDSS/sdss_eboss_7565-56809-0173/spec-7565-56809-0173.fits ..."
     ]
    },
    {
     "name": "stdout",
     "output_type": "stream",
     "text": [
      " [Done]\n"
     ]
    },
    {
     "name": "stdout",
     "output_type": "stream",
     "text": [
      "Downloading URL https://mast.stsci.edu/api/v0.1/Download/file?uri=mast:SDSS/eboss/7565/56809/0185/full/spec-7565-56809-0185.fits to ./mastDownload/SDSS/sdss_eboss_7565-56809-0185/spec-7565-56809-0185.fits ..."
     ]
    },
    {
     "name": "stdout",
     "output_type": "stream",
     "text": [
      " [Done]\n"
     ]
    },
    {
     "name": "stdout",
     "output_type": "stream",
     "text": [
      "Downloading URL https://mast.stsci.edu/api/v0.1/Download/file?uri=mast:SDSS/eboss/7565/56809/0210/full/spec-7565-56809-0210.fits to ./mastDownload/SDSS/sdss_eboss_7565-56809-0210/spec-7565-56809-0210.fits ..."
     ]
    },
    {
     "name": "stdout",
     "output_type": "stream",
     "text": [
      " [Done]\n"
     ]
    },
    {
     "name": "stdout",
     "output_type": "stream",
     "text": [
      "Downloading URL https://mast.stsci.edu/api/v0.1/Download/file?uri=mast:SDSS/eboss/7565/56809/0213/full/spec-7565-56809-0213.fits to ./mastDownload/SDSS/sdss_eboss_7565-56809-0213/spec-7565-56809-0213.fits ..."
     ]
    },
    {
     "name": "stdout",
     "output_type": "stream",
     "text": [
      " [Done]\n"
     ]
    },
    {
     "name": "stdout",
     "output_type": "stream",
     "text": [
      "Downloading URL https://mast.stsci.edu/api/v0.1/Download/file?uri=mast:SDSS/eboss/7565/56809/0220/full/spec-7565-56809-0220.fits to ./mastDownload/SDSS/sdss_eboss_7565-56809-0220/spec-7565-56809-0220.fits ..."
     ]
    },
    {
     "name": "stdout",
     "output_type": "stream",
     "text": [
      " [Done]\n"
     ]
    },
    {
     "name": "stdout",
     "output_type": "stream",
     "text": [
      "Downloading URL https://mast.stsci.edu/api/v0.1/Download/file?uri=mast:SDSS/eboss/7565/56809/0233/full/spec-7565-56809-0233.fits to ./mastDownload/SDSS/sdss_eboss_7565-56809-0233/spec-7565-56809-0233.fits ..."
     ]
    },
    {
     "name": "stdout",
     "output_type": "stream",
     "text": [
      " [Done]\n"
     ]
    },
    {
     "name": "stdout",
     "output_type": "stream",
     "text": [
      "Downloading URL https://mast.stsci.edu/api/v0.1/Download/file?uri=mast:SDSS/eboss/7565/56809/0236/full/spec-7565-56809-0236.fits to ./mastDownload/SDSS/sdss_eboss_7565-56809-0236/spec-7565-56809-0236.fits ..."
     ]
    },
    {
     "name": "stdout",
     "output_type": "stream",
     "text": [
      " [Done]\n"
     ]
    },
    {
     "name": "stdout",
     "output_type": "stream",
     "text": [
      "Downloading URL https://mast.stsci.edu/api/v0.1/Download/file?uri=mast:SDSS/eboss/7565/56809/0238/full/spec-7565-56809-0238.fits to ./mastDownload/SDSS/sdss_eboss_7565-56809-0238/spec-7565-56809-0238.fits ..."
     ]
    },
    {
     "name": "stdout",
     "output_type": "stream",
     "text": [
      " [Done]\n"
     ]
    },
    {
     "name": "stdout",
     "output_type": "stream",
     "text": [
      "Downloading URL https://mast.stsci.edu/api/v0.1/Download/file?uri=mast:SDSS/eboss/7565/56809/0241/full/spec-7565-56809-0241.fits to ./mastDownload/SDSS/sdss_eboss_7565-56809-0241/spec-7565-56809-0241.fits ..."
     ]
    },
    {
     "name": "stdout",
     "output_type": "stream",
     "text": [
      " [Done]\n"
     ]
    },
    {
     "name": "stdout",
     "output_type": "stream",
     "text": [
      "Downloading URL https://mast.stsci.edu/api/v0.1/Download/file?uri=mast:SDSS/eboss/7565/56809/0242/full/spec-7565-56809-0242.fits to ./mastDownload/SDSS/sdss_eboss_7565-56809-0242/spec-7565-56809-0242.fits ..."
     ]
    },
    {
     "name": "stdout",
     "output_type": "stream",
     "text": [
      " [Done]\n"
     ]
    },
    {
     "name": "stdout",
     "output_type": "stream",
     "text": [
      "Downloading URL https://mast.stsci.edu/api/v0.1/Download/file?uri=mast:SDSS/eboss/7565/56809/0253/full/spec-7565-56809-0253.fits to ./mastDownload/SDSS/sdss_eboss_7565-56809-0253/spec-7565-56809-0253.fits ..."
     ]
    },
    {
     "name": "stdout",
     "output_type": "stream",
     "text": [
      " [Done]\n"
     ]
    },
    {
     "name": "stdout",
     "output_type": "stream",
     "text": [
      "Downloading URL https://mast.stsci.edu/api/v0.1/Download/file?uri=mast:SDSS/eboss/7565/56809/0272/full/spec-7565-56809-0272.fits to ./mastDownload/SDSS/sdss_eboss_7565-56809-0272/spec-7565-56809-0272.fits ..."
     ]
    },
    {
     "name": "stdout",
     "output_type": "stream",
     "text": [
      " [Done]\n"
     ]
    },
    {
     "name": "stdout",
     "output_type": "stream",
     "text": [
      "Downloading URL https://mast.stsci.edu/api/v0.1/Download/file?uri=mast:SDSS/eboss/7565/56809/0284/full/spec-7565-56809-0284.fits to ./mastDownload/SDSS/sdss_eboss_7565-56809-0284/spec-7565-56809-0284.fits ..."
     ]
    },
    {
     "name": "stdout",
     "output_type": "stream",
     "text": [
      " [Done]\n"
     ]
    },
    {
     "name": "stdout",
     "output_type": "stream",
     "text": [
      "Downloading URL https://mast.stsci.edu/api/v0.1/Download/file?uri=mast:SDSS/eboss/7565/56809/0290/full/spec-7565-56809-0290.fits to ./mastDownload/SDSS/sdss_eboss_7565-56809-0290/spec-7565-56809-0290.fits ..."
     ]
    },
    {
     "name": "stdout",
     "output_type": "stream",
     "text": [
      " [Done]\n"
     ]
    },
    {
     "name": "stdout",
     "output_type": "stream",
     "text": [
      "Downloading URL https://mast.stsci.edu/api/v0.1/Download/file?uri=mast:SDSS/eboss/7565/56809/0291/full/spec-7565-56809-0291.fits to ./mastDownload/SDSS/sdss_eboss_7565-56809-0291/spec-7565-56809-0291.fits ..."
     ]
    },
    {
     "name": "stdout",
     "output_type": "stream",
     "text": [
      " [Done]\n"
     ]
    },
    {
     "name": "stdout",
     "output_type": "stream",
     "text": [
      "Downloading URL https://mast.stsci.edu/api/v0.1/Download/file?uri=mast:SDSS/eboss/7565/56809/0293/full/spec-7565-56809-0293.fits to ./mastDownload/SDSS/sdss_eboss_7565-56809-0293/spec-7565-56809-0293.fits ..."
     ]
    },
    {
     "name": "stdout",
     "output_type": "stream",
     "text": [
      " [Done]\n"
     ]
    },
    {
     "name": "stdout",
     "output_type": "stream",
     "text": [
      "Downloading URL https://mast.stsci.edu/api/v0.1/Download/file?uri=mast:SDSS/eboss/7565/56809/0309/full/spec-7565-56809-0309.fits to ./mastDownload/SDSS/sdss_eboss_7565-56809-0309/spec-7565-56809-0309.fits ..."
     ]
    },
    {
     "name": "stdout",
     "output_type": "stream",
     "text": [
      " [Done]\n"
     ]
    },
    {
     "name": "stdout",
     "output_type": "stream",
     "text": [
      "Downloading URL https://mast.stsci.edu/api/v0.1/Download/file?uri=mast:SDSS/eboss/7565/56809/0310/full/spec-7565-56809-0310.fits to ./mastDownload/SDSS/sdss_eboss_7565-56809-0310/spec-7565-56809-0310.fits ..."
     ]
    },
    {
     "name": "stdout",
     "output_type": "stream",
     "text": [
      " [Done]\n"
     ]
    },
    {
     "name": "stdout",
     "output_type": "stream",
     "text": [
      "Downloading URL https://mast.stsci.edu/api/v0.1/Download/file?uri=mast:SDSS/eboss/7565/56809/0313/full/spec-7565-56809-0313.fits to ./mastDownload/SDSS/sdss_eboss_7565-56809-0313/spec-7565-56809-0313.fits ..."
     ]
    },
    {
     "name": "stdout",
     "output_type": "stream",
     "text": [
      " [Done]\n"
     ]
    },
    {
     "name": "stdout",
     "output_type": "stream",
     "text": [
      "Downloading URL https://mast.stsci.edu/api/v0.1/Download/file?uri=mast:SDSS/eboss/7565/56809/0319/full/spec-7565-56809-0319.fits to ./mastDownload/SDSS/sdss_eboss_7565-56809-0319/spec-7565-56809-0319.fits ..."
     ]
    },
    {
     "name": "stdout",
     "output_type": "stream",
     "text": [
      " [Done]\n"
     ]
    },
    {
     "name": "stdout",
     "output_type": "stream",
     "text": [
      "Downloading URL https://mast.stsci.edu/api/v0.1/Download/file?uri=mast:SDSS/eboss/7565/56809/0321/full/spec-7565-56809-0321.fits to ./mastDownload/SDSS/sdss_eboss_7565-56809-0321/spec-7565-56809-0321.fits ..."
     ]
    },
    {
     "name": "stdout",
     "output_type": "stream",
     "text": [
      " [Done]\n"
     ]
    },
    {
     "name": "stdout",
     "output_type": "stream",
     "text": [
      "Downloading URL https://mast.stsci.edu/api/v0.1/Download/file?uri=mast:SDSS/eboss/7565/56809/0334/full/spec-7565-56809-0334.fits to ./mastDownload/SDSS/sdss_eboss_7565-56809-0334/spec-7565-56809-0334.fits ..."
     ]
    },
    {
     "name": "stdout",
     "output_type": "stream",
     "text": [
      " [Done]\n"
     ]
    },
    {
     "name": "stdout",
     "output_type": "stream",
     "text": [
      "Downloading URL https://mast.stsci.edu/api/v0.1/Download/file?uri=mast:SDSS/eboss/7565/56809/0342/full/spec-7565-56809-0342.fits to ./mastDownload/SDSS/sdss_eboss_7565-56809-0342/spec-7565-56809-0342.fits ..."
     ]
    },
    {
     "name": "stdout",
     "output_type": "stream",
     "text": [
      " [Done]\n"
     ]
    },
    {
     "name": "stdout",
     "output_type": "stream",
     "text": [
      "Downloading URL https://mast.stsci.edu/api/v0.1/Download/file?uri=mast:SDSS/eboss/7565/56809/0359/full/spec-7565-56809-0359.fits to ./mastDownload/SDSS/sdss_eboss_7565-56809-0359/spec-7565-56809-0359.fits ..."
     ]
    },
    {
     "name": "stdout",
     "output_type": "stream",
     "text": [
      " [Done]\n"
     ]
    },
    {
     "name": "stdout",
     "output_type": "stream",
     "text": [
      "Downloading URL https://mast.stsci.edu/api/v0.1/Download/file?uri=mast:SDSS/eboss/7565/56809/0408/full/spec-7565-56809-0408.fits to ./mastDownload/SDSS/sdss_eboss_7565-56809-0408/spec-7565-56809-0408.fits ..."
     ]
    },
    {
     "name": "stdout",
     "output_type": "stream",
     "text": [
      " [Done]\n"
     ]
    },
    {
     "name": "stdout",
     "output_type": "stream",
     "text": [
      "Downloading URL https://mast.stsci.edu/api/v0.1/Download/file?uri=mast:SDSS/eboss/7565/56809/0451/full/spec-7565-56809-0451.fits to ./mastDownload/SDSS/sdss_eboss_7565-56809-0451/spec-7565-56809-0451.fits ..."
     ]
    },
    {
     "name": "stdout",
     "output_type": "stream",
     "text": [
      " [Done]\n"
     ]
    },
    {
     "name": "stdout",
     "output_type": "stream",
     "text": [
      "Downloading URL https://mast.stsci.edu/api/v0.1/Download/file?uri=mast:SDSS/eboss/7565/56809/0575/full/spec-7565-56809-0575.fits to ./mastDownload/SDSS/sdss_eboss_7565-56809-0575/spec-7565-56809-0575.fits ..."
     ]
    },
    {
     "name": "stdout",
     "output_type": "stream",
     "text": [
      " [Done]\n"
     ]
    },
    {
     "name": "stdout",
     "output_type": "stream",
     "text": [
      "Downloading URL https://mast.stsci.edu/api/v0.1/Download/file?uri=mast:SDSS/eboss/7565/56809/0617/full/spec-7565-56809-0617.fits to ./mastDownload/SDSS/sdss_eboss_7565-56809-0617/spec-7565-56809-0617.fits ..."
     ]
    },
    {
     "name": "stdout",
     "output_type": "stream",
     "text": [
      " [Done]\n"
     ]
    },
    {
     "name": "stdout",
     "output_type": "stream",
     "text": [
      "Downloading URL https://mast.stsci.edu/api/v0.1/Download/file?uri=mast:SDSS/eboss/7565/56809/0625/full/spec-7565-56809-0625.fits to ./mastDownload/SDSS/sdss_eboss_7565-56809-0625/spec-7565-56809-0625.fits ..."
     ]
    },
    {
     "name": "stdout",
     "output_type": "stream",
     "text": [
      " [Done]\n"
     ]
    },
    {
     "name": "stdout",
     "output_type": "stream",
     "text": [
      "Downloading URL https://mast.stsci.edu/api/v0.1/Download/file?uri=mast:SDSS/eboss/7565/56809/0632/full/spec-7565-56809-0632.fits to ./mastDownload/SDSS/sdss_eboss_7565-56809-0632/spec-7565-56809-0632.fits ..."
     ]
    },
    {
     "name": "stdout",
     "output_type": "stream",
     "text": [
      " [Done]\n"
     ]
    },
    {
     "name": "stdout",
     "output_type": "stream",
     "text": [
      "Downloading URL https://mast.stsci.edu/api/v0.1/Download/file?uri=mast:SDSS/eboss/7565/56809/0679/full/spec-7565-56809-0679.fits to ./mastDownload/SDSS/sdss_eboss_7565-56809-0679/spec-7565-56809-0679.fits ..."
     ]
    },
    {
     "name": "stdout",
     "output_type": "stream",
     "text": [
      " [Done]\n"
     ]
    },
    {
     "name": "stdout",
     "output_type": "stream",
     "text": [
      "Downloading URL https://mast.stsci.edu/api/v0.1/Download/file?uri=mast:SDSS/eboss/7565/56809/0717/full/spec-7565-56809-0717.fits to ./mastDownload/SDSS/sdss_eboss_7565-56809-0717/spec-7565-56809-0717.fits ..."
     ]
    },
    {
     "name": "stdout",
     "output_type": "stream",
     "text": [
      " [Done]\n"
     ]
    },
    {
     "name": "stdout",
     "output_type": "stream",
     "text": [
      "Downloading URL https://mast.stsci.edu/api/v0.1/Download/file?uri=mast:SDSS/eboss/7565/56809/0718/full/spec-7565-56809-0718.fits to ./mastDownload/SDSS/sdss_eboss_7565-56809-0718/spec-7565-56809-0718.fits ..."
     ]
    },
    {
     "name": "stdout",
     "output_type": "stream",
     "text": [
      " [Done]\n"
     ]
    },
    {
     "name": "stdout",
     "output_type": "stream",
     "text": [
      "Downloading URL https://mast.stsci.edu/api/v0.1/Download/file?uri=mast:SDSS/eboss/7565/56809/0725/full/spec-7565-56809-0725.fits to ./mastDownload/SDSS/sdss_eboss_7565-56809-0725/spec-7565-56809-0725.fits ..."
     ]
    },
    {
     "name": "stdout",
     "output_type": "stream",
     "text": [
      " [Done]\n"
     ]
    },
    {
     "name": "stdout",
     "output_type": "stream",
     "text": [
      "Downloading URL https://mast.stsci.edu/api/v0.1/Download/file?uri=mast:SDSS/eboss/7565/56809/0737/full/spec-7565-56809-0737.fits to ./mastDownload/SDSS/sdss_eboss_7565-56809-0737/spec-7565-56809-0737.fits ..."
     ]
    },
    {
     "name": "stdout",
     "output_type": "stream",
     "text": [
      " [Done]\n"
     ]
    },
    {
     "name": "stdout",
     "output_type": "stream",
     "text": [
      "Downloading URL https://mast.stsci.edu/api/v0.1/Download/file?uri=mast:SDSS/eboss/7565/56809/0744/full/spec-7565-56809-0744.fits to ./mastDownload/SDSS/sdss_eboss_7565-56809-0744/spec-7565-56809-0744.fits ..."
     ]
    },
    {
     "name": "stdout",
     "output_type": "stream",
     "text": [
      " [Done]\n"
     ]
    },
    {
     "name": "stdout",
     "output_type": "stream",
     "text": [
      "Downloading URL https://mast.stsci.edu/api/v0.1/Download/file?uri=mast:SDSS/eboss/7565/56809/0797/full/spec-7565-56809-0797.fits to ./mastDownload/SDSS/sdss_eboss_7565-56809-0797/spec-7565-56809-0797.fits ..."
     ]
    },
    {
     "name": "stdout",
     "output_type": "stream",
     "text": [
      " [Done]\n"
     ]
    },
    {
     "name": "stdout",
     "output_type": "stream",
     "text": [
      "Downloading URL https://mast.stsci.edu/api/v0.1/Download/file?uri=mast:SDSS/eboss/7565/56809/0801/full/spec-7565-56809-0801.fits to ./mastDownload/SDSS/sdss_eboss_7565-56809-0801/spec-7565-56809-0801.fits ..."
     ]
    },
    {
     "name": "stdout",
     "output_type": "stream",
     "text": [
      " [Done]\n"
     ]
    },
    {
     "name": "stdout",
     "output_type": "stream",
     "text": [
      "Downloading URL https://mast.stsci.edu/api/v0.1/Download/file?uri=mast:SDSS/eboss/7565/56809/0843/full/spec-7565-56809-0843.fits to ./mastDownload/SDSS/sdss_eboss_7565-56809-0843/spec-7565-56809-0843.fits ..."
     ]
    },
    {
     "name": "stdout",
     "output_type": "stream",
     "text": [
      " [Done]\n"
     ]
    },
    {
     "name": "stdout",
     "output_type": "stream",
     "text": [
      "Downloading URL https://mast.stsci.edu/api/v0.1/Download/file?uri=mast:SDSS/eboss/7565/56809/0848/full/spec-7565-56809-0848.fits to ./mastDownload/SDSS/sdss_eboss_7565-56809-0848/spec-7565-56809-0848.fits ..."
     ]
    },
    {
     "name": "stdout",
     "output_type": "stream",
     "text": [
      " [Done]\n"
     ]
    },
    {
     "name": "stdout",
     "output_type": "stream",
     "text": [
      "Downloading URL https://mast.stsci.edu/api/v0.1/Download/file?uri=mast:SDSS/eboss/7565/56809/0857/full/spec-7565-56809-0857.fits to ./mastDownload/SDSS/sdss_eboss_7565-56809-0857/spec-7565-56809-0857.fits ..."
     ]
    },
    {
     "name": "stdout",
     "output_type": "stream",
     "text": [
      " [Done]\n"
     ]
    },
    {
     "name": "stdout",
     "output_type": "stream",
     "text": [
      "Downloading URL https://mast.stsci.edu/api/v0.1/Download/file?uri=mast:SDSS/eboss/7565/56809/0872/full/spec-7565-56809-0872.fits to ./mastDownload/SDSS/sdss_eboss_7565-56809-0872/spec-7565-56809-0872.fits ..."
     ]
    },
    {
     "name": "stdout",
     "output_type": "stream",
     "text": [
      " [Done]\n"
     ]
    },
    {
     "name": "stdout",
     "output_type": "stream",
     "text": [
      "Downloading URL https://mast.stsci.edu/api/v0.1/Download/file?uri=mast:SDSS/eboss/7565/56809/0880/full/spec-7565-56809-0880.fits to ./mastDownload/SDSS/sdss_eboss_7565-56809-0880/spec-7565-56809-0880.fits ..."
     ]
    },
    {
     "name": "stdout",
     "output_type": "stream",
     "text": [
      " [Done]\n"
     ]
    },
    {
     "name": "stdout",
     "output_type": "stream",
     "text": [
      "Downloading URL https://mast.stsci.edu/api/v0.1/Download/file?uri=mast:SDSS/eboss/7565/56809/0894/full/spec-7565-56809-0894.fits to ./mastDownload/SDSS/sdss_eboss_7565-56809-0894/spec-7565-56809-0894.fits ..."
     ]
    },
    {
     "name": "stdout",
     "output_type": "stream",
     "text": [
      " [Done]\n"
     ]
    },
    {
     "name": "stdout",
     "output_type": "stream",
     "text": [
      "Downloading URL https://mast.stsci.edu/api/v0.1/Download/file?uri=mast:SDSS/eboss/7565/56809/0897/full/spec-7565-56809-0897.fits to ./mastDownload/SDSS/sdss_eboss_7565-56809-0897/spec-7565-56809-0897.fits ..."
     ]
    },
    {
     "name": "stdout",
     "output_type": "stream",
     "text": [
      " [Done]\n"
     ]
    },
    {
     "name": "stdout",
     "output_type": "stream",
     "text": [
      "Downloading URL https://mast.stsci.edu/api/v0.1/Download/file?uri=mast:SDSS/eboss/7565/56809/0899/full/spec-7565-56809-0899.fits to ./mastDownload/SDSS/sdss_eboss_7565-56809-0899/spec-7565-56809-0899.fits ..."
     ]
    },
    {
     "name": "stdout",
     "output_type": "stream",
     "text": [
      " [Done]\n"
     ]
    },
    {
     "name": "stdout",
     "output_type": "stream",
     "text": [
      "Downloading URL https://mast.stsci.edu/api/v0.1/Download/file?uri=mast:SDSS/eboss/7565/56809/0908/full/spec-7565-56809-0908.fits to ./mastDownload/SDSS/sdss_eboss_7565-56809-0908/spec-7565-56809-0908.fits ..."
     ]
    },
    {
     "name": "stdout",
     "output_type": "stream",
     "text": [
      " [Done]\n"
     ]
    },
    {
     "name": "stdout",
     "output_type": "stream",
     "text": [
      "Downloading URL https://mast.stsci.edu/api/v0.1/Download/file?uri=mast:SDSS/eboss/7565/56809/0935/full/spec-7565-56809-0935.fits to ./mastDownload/SDSS/sdss_eboss_7565-56809-0935/spec-7565-56809-0935.fits ..."
     ]
    },
    {
     "name": "stdout",
     "output_type": "stream",
     "text": [
      " [Done]\n"
     ]
    },
    {
     "name": "stdout",
     "output_type": "stream",
     "text": [
      "Downloading URL https://mast.stsci.edu/api/v0.1/Download/file?uri=mast:SDSS/eboss/7565/56809/0937/full/spec-7565-56809-0937.fits to ./mastDownload/SDSS/sdss_eboss_7565-56809-0937/spec-7565-56809-0937.fits ..."
     ]
    },
    {
     "name": "stdout",
     "output_type": "stream",
     "text": [
      " [Done]\n"
     ]
    },
    {
     "name": "stdout",
     "output_type": "stream",
     "text": [
      "Downloading URL https://mast.stsci.edu/api/v0.1/Download/file?uri=mast:SDSS/eboss/7565/56809/0951/full/spec-7565-56809-0951.fits to ./mastDownload/SDSS/sdss_eboss_7565-56809-0951/spec-7565-56809-0951.fits ..."
     ]
    },
    {
     "name": "stdout",
     "output_type": "stream",
     "text": [
      " [Done]\n"
     ]
    },
    {
     "name": "stdout",
     "output_type": "stream",
     "text": [
      "Downloading URL https://mast.stsci.edu/api/v0.1/Download/file?uri=mast:SDSS/eboss/7565/56809/0972/full/spec-7565-56809-0972.fits to ./mastDownload/SDSS/sdss_eboss_7565-56809-0972/spec-7565-56809-0972.fits ..."
     ]
    },
    {
     "name": "stdout",
     "output_type": "stream",
     "text": [
      " [Done]\n"
     ]
    },
    {
     "name": "stdout",
     "output_type": "stream",
     "text": [
      "Downloading URL https://mast.stsci.edu/api/v0.1/Download/file?uri=mast:SDSS/eboss/7565/56809/0982/full/spec-7565-56809-0982.fits to ./mastDownload/SDSS/sdss_eboss_7565-56809-0982/spec-7565-56809-0982.fits ..."
     ]
    },
    {
     "name": "stdout",
     "output_type": "stream",
     "text": [
      " [Done]\n"
     ]
    }
   ],
   "source": [
    "# Downloading the full spectra products\n",
    "manifest = Observations.download_products(products, mrp_only=True)"
   ]
  },
  {
   "cell_type": "markdown",
   "metadata": {},
   "source": [
    "We'll send these FITS files to an array so that we can access the redshift and flux values."
   ]
  },
  {
   "cell_type": "code",
   "execution_count": 8,
   "metadata": {
    "execution": {
     "iopub.execute_input": "2025-07-10T13:47:12.026939Z",
     "iopub.status.busy": "2025-07-10T13:47:12.026582Z",
     "iopub.status.idle": "2025-07-10T13:47:12.357982Z",
     "shell.execute_reply": "2025-07-10T13:47:12.357334Z"
    }
   },
   "outputs": [],
   "source": [
    "# Sending the FITS files to an array\n",
    "galaxy_array = []\n",
    "\n",
    "for path in manifest[\"Local Path\"]:\n",
    "    galaxy_array.append(fits.open(path))"
   ]
  },
  {
   "cell_type": "code",
   "execution_count": 9,
   "metadata": {
    "execution": {
     "iopub.execute_input": "2025-07-10T13:47:12.360070Z",
     "iopub.status.busy": "2025-07-10T13:47:12.359885Z",
     "iopub.status.idle": "2025-07-10T13:47:12.378964Z",
     "shell.execute_reply": "2025-07-10T13:47:12.378366Z"
    }
   },
   "outputs": [
    {
     "name": "stdout",
     "output_type": "stream",
     "text": [
      "Filename: ./mastDownload/SDSS/sdss_eboss_10729-58248-0357/spec-10729-58248-0357.fits\n",
      "No.    Name      Ver    Type      Cards   Dimensions   Format\n",
      "  0  PRIMARY       1 PrimaryHDU     134   ()      \n",
      "  1  COADD         1 BinTableHDU     26   4567R x 8C   [E, E, E, J, J, E, E, E]   \n",
      "  2  SPALL         1 BinTableHDU    488   1R x 236C   [27A, 14A, 4A, E, E, J, J, E, J, E, E, E, K, K, K, K, K, K, K, K, K, B, B, J, I, 5E, 5E, J, J, J, J, 7A, 7A, 16A, D, D, 6A, 21A, E, E, E, J, E, 24A, 10J, J, 10E, E, E, E, E, E, E, J, E, E, E, J, 5E, E, E, 10E, 10E, 10E, 5E, 5E, 5E, 5E, 5E, J, J, E, E, E, E, E, E, 16A, 9A, 12A, E, E, E, E, E, E, E, E, J, E, E, J, J, 6A, 21A, E, 35E, K, 19A, 19A, 19A, B, B, B, I, 3A, B, I, I, I, I, J, E, J, J, E, E, E, E, E, E, E, E, 5E, 5E, 5E, 5E, 5E, 5E, 5E, 5E, 5E, 5E, 5E, 5E, 5E, 5E, 5E, 5E, 5E, 5E, 5E, 5E, 5E, 5E, 5E, 5E, 5E, 5E, 5E, 5E, 5E, 5E, 5E, 5E, 5E, 5E, 5E, 5J, 5J, 5J, 5E, 5J, 75E, 75E, 5E, 5E, 5E, 5J, 5E, D, D, D, D, D, D, D, D, D, 5E, 5E, 5E, 5E, 5E, 5E, 5E, 5E, 5E, 5E, 5E, 5E, 5E, 5E, 5E, 5E, 5E, 5E, 5E, 5E, 5E, 5E, 5E, 5E, 5E, 5E, 5E, 5E, 5E, 5E, 5E, 5E, 5E, 5E, 5E, 5E, 5E, 5E, 5E, 5E, 5E, 5E, 40E, 40E, 5J, 5J, 5E, 5E, 5D, J, J, J, J, J, J, J, E]   \n",
      "  3  SPZLINE       1 BinTableHDU     48   32R x 19C   [J, J, J, 13A, D, E, E, E, E, E, E, E, E, E, E, J, J, E, E]   \n",
      "  4  B1-00268372-00268371-00268370    1 BinTableHDU    189   2481R x 8C   [E, E, E, J, E, E, E, E]   \n",
      "  5  B1-00268373-00268371-00268370    1 BinTableHDU    189   2481R x 8C   [E, E, E, J, E, E, E, E]   \n",
      "  6  B1-00268374-00268371-00268370    1 BinTableHDU    189   2481R x 8C   [E, E, E, J, E, E, E, E]   \n",
      "  7  R1-00268372-00268371-00268370    1 BinTableHDU    189   3105R x 8C   [E, E, E, J, E, E, E, E]   \n",
      "  8  R1-00268373-00268371-00268370    1 BinTableHDU    189   3105R x 8C   [E, E, E, J, E, E, E, E]   \n",
      "  9  R1-00268374-00268371-00268370    1 BinTableHDU    189   3105R x 8C   [E, E, E, J, E, E, E, E]   \n"
     ]
    }
   ],
   "source": [
    "# View available file extensions\n",
    "galaxy_array[0].info()"
   ]
  },
  {
   "cell_type": "markdown",
   "metadata": {},
   "source": [
    "For this tutorial, we will focus on using the spectroscopic flux in the r-band provided by spALL. These are accessed through the second file extension. \n",
    "\n",
    "The various file extensions are broken down on the [SDSS website](https://data.sdss.org/datamodel/files/BOSS_SPECTRO_REDUX/RUN2D/spectra/PLATE4/spec.html):\n",
    "- HDU 0: The primary header information. \n",
    "- HDU 1: The coadded observed spectrum.\n",
    "- HDU 2: Metadata from spALL. \n",
    "- HDU 3: Emission line fitting metadata from spZline.\n",
    "- HDU 4+: Individual red and blue spectra that make up the coadded spectrum. \n",
    "\n",
    "The second file extension is broken down even further, available also on the [SDSS website](https://data.sdss.org/datamodel/files/BOSS_SPECTRO_REDUX/RUN2D/PLATE4/RUN1D/spZbest.html). We'll be focusing on using `SPECTROFLUX`. Since this provides us a five-element array for each band (u, g, r, i , z), we'll use the third element for the r-band flux. \n"
   ]
  },
  {
   "cell_type": "markdown",
   "metadata": {},
   "source": [
    "### Making the Hubble-Lemaître Diagram"
   ]
  },
  {
   "cell_type": "code",
   "execution_count": 10,
   "metadata": {
    "execution": {
     "iopub.execute_input": "2025-07-10T13:47:12.380830Z",
     "iopub.status.busy": "2025-07-10T13:47:12.380421Z",
     "iopub.status.idle": "2025-07-10T13:47:31.421023Z",
     "shell.execute_reply": "2025-07-10T13:47:31.420387Z"
    }
   },
   "outputs": [],
   "source": [
    "# Setting up arrays to send all z-values, z-error, and flux to arrays\n",
    "z_val = []\n",
    "z_err = []\n",
    "r_flux = []\n",
    "\n",
    "# Looping through all the data and adding z-values, z-error, and flux to arrays\n",
    "for galaxy in galaxy_array:\n",
    "    galaxy_z = galaxy[2].data[\"Z\"]\n",
    "    zerr = galaxy[2].data[\"Z_ERR\"]\n",
    "    spectroflux = galaxy[2].data[\"SPECTROFLUX\"][:, 2]\n",
    "    z_val.append(galaxy_z)\n",
    "    z_err.append(zerr)\n",
    "    r_flux.append(spectroflux)\n",
    "\n",
    "# Converting lists to arrays\n",
    "z_val = np.array(z_val)\n",
    "z_err = np.array(z_err)\n",
    "r_flux = np.array(r_flux)"
   ]
  },
  {
   "cell_type": "markdown",
   "metadata": {},
   "source": [
    "In order to determine the relative distance to each galaxy, we can use the inverse square law as we know flux is proportional to $\\frac{1}{d^2}$. Thus, distance is proportional to $\\frac{1}{\\sqrt{flux}}$ [[4]](https://skyserver.sdss.org/dr12/en/proj/advanced/hubble/distances.aspx). "
   ]
  },
  {
   "cell_type": "code",
   "execution_count": 11,
   "metadata": {
    "execution": {
     "iopub.execute_input": "2025-07-10T13:47:31.423062Z",
     "iopub.status.busy": "2025-07-10T13:47:31.422884Z",
     "iopub.status.idle": "2025-07-10T13:47:31.425858Z",
     "shell.execute_reply": "2025-07-10T13:47:31.425398Z"
    }
   },
   "outputs": [],
   "source": [
    "# Finding the relative distance by taking 1/sqrt of the radiant flux\n",
    "relative_distance = 1 / np.sqrt(r_flux)\n",
    "\n",
    "# Converting the relative distance to kiloparsecs\n",
    "new_relative_distance = relative_distance / 1e3  # kpc\n",
    "\n",
    "# Stacking arrays to remove points with nan\n",
    "plot_array = np.column_stack((z_val, new_relative_distance, z_err))"
   ]
  },
  {
   "cell_type": "markdown",
   "metadata": {},
   "source": [
    "Due to the behavior of $\\frac{1}{\\sqrt{flux}}$, we will create a mask to remove any 'nan' values."
   ]
  },
  {
   "cell_type": "code",
   "execution_count": 12,
   "metadata": {
    "execution": {
     "iopub.execute_input": "2025-07-10T13:47:31.427356Z",
     "iopub.status.busy": "2025-07-10T13:47:31.427202Z",
     "iopub.status.idle": "2025-07-10T13:47:31.430070Z",
     "shell.execute_reply": "2025-07-10T13:47:31.429506Z"
    }
   },
   "outputs": [],
   "source": [
    "# Selecting all distances that are not 'nan'\n",
    "mask = ~np.isnan(plot_array[:, 1])\n",
    "\n",
    "# Applying mask\n",
    "new_plot_array = plot_array[mask]"
   ]
  },
  {
   "cell_type": "markdown",
   "metadata": {},
   "source": [
    "Since Hubble's constant is in units km/s/Mpc, we want to convert redshift to velocity. To do this, we can use the relativistic radial velocity equation [[5]](https://ned.ipac.caltech.edu/level5/Hogg/Hogg3.html): <br>\n",
    "$$\n",
    "v = c \\frac{(1+z)^2-1}{(1+z)^2+1}\n",
    "$$\n",
    "\n",
    "Using error propagation, the error in redshift becomes: <br>\n",
    "$$\n",
    "v_{err} = z_{err}|\\frac{4c(1+z)}{((1+z)^2+1)^2}|\n",
    "$$"
   ]
  },
  {
   "cell_type": "code",
   "execution_count": 13,
   "metadata": {
    "execution": {
     "iopub.execute_input": "2025-07-10T13:47:31.431598Z",
     "iopub.status.busy": "2025-07-10T13:47:31.431450Z",
     "iopub.status.idle": "2025-07-10T13:47:31.435935Z",
     "shell.execute_reply": "2025-07-10T13:47:31.435487Z"
    }
   },
   "outputs": [],
   "source": [
    "# Define speed of light constant (c) in km/s\n",
    "c = 2.998e5  # km/s\n",
    "\n",
    "# Calculating velocity from redshift\n",
    "velocity = []\n",
    "velocity_err = []\n",
    "for i, j in zip(new_plot_array[:, 0], new_plot_array[:, 2]):\n",
    "    v = c * (((1 + i) ** 2 - 1) / ((1 + i) ** 2 + 1))\n",
    "    v_err = np.abs(((4 * c * (1 + i)) / ((1 + i) ** 2 + 1) ** 2)) * j\n",
    "    velocity.append(v)\n",
    "    velocity_err.append(v_err)\n",
    "\n",
    "# Creating new array of distance, velocity, and error in velocity\n",
    "distance_velocity_array = np.column_stack(\n",
    "    (new_plot_array[:, 1], velocity, velocity_err)\n",
    ")"
   ]
  },
  {
   "cell_type": "markdown",
   "metadata": {},
   "source": [
    "### Plotting eBOSS Data"
   ]
  },
  {
   "cell_type": "markdown",
   "metadata": {},
   "source": [
    "We can examine the data by creating a scatter plot of the velocity versus the relative distance."
   ]
  },
  {
   "cell_type": "code",
   "execution_count": 14,
   "metadata": {
    "execution": {
     "iopub.execute_input": "2025-07-10T13:47:31.437699Z",
     "iopub.status.busy": "2025-07-10T13:47:31.437291Z",
     "iopub.status.idle": "2025-07-10T13:47:31.549635Z",
     "shell.execute_reply": "2025-07-10T13:47:31.549052Z"
    }
   },
   "outputs": [
    {
     "data": {
      "image/png": "[encoded data removed]",
      "text/plain": [
       "<Figure size 800x500 with 1 Axes>"
      ]
     },
     "metadata": {},
     "output_type": "display_data"
    }
   ],
   "source": [
    "# Plotting eBOSS data\n",
    "plt.figure(figsize=(8, 5))\n",
    "plt.scatter(\n",
    "    distance_velocity_array[:, 0],\n",
    "    distance_velocity_array[:, 1],\n",
    "    s=1.5,\n",
    "    color=\"blue\",\n",
    ")\n",
    "plt.title(\"Velocity vs. Relative Distance of eBOSS Data\")\n",
    "plt.xlabel(\"Relative Distance\")\n",
    "plt.ylabel(\"Radial Velocity (km/s)\")\n",
    "plt.grid(True)\n",
    "plt.show()"
   ]
  },
  {
   "cell_type": "markdown",
   "metadata": {},
   "source": [
    "#### Importing Abell 2199 Data\n",
    "In order to obtain the actualized distances for the sample, we can use the relative distance of the first galaxy from Abell 2199 and set it equal to 1. We'll follow the same procedures as before by importing the `abell_2199.txt` file and querying eBOSS for those 32 select galaxies."
   ]
  },
  {
   "cell_type": "code",
   "execution_count": 15,
   "metadata": {
    "execution": {
     "iopub.execute_input": "2025-07-10T13:47:31.551548Z",
     "iopub.status.busy": "2025-07-10T13:47:31.551243Z",
     "iopub.status.idle": "2025-07-10T13:47:37.942395Z",
     "shell.execute_reply": "2025-07-10T13:47:37.941799Z"
    }
   },
   "outputs": [
    {
     "name": "stdout",
     "output_type": "stream",
     "text": [
      "Length of Abell 2199 dataset = 32\n"
     ]
    }
   ],
   "source": [
    "# Loading the Abell 2199 dataset\n",
    "obs_id2 = np.loadtxt(\"abell_2199.txt\", dtype=str)\n",
    "\n",
    "# Querying eBOSS for the 32 Abell 2199 galaxies, sending the data to an array\n",
    "results_tables2 = []\n",
    "for i in obs_id2:\n",
    "    query_result2 = Observations.query_criteria(\n",
    "        provenance_name=\"eBOSS\", obs_id=i\n",
    "    )\n",
    "    results_tables2.append(query_result2)\n",
    "\n",
    "# Stacking the data into one table\n",
    "combined_results2 = vstack(results_tables2)\n",
    "\n",
    "# Ensuring the length of the stacked table is 32\n",
    "print(f\"Length of Abell 2199 dataset = {len(combined_results2)}\")"
   ]
  },
  {
   "cell_type": "markdown",
   "metadata": {},
   "source": [
    "We'll gather and download the products again, and then send the FITS data to an array."
   ]
  },
  {
   "cell_type": "code",
   "execution_count": 16,
   "metadata": {
    "execution": {
     "iopub.execute_input": "2025-07-10T13:47:37.944477Z",
     "iopub.status.busy": "2025-07-10T13:47:37.944002Z",
     "iopub.status.idle": "2025-07-10T13:47:40.547311Z",
     "shell.execute_reply": "2025-07-10T13:47:40.546805Z"
    }
   },
   "outputs": [
    {
     "name": "stdout",
     "output_type": "stream",
     "text": [
      "INFO: Found cached file ./mastDownload/SDSS/sdss_eboss_10729-58248-0357/spec-10729-58248-0357.fits with expected size 864000. [astroquery.query]\n",
      "INFO: Found cached file ./mastDownload/SDSS/sdss_eboss_10729-58248-0359/spec-10729-58248-0359.fits with expected size 864000. [astroquery.query]\n",
      "INFO: Found cached file ./mastDownload/SDSS/sdss_eboss_10729-58248-0657/spec-10729-58248-0657.fits with expected size 864000. [astroquery.query]\n"
     ]
    },
    {
     "name": "stdout",
     "output_type": "stream",
     "text": [
      "INFO: Found cached file ./mastDownload/SDSS/sdss_eboss_5190-56077-0747/spec-5190-56077-0747.fits with expected size 875520. [astroquery.query]\n",
      "INFO: Found cached file ./mastDownload/SDSS/sdss_eboss_5190-56077-0749/spec-5190-56077-0749.fits with expected size 875520. [astroquery.query]\n",
      "INFO: Found cached file ./mastDownload/SDSS/sdss_eboss_5190-56077-0753/spec-5190-56077-0753.fits with expected size 875520. [astroquery.query]\n"
     ]
    },
    {
     "name": "stdout",
     "output_type": "stream",
     "text": [
      "INFO: Found cached file ./mastDownload/SDSS/sdss_eboss_5190-56077-0756/spec-5190-56077-0756.fits with expected size 875520. [astroquery.query]\n",
      "INFO: Found cached file ./mastDownload/SDSS/sdss_eboss_5190-56077-0757/spec-5190-56077-0757.fits with expected size 875520. [astroquery.query]\n",
      "INFO: Found cached file ./mastDownload/SDSS/sdss_eboss_5190-56077-0758/spec-5190-56077-0758.fits with expected size 875520. [astroquery.query]\n"
     ]
    },
    {
     "name": "stdout",
     "output_type": "stream",
     "text": [
      "INFO: Found cached file ./mastDownload/SDSS/sdss_eboss_5190-56077-0759/spec-5190-56077-0759.fits with expected size 875520. [astroquery.query]\n",
      "INFO: Found cached file ./mastDownload/SDSS/sdss_eboss_5190-56077-0761/spec-5190-56077-0761.fits with expected size 875520. [astroquery.query]\n",
      "INFO: Found cached file ./mastDownload/SDSS/sdss_eboss_5190-56077-0762/spec-5190-56077-0762.fits with expected size 875520. [astroquery.query]\n"
     ]
    },
    {
     "name": "stdout",
     "output_type": "stream",
     "text": [
      "INFO: Found cached file ./mastDownload/SDSS/sdss_eboss_5190-56077-0790/spec-5190-56077-0790.fits with expected size 875520. [astroquery.query]\n",
      "INFO: Found cached file ./mastDownload/SDSS/sdss_eboss_5190-56077-0793/spec-5190-56077-0793.fits with expected size 875520. [astroquery.query]\n",
      "INFO: Found cached file ./mastDownload/SDSS/sdss_eboss_5190-56077-0795/spec-5190-56077-0795.fits with expected size 875520. [astroquery.query]\n",
      "INFO: Found cached file ./mastDownload/SDSS/sdss_eboss_5190-56077-0797/spec-5190-56077-0797.fits with expected size 875520. [astroquery.query]\n"
     ]
    },
    {
     "name": "stdout",
     "output_type": "stream",
     "text": [
      "INFO: Found cached file ./mastDownload/SDSS/sdss_eboss_5190-56077-0798/spec-5190-56077-0798.fits with expected size 875520. [astroquery.query]\n",
      "INFO: Found cached file ./mastDownload/SDSS/sdss_eboss_5190-56077-0799/spec-5190-56077-0799.fits with expected size 875520. [astroquery.query]\n",
      "INFO: Found cached file ./mastDownload/SDSS/sdss_eboss_6045-56072-0084/spec-6045-56072-0084.fits with expected size 1082880. [astroquery.query]\n"
     ]
    },
    {
     "name": "stdout",
     "output_type": "stream",
     "text": [
      "INFO: Found cached file ./mastDownload/SDSS/sdss_eboss_6045-56072-0121/spec-6045-56072-0121.fits with expected size 1082880. [astroquery.query]\n",
      "INFO: Found cached file ./mastDownload/SDSS/sdss_eboss_6045-56072-0124/spec-6045-56072-0124.fits with expected size 1082880. [astroquery.query]\n",
      "INFO: Found cached file ./mastDownload/SDSS/sdss_eboss_6045-56072-0125/spec-6045-56072-0125.fits with expected size 1082880. [astroquery.query]\n",
      "INFO: Found cached file ./mastDownload/SDSS/sdss_eboss_6045-56072-0126/spec-6045-56072-0126.fits with expected size 1082880. [astroquery.query]\n"
     ]
    },
    {
     "name": "stdout",
     "output_type": "stream",
     "text": [
      "INFO: Found cached file ./mastDownload/SDSS/sdss_eboss_6045-56072-0130/spec-6045-56072-0130.fits with expected size 1082880. [astroquery.query]\n",
      "INFO: Found cached file ./mastDownload/SDSS/sdss_eboss_6045-56072-0161/spec-6045-56072-0161.fits with expected size 1082880. [astroquery.query]\n",
      "INFO: Found cached file ./mastDownload/SDSS/sdss_eboss_6045-56072-0162/spec-6045-56072-0162.fits with expected size 1082880. [astroquery.query]\n"
     ]
    },
    {
     "name": "stdout",
     "output_type": "stream",
     "text": [
      "INFO: Found cached file ./mastDownload/SDSS/sdss_eboss_6045-56072-0163/spec-6045-56072-0163.fits with expected size 1082880. [astroquery.query]\n",
      "INFO: Found cached file ./mastDownload/SDSS/sdss_eboss_6045-56072-0164/spec-6045-56072-0164.fits with expected size 1082880. [astroquery.query]\n",
      "INFO: Found cached file ./mastDownload/SDSS/sdss_eboss_6045-56072-0165/spec-6045-56072-0165.fits with expected size 1082880. [astroquery.query]\n"
     ]
    },
    {
     "name": "stdout",
     "output_type": "stream",
     "text": [
      "INFO: Found cached file ./mastDownload/SDSS/sdss_eboss_6045-56072-0167/spec-6045-56072-0167.fits with expected size 1082880. [astroquery.query]\n",
      "INFO: Found cached file ./mastDownload/SDSS/sdss_eboss_6045-56072-0169/spec-6045-56072-0169.fits with expected size 1082880. [astroquery.query]\n",
      "INFO: Found cached file ./mastDownload/SDSS/sdss_eboss_6045-56072-0206/spec-6045-56072-0206.fits with expected size 1082880. [astroquery.query]\n",
      "Length of Abell 2199 array = 32\n"
     ]
    }
   ],
   "source": [
    "# Gathering and downloading full spectra files\n",
    "products2 = Observations.get_product_list(combined_results2)\n",
    "manifest2 = Observations.download_products(products2, mrp_only=True)\n",
    "\n",
    "# Writing data to an array\n",
    "abell_array = []\n",
    "for path in manifest2[\"Local Path\"]:\n",
    "    abell_array.append(fits.open(path))\n",
    "\n",
    "# Checking the length of the array matches the dataset\n",
    "print(f\"Length of Abell 2199 array = {len(abell_array)}\")"
   ]
  },
  {
   "cell_type": "markdown",
   "metadata": {},
   "source": [
    "Now we can extract the redshift, error in redshift, and r-band flux values. Following the same processes as before, we can use the flux to find the relative distances."
   ]
  },
  {
   "cell_type": "code",
   "execution_count": 17,
   "metadata": {
    "execution": {
     "iopub.execute_input": "2025-07-10T13:47:40.549191Z",
     "iopub.status.busy": "2025-07-10T13:47:40.548960Z",
     "iopub.status.idle": "2025-07-10T13:47:42.311204Z",
     "shell.execute_reply": "2025-07-10T13:47:42.310681Z"
    }
   },
   "outputs": [],
   "source": [
    "# Sending redshift, error in redshift, and r-band magnitudes to arrays\n",
    "z_val_abell = []\n",
    "z_err_abell = []\n",
    "r_flux_abell = []\n",
    "\n",
    "for galaxy in abell_array:\n",
    "    galaxy_z = galaxy[2].data[\"Z\"]\n",
    "    zerr = galaxy[2].data[\"Z_ERR\"]\n",
    "    spectroflux = galaxy[2].data[\"SPECTROFLUX\"][:, 2]\n",
    "    z_val_abell.append(galaxy_z)\n",
    "    z_err_abell.append(zerr)\n",
    "    r_flux_abell.append(spectroflux)\n",
    "\n",
    "# Converting lists into arrays\n",
    "z_val_abell = np.array(z_val_abell)\n",
    "z_err_abell = np.array(z_err_abell)\n",
    "r_flux_abell = np.array(r_flux_abell)\n",
    "\n",
    "# Calculate relative distance\n",
    "relative_distance_abell = 1 / np.sqrt(r_flux_abell)\n",
    "new_relative_distance_abell = relative_distance_abell / 1e3  # kpc\n",
    "\n",
    "# Filter out zeros\n",
    "plot_array_abell = np.column_stack(\n",
    "    (z_val_abell, new_relative_distance_abell, z_err_abell)\n",
    ")\n",
    "mask2 = ~np.isnan(plot_array_abell[:, 1])\n",
    "new_array_abell = plot_array_abell[mask2]\n",
    "\n",
    "# Calculate velocity\n",
    "velocity_abell = []\n",
    "velocity_err_abell = []\n",
    "for i, j in zip(new_array_abell[:, 0], new_array_abell[:, 2]):\n",
    "    v = c * (((1 + i) ** 2 - 1) / ((1 + i) ** 2 + 1))\n",
    "    v_err = np.abs(((4 * c * (1 + i)) / ((1 + i) ** 2 + 1) ** 2)) * j\n",
    "    velocity_abell.append(v)\n",
    "    velocity_err_abell.append(v_err)\n",
    "\n",
    "# Creating new array of distance, velocity, and error in velocity\n",
    "distance_velocity_array_abell = np.column_stack(\n",
    "    (new_array_abell[:, 1], velocity_abell, velocity_err_abell)\n",
    ")"
   ]
  },
  {
   "cell_type": "markdown",
   "metadata": {},
   "source": [
    "Now that we have filtered out both datasets, we can normalize the relative distances. To do this, we'll set up a ratio such that the closest galaxy in the Abell 2199 cluster equals 1:\n",
    "$$\n",
    "\\frac{d_{1}}{d_{relative}} = \\frac{1}{d_{norm}}\n",
    "$$\n",
    "where $d_{1}$ is the relative distance of the closest Abell 2199 galaxy, $d_{relative}$ is the array of relative distances of the eBOSS galaxies, and $d_{norm}$ is the array of normalized distances. To solve for the array of $d_{norm}$, we'll divide the array of relative distances by $d_{1}$. [[4]](https://skyserver.sdss.org/dr12/en/proj/advanced/hubble/distances.aspx)\n",
    "\n",
    "Since we know the distance to Abell 2199 is 128 Mpc, we'll multiply the normalized distances by 128 Mpc to obtain the actualized distances. [[6]](http://ned.ipac.caltech.edu/cgi-bin/nph-objsearch?objname=Abell+2199&extend=no&hconst=73&omegam=0.27&omegav=0.73&corr_z=1&out_csys=Equatorial&out_equinox=J2000.0&obj_sort=RA+or+Longitude&of=pre_text&zv_breaker=30000.0&list_limit=5&img_stamp=YES).\n"
   ]
  },
  {
   "cell_type": "code",
   "execution_count": 18,
   "metadata": {
    "execution": {
     "iopub.execute_input": "2025-07-10T13:47:42.313114Z",
     "iopub.status.busy": "2025-07-10T13:47:42.312783Z",
     "iopub.status.idle": "2025-07-10T13:47:42.316257Z",
     "shell.execute_reply": "2025-07-10T13:47:42.315815Z"
    }
   },
   "outputs": [],
   "source": [
    "# Sorting the Abell 2199 data to find closest galaxy\n",
    "sorted_abell = np.argsort(distance_velocity_array_abell[:, 0])\n",
    "sorted_abell_array = distance_velocity_array_abell[sorted_abell]\n",
    "\n",
    "# We'll take the first Abell 2199 galaxy and find the average, then set that to 1\n",
    "d1_abell = sorted_abell_array[0][0]\n",
    "\n",
    "# Normalize distances to d1_abell\n",
    "norm_dist = distance_velocity_array[:, 0] / d1_abell\n",
    "norm_dist_abell = distance_velocity_array_abell[:, 0] / d1_abell\n",
    "\n",
    "# Distance to Abell 2199\n",
    "distance = 128  # Mpc"
   ]
  },
  {
   "cell_type": "markdown",
   "metadata": {},
   "source": [
    "Now we have normalized distances! We can multiply these by the distance to Abell 2199 and generate a plot with distances and radial velocities. We can use `scipy.optimize.curve_fit` to perform a linear fit, and in return, we can obtain the value of the slope, i.e., Hubble's constant!"
   ]
  },
  {
   "cell_type": "code",
   "execution_count": 19,
   "metadata": {
    "execution": {
     "iopub.execute_input": "2025-07-10T13:47:42.317862Z",
     "iopub.status.busy": "2025-07-10T13:47:42.317699Z",
     "iopub.status.idle": "2025-07-10T13:47:42.320166Z",
     "shell.execute_reply": "2025-07-10T13:47:42.319751Z"
    }
   },
   "outputs": [],
   "source": [
    "# Defining linear fit function\n",
    "def fit_func(x, m, b):\n",
    "    return m * x + b"
   ]
  },
  {
   "cell_type": "code",
   "execution_count": 20,
   "metadata": {
    "execution": {
     "iopub.execute_input": "2025-07-10T13:47:42.321655Z",
     "iopub.status.busy": "2025-07-10T13:47:42.321499Z",
     "iopub.status.idle": "2025-07-10T13:47:42.570221Z",
     "shell.execute_reply": "2025-07-10T13:47:42.569687Z"
    }
   },
   "outputs": [
    {
     "data": {
      "image/png": "[encoded data removed]",
      "text/plain": [
       "<Figure size 640x480 with 1 Axes>"
      ]
     },
     "metadata": {},
     "output_type": "display_data"
    }
   ],
   "source": [
    "# Doing linear fit using scipy.optimize.curve_fit\n",
    "popt, covariance = curve_fit(\n",
    "    fit_func,\n",
    "    norm_dist * distance,\n",
    "    distance_velocity_array[:, 1],\n",
    "    sigma=distance_velocity_array[:, 2],\n",
    "    absolute_sigma=True,\n",
    ")\n",
    "m = popt[0]  # slope (Hubble's constant!)\n",
    "b = popt[1]  # intercept\n",
    "\n",
    "# Setting up an array of x-values to plot the line of best fit\n",
    "x_array = np.linspace(0, 2000, 200000)\n",
    "\n",
    "# Plotting the data as well as the line of best fit\n",
    "plt.errorbar(\n",
    "    norm_dist * distance,\n",
    "    distance_velocity_array[:, 1],\n",
    "    yerr=distance_velocity_array[:, 2],\n",
    "    ms=1.5,\n",
    "    fmt=\"o\",\n",
    "    label=\"eBOSS data\",\n",
    "    zorder=1,\n",
    ")\n",
    "plt.scatter(\n",
    "    norm_dist_abell * distance,\n",
    "    distance_velocity_array_abell[:, 1],\n",
    "    s=5,\n",
    "    label=\"Abell 2199\",\n",
    "    color=\"purple\",\n",
    "    zorder=2,\n",
    ")\n",
    "plt.plot(\n",
    "    x_array,\n",
    "    fit_func(x_array, m, b),\n",
    "    label=\"linear fit\",\n",
    "    color=\"orange\",\n",
    "    zorder=3,\n",
    ")\n",
    "plt.ylabel(\"Radial Velocity (km/s)\")\n",
    "plt.xlabel(\"Actualized Distance (Mpc)\")\n",
    "plt.title(\n",
    "    f\"Radial Velocity vs. Actualized Distance of eBOSS Galaxy Sample \\n eBOSS - LOFAR \\n $H_{0}$ = {m:.3f} km/s/Mpc \\n r - band magnitude\"\n",
    ")\n",
    "plt.legend(loc=\"lower right\")\n",
    "plt.grid()\n",
    "plt.tight_layout()\n",
    "plt.show()"
   ]
  },
  {
   "cell_type": "markdown",
   "metadata": {},
   "source": [
    "### Comparing Calculated H<sub>0</sub> to Other Models \n",
    "\n",
    "Using data from eBOSS, we were able to calculate an H<sub>0</sub> value of $\\approx$ 73.66 km/s/Mpc! \n",
    "\n",
    "The European Space Agency calculated an H<sub>0</sub> value of 67.40 ± 1.40 km/s/Mpc using Planck data. A recent calculation using Cepheid variables and SNe Ia from the SH0ES collaboration provided an H<sub>0</sub> value of 73.04 ± 1.04 km/s/Mpc [[3]](https://doi.org/10.3390/universe9020094). Astronomers continue to use both local distance indicators (e.g., Tip of the Red Giant Branch stars) and early-Universe probes like the CMB to constrain H<sub>0</sub>, but the Hubble Tension remains unresolved [[7]](https://www.scientificamerican.com/article/the-hubble-tension-is-becoming-a-hubble-crisis/).\n",
    "\n",
    "Due to relativistic effects, H<sub>0</sub> values calculated from CMB observations (which probe the early Universe) tend to be lower than those calculated from nearby objects like Cepheid variables or Type Ia supernovae. Since our H<sub>0</sub> value is based on galaxy observations from eBOSS, it's reasonable that it falls on the higher end of the range, though this could also be influenced by uncertainties introduced by several assumptions:\n",
    "- We assume galaxies are point sources, using a single static distance for each. \n",
    "- We calculate distances using the inverse square law, but intrinsic galaxy brightness can vary significantly. "
   ]
  },
  {
   "cell_type": "markdown",
   "metadata": {},
   "source": [
    "***\n",
    "## Utilizing HST Data from MAST\n",
    "\n",
    "The Hubble Space Telescope (HST) is a 2.4 meter serviceable telescope launched in 1990. It's equipped with three cameras (ACS, WFC3/UVIS, and WFC3/IR). Using observations from HST, we can construct an image of Abell 2199!\n",
    "\n",
    "While we won't be covering this in the tutorial, we could use the constructed image from HST to determine the relative distance to Abell 2199 rather than using the one from NED. For example, we could use the apparent brightness of the cluster’s brightest galaxy, or analyze the relative physical sizes of its member galaxies [[4]](https://skyserver.sdss.org/dr12/en/proj/advanced/hubble/distances.aspx).\n",
    "\n",
    "For more information about HST, check out this [overview from MAST](https://archive.stsci.edu/missions-and-data/hst)!"
   ]
  },
  {
   "cell_type": "markdown",
   "metadata": {
    "tags": []
   },
   "source": [
    "### Creating an Image of Abell 2199 Using HST \n",
    "\n",
    "To create an image of Abell 2199 using HST, we'll query MAST using `objectname = 'Abell 2199'` and specify HST using `obs_collection = 'HST'`. "
   ]
  },
  {
   "cell_type": "code",
   "execution_count": 21,
   "metadata": {
    "execution": {
     "iopub.execute_input": "2025-07-10T13:47:42.572184Z",
     "iopub.status.busy": "2025-07-10T13:47:42.571824Z",
     "iopub.status.idle": "2025-07-10T13:48:02.226728Z",
     "shell.execute_reply": "2025-07-10T13:48:02.226141Z"
    }
   },
   "outputs": [
    {
     "data": {
      "text/html": [
       "<div><i>Table masked=True length=77</i>\n",
       "<table id=\"table140298973578000\" class=\"table-striped table-bordered table-condensed\">\n",
       "<thead><tr><th>intentType</th><th>obs_collection</th><th>provenance_name</th><th>instrument_name</th><th>project</th><th>filters</th><th>wavelength_region</th><th>target_name</th><th>target_classification</th><th>obs_id</th><th>s_ra</th><th>s_dec</th><th>dataproduct_type</th><th>proposal_pi</th><th>calib_level</th><th>t_min</th><th>t_max</th><th>t_exptime</th><th>em_min</th><th>em_max</th><th>obs_title</th><th>t_obs_release</th><th>proposal_id</th><th>proposal_type</th><th>sequence_number</th><th>s_region</th><th>jpegURL</th><th>dataURL</th><th>dataRights</th><th>mtFlag</th><th>srcDen</th><th>obsid</th><th>objID</th><th>objID1</th><th>distance</th></tr></thead>\n",
       "<thead><tr><th>str7</th><th>str3</th><th>str8</th><th>str13</th><th>str3</th><th>str6</th><th>str8</th><th>str21</th><th>str69</th><th>str9</th><th>float64</th><th>float64</th><th>str8</th><th>str21</th><th>int64</th><th>float64</th><th>float64</th><th>float64</th><th>float64</th><th>float64</th><th>str110</th><th>float64</th><th>str5</th><th>str12</th><th>int64</th><th>str1098</th><th>str34</th><th>str35</th><th>str6</th><th>bool</th><th>float64</th><th>str9</th><th>str9</th><th>str9</th><th>float64</th></tr></thead>\n",
       "<tr><td>science</td><td>HST</td><td>CALNIC</td><td>NICMOS/NIC1</td><td>HST</td><td>F160W</td><td>Infrared</td><td>ANY</td><td>UNIDENTIFIED;PARALLEL FIELD</td><td>n4t204050</td><td>247.1374494138</td><td>39.56658972864</td><td>image</td><td>Geisler, Douglas</td><td>3</td><td>50990.52603009</td><td>50990.65356481</td><td>3583.872072</td><td>1408.3999999999999</td><td>1809.4</td><td>The Metallicity Distribution of the Globular Cluster Systems of Giant Elliptical Galaxies</td><td>51355.82724523</td><td>7265</td><td>GO</td><td>--</td><td>POLYGON -112.86104 39.564318 -112.85983199999998 39.567233 -112.85983749784737 39.567234353400465 -112.85961800000001 39.567764 -112.863384 39.568691 -112.86338579335177 39.568686672690255 -112.86407299999996 39.568856 -112.86527999999998 39.565941 -112.8652745170224 39.565939649016933 -112.86549400000001 39.56541 -112.86172799999997 39.564483 -112.8617263597632 39.564486958196 -112.86104 39.564318 -112.86104 39.564318</td><td>mast:HST/product/n4t204050_mos.jpg</td><td>mast:HST/product/n4t204050_mos.fits</td><td>PUBLIC</td><td>False</td><td>nan</td><td>24861476</td><td>109228087</td><td>109228087</td><td>86.83430001362291</td></tr>\n",
       "<tr><td>science</td><td>HST</td><td>CALNIC</td><td>NICMOS/NIC3</td><td>HST</td><td>F160W</td><td>Infrared</td><td>NGC6166-WF4</td><td>GALAXY;ELLIPTICAL;BCM</td><td>n4t204070</td><td>247.1793481664</td><td>39.55485355641</td><td>image</td><td>Geisler, Douglas</td><td>3</td><td>50990.66488426</td><td>50990.79190972</td><td>3583.872072</td><td>1408.3999999999999</td><td>1809.4</td><td>The Metallicity Distribution of the Globular Cluster Systems of Giant Elliptical Galaxies</td><td>51356.53231477</td><td>7265</td><td>GO</td><td>--</td><td>POLYGON -112.81429500000002 39.545485 -112.80873299999996 39.559266 -112.80873332280447 39.559266077458844 -112.80851899999999 39.559797 -112.82164528889807 39.56294585492904 -112.82701700000001 39.564234 -112.83257600000002 39.550452 -112.83257587496034 39.550451970020688 -112.83278999999999 39.549921 -112.83210196969837 39.54975607514 -112.83210199999996 39.549756 -112.81429500000002 39.545485 -112.81429500000002 39.545485</td><td>mast:HST/product/n4t204070_mos.jpg</td><td>mast:HST/product/n4t204070_mos.fits</td><td>PUBLIC</td><td>False</td><td>nan</td><td>24861478</td><td>109228114</td><td>109228114</td><td>73.05880201851693</td></tr>\n",
       "<tr><td>science</td><td>HST</td><td>CALNIC</td><td>NICMOS/NIC3</td><td>HST</td><td>F160W</td><td>Infrared</td><td>NGC6166-WF2</td><td>GALAXY;ELLIPTICAL;BCM</td><td>n4t204010</td><td>247.1452650345</td><td>39.54149428096</td><td>image</td><td>Geisler, Douglas</td><td>3</td><td>50990.44626157</td><td>50990.51471065</td><td>3583.872072</td><td>1408.3999999999999</td><td>1809.4</td><td>The Metallicity Distribution of the Globular Cluster Systems of Giant Elliptical Galaxies</td><td>51355.79266192</td><td>7265</td><td>GO</td><td>--</td><td>POLYGON -112.84837500000003 39.532099 -112.84816141799249 39.532629100181431 -112.848161 39.532629 -112.84298674808902 39.545469786660767 -112.84282099999996 39.545881 -112.84282101338837 39.545881003209161 -112.84260699999999 39.546412 -112.84329504962851 39.546576876865792 -112.84329500000001 39.546577 -112.86110400000001 39.550843 -112.86131754058894 39.550312889968012 -112.86131799999998 39.550313 -112.86686900000001 39.536529 -112.86618091639785 39.536364207640368 -112.86618099999998 39.536364 -112.8625780224353 39.53550125470742 -112.849063 39.532263 -112.84906268620338 39.532263778891235 -112.84837500000003 39.532099 -112.84837500000003 39.532099</td><td>mast:HST/product/n4t204010_mos.jpg</td><td>mast:HST/product/n4t204010_mos.fits</td><td>PUBLIC</td><td>False</td><td>nan</td><td>24861472</td><td>109228124</td><td>109228124</td><td>0.0</td></tr>\n",
       "<tr><td>science</td><td>HST</td><td>CALNIC</td><td>NICMOS/NIC2</td><td>HST</td><td>F160W</td><td>Infrared</td><td>ABELL2199-SKYS</td><td>CALIBRATION;SKY BACKGROUND</td><td>n4hd21030</td><td>247.160006665</td><td>39.47067612935</td><td>image</td><td>Tonry, John L.</td><td>3</td><td>50799.99439224537</td><td>50800.001336608795</td><td>383.990005</td><td>1408.3999999999999</td><td>1809.4</td><td>The SBF Hubble Diagram</td><td>51165.55783555</td><td>7453</td><td>GO</td><td>--</td><td>POLYGON -112.83682999999996 39.469599 -112.83380699999998 39.47445 -112.840036 39.476763 -112.84305900000004 39.471911 -112.83682999999996 39.469599 -112.83682999999996 39.469599 POLYGON -112.83994899999999 39.464592 -112.836926 39.469444 -112.84315500000002 39.471756 -112.84617700000001 39.466904 -112.83994899999999 39.464592 -112.83994899999999 39.464592</td><td>mast:HST/product/n4hd21030_mos.jpg</td><td>mast:HST/product/n4hd21030_mos.fits</td><td>PUBLIC</td><td>False</td><td>nan</td><td>24854837</td><td>109244905</td><td>109244905</td><td>233.75097836993348</td></tr>\n",
       "<tr><td>science</td><td>HST</td><td>CALNIC</td><td>NICMOS/NIC2</td><td>HST</td><td>F160W</td><td>Infrared</td><td>ABELL2199-M1-N</td><td>GALAXY;BCM;ELLIPTICAL</td><td>n4hd21010</td><td>247.1586638272</td><td>39.55141102822</td><td>image</td><td>Tonry, John L.</td><td>3</td><td>50799.96617461806</td><td>50799.991174456016</td><td>1919.985992</td><td>1408.3999999999999</td><td>1809.4</td><td>The SBF Hubble Diagram</td><td>51165.56015034</td><td>7453</td><td>GO</td><td>--</td><td>POLYGON -112.839695 39.54737 -112.83946107796318 39.547745028907862 -112.83946100000003 39.547745 -112.836435 39.552596 -112.83643545598845 39.552596169148856 -112.83620099999996 39.552972 -112.83668821628738 39.553152653224217 -112.83668799999998 39.553153 -112.84292400000004 39.555465 -112.84339251251991 39.554713819285475 -112.84339299999999 39.554714 -112.84535172403406 39.551572357800232 -112.84595000000002 39.550613 -112.84594985113877 39.55061294481542 -112.84641799999997 39.549862 -112.84593076596109 39.549681375295528 -112.84593100000001 39.549681 -112.84315514056418 39.548652354076992 -112.84018200000003 39.54755 -112.84018174936779 39.547550402036784 -112.839695 39.54737 -112.839695 39.54737</td><td>mast:HST/product/n4hd21010_mos.jpg</td><td>mast:HST/product/n4hd21010_mos.fits</td><td>PUBLIC</td><td>False</td><td>nan</td><td>24854835</td><td>109245115</td><td>109245115</td><td>43.108155950109875</td></tr>\n",
       "<tr><td>science</td><td>HST</td><td>CALNIC</td><td>NICMOS/NIC2</td><td>HST</td><td>F160W</td><td>Infrared</td><td>ABELL2199-M1-S</td><td>GALAXY;BCM;ELLIPTICAL</td><td>n4hd21050</td><td>247.1584384339</td><td>39.55066595169</td><td>image</td><td>Tonry, John L.</td><td>3</td><td>50800.029484872684</td><td>50800.05874390046</td><td>2239.985992</td><td>1408.3999999999999</td><td>1809.4</td><td>The SBF Hubble Diagram</td><td>51165.5585994</td><td>7453</td><td>GO</td><td>--</td><td>POLYGON -112.839695 39.546536 -112.83946111712243 39.546911043427755 -112.83946100000003 39.546911 -112.836435 39.551763 -112.83643541678191 39.55176315453847 -112.83620099999996 39.552139 -112.84013028602224 39.553595841476792 -112.84292400000004 39.554632 -112.84339247144558 39.553880636831941 -112.84387900000002 39.554061 -112.84690499999999 39.549209 -112.84066899999999 39.546897 -112.84066892752985 39.546897116210673 -112.839695 39.546536 -112.839695 39.546536</td><td>mast:HST/product/n4hd21050_mos.jpg</td><td>mast:HST/product/n4hd21050_mos.fits</td><td>PUBLIC</td><td>False</td><td>nan</td><td>24854839</td><td>109245311</td><td>109245311</td><td>40.42945409175043</td></tr>\n",
       "<tr><td>science</td><td>HST</td><td>CALNIC</td><td>NICMOS/NIC1</td><td>HST</td><td>F160W</td><td>Infrared</td><td>ANY</td><td>UNIDENTIFIED;PARALLEL FIELD</td><td>n4t204080</td><td>247.1631972934</td><td>39.56008833451</td><td>image</td><td>Geisler, Douglas</td><td>3</td><td>50990.66488426</td><td>50990.79190972</td><td>3583.904054</td><td>1408.3999999999999</td><td>1809.4</td><td>The Metallicity Distribution of the Globular Cluster Systems of Giant Elliptical Galaxies</td><td>51356.53019674</td><td>7265</td><td>GO</td><td>--</td><td>POLYGON -112.835287 39.557821 -112.83407899999997 39.560736 -112.83408418937415 39.56073727918163 -112.833865 39.561266 -112.83762999999999 39.562195 -112.837631787462 39.562190690469684 -112.83831799999996 39.56236 -112.83952699999998 39.559445 -112.8395213523149 39.5594436080638 -112.839741 39.558914 -112.83597499999996 39.557986 -112.83597329123666 39.557990123563989 -112.835287 39.557821 -112.835287 39.557821</td><td>mast:HST/product/n4t204080_mos.jpg</td><td>mast:HST/product/n4t204080_mos.fits</td><td>PUBLIC</td><td>False</td><td>nan</td><td>24861479</td><td>109270327</td><td>109270327</td><td>80.35243081123188</td></tr>\n",
       "<tr><td>science</td><td>HST</td><td>CALNIC</td><td>NICMOS/NIC3</td><td>HST</td><td>F160W</td><td>Infrared</td><td>NGC6166-WF3</td><td>GALAXY;ELLIPTICAL;BCM</td><td>n4t204040</td><td>247.1536438888</td><td>39.56137227308</td><td>image</td><td>Geisler, Douglas</td><td>3</td><td>50990.525982210645</td><td>50990.65356481</td><td>3583.968018</td><td>1408.3999999999999</td><td>1809.4</td><td>The Metallicity Distribution of the Globular Cluster Systems of Giant Elliptical Galaxies</td><td>51355.82781242</td><td>7265</td><td>GO</td><td>--</td><td>POLYGON -112.84004100000004 39.551987 -112.8398272777484 39.552517066585175 -112.83982700000001 39.552517 -112.83638895667174 39.561043505303566 -112.83448299999998 39.565769 -112.83448315396392 39.565769036901891 -112.834269 39.5663 -112.852083 39.570568 -112.85208327425829 39.570567319533005 -112.85277099999996 39.570732 -112.85298468094555 39.570201923583312 -112.85298499999999 39.570202 -112.85511793715648 39.564909508060417 -112.85832600000003 39.556949 -112.85832552018212 39.556948885093256 -112.85853900000001 39.556419 -112.85785091693261 39.5562542061863 -112.85785099999998 39.556254 -112.84004100000004 39.551987 -112.84004100000004 39.551987</td><td>mast:HST/product/n4t204040_mos.jpg</td><td>mast:HST/product/n4t204040_mos.fits</td><td>PUBLIC</td><td>False</td><td>nan</td><td>24861475</td><td>109270440</td><td>109270440</td><td>52.719468733340925</td></tr>\n",
       "<tr><td>science</td><td>HST</td><td>CALNIC</td><td>NICMOS/NIC1</td><td>HST</td><td>F160W</td><td>Infrared</td><td>ANY</td><td>UNIDENTIFIED;PARALLEL FIELD</td><td>n4t204020</td><td>247.1291221814</td><td>39.54669916183</td><td>image</td><td>Geisler, Douglas</td><td>3</td><td>50990.446212152776</td><td>50990.52503121528</td><td>3583.968018</td><td>1408.3999999999999</td><td>1809.4</td><td>The Metallicity Distribution of the Globular Cluster Systems of Giant Elliptical Galaxies</td><td>51355.79168974</td><td>7265</td><td>GO</td><td>--</td><td>POLYGON -112.86937 39.544428 -112.86816199999998 39.547343 -112.86816824044293 39.547344536204527 -112.86794900000001 39.547874 -112.871714 39.548801 -112.87171564780449 39.54879702059786 -112.87240199999997 39.548966 -112.87360899999999 39.546051 -112.87360368148798 39.546049690605088 -112.87382300000002 39.54552 -112.87005799999997 39.544593 -112.87005634289187 39.544596998910016 -112.86937 39.544428 -112.86937 39.544428</td><td>mast:HST/product/n4t204020_mos.jpg</td><td>mast:HST/product/n4t204020_mos.fits</td><td>PUBLIC</td><td>False</td><td>nan</td><td>24861473</td><td>109270612</td><td>109270612</td><td>39.46026308747004</td></tr>\n",
       "<tr><td>...</td><td>...</td><td>...</td><td>...</td><td>...</td><td>...</td><td>...</td><td>...</td><td>...</td><td>...</td><td>...</td><td>...</td><td>...</td><td>...</td><td>...</td><td>...</td><td>...</td><td>...</td><td>...</td><td>...</td><td>...</td><td>...</td><td>...</td><td>...</td><td>...</td><td>...</td><td>...</td><td>...</td><td>...</td><td>...</td><td>...</td><td>...</td><td>...</td><td>...</td><td>...</td></tr>\n",
       "<tr><td>science</td><td>HST</td><td>CALSTIS</td><td>STIS/CCD</td><td>HST</td><td>G750L</td><td>OPTICAL</td><td>ANY</td><td>UNIDENTIFIED;PARALLEL FIELD</td><td>o4k1v9piq</td><td>247.2405111522</td><td>39.45195450143</td><td>spectrum</td><td>Baum, Stefi A.</td><td>2</td><td>50990.598378125</td><td>50990.612544791664</td><td>1224.0</td><td>524.0</td><td>1027.0</td><td>POMS Test Proposal: STIS non-scripted parallel proposal</td><td>50990.74354161</td><td>7908</td><td>GO/PAR</td><td>--</td><td>POLYGON 247.22903608175014 39.447359110323134 247.23451970633545 39.46079893945676 247.2519862199474 39.45654988591336 247.2465025953621 39.44311005677974 247.22903608175014 39.447359110323134</td><td>--</td><td>mast:HST/product/o4k1v9piq_flt.fits</td><td>PUBLIC</td><td>False</td><td>nan</td><td>24442445</td><td>794180714</td><td>794180714</td><td>381.6948436989644</td></tr>\n",
       "<tr><td>science</td><td>HST</td><td>CALSTIS</td><td>STIS/CCD</td><td>HST</td><td>G750L</td><td>OPTICAL</td><td>HI-LATITUDE-FIELD</td><td>STAR</td><td>o5hjmmvcq</td><td>247.1342541244</td><td>39.46526553535</td><td>spectrum</td><td>Baum, Stefi A.</td><td>2</td><td>51383.34147245371</td><td>51383.35188912037</td><td>900.0</td><td>524.0</td><td>1027.0</td><td>POMS Test Proposal: STIS non-scripted parallel proposal continuation V</td><td>51383.69663186</td><td>8406</td><td>ENG/STIS/PAR</td><td>--</td><td>POLYGON 247.1230456105921 39.46029046473415 247.12777066916982 39.473901168582714 247.14546263587928 39.470240599258126 247.14073757730156 39.45662989540956 247.1230456105921 39.46029046473415</td><td>--</td><td>mast:HST/product/o5hjmmvcq_flt.fits</td><td>PUBLIC</td><td>False</td><td>nan</td><td>24458736</td><td>794353764</td><td>794353764</td><td>243.90550319973354</td></tr>\n",
       "<tr><td>science</td><td>HST</td><td>CALSTIS</td><td>STIS/CCD</td><td>HST</td><td>G750L</td><td>OPTICAL</td><td>HI-LATITUDE-FIELD</td><td>STAR</td><td>o5hjmmvgq</td><td>247.1342541244</td><td>39.46526553535</td><td>spectrum</td><td>Baum, Stefi A.</td><td>2</td><td>51383.358740972224</td><td>51383.36671550926</td><td>689.0</td><td>524.0</td><td>1027.0</td><td>POMS Test Proposal: STIS non-scripted parallel proposal continuation V</td><td>51383.69834484</td><td>8406</td><td>ENG/STIS/PAR</td><td>--</td><td>POLYGON 247.1230456105921 39.46029046473415 247.12777066916982 39.473901168582714 247.14546263587928 39.470240599258126 247.14073757730156 39.45662989540956 247.1230456105921 39.46029046473415</td><td>--</td><td>mast:HST/product/o5hjmmvgq_flt.fits</td><td>PUBLIC</td><td>False</td><td>nan</td><td>24458740</td><td>794353765</td><td>794353765</td><td>243.90550319973354</td></tr>\n",
       "<tr><td>science</td><td>HST</td><td>CALSTIS</td><td>STIS/CCD</td><td>HST</td><td>G750L</td><td>OPTICAL</td><td>HI-LATITUDE-FIELD</td><td>STAR</td><td>o5hjn2vlq</td><td>247.1342541244</td><td>39.46526553535</td><td>spectrum</td><td>Baum, Stefi A.</td><td>2</td><td>51383.40826616898</td><td>51383.41570829861</td><td>643.0</td><td>524.0</td><td>1027.0</td><td>POMS Test Proposal: STIS non-scripted parallel proposal continuation V</td><td>51383.70012721</td><td>8406</td><td>ENG/STIS/PAR</td><td>--</td><td>POLYGON 247.1230456105921 39.46029046473415 247.12777066916982 39.473901168582714 247.14546263587928 39.470240599258126 247.14073757730156 39.45662989540956 247.1230456105921 39.46029046473415</td><td>--</td><td>mast:HST/product/o5hjn2vlq_flt.fits</td><td>PUBLIC</td><td>False</td><td>nan</td><td>24458794</td><td>794357166</td><td>794357166</td><td>243.90550319973354</td></tr>\n",
       "<tr><td>science</td><td>HST</td><td>CALSTIS</td><td>STIS/CCD</td><td>HST</td><td>G430L</td><td>OPTICAL</td><td>3C338.0-R</td><td>GALAXY;RADIO GALAXY</td><td>o62o26020</td><td>247.1595553041</td><td>39.55111993216</td><td>spectrum</td><td>Martel, Andre</td><td>3</td><td>51808.01506755787</td><td>51808.01953498842</td><td>360.0</td><td>290.0</td><td>570.0</td><td>A STIS Spectroscopic Snapshot Survey of 3CR Radio Galaxies : The Nature of the Unresolved Nuclei</td><td>51898.48932871</td><td>8700</td><td>SNAP</td><td>--</td><td>POLYGON 247.15464104296916 39.54481983380128 247.154578487158 39.54484909663948 247.1643332502688 39.55724678283412 247.16439580607997 39.55721751999591 247.15464104296916 39.54481983380128</td><td>mast:HST/product/o62o26020_sx1.png</td><td>mast:HST/product/o62o26020_sx1.fits</td><td>PUBLIC</td><td>False</td><td>nan</td><td>24929993</td><td>794456532</td><td>794456532</td><td>33.5255209480739</td></tr>\n",
       "<tr><td>science</td><td>HST</td><td>CALSTIS</td><td>STIS/CCD</td><td>HST</td><td>G430L</td><td>OPTICAL</td><td>3C338.0-R</td><td>GALAXY;RADIO GALAXY</td><td>o62o26010</td><td>247.1595833333</td><td>39.55115555556</td><td>spectrum</td><td>Martel, Andre</td><td>3</td><td>51808.00999795139</td><td>51808.014465706015</td><td>360.0</td><td>290.0</td><td>570.0</td><td>A STIS Spectroscopic Snapshot Survey of 3CR Radio Galaxies : The Nature of the Unresolved Nuclei</td><td>51898.48887737</td><td>8700</td><td>SNAP</td><td>--</td><td>POLYGON 247.15466906964588 39.54485545720128 247.1546065138026 39.544884720039484 247.16436128192208 39.55728240623412 247.16442383776536 39.55725314339591 247.15466906964588 39.54485545720128</td><td>mast:HST/product/o62o26010_sx1.png</td><td>mast:HST/product/o62o26010_sx1.fits</td><td>PUBLIC</td><td>False</td><td>nan</td><td>24929992</td><td>794456546</td><td>794456546</td><td>33.65427184161391</td></tr>\n",
       "<tr><td>science</td><td>HST</td><td>CALSTIS</td><td>STIS/CCD</td><td>HST</td><td>G750L</td><td>OPTICAL</td><td>3C338.0-R</td><td>GALAXY;RADIO GALAXY</td><td>o62o26030</td><td>247.1595833333</td><td>39.55115555556</td><td>spectrum</td><td>Martel, Andre</td><td>3</td><td>51808.02220868056</td><td>51808.026734224535</td><td>360.0</td><td>524.0</td><td>1027.0</td><td>A STIS Spectroscopic Snapshot Survey of 3CR Radio Galaxies : The Nature of the Unresolved Nuclei</td><td>51898.49563658</td><td>8700</td><td>SNAP</td><td>--</td><td>POLYGON 247.15466906964588 39.54485545720128 247.1546065138026 39.544884720039484 247.16436128192208 39.55728240623412 247.16442383776536 39.55725314339591 247.15466906964588 39.54485545720128</td><td>mast:HST/product/o62o26030_sx1.png</td><td>mast:HST/product/o62o26030_sx1.fits</td><td>PUBLIC</td><td>False</td><td>nan</td><td>24929994</td><td>794456570</td><td>794456570</td><td>33.65427184161391</td></tr>\n",
       "<tr><td>science</td><td>HST</td><td>CALSTIS</td><td>STIS/CCD</td><td>HST</td><td>G750L</td><td>OPTICAL</td><td>3C338.0-R</td><td>GALAXY;RADIO GALAXY</td><td>o62o26040</td><td>247.1595553041</td><td>39.55111993216</td><td>spectrum</td><td>Martel, Andre</td><td>3</td><td>51808.02739386574</td><td>51808.031919409725</td><td>360.0</td><td>524.0</td><td>1027.0</td><td>A STIS Spectroscopic Snapshot Survey of 3CR Radio Galaxies : The Nature of the Unresolved Nuclei</td><td>51898.49824077</td><td>8700</td><td>SNAP</td><td>--</td><td>POLYGON 247.15464104296916 39.54481983380128 247.154578487158 39.54484909663948 247.1643332502688 39.55724678283412 247.16439580607997 39.55721751999591 247.15464104296916 39.54481983380128</td><td>mast:HST/product/o62o26040_sx1.png</td><td>mast:HST/product/o62o26040_sx1.fits</td><td>PUBLIC</td><td>False</td><td>nan</td><td>24929995</td><td>794456571</td><td>794456571</td><td>33.5255209480739</td></tr>\n",
       "<tr><td>science</td><td>HST</td><td>CALSTIS</td><td>STIS/CCD</td><td>HST</td><td>G750L</td><td>OPTICAL</td><td>CCDFLAT</td><td>--</td><td>o62o26050</td><td>247.0628315782</td><td>39.59440920509</td><td>spectrum</td><td>Martel, Andre</td><td>3</td><td>51808.03276423611</td><td>51808.033761921295</td><td>12.4</td><td>524.0</td><td>1027.0</td><td>A STIS Spectroscopic Snapshot Survey of 3CR Radio Galaxies : The Nature of the Unresolved Nuclei</td><td>51898.49701391</td><td>8700</td><td>SNAP</td><td>--</td><td>POLYGON 247.07210373555034 39.59614112079187 247.07212070986256 39.59608624134043 247.05381522526127 39.59272427022809 247.05379825094906 39.59277914967953 247.07210373555034 39.59614112079187</td><td>--</td><td>--</td><td>PUBLIC</td><td>False</td><td>nan</td><td>24929996</td><td>794456593</td><td>794456593</td><td>282.3529839239163</td></tr>\n",
       "<tr><td>science</td><td>HST</td><td>CALACS</td><td>ACS/SBC</td><td>HST</td><td>F140LP</td><td>UV</td><td>A2199</td><td>CLUSTER OF GALAXIES;COOLING FLOW;HALO;RICH CLUSTER;STAR FORMINGREGION</td><td>jbhv02010</td><td>247.1605533333</td><td>39.55231666667</td><td>image</td><td>Mittal, Rupal</td><td>3</td><td>55684.712603935186</td><td>55684.77381921296</td><td>2767.0</td><td>137.0</td><td>200.0</td><td>Linking Star Formation with Intracluster Medium Cooling and AGN Heating in a Sample of Herchel Galaxy Clusters</td><td>56051.1297916</td><td>12220</td><td>GO</td><td>--</td><td>POLYGON -112.83531483000002 39.54683799 -112.83133724999999 39.55479493 -112.83144641516566 39.554837021720118 -112.83140781999998 39.55491422 -112.83151698529562 39.554956311459669 -112.83147839000003 39.55503351 -112.84257413 39.55931096 -112.84655067 39.55135362 -112.84644150763141 39.551311545090449 -112.84648007999999 39.55123435 -112.84637090521127 39.551192270030739 -112.84640948000003 39.55111507 -112.83531483000002 39.54683799 -112.83531483000002 39.54683799</td><td>mast:HST/product/jbhv02010_drz.jpg</td><td>mast:HST/product/jbhv02010_drz.fits</td><td>PUBLIC</td><td>False</td><td>nan</td><td>24834423</td><td>798908985</td><td>798908985</td><td>46.73323633664448</td></tr>\n",
       "</table></div>"
      ],
      "text/plain": [
       "<Table masked=True length=77>\n",
       "intentType obs_collection provenance_name ...   objID1       distance     \n",
       "   str7         str3            str8      ...    str9        float64      \n",
       "---------- -------------- --------------- ... --------- ------------------\n",
       "   science            HST          CALNIC ... 109228087  86.83430001362291\n",
       "   science            HST          CALNIC ... 109228114  73.05880201851693\n",
       "   science            HST          CALNIC ... 109228124                0.0\n",
       "   science            HST          CALNIC ... 109244905 233.75097836993348\n",
       "   science            HST          CALNIC ... 109245115 43.108155950109875\n",
       "   science            HST          CALNIC ... 109245311  40.42945409175043\n",
       "   science            HST          CALNIC ... 109270327  80.35243081123188\n",
       "   science            HST          CALNIC ... 109270440 52.719468733340925\n",
       "   science            HST          CALNIC ... 109270612  39.46026308747004\n",
       "       ...            ...             ... ...       ...                ...\n",
       "   science            HST         CALSTIS ... 794180714  381.6948436989644\n",
       "   science            HST         CALSTIS ... 794353764 243.90550319973354\n",
       "   science            HST         CALSTIS ... 794353765 243.90550319973354\n",
       "   science            HST         CALSTIS ... 794357166 243.90550319973354\n",
       "   science            HST         CALSTIS ... 794456532   33.5255209480739\n",
       "   science            HST         CALSTIS ... 794456546  33.65427184161391\n",
       "   science            HST         CALSTIS ... 794456570  33.65427184161391\n",
       "   science            HST         CALSTIS ... 794456571   33.5255209480739\n",
       "   science            HST         CALSTIS ... 794456593  282.3529839239163\n",
       "   science            HST          CALACS ... 798908985  46.73323633664448"
      ]
     },
     "execution_count": 21,
     "metadata": {},
     "output_type": "execute_result"
    }
   ],
   "source": [
    "# Query HST using objectname\n",
    "obs_hst = Observations.query_criteria(\n",
    "    objectname=\"Abell 2199\",\n",
    "    # specifying Hubble data\n",
    "    obs_collection=\"HST\",\n",
    "    # We want science observations and not calibration files\n",
    "    intentType=\"science\",\n",
    "    # Calibrated reduced observations to display final image\n",
    "    provenance_name=\"CAL*\",\n",
    ")\n",
    "# Display results\n",
    "obs_hst"
   ]
  },
  {
   "cell_type": "markdown",
   "metadata": {},
   "source": [
    "Similar to eBOSS, we'll retrieve and download the products for Abell 2199, specifically the fully calibrated combined images using `productGroupDescription = 'Minimum Recommended Products'` and `productSubGroupDescription = 'DRZ'`. "
   ]
  },
  {
   "cell_type": "code",
   "execution_count": 22,
   "metadata": {
    "execution": {
     "iopub.execute_input": "2025-07-10T13:48:02.228613Z",
     "iopub.status.busy": "2025-07-10T13:48:02.228286Z",
     "iopub.status.idle": "2025-07-10T13:48:02.904535Z",
     "shell.execute_reply": "2025-07-10T13:48:02.903971Z"
    }
   },
   "outputs": [
    {
     "data": {
      "text/html": [
       "<div><i>Table masked=True length=11</i>\n",
       "<table id=\"table140298973441168\" class=\"table-striped table-bordered table-condensed\">\n",
       "<thead><tr><th>obsID</th><th>obs_collection</th><th>dataproduct_type</th><th>obs_id</th><th>description</th><th>type</th><th>dataURI</th><th>productType</th><th>productGroupDescription</th><th>productSubGroupDescription</th><th>productDocumentationURL</th><th>project</th><th>prvversion</th><th>proposal_id</th><th>productFilename</th><th>size</th><th>parent_obsid</th><th>dataRights</th><th>calib_level</th><th>filters</th></tr></thead>\n",
       "<thead><tr><th>str9</th><th>str3</th><th>str8</th><th>str37</th><th>str67</th><th>str1</th><th>str97</th><th>str9</th><th>str28</th><th>str11</th><th>str1</th><th>str8</th><th>str20</th><th>str5</th><th>str52</th><th>int64</th><th>str9</th><th>str6</th><th>int64</th><th>str9</th></tr></thead>\n",
       "<tr><td>24801640</td><td>HST</td><td>image</td><td>ibhr01020</td><td>DADS DRZ file - Calibrated combined image ACS/WFC3/WFPC2/STIS</td><td>D</td><td>mast:HST/product/ibhr01020_drz.fits</td><td>SCIENCE</td><td>Minimum Recommended Products</td><td>DRZ</td><td>--</td><td>CALWF3</td><td>3.7.2 (Apr-15-2024)</td><td>12238</td><td>ibhr01020_drz.fits</td><td>217932480</td><td>24801640</td><td>PUBLIC</td><td>3</td><td>F475W</td></tr>\n",
       "<tr><td>24801653</td><td>HST</td><td>image</td><td>ibhr13030</td><td>DADS DRZ file - Calibrated combined image ACS/WFC3/WFPC2/STIS</td><td>D</td><td>mast:HST/product/ibhr13030_drz.fits</td><td>SCIENCE</td><td>Minimum Recommended Products</td><td>DRZ</td><td>--</td><td>CALWF3</td><td>3.7.2 (Apr-15-2024)</td><td>12238</td><td>ibhr13030_drz.fits</td><td>217638720</td><td>24801653</td><td>PUBLIC</td><td>3</td><td>F814W</td></tr>\n",
       "<tr><td>24801654</td><td>HST</td><td>image</td><td>ibhr13040</td><td>DADS DRZ file - Calibrated combined image ACS/WFC3/WFPC2/STIS</td><td>D</td><td>mast:HST/product/ibhr13040_drz.fits</td><td>SCIENCE</td><td>Minimum Recommended Products</td><td>DRZ</td><td>--</td><td>CALWF3</td><td>3.7.2 (Apr-15-2024)</td><td>12238</td><td>ibhr13040_drz.fits</td><td>217638720</td><td>24801654</td><td>PUBLIC</td><td>3</td><td>F814W</td></tr>\n",
       "<tr><td>24834402</td><td>HST</td><td>image</td><td>jbhr01010</td><td>DADS DRZ file - Calibrated combined image ACS/WFC3/WFPC2/STIS</td><td>D</td><td>mast:HST/product/jbhr01010_drz.fits</td><td>SCIENCE</td><td>Minimum Recommended Products</td><td>DRZ</td><td>--</td><td>CALACS</td><td>DrizzlePac 3.9.1</td><td>12238</td><td>jbhr01010_drz.fits</td><td>215023680</td><td>24834402</td><td>PUBLIC</td><td>3</td><td>F475W</td></tr>\n",
       "<tr><td>24834415</td><td>HST</td><td>image</td><td>jbhr13010</td><td>DADS DRZ file - Calibrated combined image ACS/WFC3/WFPC2/STIS</td><td>D</td><td>mast:HST/product/jbhr13010_drz.fits</td><td>SCIENCE</td><td>Minimum Recommended Products</td><td>DRZ</td><td>--</td><td>CALACS</td><td>DrizzlePac 3.9.1</td><td>12238</td><td>jbhr13010_drz.fits</td><td>214859520</td><td>24834415</td><td>PUBLIC</td><td>3</td><td>F814W</td></tr>\n",
       "<tr><td>24834416</td><td>HST</td><td>image</td><td>jbhr13020</td><td>DADS DRZ file - Calibrated combined image ACS/WFC3/WFPC2/STIS</td><td>D</td><td>mast:HST/product/jbhr13020_drz.fits</td><td>SCIENCE</td><td>Minimum Recommended Products</td><td>DRZ</td><td>--</td><td>CALACS</td><td>DrizzlePac 3.9.1</td><td>12238</td><td>jbhr13020_drz.fits</td><td>214859520</td><td>24834416</td><td>PUBLIC</td><td>3</td><td>F814W</td></tr>\n",
       "<tr><td>24834423</td><td>HST</td><td>image</td><td>jbhv02010</td><td>DADS DRZ file - Calibrated combined image ACS/WFC3/WFPC2/STIS</td><td>D</td><td>mast:HST/product/jbhv02010_drz.fits</td><td>SCIENCE</td><td>Minimum Recommended Products</td><td>DRZ</td><td>--</td><td>CALACS</td><td>DrizzlePac 3.9.1</td><td>12220</td><td>jbhv02010_drz.fits</td><td>23569920</td><td>24834423</td><td>PUBLIC</td><td>3</td><td>F140LP</td></tr>\n",
       "<tr><td>26091389</td><td>HST</td><td>image</td><td>j6jt05010</td><td>DADS DRZ file - Calibrated combined image ACS/WFC3/WFPC2/STIS</td><td>D</td><td>mast:HST/product/j6jt05011_drz.fits</td><td>SCIENCE</td><td>Minimum Recommended Products</td><td>DRZ</td><td>--</td><td>CALACS</td><td>DrizzlePac 3.9.1</td><td>9293</td><td>j6jt05011_drz.fits</td><td>214456320</td><td>26091389</td><td>PUBLIC</td><td>3</td><td>FR656N</td></tr>\n",
       "<tr><td>26091432</td><td>HST</td><td>image</td><td>j6jt05020</td><td>DADS DRZ file - Calibrated combined image ACS/WFC3/WFPC2/STIS</td><td>D</td><td>mast:HST/product/j6jt05021_drz.fits</td><td>SCIENCE</td><td>Minimum Recommended Products</td><td>DRZ</td><td>--</td><td>CALACS</td><td>DrizzlePac 3.9.1</td><td>9293</td><td>j6jt05021_drz.fits</td><td>214352640</td><td>26091432</td><td>PUBLIC</td><td>3</td><td>F814W</td></tr>\n",
       "<tr><td>106457965</td><td>HST</td><td>image</td><td>iey929020</td><td>DADS DRZ file - Calibrated combined image ACS/WFC3/WFPC2/STIS</td><td>D</td><td>mast:HST/product/iey929020_drz.fits</td><td>SCIENCE</td><td>Minimum Recommended Products</td><td>DRZ</td><td>--</td><td>CALWF3</td><td>3.7.2 (Apr-15-2024)</td><td>17194</td><td>iey929020_drz.fits</td><td>220492800</td><td>106457965</td><td>PUBLIC</td><td>3</td><td>F625W</td></tr>\n",
       "<tr><td>106457966</td><td>HST</td><td>image</td><td>iey929010</td><td>DADS DRZ file - Calibrated combined image ACS/WFC3/WFPC2/STIS</td><td>D</td><td>mast:HST/product/iey929010_drz.fits</td><td>SCIENCE</td><td>Minimum Recommended Products</td><td>DRZ</td><td>--</td><td>CALWF3</td><td>3.7.2 (Apr-15-2024)</td><td>17194</td><td>iey929010_drz.fits</td><td>220492800</td><td>106457966</td><td>PUBLIC</td><td>3</td><td>F336W</td></tr>\n",
       "</table></div>"
      ],
      "text/plain": [
       "<Table masked=True length=11>\n",
       "  obsID   obs_collection dataproduct_type ... dataRights calib_level filters\n",
       "   str9        str3            str8       ...    str6       int64      str9 \n",
       "--------- -------------- ---------------- ... ---------- ----------- -------\n",
       " 24801640            HST            image ...     PUBLIC           3   F475W\n",
       " 24801653            HST            image ...     PUBLIC           3   F814W\n",
       " 24801654            HST            image ...     PUBLIC           3   F814W\n",
       " 24834402            HST            image ...     PUBLIC           3   F475W\n",
       " 24834415            HST            image ...     PUBLIC           3   F814W\n",
       " 24834416            HST            image ...     PUBLIC           3   F814W\n",
       " 24834423            HST            image ...     PUBLIC           3  F140LP\n",
       " 26091389            HST            image ...     PUBLIC           3  FR656N\n",
       " 26091432            HST            image ...     PUBLIC           3   F814W\n",
       "106457965            HST            image ...     PUBLIC           3   F625W\n",
       "106457966            HST            image ...     PUBLIC           3   F336W"
      ]
     },
     "execution_count": 22,
     "metadata": {},
     "output_type": "execute_result"
    }
   ],
   "source": [
    "# Get products from query\n",
    "products_hst = Observations.get_product_list(obs_hst)\n",
    "\n",
    "# Select specific products\n",
    "products_hst = Observations.filter_products(\n",
    "    products_hst,\n",
    "    # Specify science files\n",
    "    productType=\"SCIENCE\",\n",
    "    # Recommended products,\n",
    "    productGroupDescription=\"Minimum Recommended Products\",\n",
    "    # DRZ files -> calibrated combined images\n",
    "    productSubGroupDescription=\"DRZ\",\n",
    ")\n",
    "# Display product list\n",
    "products_hst"
   ]
  },
  {
   "cell_type": "code",
   "execution_count": 23,
   "metadata": {
    "execution": {
     "iopub.execute_input": "2025-07-10T13:48:02.906108Z",
     "iopub.status.busy": "2025-07-10T13:48:02.905956Z",
     "iopub.status.idle": "2025-07-10T13:48:15.904257Z",
     "shell.execute_reply": "2025-07-10T13:48:15.903674Z"
    }
   },
   "outputs": [
    {
     "name": "stdout",
     "output_type": "stream",
     "text": [
      "Downloading URL https://mast.stsci.edu/api/v0.1/Download/file?uri=mast:HST/product/ibhr01020_drz.fits to ./ibhr01020_drz.fits ..."
     ]
    },
    {
     "name": "stdout",
     "output_type": "stream",
     "text": [
      " [Done]\n"
     ]
    },
    {
     "name": "stdout",
     "output_type": "stream",
     "text": [
      "Downloading URL https://mast.stsci.edu/api/v0.1/Download/file?uri=mast:HST/product/ibhr13030_drz.fits to ./ibhr13030_drz.fits ..."
     ]
    },
    {
     "name": "stdout",
     "output_type": "stream",
     "text": [
      " [Done]\n"
     ]
    },
    {
     "name": "stdout",
     "output_type": "stream",
     "text": [
      "Downloading URL https://mast.stsci.edu/api/v0.1/Download/file?uri=mast:HST/product/ibhr13040_drz.fits to ./ibhr13040_drz.fits ..."
     ]
    },
    {
     "name": "stdout",
     "output_type": "stream",
     "text": [
      " [Done]\n"
     ]
    },
    {
     "name": "stdout",
     "output_type": "stream",
     "text": [
      "Downloading URL https://mast.stsci.edu/api/v0.1/Download/file?uri=mast:HST/product/iey929010_drz.fits to ./iey929010_drz.fits ..."
     ]
    },
    {
     "name": "stdout",
     "output_type": "stream",
     "text": [
      " [Done]\n"
     ]
    },
    {
     "name": "stdout",
     "output_type": "stream",
     "text": [
      "Downloading URL https://mast.stsci.edu/api/v0.1/Download/file?uri=mast:HST/product/iey929020_drz.fits to ./iey929020_drz.fits ..."
     ]
    },
    {
     "name": "stdout",
     "output_type": "stream",
     "text": [
      " [Done]\n"
     ]
    },
    {
     "name": "stdout",
     "output_type": "stream",
     "text": [
      "Downloading URL https://mast.stsci.edu/api/v0.1/Download/file?uri=mast:HST/product/j6jt05011_drz.fits to ./j6jt05011_drz.fits ..."
     ]
    },
    {
     "name": "stdout",
     "output_type": "stream",
     "text": [
      " [Done]\n"
     ]
    },
    {
     "name": "stdout",
     "output_type": "stream",
     "text": [
      "Downloading URL https://mast.stsci.edu/api/v0.1/Download/file?uri=mast:HST/product/j6jt05021_drz.fits to ./j6jt05021_drz.fits ..."
     ]
    },
    {
     "name": "stdout",
     "output_type": "stream",
     "text": [
      " [Done]\n"
     ]
    },
    {
     "name": "stdout",
     "output_type": "stream",
     "text": [
      "Downloading URL https://mast.stsci.edu/api/v0.1/Download/file?uri=mast:HST/product/jbhr01010_drz.fits to ./jbhr01010_drz.fits ..."
     ]
    },
    {
     "name": "stdout",
     "output_type": "stream",
     "text": [
      " [Done]\n"
     ]
    },
    {
     "name": "stdout",
     "output_type": "stream",
     "text": [
      "Downloading URL https://mast.stsci.edu/api/v0.1/Download/file?uri=mast:HST/product/jbhr13010_drz.fits to ./jbhr13010_drz.fits ..."
     ]
    },
    {
     "name": "stdout",
     "output_type": "stream",
     "text": [
      " [Done]\n"
     ]
    },
    {
     "name": "stdout",
     "output_type": "stream",
     "text": [
      "Downloading URL https://mast.stsci.edu/api/v0.1/Download/file?uri=mast:HST/product/jbhr13020_drz.fits to ./jbhr13020_drz.fits ..."
     ]
    },
    {
     "name": "stdout",
     "output_type": "stream",
     "text": [
      " [Done]\n"
     ]
    },
    {
     "name": "stdout",
     "output_type": "stream",
     "text": [
      "Downloading URL https://mast.stsci.edu/api/v0.1/Download/file?uri=mast:HST/product/jbhv02010_drz.fits to ./jbhv02010_drz.fits ..."
     ]
    },
    {
     "name": "stdout",
     "output_type": "stream",
     "text": [
      " [Done]\n"
     ]
    },
    {
     "data": {
      "text/html": [
       "<div><i>Table length=11</i>\n",
       "<table id=\"table140298974377744\" class=\"table-striped table-bordered table-condensed\">\n",
       "<thead><tr><th>Local Path</th><th>Status</th><th>Message</th><th>URL</th></tr></thead>\n",
       "<thead><tr><th>str20</th><th>str8</th><th>object</th><th>object</th></tr></thead>\n",
       "<tr><td>./ibhr01020_drz.fits</td><td>COMPLETE</td><td>None</td><td>None</td></tr>\n",
       "<tr><td>./ibhr13030_drz.fits</td><td>COMPLETE</td><td>None</td><td>None</td></tr>\n",
       "<tr><td>./ibhr13040_drz.fits</td><td>COMPLETE</td><td>None</td><td>None</td></tr>\n",
       "<tr><td>./iey929010_drz.fits</td><td>COMPLETE</td><td>None</td><td>None</td></tr>\n",
       "<tr><td>./iey929020_drz.fits</td><td>COMPLETE</td><td>None</td><td>None</td></tr>\n",
       "<tr><td>./j6jt05011_drz.fits</td><td>COMPLETE</td><td>None</td><td>None</td></tr>\n",
       "<tr><td>./j6jt05021_drz.fits</td><td>COMPLETE</td><td>None</td><td>None</td></tr>\n",
       "<tr><td>./jbhr01010_drz.fits</td><td>COMPLETE</td><td>None</td><td>None</td></tr>\n",
       "<tr><td>./jbhr13010_drz.fits</td><td>COMPLETE</td><td>None</td><td>None</td></tr>\n",
       "<tr><td>./jbhr13020_drz.fits</td><td>COMPLETE</td><td>None</td><td>None</td></tr>\n",
       "<tr><td>./jbhv02010_drz.fits</td><td>COMPLETE</td><td>None</td><td>None</td></tr>\n",
       "</table></div>"
      ],
      "text/plain": [
       "<Table length=11>\n",
       "     Local Path       Status  Message  URL  \n",
       "       str20           str8    object object\n",
       "-------------------- -------- ------- ------\n",
       "./ibhr01020_drz.fits COMPLETE    None   None\n",
       "./ibhr13030_drz.fits COMPLETE    None   None\n",
       "./ibhr13040_drz.fits COMPLETE    None   None\n",
       "./iey929010_drz.fits COMPLETE    None   None\n",
       "./iey929020_drz.fits COMPLETE    None   None\n",
       "./j6jt05011_drz.fits COMPLETE    None   None\n",
       "./j6jt05021_drz.fits COMPLETE    None   None\n",
       "./jbhr01010_drz.fits COMPLETE    None   None\n",
       "./jbhr13010_drz.fits COMPLETE    None   None\n",
       "./jbhr13020_drz.fits COMPLETE    None   None\n",
       "./jbhv02010_drz.fits COMPLETE    None   None"
      ]
     },
     "execution_count": 23,
     "metadata": {},
     "output_type": "execute_result"
    }
   ],
   "source": [
    "# Download products into same directory\n",
    "Observations.download_products(products_hst, flat=True)"
   ]
  },
  {
   "cell_type": "markdown",
   "metadata": {},
   "source": [
    "Each FITS file has a corresponding filter in the table above under the `filter` column. To create a color image, we'll choose three images that overlap coordinates and have different filters. \n",
    "\n",
    "The following images were picked based on if they overlapped in the AstroView of the [MAST Portal](https://mast.stsci.edu/portal/Mashup/Clients/Mast/Portal.html)."
   ]
  },
  {
   "cell_type": "code",
   "execution_count": 24,
   "metadata": {
    "execution": {
     "iopub.execute_input": "2025-07-10T13:48:15.906096Z",
     "iopub.status.busy": "2025-07-10T13:48:15.905924Z",
     "iopub.status.idle": "2025-07-10T13:48:15.932107Z",
     "shell.execute_reply": "2025-07-10T13:48:15.931685Z"
    }
   },
   "outputs": [],
   "source": [
    "# Opening three different filters\n",
    "img1 = fits.open(\"j6jt05011_drz.fits\")\n",
    "img1_wcs = WCS(img1[1].header)\n",
    "\n",
    "img2 = fits.open(\"j6jt05021_drz.fits\")\n",
    "img2_wcs = WCS(img2[1].header)\n",
    "\n",
    "img3 = fits.open(\"iey929020_drz.fits\")\n",
    "img3_wcs = WCS(img3[1].header)"
   ]
  },
  {
   "cell_type": "markdown",
   "metadata": {},
   "source": [
    "#### Plotting the HST Images \n",
    "\n",
    "We'll now set up a subplot of the three images we chose. The first two images were taken as a pair of images (hence the small whitespace in the center). You can see the overlap in all three images where there's a fairly consistent cluster of five galaxy sources. While the shapes of these galaxies aren't very clear in these images, they'll become more distinct when we create the color image!"
   ]
  },
  {
   "cell_type": "code",
   "execution_count": 25,
   "metadata": {
    "execution": {
     "iopub.execute_input": "2025-07-10T13:48:15.933753Z",
     "iopub.status.busy": "2025-07-10T13:48:15.933564Z",
     "iopub.status.idle": "2025-07-10T13:48:21.206286Z",
     "shell.execute_reply": "2025-07-10T13:48:21.205731Z"
    }
   },
   "outputs": [
    {
     "data": {
      "image/png": "[encoded data removed]",
      "text/plain": [
       "<Figure size 1500x800 with 3 Axes>"
      ]
     },
     "metadata": {},
     "output_type": "display_data"
    }
   ],
   "source": [
    "# Set up figure\n",
    "fig = plt.figure(figsize=(15, 8))\n",
    "\n",
    "# First image\n",
    "ax1 = fig.add_subplot(1, 3, 1, projection=img1_wcs)\n",
    "ax1.imshow(img1[1].data, cmap=\"Greys_r\", vmin=0, vmax=2.5, origin=\"lower\")\n",
    "ax1.set_title(f\"{img1[0].header['INSTRUME']}/{img1[0].header['FILTER1']}\")\n",
    "ax1.set_ylabel(\"Declination\")\n",
    "ax1.set_xlabel(\"Right Ascension\")\n",
    "\n",
    "# Second image\n",
    "ax2 = fig.add_subplot(1, 3, 2, projection=img2_wcs)\n",
    "ax2.imshow(img2[1].data, cmap=\"Greys_r\", vmin=0, vmax=2.5, origin=\"lower\")\n",
    "ax2.set_title(f\"{img2[0].header['INSTRUME']}/{img2[0].header['FILTER1']}\")\n",
    "ax2.set_ylabel(\"Declination\")\n",
    "ax2.set_xlabel(\"Right Ascension\")\n",
    "\n",
    "# Third image\n",
    "ax3 = fig.add_subplot(1, 3, 3, projection=img3_wcs)\n",
    "ax3.imshow(img3[1].data, cmap=\"Greys_r\", vmin=0, vmax=2.5, origin=\"lower\")\n",
    "ax3.set_title(f\"{img3[0].header['INSTRUME']}/{img3[0].header['FILTER']}\")\n",
    "ax3.set_ylabel(\"Declination\")\n",
    "ax3.set_xlabel(\"Right Ascension\")\n",
    "\n",
    "plt.tight_layout()\n",
    "plt.show()"
   ]
  },
  {
   "cell_type": "markdown",
   "metadata": {},
   "source": [
    "#### Colorizing the HST Image of Abell 2199 "
   ]
  },
  {
   "cell_type": "markdown",
   "metadata": {},
   "source": [
    "In order to create a color image of Abell 2199, we can assign red, green, and blue to each image, then combine the three images. We must choose the image with the largest pixel dimensions, and then project the other images onto it.  "
   ]
  },
  {
   "cell_type": "code",
   "execution_count": 26,
   "metadata": {
    "execution": {
     "iopub.execute_input": "2025-07-10T13:48:21.208342Z",
     "iopub.status.busy": "2025-07-10T13:48:21.208012Z",
     "iopub.status.idle": "2025-07-10T13:48:21.211554Z",
     "shell.execute_reply": "2025-07-10T13:48:21.211103Z"
    }
   },
   "outputs": [
    {
     "name": "stdout",
     "output_type": "stream",
     "text": [
      "Shape of image 1: (4239, 4213)\n",
      "Shape of image 2: (4238, 4212)\n",
      "Shape of image 3: (4446, 4130)\n"
     ]
    }
   ],
   "source": [
    "# Checking the shape of each image to determine which ones will be mapped onto the other\n",
    "print(f\"Shape of image 1: {img1[1].data.shape}\")\n",
    "print(f\"Shape of image 2: {img2[1].data.shape}\")\n",
    "print(f\"Shape of image 3: {img3[1].data.shape}\")"
   ]
  },
  {
   "cell_type": "markdown",
   "metadata": {},
   "source": [
    "The third image appears to have the largest dimensions, so we'll project the first and second images onto the third using `reproject`. We'll assign the first image to red, the second to blue, and the third to green. "
   ]
  },
  {
   "cell_type": "code",
   "execution_count": 27,
   "metadata": {
    "execution": {
     "iopub.execute_input": "2025-07-10T13:48:21.213288Z",
     "iopub.status.busy": "2025-07-10T13:48:21.212974Z",
     "iopub.status.idle": "2025-07-10T13:49:01.703178Z",
     "shell.execute_reply": "2025-07-10T13:49:01.702608Z"
    }
   },
   "outputs": [],
   "source": [
    "# image 1 -> red\n",
    "r, _ = reproject.reproject_interp(img1[1], img3[1].header)\n",
    "\n",
    "# image 2 -> green\n",
    "g, _ = reproject.reproject_interp(img2[1], img3[1].header)\n",
    "\n",
    "# image 3 -> blue\n",
    "b, _ = reproject.reproject_interp(img3[1], img3[1].header)"
   ]
  },
  {
   "cell_type": "markdown",
   "metadata": {},
   "source": [
    "Using a ratio of red, blue, and green, we can now make a colorized image using `make_lupton_rgb`!"
   ]
  },
  {
   "cell_type": "code",
   "execution_count": 28,
   "metadata": {
    "execution": {
     "iopub.execute_input": "2025-07-10T13:49:01.705156Z",
     "iopub.status.busy": "2025-07-10T13:49:01.704980Z",
     "iopub.status.idle": "2025-07-10T13:49:02.724477Z",
     "shell.execute_reply": "2025-07-10T13:49:02.723912Z"
    }
   },
   "outputs": [
    {
     "name": "stderr",
     "output_type": "stream",
     "text": [
      "/opt/hostedtoolcache/Python/3.11.13/x64/lib/python3.11/site-packages/astropy/visualization/basic_rgb.py:153: RuntimeWarning: invalid value encountered in cast\n",
      "  return image_rgb.astype(output_dtype)\n"
     ]
    }
   ],
   "source": [
    "image_hst = make_lupton_rgb(r * 3.8, g * 0.2, b * 0.65, Q=4, stretch=0.75)"
   ]
  },
  {
   "cell_type": "code",
   "execution_count": 29,
   "metadata": {
    "execution": {
     "iopub.execute_input": "2025-07-10T13:49:02.726281Z",
     "iopub.status.busy": "2025-07-10T13:49:02.725952Z",
     "iopub.status.idle": "2025-07-10T13:49:03.282579Z",
     "shell.execute_reply": "2025-07-10T13:49:03.281974Z"
    }
   },
   "outputs": [
    {
     "name": "stderr",
     "output_type": "stream",
     "text": [
      "/tmp/ipykernel_2138/2518464466.py:15: UserWarning: No artists with labels found to put in legend.  Note that artists whose label start with an underscore are ignored when legend() is called with no argument.\n",
      "  ax.legend()\n",
      "/tmp/ipykernel_2138/2518464466.py:16: UserWarning: Tight layout not applied. The left and right margins cannot be made large enough to accommodate all Axes decorations.\n",
      "  plt.tight_layout()\n"
     ]
    },
    {
     "data": {
      "image/png": "[encoded data removed]",
      "text/plain": [
       "<Figure size 500x500 with 1 Axes>"
      ]
     },
     "metadata": {},
     "output_type": "display_data"
    }
   ],
   "source": [
    "# Plotting the colorized image\n",
    "plt.figure(figsize=(5, 5))\n",
    "\n",
    "# Ensuring the coordinates are set to the WCS of the third image\n",
    "ax = plt.subplot(projection=img3_wcs)\n",
    "ax.imshow(image_hst)\n",
    "\n",
    "# Zoom in\n",
    "ax.set_xlim(1400, 2100)\n",
    "ax.set_ylim(2200, 2900)\n",
    "\n",
    "ax.set_xlabel(\"Right Ascension\")\n",
    "ax.set_ylabel(\"Declination\")\n",
    "ax.set_title(\"Colorized Image of Abell 2199\")\n",
    "ax.legend()\n",
    "plt.tight_layout()\n",
    "plt.show()"
   ]
  },
  {
   "cell_type": "markdown",
   "metadata": {},
   "source": [
    "***\n",
    "## End of Tutorial \n",
    "Congratulations, you've reached the end of this notebook! You've learned how to use `astroquery.MAST` to calculate Hubble's constant from eBOSS data and make a colorized image from HST data! "
   ]
  },
  {
   "cell_type": "markdown",
   "metadata": {},
   "source": [
    "## Additional Resources \n",
    "\n",
    "Additional resources are linked below:\n",
    "\n",
    "- [SDSS Legacy Archive at MAST](https://archive.stsci.edu/missions-and-data/sdss)\n",
    "- [SDSS Legacy Archive at MAST User Manual](https://outerspace.stsci.edu/display/SDSS/The+SDSS+Legacy+Archive+at+MAST)\n",
    "- [Original SDSS Hubble Diagram Tutorial!](https://skyserver.sdss.org/dr1/en/proj/advanced/hubble/)\n",
    "- [eBOSS User Manual](https://outerspace.stsci.edu/display/SDSS/eBOSS)\n",
    "- [astroquery.mast User Manual](https://astroquery.readthedocs.io/en/latest/mast/mast.html)\n",
    "- [MAST API](https://mast.stsci.edu/api/v0/index.html)"
   ]
  },
  {
   "cell_type": "markdown",
   "metadata": {},
   "source": [
    "## Citations \n",
    "\n",
    "If you use data from MAST for published research, please see the following links for information on which citations to include in your paper:\n",
    "\n",
    "* [Citing SDSS](https://sdss.org/collaboration/citing-sdss/)\n",
    "* [Citing MAST](https://archive.stsci.edu/publishing/mission-acknowledgements)\n",
    "* [Citing astropy](https://www.astropy.org/acknowledging.html)"
   ]
  },
  {
   "cell_type": "markdown",
   "metadata": {
    "slideshow": {
     "slide_type": "slide"
    }
   },
   "source": [
    "## About this Notebook\n",
    "\n",
    "**Author(s):** Natalie Haugen (nhaugen@terpmail.umd.edu) and Julie Imig (jimig@stsci.edu)<br>\n",
    "**Keyword(s):** Tutorial, eBOSS, HST, SDSS, galaxies <br>\n",
    "**First published:** July 2025 <br>\n",
    "**Last updated:** July 2025 <br>\n",
    "\n",
    "***\n",
    "[Top of Page](#top)\n",
    "<img style=\"float: right;\" src=\"https://raw.githubusercontent.com/spacetelescope/style-guides/master/guides/images/stsci-logo.png\" alt=\"Space Telescope Logo\" width=\"200px\"/> "
   ]
  }
 ],
 "metadata": {
  "kernelspec": {
   "display_name": "base",
   "language": "python",
   "name": "python3"
  },
  "language_info": {
   "codemirror_mode": {
    "name": "ipython",
    "version": 3
   },
   "file_extension": ".py",
   "mimetype": "text/x-python",
   "name": "python",
   "nbconvert_exporter": "python",
   "pygments_lexer": "ipython3",
   "version": "3.11.13"
  }
 },
 "nbformat": 4,
 "nbformat_minor": 4
}
